{
 "cells": [
  {
   "cell_type": "markdown",
   "id": "united-distinction",
   "metadata": {},
   "source": [
    "# Homework Week 10\n",
    "\n",
    "Please be sure your functions work for vectors with a size of three and matrices that are 3x3. Bonus points if you can further generalize them for larger vectors and matrices. "
   ]
  },
  {
   "cell_type": "markdown",
   "id": "sought-richmond",
   "metadata": {},
   "source": [
    "**1.\tWrite a function angle_between(v1, v2) where v1 and v2 are two vectors that are passed in, and the angle between them is calculated**"
   ]
  },
  {
   "cell_type": "code",
   "execution_count": 144,
   "id": "occasional-repeat",
   "metadata": {},
   "outputs": [],
   "source": [
    "import numpy as np\n",
    "from numpy.linalg import norm\n",
    "import math\n"
   ]
  },
  {
   "cell_type": "code",
   "execution_count": 121,
   "id": "heavy-mainland",
   "metadata": {},
   "outputs": [],
   "source": [
    "def angle_between(v1, v2):\n",
    "    # returns angle in radians\n",
    "    try:\n",
    "        # calculate the dot product\n",
    "        v2 = v2.T  #transpose v2 or np.dot() doesn't work\n",
    "        dot_prod = np.dot(v1, v2)\n",
    "        #find cosine of angle by dividing dot product with vector magnitudes\n",
    "        cosAngle = dot_prod/(np.linalg.norm(v1)*np.linalg.norm(v2))\n",
    "        #apply inverse cosine(arc cos) to cosAngle\n",
    "        angle = np.arccos(cosAngle)\n",
    "        return angle\n",
    "    except:\n",
    "        print('cannot find angle, no dividing by zero')"
   ]
  },
  {
   "cell_type": "code",
   "execution_count": 137,
   "id": "described-bible",
   "metadata": {},
   "outputs": [
    {
     "name": "stdout",
     "output_type": "stream",
     "text": [
      "2.0844900318073263\n"
     ]
    },
    {
     "data": {
      "text/plain": [
       "1.5687963274615628"
      ]
     },
     "execution_count": 137,
     "metadata": {},
     "output_type": "execute_result"
    }
   ],
   "source": [
    "# one of a few of the test cases I used\n",
    "testv1 = np.array([1, 2, 5, 10])\n",
    "testv2 = np.array([4, -1, 2, -5])\n",
    "# I can't get this to work\n",
    "testv1 = np.squeeze(np.array([[1], [2], [5], [10]]))\n",
    "testv2 = np.squeeze(np.array([[4], [-1], [2], [-5]]))\n",
    "myAngle = angle_between(testv1, testv2)\n",
    "print(myAngle)\n",
    "# no idea how this below is supposed to work\n",
    "a = np.array([[1], [0.001]])\n",
    "b = np.array([[0.001], [1]])\n",
    "#a = np.array([1, 0.001])\n",
    "#b = np.array([0.001, 1])\n",
    "angle_between(np.squeeze(a),np.squeeze(b))"
   ]
  },
  {
   "cell_type": "markdown",
   "id": "rising-accident",
   "metadata": {},
   "source": [
    "**2.\tWrite a function called row_dot(A, r1, r2) which takes an input matrix called A, one row number identified by r1, and another row number identified by r2 and returns the dot product of the r1 and r2 rows (indexing starts at 0).**"
   ]
  },
  {
   "cell_type": "code",
   "execution_count": 59,
   "id": "canadian-budapest",
   "metadata": {},
   "outputs": [],
   "source": [
    "def row_dot(A, r1, r2):\n",
    "    # returns dot prod of r1 and r2, rows in the A matrix\n",
    "    dot_prod = np.dot(A[r1], A[r2])\n",
    "    return dot_prod"
   ]
  },
  {
   "cell_type": "code",
   "execution_count": 96,
   "id": "expressed-immune",
   "metadata": {},
   "outputs": [
    {
     "name": "stdout",
     "output_type": "stream",
     "text": [
      "32\n",
      "[[[ 1  2  3  4]\n",
      "  [-1 -2 -3 -4]\n",
      "  [ 0  0  0  0]\n",
      "  [10  9  8  7]]] \n",
      " (1, 4, 4)\n",
      "[[ 39  34  29  24]\n",
      " [-39 -34 -29 -24]\n",
      " [  0   0   0   0]\n",
      " [ 71  65  59  53]]\n",
      "28\n",
      "-222\n"
     ]
    }
   ],
   "source": [
    "#testing row_dot\n",
    "testM = np.array([[1,2,3],[4,5,6],[7,8,9]])\n",
    "print(row_dot(testM, 0, 1))\n",
    "testM2 = np.array([[[1, 2, 3, 4], [-1, -2, -3, -4], [0,0,0,0], [10, 9, 8, 7]]])\n",
    "print(testM2, \"\\n\",  testM2.shape)\n",
    "print(row_dot(testM2, 0, 0))\n",
    "testM3 = np.array([[1,2,3, 4],[4,5,6, -1],[- 7,-8,-9, 100]])\n",
    "print(row_dot(testM3, 0, 1))\n",
    "print(row_dot(testM3, 1, 2))\n"
   ]
  },
  {
   "cell_type": "markdown",
   "id": "adjusted-pottery",
   "metadata": {},
   "source": [
    "**3.\tWrite a function matrix_division(m1, m2) that takes in two matrices, m1 and m2, and returns the result. What is the trick with matrix division?**"
   ]
  },
  {
   "cell_type": "code",
   "execution_count": 87,
   "id": "executed-showcase",
   "metadata": {},
   "outputs": [],
   "source": [
    "# matrix division - trick: you must multiply by the inverse of one of the two matrices\n",
    "# multiplication is allowed, but direct division is not\n",
    "# a (det) matrix multiplied by it's inverse should produce an identity matrix\n",
    "def matrix_division(m1, m2):\n",
    "    from numpy.linalg import inv\n",
    "    \n",
    "    # return \n",
    "    return np.dot(m1, inv(m2))"
   ]
  },
  {
   "cell_type": "code",
   "execution_count": 102,
   "id": "knowing-intellectual",
   "metadata": {},
   "outputs": [
    {
     "name": "stdout",
     "output_type": "stream",
     "text": [
      "[[ 1.00000000e+00  0.00000000e+00  0.00000000e+00  1.11022302e-16]\n",
      " [ 0.00000000e+00  1.00000000e+00  2.22044605e-16 -4.44089210e-16]\n",
      " [ 2.22044605e-16  5.55111512e-17  1.00000000e+00 -4.44089210e-16]\n",
      " [ 0.00000000e+00  0.00000000e+00  0.00000000e+00  1.00000000e+00]]\n",
      "[[ 0.   1.  -0.5]\n",
      " [ 0.   2.  -1. ]\n",
      " [ 0.   3.   2.5]]\n",
      "[[-9.52631579e+00 -5.26315789e-01  1.15789474e+01  7.36842105e+00]\n",
      " [ 0.00000000e+00  1.00000000e+00  2.22044605e-16 -4.44089210e-16]\n",
      " [ 7.89473684e-01  2.89473684e-01  1.31578947e-01 -5.26315789e-02]\n",
      " [ 0.00000000e+00  0.00000000e+00  0.00000000e+00 -1.00000000e+00]]\n"
     ]
    }
   ],
   "source": [
    "N = np.array([[0,2,1,3], \n",
    "             [3,2,8,1], \n",
    "             [1,0,0,3],\n",
    "             [0,3,2,1]])\n",
    "O = np.array([[10,2,1,13], \n",
    "             [3,2,8,1], \n",
    "             [1,2,3,3],\n",
    "             [0,-3,-2,-1]])\n",
    "print(matrix_division(N, N))\n",
    "print(matrix_division(testM, testM))\n",
    "print(matrix_division(O, N))"
   ]
  },
  {
   "cell_type": "markdown",
   "id": "divided-pension",
   "metadata": {},
   "source": [
    "**4.\tWrite a function is_orthogonal(v1,v2, tol), where v1 and v2 are column vectors of the same size and tol is a scalar value strictly larger than 0. The output should be 1 if the angle between v1 and v2 is within tol of π/2; that is, |π/2−θ|<tol|π/2−θ|<tol, and 0 otherwise. You may assume that v1 and v2 are column vectors of the same size, and that tol is a positive scalar.**\n",
    "\n",
    "-tol < (pi/2 - theta) < tol"
   ]
  },
  {
   "cell_type": "code",
   "execution_count": 138,
   "id": "egyptian-bronze",
   "metadata": {},
   "outputs": [],
   "source": [
    "def is_orthogonal(v1, v2, tol):\n",
    "    import math # for pi\n",
    "    angle_test = angle_between(np.squeeze(v1), np.squeeze(v2))\n",
    "    angle_test = (math.pi/2)-angle_test\n",
    "    if abs(angle_test) < tol:\n",
    "        return 1\n",
    "    else:\n",
    "        return 0"
   ]
  },
  {
   "cell_type": "code",
   "execution_count": 141,
   "id": "available-inspection",
   "metadata": {},
   "outputs": [
    {
     "name": "stdout",
     "output_type": "stream",
     "text": [
      "1\n",
      "0\n",
      "0\n",
      "1\n"
     ]
    }
   ],
   "source": [
    "# Test cases for problem 4\n",
    "a = np.array([[1], [0.001]])\n",
    "b = np.array([[0.001], [1]])\n",
    "# output: 1\n",
    "print(is_orthogonal(a,b, 0.01))\n",
    "\n",
    "# output: 0\n",
    "print(is_orthogonal(a,b, 0.001))\n",
    "\n",
    "# output: 0\n",
    "a = np.array([[1], [0.001]])\n",
    "b = np.array([[1], [1]])\n",
    "print(is_orthogonal(a,b, 0.01))\n",
    "\n",
    "# output: 1\n",
    "a = np.array([[1], [1]])\n",
    "b = np.array([[-1], [1]])\n",
    "print(is_orthogonal(a,b, 1e-10))\n"
   ]
  },
  {
   "cell_type": "markdown",
   "id": "visible-tennessee",
   "metadata": {},
   "source": [
    "**5.\tCreate a class called vector_calculator. __init__ should take self, vector1, and vector2. It should have two methods inside of it that are from problems 1 and 4 above (angle_between and is_orthogonal). Make sure tol is defaulted but can be overwritten. Make sure you can call angle_between and is_orthogonal through the class and return the correct results as in problems 1 and 4.**"
   ]
  },
  {
   "cell_type": "code",
   "execution_count": 147,
   "id": "endangered-survivor",
   "metadata": {},
   "outputs": [],
   "source": [
    "class vector_calculator():\n",
    "    \n",
    "    def __init__(self, vector1, vector2):\n",
    "        # initialize class with squeezing vectors\n",
    "        self.vector1 = np.squeeze(vector1)\n",
    "        self.vector2 = np.squeeze(vector2)\n",
    "        \n",
    "    def angle_between(self):\n",
    "        # calculate theta\n",
    "        dot_prod = np.dot(self.vector1, self.vector2.T)\n",
    "        angle = np.arccos(dot_prod/(norm(self.vector1)*norm(self.vector2)))\n",
    "        \n",
    "        return angle\n",
    "       \n",
    "    def is_orthogonal(self, tol = 0.01):\n",
    "        angle_new = abs((math.pi/2) - angle_between(self.vector1, self.vector2))\n",
    "        if angle_new < tol:\n",
    "            return 1\n",
    "        else:\n",
    "            return 0"
   ]
  },
  {
   "cell_type": "code",
   "execution_count": 154,
   "id": "photographic-participation",
   "metadata": {},
   "outputs": [
    {
     "name": "stdout",
     "output_type": "stream",
     "text": [
      "test case 1, 2\n",
      "1.5687963274615628\n",
      "1\n",
      "0\n",
      "test case 3\n",
      "0.7843981637307818\n",
      "0\n",
      "test case 4\n",
      "1.5707963267948966\n",
      "1\n",
      "1\n"
     ]
    }
   ],
   "source": [
    "a = np.array([[1], [0.001]])\n",
    "b = np.array([[0.001], [1]])\n",
    "vectorC = vector_calculator(a, b)\n",
    "print('test case 1, 2')\n",
    "print(vectorC.angle_between())\n",
    "print(vectorC.is_orthogonal())\n",
    "print(vectorC.is_orthogonal(.001))\n",
    "\n",
    "a = np.array([[1], [0.001]])\n",
    "b = np.array([[1], [1]])\n",
    "vectorC = vector_calculator(a, b)\n",
    "print('test case 3')\n",
    "print(vectorC.angle_between())\n",
    "print(vectorC.is_orthogonal())\n",
    "\n",
    "# output: 1\n",
    "a = np.array([[1], [1]])\n",
    "b = np.array([[-1], [1]])\n",
    "print('test case 4')\n",
    "vectorC = vector_calculator(a, b)\n",
    "print(vectorC.angle_between())\n",
    "print(vectorC.is_orthogonal())\n",
    "print(vectorC.is_orthogonal(1e-10))"
   ]
  },
  {
   "cell_type": "markdown",
   "id": "noted-dictionary",
   "metadata": {},
   "source": [
    "**6.\tShow a graphical representation of the breast cancer data outlined in this reading https://www.datacamp.com/community/tutorials/principal-component-analysis-in-python Be sure to describe what PCA is and incorporate the principal components in your plot. This is just exploratory, so there are many correct answers!**"
   ]
  },
  {
   "cell_type": "code",
   "execution_count": 155,
   "id": "damaged-absence",
   "metadata": {},
   "outputs": [
    {
     "data": {
      "image/png": "[encoded data removed]",
      "text/plain": [
       "<IPython.core.display.Image object>"
      ]
     },
     "execution_count": 155,
     "metadata": {},
     "output_type": "execute_result"
    }
   ],
   "source": [
    "from IPython.display import Image\n",
    "Image(filename='../PCA_Breast_Cancer_Graph.png') "
   ]
  },
  {
   "cell_type": "markdown",
   "id": "ideal-joshua",
   "metadata": {},
   "source": [
    "Principal Component Analysis is taking a data set with *n* variables (or values describing a data point) and reducing them to fewer component variables (principals) that describe/capture the variance of the data.  If 2 principal components are used, it's much easier to see the results in a graph (versus 3 or more).   The principal components do not describe all data variance, but usually a substantial portion of it.  Linear dimensionality reduction is the fancy/accurate term.\n",
    "\n",
    "In the breast cancer dataset, PCA desribes about 63% of the variance.  So I think that means about 37% is \"lost,\" but it may mean some of the data isn't very relevant to a benign/malignant outcome.\n",
    "\n",
    "When I played with the image dataset, I changed the PCA variable number to 3 instead of 2.  Interestingly enough, the 3rd principal component only captured another 6% of the data variance."
   ]
  },
  {
   "cell_type": "code",
   "execution_count": null,
   "id": "monetary-bidder",
   "metadata": {},
   "outputs": [],
   "source": []
  }
 ],
 "metadata": {
  "kernelspec": {
   "display_name": "Python 3",
   "language": "python",
   "name": "python3"
  },
  "language_info": {
   "codemirror_mode": {
    "name": "ipython",
    "version": 3
   },
   "file_extension": ".py",
   "mimetype": "text/x-python",
   "name": "python",
   "nbconvert_exporter": "python",
   "pygments_lexer": "ipython3",
   "version": "3.8.3"
  }
 },
 "nbformat": 4,
 "nbformat_minor": 5
}
