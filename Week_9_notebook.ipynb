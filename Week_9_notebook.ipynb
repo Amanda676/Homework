{
 "cells": [
  {
   "cell_type": "markdown",
   "id": "cosmetic-scotland",
   "metadata": {},
   "source": [
    "# Week 9 Homework\n",
    "\n",
    "*See subsections for homework answer and explanations*"
   ]
  },
  {
   "cell_type": "code",
   "execution_count": 1,
   "id": "aging-arctic",
   "metadata": {},
   "outputs": [],
   "source": [
    "# import modules for python and data\n",
    "import numpy as np\n",
    "import pandas as pd\n",
    "\n",
    "import matplotlib.pyplot as plt\n",
    "\n",
    "import math\n",
    "import statistics\n",
    "from scipy import stats\n",
    "import seaborn as sns\n",
    "import pprint\n",
    "\n",
    "belize_listings_path = \"../belize_airbnb_listings.csv\"\n",
    "belize_df = pd.read_csv(belize_listings_path)"
   ]
  },
  {
   "cell_type": "code",
   "execution_count": 2,
   "id": "atmospheric-aruba",
   "metadata": {
    "scrolled": false
   },
   "outputs": [
    {
     "data": {
      "text/html": [
       "<div>\n",
       "<style scoped>\n",
       "    .dataframe tbody tr th:only-of-type {\n",
       "        vertical-align: middle;\n",
       "    }\n",
       "\n",
       "    .dataframe tbody tr th {\n",
       "        vertical-align: top;\n",
       "    }\n",
       "\n",
       "    .dataframe thead th {\n",
       "        text-align: right;\n",
       "    }\n",
       "</style>\n",
       "<table border=\"1\" class=\"dataframe\">\n",
       "  <thead>\n",
       "    <tr style=\"text-align: right;\">\n",
       "      <th></th>\n",
       "      <th>id</th>\n",
       "      <th>name</th>\n",
       "      <th>host_id</th>\n",
       "      <th>host_name</th>\n",
       "      <th>neighbourhood_group</th>\n",
       "      <th>neighbourhood</th>\n",
       "      <th>latitude</th>\n",
       "      <th>longitude</th>\n",
       "      <th>room_type</th>\n",
       "      <th>price</th>\n",
       "      <th>minimum_nights</th>\n",
       "      <th>number_of_reviews</th>\n",
       "      <th>last_review</th>\n",
       "      <th>reviews_per_month</th>\n",
       "      <th>calculated_host_listings_count</th>\n",
       "      <th>availability_365</th>\n",
       "    </tr>\n",
       "  </thead>\n",
       "  <tbody>\n",
       "    <tr>\n",
       "      <th>2786</th>\n",
       "      <td>48244370</td>\n",
       "      <td>Regal Suite with King bed - San Ignacio Resort...</td>\n",
       "      <td>60399527</td>\n",
       "      <td>San Ignacio</td>\n",
       "      <td>Cayo</td>\n",
       "      <td>Cayo</td>\n",
       "      <td>17.153220</td>\n",
       "      <td>-89.068150</td>\n",
       "      <td>Private room</td>\n",
       "      <td>367</td>\n",
       "      <td>1</td>\n",
       "      <td>0</td>\n",
       "      <td>NaN</td>\n",
       "      <td>NaN</td>\n",
       "      <td>5</td>\n",
       "      <td>350</td>\n",
       "    </tr>\n",
       "    <tr>\n",
       "      <th>2787</th>\n",
       "      <td>48244399</td>\n",
       "      <td>Regal Suite w/Queen &amp; double bed-San Ignacio R...</td>\n",
       "      <td>60399527</td>\n",
       "      <td>San Ignacio</td>\n",
       "      <td>Cayo</td>\n",
       "      <td>Cayo</td>\n",
       "      <td>17.152890</td>\n",
       "      <td>-89.068160</td>\n",
       "      <td>Private room</td>\n",
       "      <td>367</td>\n",
       "      <td>1</td>\n",
       "      <td>0</td>\n",
       "      <td>NaN</td>\n",
       "      <td>NaN</td>\n",
       "      <td>5</td>\n",
       "      <td>353</td>\n",
       "    </tr>\n",
       "    <tr>\n",
       "      <th>2788</th>\n",
       "      <td>48266532</td>\n",
       "      <td>Dynamite Apt w/ pool on Beach Front</td>\n",
       "      <td>144478335</td>\n",
       "      <td>Brandon</td>\n",
       "      <td>Belize</td>\n",
       "      <td>Belize Islands</td>\n",
       "      <td>17.739740</td>\n",
       "      <td>-88.026150</td>\n",
       "      <td>Entire home/apt</td>\n",
       "      <td>90</td>\n",
       "      <td>2</td>\n",
       "      <td>0</td>\n",
       "      <td>NaN</td>\n",
       "      <td>NaN</td>\n",
       "      <td>4</td>\n",
       "      <td>358</td>\n",
       "    </tr>\n",
       "    <tr>\n",
       "      <th>2789</th>\n",
       "      <td>48279157</td>\n",
       "      <td>Hummingbird pink one bedroom cabin with pool</td>\n",
       "      <td>604999</td>\n",
       "      <td>Bobbi</td>\n",
       "      <td>Belize</td>\n",
       "      <td>Belize Islands</td>\n",
       "      <td>17.737670</td>\n",
       "      <td>-88.027470</td>\n",
       "      <td>Entire home/apt</td>\n",
       "      <td>118</td>\n",
       "      <td>2</td>\n",
       "      <td>0</td>\n",
       "      <td>NaN</td>\n",
       "      <td>NaN</td>\n",
       "      <td>22</td>\n",
       "      <td>348</td>\n",
       "    </tr>\n",
       "    <tr>\n",
       "      <th>2790</th>\n",
       "      <td>48282452</td>\n",
       "      <td>Garden apt w/porch, kitchen, AC, WIFI, bikes, ...</td>\n",
       "      <td>733857</td>\n",
       "      <td>Jacki</td>\n",
       "      <td>Stann Creek</td>\n",
       "      <td>Stann Creek Mainland</td>\n",
       "      <td>16.526140</td>\n",
       "      <td>-88.367100</td>\n",
       "      <td>Entire home/apt</td>\n",
       "      <td>121</td>\n",
       "      <td>7</td>\n",
       "      <td>0</td>\n",
       "      <td>NaN</td>\n",
       "      <td>NaN</td>\n",
       "      <td>5</td>\n",
       "      <td>188</td>\n",
       "    </tr>\n",
       "    <tr>\n",
       "      <th>2791</th>\n",
       "      <td>48283996</td>\n",
       "      <td>Magical Island</td>\n",
       "      <td>17994012</td>\n",
       "      <td>Ronald</td>\n",
       "      <td>Belize</td>\n",
       "      <td>Belize Islands</td>\n",
       "      <td>17.945690</td>\n",
       "      <td>-87.944620</td>\n",
       "      <td>Entire home/apt</td>\n",
       "      <td>1054</td>\n",
       "      <td>3</td>\n",
       "      <td>0</td>\n",
       "      <td>NaN</td>\n",
       "      <td>NaN</td>\n",
       "      <td>2</td>\n",
       "      <td>347</td>\n",
       "    </tr>\n",
       "    <tr>\n",
       "      <th>2792</th>\n",
       "      <td>48287613</td>\n",
       "      <td>The Luxury Suite - Corozal, Bz- 3Bdr/2bthr CASA1</td>\n",
       "      <td>375769845</td>\n",
       "      <td>Michael</td>\n",
       "      <td>Corozal</td>\n",
       "      <td>Corozal</td>\n",
       "      <td>18.374630</td>\n",
       "      <td>-88.400190</td>\n",
       "      <td>Entire home/apt</td>\n",
       "      <td>401</td>\n",
       "      <td>3</td>\n",
       "      <td>0</td>\n",
       "      <td>NaN</td>\n",
       "      <td>NaN</td>\n",
       "      <td>2</td>\n",
       "      <td>302</td>\n",
       "    </tr>\n",
       "    <tr>\n",
       "      <th>2793</th>\n",
       "      <td>48296096</td>\n",
       "      <td>Lagoon front apartment w/shared pool -  two mi...</td>\n",
       "      <td>76414486</td>\n",
       "      <td>Vacasa Belize</td>\n",
       "      <td>Belize</td>\n",
       "      <td>Belize Islands</td>\n",
       "      <td>17.934580</td>\n",
       "      <td>-87.955220</td>\n",
       "      <td>Entire home/apt</td>\n",
       "      <td>252</td>\n",
       "      <td>1</td>\n",
       "      <td>0</td>\n",
       "      <td>NaN</td>\n",
       "      <td>NaN</td>\n",
       "      <td>204</td>\n",
       "      <td>364</td>\n",
       "    </tr>\n",
       "    <tr>\n",
       "      <th>2794</th>\n",
       "      <td>48296978</td>\n",
       "      <td>Beachfront Poolside Condo</td>\n",
       "      <td>15308338</td>\n",
       "      <td>Alexandra</td>\n",
       "      <td>Belize</td>\n",
       "      <td>Belize Islands</td>\n",
       "      <td>17.930010</td>\n",
       "      <td>-87.957120</td>\n",
       "      <td>Entire home/apt</td>\n",
       "      <td>242</td>\n",
       "      <td>3</td>\n",
       "      <td>0</td>\n",
       "      <td>NaN</td>\n",
       "      <td>NaN</td>\n",
       "      <td>4</td>\n",
       "      <td>364</td>\n",
       "    </tr>\n",
       "    <tr>\n",
       "      <th>2795</th>\n",
       "      <td>48332221</td>\n",
       "      <td>Standard Room - San Ignacio Resort Hotel</td>\n",
       "      <td>60399527</td>\n",
       "      <td>San Ignacio</td>\n",
       "      <td>Cayo</td>\n",
       "      <td>Cayo</td>\n",
       "      <td>17.154127</td>\n",
       "      <td>-89.069689</td>\n",
       "      <td>Private room</td>\n",
       "      <td>226</td>\n",
       "      <td>1</td>\n",
       "      <td>0</td>\n",
       "      <td>NaN</td>\n",
       "      <td>NaN</td>\n",
       "      <td>5</td>\n",
       "      <td>365</td>\n",
       "    </tr>\n",
       "  </tbody>\n",
       "</table>\n",
       "</div>"
      ],
      "text/plain": [
       "            id                                               name    host_id  \\\n",
       "2786  48244370  Regal Suite with King bed - San Ignacio Resort...   60399527   \n",
       "2787  48244399  Regal Suite w/Queen & double bed-San Ignacio R...   60399527   \n",
       "2788  48266532                Dynamite Apt w/ pool on Beach Front  144478335   \n",
       "2789  48279157       Hummingbird pink one bedroom cabin with pool     604999   \n",
       "2790  48282452  Garden apt w/porch, kitchen, AC, WIFI, bikes, ...     733857   \n",
       "2791  48283996                                     Magical Island   17994012   \n",
       "2792  48287613   The Luxury Suite - Corozal, Bz- 3Bdr/2bthr CASA1  375769845   \n",
       "2793  48296096  Lagoon front apartment w/shared pool -  two mi...   76414486   \n",
       "2794  48296978                          Beachfront Poolside Condo   15308338   \n",
       "2795  48332221           Standard Room - San Ignacio Resort Hotel   60399527   \n",
       "\n",
       "          host_name neighbourhood_group         neighbourhood   latitude  \\\n",
       "2786    San Ignacio                Cayo                  Cayo  17.153220   \n",
       "2787    San Ignacio                Cayo                  Cayo  17.152890   \n",
       "2788        Brandon              Belize        Belize Islands  17.739740   \n",
       "2789          Bobbi              Belize        Belize Islands  17.737670   \n",
       "2790          Jacki         Stann Creek  Stann Creek Mainland  16.526140   \n",
       "2791         Ronald              Belize        Belize Islands  17.945690   \n",
       "2792        Michael             Corozal               Corozal  18.374630   \n",
       "2793  Vacasa Belize              Belize        Belize Islands  17.934580   \n",
       "2794      Alexandra              Belize        Belize Islands  17.930010   \n",
       "2795    San Ignacio                Cayo                  Cayo  17.154127   \n",
       "\n",
       "      longitude        room_type  price  minimum_nights  number_of_reviews  \\\n",
       "2786 -89.068150     Private room    367               1                  0   \n",
       "2787 -89.068160     Private room    367               1                  0   \n",
       "2788 -88.026150  Entire home/apt     90               2                  0   \n",
       "2789 -88.027470  Entire home/apt    118               2                  0   \n",
       "2790 -88.367100  Entire home/apt    121               7                  0   \n",
       "2791 -87.944620  Entire home/apt   1054               3                  0   \n",
       "2792 -88.400190  Entire home/apt    401               3                  0   \n",
       "2793 -87.955220  Entire home/apt    252               1                  0   \n",
       "2794 -87.957120  Entire home/apt    242               3                  0   \n",
       "2795 -89.069689     Private room    226               1                  0   \n",
       "\n",
       "     last_review  reviews_per_month  calculated_host_listings_count  \\\n",
       "2786         NaN                NaN                               5   \n",
       "2787         NaN                NaN                               5   \n",
       "2788         NaN                NaN                               4   \n",
       "2789         NaN                NaN                              22   \n",
       "2790         NaN                NaN                               5   \n",
       "2791         NaN                NaN                               2   \n",
       "2792         NaN                NaN                               2   \n",
       "2793         NaN                NaN                             204   \n",
       "2794         NaN                NaN                               4   \n",
       "2795         NaN                NaN                               5   \n",
       "\n",
       "      availability_365  \n",
       "2786               350  \n",
       "2787               353  \n",
       "2788               358  \n",
       "2789               348  \n",
       "2790               188  \n",
       "2791               347  \n",
       "2792               302  \n",
       "2793               364  \n",
       "2794               364  \n",
       "2795               365  "
      ]
     },
     "execution_count": 2,
     "metadata": {},
     "output_type": "execute_result"
    }
   ],
   "source": [
    "belize_df.tail(10)"
   ]
  },
  {
   "cell_type": "markdown",
   "id": "freelance-midnight",
   "metadata": {},
   "source": [
    "### Create Histograms\n",
    "\n",
    "Reviews per month and number of review\n",
    "\n",
    "Bin size choosen on what graph seems to best represent the data.  Too many bins is overkill, and too few bins look like an inaccurate data representation.\n",
    "\n",
    "In a study group, another student mentioned the RICE rule for bin size.   It's not something I did here, but I can see where it would be useful.  Rice rule = 2* cubed root (n) = ~28.\n",
    "https://en.wikipedia.org/wiki/Histogram has a nice short discussion on bin size.  I did choose 50 for some bin sizes which is approximated the square root of the number of rows."
   ]
  },
  {
   "cell_type": "code",
   "execution_count": 3,
   "id": "closed-alaska",
   "metadata": {},
   "outputs": [
    {
     "data": {
      "image/png": "[encoded data removed]",
      "text/plain": [
       "<Figure size 864x360 with 2 Axes>"
      ]
     },
     "metadata": {},
     "output_type": "display_data"
    }
   ],
   "source": [
    "# Create the subplots, with style and title\n",
    "sns.set_style('whitegrid')\n",
    "sns.set_context('notebook')\n",
    "fig, axes = plt.subplots(1, 2, figsize =(12,5))\n",
    "fig.suptitle('Belize AirB&B Reviews Per Month and Number of Reviews')\n",
    "plt.subplots_adjust(wspace = 0.5)\n",
    "# make subplots\n",
    "ax = sns.histplot(ax=axes[0], data=belize_df['reviews_per_month'], bins = 30)\n",
    "ax.set(xlabel = 'Reviews per Month')\n",
    "ax2 = sns.histplot(ax=axes[1], data=belize_df, x = 'number_of_reviews', bins = 50, color = 'r');\n",
    "ax2.set(xlabel = \"Number of Reviews\");"
   ]
  },
  {
   "cell_type": "markdown",
   "id": "accredited-yacht",
   "metadata": {},
   "source": [
    "### Box and Whisker Plot for Availabilty 365\n",
    "\n",
    "This plot shows that most rentals (approximately 75%) are available at least 220 days.  Very few rental properties have little to no availability  - thus the outliers."
   ]
  },
  {
   "cell_type": "code",
   "execution_count": 4,
   "id": "western-window",
   "metadata": {},
   "outputs": [
    {
     "data": {
      "image/png": "[encoded data removed]",
      "text/plain": [
       "<Figure size 432x288 with 1 Axes>"
      ]
     },
     "metadata": {},
     "output_type": "display_data"
    }
   ],
   "source": [
    "ax = sns.boxplot(x=\"availability_365\", data = belize_df)\n",
    "ax.set_title('Distribution of Availability')\n",
    "ax.set_xlabel('Availability 365');"
   ]
  },
  {
   "cell_type": "code",
   "execution_count": 5,
   "id": "starting-table",
   "metadata": {},
   "outputs": [
    {
     "name": "stdout",
     "output_type": "stream",
     "text": [
      "count    2796.000000\n",
      "mean      280.315451\n",
      "std       120.617632\n",
      "min         0.000000\n",
      "25%       221.000000\n",
      "50%       349.000000\n",
      "75%       364.000000\n",
      "max       365.000000\n",
      "Name: availability_365, dtype: float64\n"
     ]
    }
   ],
   "source": [
    "print(belize_df['availability_365'].describe())"
   ]
  },
  {
   "cell_type": "markdown",
   "id": "crude-sewing",
   "metadata": {},
   "source": [
    "#### Gathering price information to better understand the data"
   ]
  },
  {
   "cell_type": "code",
   "execution_count": 6,
   "id": "prepared-curve",
   "metadata": {},
   "outputs": [
    {
     "data": {
      "image/png": "[encoded data removed]",
      "text/plain": [
       "<Figure size 432x288 with 1 Axes>"
      ]
     },
     "metadata": {},
     "output_type": "display_data"
    }
   ],
   "source": [
    "sns.histplot(x='price', data = belize_df, bins = 100)\n",
    "plt.title('Price Frequency');"
   ]
  },
  {
   "cell_type": "code",
   "execution_count": 7,
   "id": "surface-cuisine",
   "metadata": {},
   "outputs": [
    {
     "data": {
      "text/plain": [
       "count     2796.000000\n",
       "mean       357.102289\n",
       "std        563.124825\n",
       "min         20.000000\n",
       "25%        135.000000\n",
       "50%        220.000000\n",
       "75%        394.250000\n",
       "max      11788.000000\n",
       "Name: price, dtype: float64"
      ]
     },
     "execution_count": 7,
     "metadata": {},
     "output_type": "execute_result"
    }
   ],
   "source": [
    "belize_df['price'].describe()"
   ]
  },
  {
   "cell_type": "code",
   "execution_count": 8,
   "id": "peripheral-positive",
   "metadata": {},
   "outputs": [
    {
     "data": {
      "text/plain": [
       "0.2927759838151833"
      ]
     },
     "execution_count": 8,
     "metadata": {},
     "output_type": "execute_result"
    }
   ],
   "source": [
    "# this might be valid if price was a normal distribution, but clearly not normal above\n",
    "# ignore cell, just for my own understanding\n",
    "stats.norm.cdf(50, 357, 563)"
   ]
  },
  {
   "cell_type": "code",
   "execution_count": 9,
   "id": "suitable-prescription",
   "metadata": {},
   "outputs": [
    {
     "data": {
      "text/plain": [
       "0.2927759838151833"
      ]
     },
     "execution_count": 9,
     "metadata": {},
     "output_type": "execute_result"
    }
   ],
   "source": [
    "# checking my understanding of importing scipy.stats\n",
    "from scipy.stats import norm\n",
    "stats.norm.cdf(50, 357, 563)"
   ]
  },
  {
   "cell_type": "markdown",
   "id": "random-studio",
   "metadata": {},
   "source": [
    "### Probability of the Price for an AirBnB below $50\n",
    "\n",
    "1.75% is the probability of an AirBnB below $50.\n",
    "\n",
    "Of the 49 rentals available under $50, 36 are some type of shared arrangement.  They are also concentrated in the Cayo and Belize neighborhood groups, but not in the Stann Creek group."
   ]
  },
  {
   "cell_type": "code",
   "execution_count": 10,
   "id": "appropriate-saying",
   "metadata": {},
   "outputs": [
    {
     "data": {
      "text/plain": [
       "1.7525035765379111"
      ]
     },
     "execution_count": 10,
     "metadata": {},
     "output_type": "execute_result"
    }
   ],
   "source": [
    "# filter the belize data for rows where the price is under 50\n",
    "under_50_df = belize_df[belize_df['price'] < 50]\n",
    "# number of row where price is under 50 / rows of data\n",
    "# multiply the ratio by 100 to get the percentage\n",
    "under_50_df['price'].count()/belize_df['price'].count()*100"
   ]
  },
  {
   "cell_type": "code",
   "execution_count": 11,
   "id": "going-surgeon",
   "metadata": {},
   "outputs": [
    {
     "name": "stdout",
     "output_type": "stream",
     "text": [
      "Private room       27\n",
      "Entire home/apt    13\n",
      "Shared room         9\n",
      "Name: room_type, dtype: int64\n",
      "Cayo           21\n",
      "Belize         19\n",
      "Stann Creek     6\n",
      "Toledo          2\n",
      "Orange Walk     1\n",
      "Name: neighbourhood_group, dtype: int64\n",
      "Belize         1574\n",
      "Stann Creek     577\n",
      "Cayo            505\n",
      "Corozal          65\n",
      "Toledo           47\n",
      "Orange Walk      28\n",
      "Name: neighbourhood_group, dtype: int64\n"
     ]
    }
   ],
   "source": [
    "# calculations to describe the price under 50 data\n",
    "print(under_50_df['room_type'].value_counts())\n",
    "print(under_50_df['neighbourhood_group'].value_counts())\n",
    "print(belize_df['neighbourhood_group'].value_counts())"
   ]
  },
  {
   "cell_type": "markdown",
   "id": "wound-duncan",
   "metadata": {},
   "source": [
    "#### Data distribution graph for prices under $50\n",
    "\n",
    "The data distribution might characterized as a bimodal distribution.   It seems to have two peaks.\n",
    "\n",
    "When researching this, there is python code available to try to find the best distribution for a data set.  But, this seemed beyond the cope of the homework.  I was hoping there existed a function written for python that given a data distribution, it would output the best match distribution and how close was the match."
   ]
  },
  {
   "cell_type": "code",
   "execution_count": 12,
   "id": "surface-maine",
   "metadata": {},
   "outputs": [
    {
     "data": {
      "image/png": "[encoded data removed]",
      "text/plain": [
       "<Figure size 432x288 with 1 Axes>"
      ]
     },
     "metadata": {},
     "output_type": "display_data"
    }
   ],
   "source": [
    "sns.histplot(x='price', data = under_50_df, bins = 10, color = 'g')\n",
    "plt.title('Price Frequency for Listings under $50', y = 1.03)\n",
    "plt.xlabel('Price');"
   ]
  },
  {
   "cell_type": "markdown",
   "id": "familiar-superior",
   "metadata": {},
   "source": [
    "### Sample Variance and Standard Deviation of Belize AirBnB Data\n",
    "\n",
    "We use sample variance and standard deviation because we have a sample of data and not necessarily the whole population.  If we were certain the data was the whole population, we could calculate the statistics with population instead of sample.\n",
    "\n",
    "**About the data:**\n",
    "\n",
    "The variance is a measure of distance or spread from the mean and is the square of the standard deviation.  Variance is great when there is a wider range of numbers. Standard deviation also looks at the spread.  If the data is further from the mean, the deviation is higher than if the numbers were closer to mean.\n",
    "\n",
    "Standard deviation is abreviated as std dev and variance is abreviated as var.\n",
    "\n",
    "* id and host id - while numerical in value, the std dev and var have no meaning because the underlying is just an identifier\n",
    "* The **latitude** (in degrees of latitude) std dev and variance are small, suggesting a Belize as a country is smaller. Belize is geographically taller than wider, so the latitude std and variance are larger than the longitude std dev and var.\n",
    "* The **longitude** (in degrees of longitude) std dev and variance are even smaller than the latitude.   Both suggest the data comes from narrow geographic range.   This would be unlike the US if all AirBnB data was gathered due to the geographic mass of the US.\n",
    "* The **price** ('$ dollars') has a very large var and std dev.  This sugguests there is a tremendous range in from price from very low, to very high.   There are possibly very high outliers as the data mean is 357 and the std dev is 563.   So a majority of prices would be between 0 and ~900.  This also can been seen on the price frequency chart.\n",
    "* The **minimum number of nights** data has a wide spread with a high variance.   Both std dev and var sugguest that many rentals may have no minimum number of nights to rentals that may have weekly minimums.\n",
    "* The var and std dev for **number of reviews** is high.  So there are plenty of listings with no reviews to listings with more than 15.\n",
    "* The **reviews per month** std dev and var are low.  So number of reviews per month for a listing might range from 0 to 1.\n",
    "* The **calculated host listing count** is the number of row or listing a particular host has.  The std dev and var are high.  So hosts may range from someone with one listing to hosts with 50 or more listings.\n",
    "* The std dev and var for **availabilty 365** (nights available to a particular listing) is very high.  Some properties may very popular or otherwise have low rental availability (such as owner occupied much of the year) and some listings are available almost the entire year (not popular properties or new lisitngs)."
   ]
  },
  {
   "cell_type": "code",
   "execution_count": 13,
   "id": "right-france",
   "metadata": {},
   "outputs": [
    {
     "data": {
      "text/html": [
       "<div>\n",
       "<style scoped>\n",
       "    .dataframe tbody tr th:only-of-type {\n",
       "        vertical-align: middle;\n",
       "    }\n",
       "\n",
       "    .dataframe tbody tr th {\n",
       "        vertical-align: top;\n",
       "    }\n",
       "\n",
       "    .dataframe thead th {\n",
       "        text-align: right;\n",
       "    }\n",
       "</style>\n",
       "<table border=\"1\" class=\"dataframe\">\n",
       "  <thead>\n",
       "    <tr style=\"text-align: right;\">\n",
       "      <th></th>\n",
       "      <th>std_dev</th>\n",
       "      <th>variance</th>\n",
       "      <th>mean</th>\n",
       "      <th>measurement</th>\n",
       "      <th>scale</th>\n",
       "    </tr>\n",
       "  </thead>\n",
       "  <tbody>\n",
       "    <tr>\n",
       "      <th>id</th>\n",
       "      <td>12889638.87528</td>\n",
       "      <td>166142790335142.78125</td>\n",
       "      <td>27924897.17275</td>\n",
       "      <td>N/a</td>\n",
       "      <td>ordinal?</td>\n",
       "    </tr>\n",
       "    <tr>\n",
       "      <th>host_id</th>\n",
       "      <td>101800143.09139</td>\n",
       "      <td>10363269133427254.00000</td>\n",
       "      <td>124027839.03469</td>\n",
       "      <td>N/a</td>\n",
       "      <td>ordinal?</td>\n",
       "    </tr>\n",
       "    <tr>\n",
       "      <th>latitude</th>\n",
       "      <td>0.53744</td>\n",
       "      <td>0.28884</td>\n",
       "      <td>17.44829</td>\n",
       "      <td>degrees</td>\n",
       "      <td>ratio</td>\n",
       "    </tr>\n",
       "    <tr>\n",
       "      <th>longitude</th>\n",
       "      <td>0.38388</td>\n",
       "      <td>0.14736</td>\n",
       "      <td>-88.29203</td>\n",
       "      <td>degrees</td>\n",
       "      <td>ratio</td>\n",
       "    </tr>\n",
       "    <tr>\n",
       "      <th>price</th>\n",
       "      <td>563.12482</td>\n",
       "      <td>317109.56807</td>\n",
       "      <td>357.10229</td>\n",
       "      <td>$</td>\n",
       "      <td>interval?</td>\n",
       "    </tr>\n",
       "    <tr>\n",
       "      <th>minimum_nights</th>\n",
       "      <td>5.66984</td>\n",
       "      <td>32.14712</td>\n",
       "      <td>2.26395</td>\n",
       "      <td>number of nights</td>\n",
       "      <td>nominal</td>\n",
       "    </tr>\n",
       "    <tr>\n",
       "      <th>number_of_reviews</th>\n",
       "      <td>30.32777</td>\n",
       "      <td>919.77351</td>\n",
       "      <td>14.45351</td>\n",
       "      <td>number of reviews</td>\n",
       "      <td>nominal</td>\n",
       "    </tr>\n",
       "    <tr>\n",
       "      <th>reviews_per_month</th>\n",
       "      <td>0.66215</td>\n",
       "      <td>0.43845</td>\n",
       "      <td>0.53809</td>\n",
       "      <td>number of reviews</td>\n",
       "      <td>nominal</td>\n",
       "    </tr>\n",
       "    <tr>\n",
       "      <th>calculated_host_listings_count</th>\n",
       "      <td>51.71118</td>\n",
       "      <td>2674.04641</td>\n",
       "      <td>22.84835</td>\n",
       "      <td>number of listings</td>\n",
       "      <td>nominal</td>\n",
       "    </tr>\n",
       "    <tr>\n",
       "      <th>availability_365</th>\n",
       "      <td>120.61763</td>\n",
       "      <td>14548.61316</td>\n",
       "      <td>280.31545</td>\n",
       "      <td>nights available</td>\n",
       "      <td>nominal</td>\n",
       "    </tr>\n",
       "  </tbody>\n",
       "</table>\n",
       "</div>"
      ],
      "text/plain": [
       "                                       std_dev                variance  \\\n",
       "id                              12889638.87528   166142790335142.78125   \n",
       "host_id                        101800143.09139 10363269133427254.00000   \n",
       "latitude                               0.53744                 0.28884   \n",
       "longitude                              0.38388                 0.14736   \n",
       "price                                563.12482            317109.56807   \n",
       "minimum_nights                         5.66984                32.14712   \n",
       "number_of_reviews                     30.32777               919.77351   \n",
       "reviews_per_month                      0.66215                 0.43845   \n",
       "calculated_host_listings_count        51.71118              2674.04641   \n",
       "availability_365                     120.61763             14548.61316   \n",
       "\n",
       "                                          mean         measurement      scale  \n",
       "id                              27924897.17275                 N/a   ordinal?  \n",
       "host_id                        124027839.03469                 N/a   ordinal?  \n",
       "latitude                              17.44829             degrees      ratio  \n",
       "longitude                            -88.29203             degrees      ratio  \n",
       "price                                357.10229                   $  interval?  \n",
       "minimum_nights                         2.26395    number of nights    nominal  \n",
       "number_of_reviews                     14.45351   number of reviews    nominal  \n",
       "reviews_per_month                      0.53809   number of reviews    nominal  \n",
       "calculated_host_listings_count        22.84835  number of listings    nominal  \n",
       "availability_365                     280.31545    nights available    nominal  "
      ]
     },
     "execution_count": 13,
     "metadata": {},
     "output_type": "execute_result"
    }
   ],
   "source": [
    "pd.set_option('display.float_format', lambda x: '%.5f' % x) #display numbers as floats instead of scientific notation\n",
    "belize_stats = pd.DataFrame()\n",
    "belize_stats['std_dev'] = belize_df.std(ddof=1, numeric_only=True)\n",
    "belize_stats['variance'] = belize_df.var(ddof=1, numeric_only=True)\n",
    "belize_stats['mean'] = belize_df.mean(numeric_only=True)\n",
    "belize_stats['measurement'] = ['N/a', 'N/a', 'degrees', 'degrees', '$', 'number of nights', 'number of reviews', \n",
    "                         'number of reviews', 'number of listings', 'nights available']\n",
    "belize_stats['scale'] = ['ordinal?', 'ordinal?', 'ratio', 'ratio', 'interval?', \n",
    "                         'nominal', 'nominal', 'nominal', 'nominal', 'nominal']\n",
    "belize_stats"
   ]
  },
  {
   "cell_type": "code",
   "execution_count": 14,
   "id": "blocked-strike",
   "metadata": {},
   "outputs": [],
   "source": [
    "pd.reset_option('display.float_format') #revert back to normal pandas settings for number format"
   ]
  },
  {
   "cell_type": "markdown",
   "id": "completed-guard",
   "metadata": {},
   "source": [
    "### AirBnB Listings Availability\n",
    "\n",
    "* 39.52% of listings are available 360 or more days\n",
    "* 61.55% of listings are available 360 or less days\n",
    "\n",
    "The distributions of listings available days looks skewed towards more listings available 350 days or more.  It almost looks exponential, but has a tail with that peaks near zero (or fully booked).  Perhaps a bimodal or a beta distribution(?)."
   ]
  },
  {
   "cell_type": "code",
   "execution_count": 15,
   "id": "published-learning",
   "metadata": {},
   "outputs": [
    {
     "name": "stdout",
     "output_type": "stream",
     "text": [
      "Availabilty >= 360  39.52 %\n",
      "Availabilty <= 360  61.55 %\n"
     ]
    }
   ],
   "source": [
    "num_of_Listings = belize_df['availability_365'].count()  #total number of listings\n",
    "# calculate percentage of listings >= 360 available\n",
    "over_360_df = belize_df[belize_df['availability_365'] >= 360]\n",
    "over_360_perct = over_360_df['availability_365'].count()/num_of_Listings*100\n",
    "print('Availabilty >= 360 ', round(over_360_perct, 2), '%')\n",
    "# calculate percentage of listings <= 360 available\n",
    "under_360_df = belize_df[belize_df['availability_365'] <= 360]\n",
    "under_360_perct = under_360_df['availability_365'].count()/num_of_Listings*100\n",
    "print('Availabilty <= 360 ', round(under_360_perct, 2), '%')"
   ]
  },
  {
   "cell_type": "code",
   "execution_count": 16,
   "id": "structural-writer",
   "metadata": {},
   "outputs": [
    {
     "data": {
      "image/png": "[encoded data removed]",
      "text/plain": [
       "<Figure size 432x288 with 1 Axes>"
      ]
     },
     "metadata": {},
     "output_type": "display_data"
    }
   ],
   "source": [
    "sns.histplot(x = 'availability_365', data = belize_df, bins = 50)\n",
    "plt.title('Frequency of Days Available', y = 1.03)\n",
    "plt.xlabel('Number of Days Listing is Available');"
   ]
  },
  {
   "cell_type": "code",
   "execution_count": 17,
   "id": "moved-nickel",
   "metadata": {},
   "outputs": [
    {
     "data": {
      "image/png": "[encoded data removed]",
      "text/plain": [
       "<Figure size 360x360 with 1 Axes>"
      ]
     },
     "metadata": {},
     "output_type": "display_data"
    }
   ],
   "source": [
    "# same plot like above, playing with displot\n",
    "# I need to do some research on the difference between displot and histplot\n",
    "sns.displot(x = 'availability_365', data = belize_df);"
   ]
  },
  {
   "cell_type": "markdown",
   "id": "protected-airport",
   "metadata": {},
   "source": [
    "### AirBnB Belize Minimum Night Count\n",
    "\n",
    "75% (actually much more) of all the AirBnB listings in the Belize data have minimum of one night or more nights."
   ]
  },
  {
   "cell_type": "code",
   "execution_count": 18,
   "id": "overhead-armenia",
   "metadata": {},
   "outputs": [
    {
     "data": {
      "text/plain": [
       "count    2796.000000\n",
       "mean        2.263948\n",
       "std         5.669843\n",
       "min         1.000000\n",
       "25%         1.000000\n",
       "50%         2.000000\n",
       "75%         3.000000\n",
       "max       180.000000\n",
       "Name: minimum_nights, dtype: float64"
      ]
     },
     "execution_count": 18,
     "metadata": {},
     "output_type": "execute_result"
    }
   ],
   "source": [
    "belize_df['minimum_nights'].describe()"
   ]
  },
  {
   "cell_type": "code",
   "execution_count": 19,
   "id": "superior-awareness",
   "metadata": {},
   "outputs": [
    {
     "data": {
      "image/png": "[encoded data removed]",
      "text/plain": [
       "<Figure size 360x360 with 1 Axes>"
      ]
     },
     "metadata": {},
     "output_type": "display_data"
    }
   ],
   "source": [
    "sns.displot(x = 'minimum_nights', data = belize_df)\n",
    "plt.title('Minimum Nights to Book Frequency (with Outliers)')\n",
    "plt.xlabel('Minimum Nights');"
   ]
  },
  {
   "cell_type": "code",
   "execution_count": 20,
   "id": "surprised-beverage",
   "metadata": {},
   "outputs": [
    {
     "data": {
      "image/png": "[encoded data removed]",
      "text/plain": [
       "<Figure size 360x360 with 1 Axes>"
      ]
     },
     "metadata": {},
     "output_type": "display_data"
    }
   ],
   "source": [
    "no_outliers = belize_df[belize_df['minimum_nights'] < 25]\n",
    "sns.displot(x = 'minimum_nights', data = no_outliers)\n",
    "plt.title('Minimum Nights to Book Frequency (without Outliers)')\n",
    "plt.xlabel('Minimum Nights');"
   ]
  },
  {
   "cell_type": "code",
   "execution_count": 21,
   "id": "meaningful-entrepreneur",
   "metadata": {},
   "outputs": [
    {
     "data": {
      "image/png": "[encoded data removed]",
      "text/plain": [
       "<Figure size 432x288 with 1 Axes>"
      ]
     },
     "metadata": {},
     "output_type": "display_data"
    }
   ],
   "source": [
    "sns.boxplot(x = 'minimum_nights', data = belize_df, showfliers = False)\n",
    "plt.title('Minimum Nights to Book Box Plot (without Outliers)')\n",
    "plt.xlabel('Minimum Nights');"
   ]
  },
  {
   "cell_type": "code",
   "execution_count": 22,
   "id": "linear-mercy",
   "metadata": {},
   "outputs": [
    {
     "data": {
      "text/html": [
       "<div>\n",
       "<style scoped>\n",
       "    .dataframe tbody tr th:only-of-type {\n",
       "        vertical-align: middle;\n",
       "    }\n",
       "\n",
       "    .dataframe tbody tr th {\n",
       "        vertical-align: top;\n",
       "    }\n",
       "\n",
       "    .dataframe thead th {\n",
       "        text-align: right;\n",
       "    }\n",
       "</style>\n",
       "<table border=\"1\" class=\"dataframe\">\n",
       "  <thead>\n",
       "    <tr style=\"text-align: right;\">\n",
       "      <th></th>\n",
       "      <th>mean</th>\n",
       "      <th>var</th>\n",
       "      <th>std</th>\n",
       "    </tr>\n",
       "  </thead>\n",
       "  <tbody>\n",
       "    <tr>\n",
       "      <th>id</th>\n",
       "      <td>2.792490e+07</td>\n",
       "      <td>1.661428e+14</td>\n",
       "      <td>1.288964e+07</td>\n",
       "    </tr>\n",
       "    <tr>\n",
       "      <th>host_id</th>\n",
       "      <td>1.240278e+08</td>\n",
       "      <td>1.036327e+16</td>\n",
       "      <td>1.018001e+08</td>\n",
       "    </tr>\n",
       "    <tr>\n",
       "      <th>latitude</th>\n",
       "      <td>1.744829e+01</td>\n",
       "      <td>2.888413e-01</td>\n",
       "      <td>5.374396e-01</td>\n",
       "    </tr>\n",
       "    <tr>\n",
       "      <th>longitude</th>\n",
       "      <td>-8.829203e+01</td>\n",
       "      <td>1.473608e-01</td>\n",
       "      <td>3.838760e-01</td>\n",
       "    </tr>\n",
       "    <tr>\n",
       "      <th>price</th>\n",
       "      <td>3.571023e+02</td>\n",
       "      <td>3.171096e+05</td>\n",
       "      <td>5.631248e+02</td>\n",
       "    </tr>\n",
       "    <tr>\n",
       "      <th>minimum_nights</th>\n",
       "      <td>2.263948e+00</td>\n",
       "      <td>3.214712e+01</td>\n",
       "      <td>5.669843e+00</td>\n",
       "    </tr>\n",
       "    <tr>\n",
       "      <th>number_of_reviews</th>\n",
       "      <td>1.445351e+01</td>\n",
       "      <td>9.197735e+02</td>\n",
       "      <td>3.032777e+01</td>\n",
       "    </tr>\n",
       "    <tr>\n",
       "      <th>reviews_per_month</th>\n",
       "      <td>5.380884e-01</td>\n",
       "      <td>4.384482e-01</td>\n",
       "      <td>6.621542e-01</td>\n",
       "    </tr>\n",
       "    <tr>\n",
       "      <th>calculated_host_listings_count</th>\n",
       "      <td>2.284835e+01</td>\n",
       "      <td>2.674046e+03</td>\n",
       "      <td>5.171118e+01</td>\n",
       "    </tr>\n",
       "    <tr>\n",
       "      <th>availability_365</th>\n",
       "      <td>2.803155e+02</td>\n",
       "      <td>1.454861e+04</td>\n",
       "      <td>1.206176e+02</td>\n",
       "    </tr>\n",
       "  </tbody>\n",
       "</table>\n",
       "</div>"
      ],
      "text/plain": [
       "                                        mean           var           std\n",
       "id                              2.792490e+07  1.661428e+14  1.288964e+07\n",
       "host_id                         1.240278e+08  1.036327e+16  1.018001e+08\n",
       "latitude                        1.744829e+01  2.888413e-01  5.374396e-01\n",
       "longitude                      -8.829203e+01  1.473608e-01  3.838760e-01\n",
       "price                           3.571023e+02  3.171096e+05  5.631248e+02\n",
       "minimum_nights                  2.263948e+00  3.214712e+01  5.669843e+00\n",
       "number_of_reviews               1.445351e+01  9.197735e+02  3.032777e+01\n",
       "reviews_per_month               5.380884e-01  4.384482e-01  6.621542e-01\n",
       "calculated_host_listings_count  2.284835e+01  2.674046e+03  5.171118e+01\n",
       "availability_365                2.803155e+02  1.454861e+04  1.206176e+02"
      ]
     },
     "execution_count": 22,
     "metadata": {},
     "output_type": "execute_result"
    }
   ],
   "source": [
    "# playing with the .agg function - perhaps I should have used it on Q4\n",
    "# then I wouldn't have dealt with scientific notation issues\n",
    "belize_df.agg([\"mean\", 'var', 'std']).transpose()"
   ]
  },
  {
   "cell_type": "code",
   "execution_count": null,
   "id": "noted-soccer",
   "metadata": {},
   "outputs": [],
   "source": []
  }
 ],
 "metadata": {
  "kernelspec": {
   "display_name": "Python 3",
   "language": "python",
   "name": "python3"
  },
  "language_info": {
   "codemirror_mode": {
    "name": "ipython",
    "version": 3
   },
   "file_extension": ".py",
   "mimetype": "text/x-python",
   "name": "python",
   "nbconvert_exporter": "python",
   "pygments_lexer": "ipython3",
   "version": "3.8.3"
  }
 },
 "nbformat": 4,
 "nbformat_minor": 5
}
