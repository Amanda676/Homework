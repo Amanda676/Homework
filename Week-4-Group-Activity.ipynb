{
 "cells": [
  {
   "cell_type": "code",
   "execution_count": 4,
   "id": "conditional-music",
   "metadata": {},
   "outputs": [],
   "source": [
    "import numpy as np\n",
    "og_list=[2, 4, 6, 8, 10, 12, 14]\n",
    "og_list =np.array(og_list)\n"
   ]
  },
  {
   "cell_type": "code",
   "execution_count": 6,
   "id": "insured-textbook",
   "metadata": {},
   "outputs": [
    {
     "data": {
      "text/plain": [
       "array([  4,  16,  36,  64, 100, 144, 196])"
      ]
     },
     "execution_count": 6,
     "metadata": {},
     "output_type": "execute_result"
    }
   ],
   "source": [
    "#new list from the square of each value\n",
    "og_list_sq = og_list**2\n",
    "og_list_sq"
   ]
  },
  {
   "cell_type": "code",
   "execution_count": 8,
   "id": "scientific-frontier",
   "metadata": {},
   "outputs": [
    {
     "data": {
      "text/plain": [
       "array([1.33333333, 2.66666667, 4.        , 5.33333333, 6.66666667,\n",
       "       8.        , 9.33333333])"
      ]
     },
     "execution_count": 8,
     "metadata": {},
     "output_type": "execute_result"
    }
   ],
   "source": [
    "og_list_twothirds = og_list*(2/3)\n",
    "og_list_twothirds"
   ]
  },
  {
   "cell_type": "code",
   "execution_count": 9,
   "id": "exotic-drill",
   "metadata": {},
   "outputs": [],
   "source": [
    "dict={\"Apples\": 1500, \"Cranberries\": 2000, \"Pears\": 2500, \"Cherries\": 1600, \"Plums\": 2400, \"Peaches\": 13600, \"Oranges\": 7}"
   ]
  },
  {
   "cell_type": "code",
   "execution_count": 10,
   "id": "included-earth",
   "metadata": {},
   "outputs": [
    {
     "data": {
      "text/plain": [
       "{'Apples': 1500,\n",
       " 'Cranberries': 2000,\n",
       " 'Pears': 2500,\n",
       " 'Cherries': 1600,\n",
       " 'Plums': 2400,\n",
       " 'Peaches': 13600,\n",
       " 'Oranges': 7}"
      ]
     },
     "execution_count": 10,
     "metadata": {},
     "output_type": "execute_result"
    }
   ],
   "source": [
    "dict"
   ]
  },
  {
   "cell_type": "code",
   "execution_count": 11,
   "id": "alpine-editor",
   "metadata": {},
   "outputs": [
    {
     "data": {
      "text/plain": [
       "[1.3333333333333333,\n",
       " 2.6666666666666665,\n",
       " 4.0,\n",
       " 5.333333333333333,\n",
       " 6.666666666666666,\n",
       " 8.0,\n",
       " 9.333333333333332]"
      ]
     },
     "execution_count": 11,
     "metadata": {},
     "output_type": "execute_result"
    }
   ],
   "source": [
    "#newlist = [expression for item in iterable if condition == True]\n",
    "\n",
    "newOG = [ (2/3)*x for x in og_list]\n",
    "newOG"
   ]
  },
  {
   "cell_type": "code",
   "execution_count": 12,
   "id": "adjusted-difference",
   "metadata": {},
   "outputs": [
    {
     "data": {
      "text/plain": [
       "[4, 16, 36, 64, 100, 144, 196]"
      ]
     },
     "execution_count": 12,
     "metadata": {},
     "output_type": "execute_result"
    }
   ],
   "source": [
    "newSq = [x**2 for x in og_list]\n",
    "newSq"
   ]
  },
  {
   "cell_type": "code",
   "execution_count": 28,
   "id": "lightweight-julian",
   "metadata": {},
   "outputs": [
    {
     "data": {
      "text/plain": [
       "{'apples': 1500,\n",
       " 'cranberries': 2000,\n",
       " 'pears': 2500,\n",
       " 'cherries': 1600,\n",
       " 'plums': 2400,\n",
       " 'peaches': 13600,\n",
       " 'oranges': 7}"
      ]
     },
     "execution_count": 28,
     "metadata": {},
     "output_type": "execute_result"
    }
   ],
   "source": [
    "lowerCdict = {key.lower():v for key,v in dict.items()}\n",
    "lowerCdict"
   ]
  },
  {
   "cell_type": "code",
   "execution_count": null,
   "id": "conventional-nylon",
   "metadata": {},
   "outputs": [],
   "source": [
    "#Why might you use a list comprehension to do something like this?\n",
    "# it's easier to change all the data in the same way rather\n",
    "# than writing than writing 3 or so lines of code\n",
    "# to iterate through the list"
   ]
  },
  {
   "cell_type": "code",
   "execution_count": null,
   "id": "located-antigua",
   "metadata": {},
   "outputs": [],
   "source": []
  }
 ],
 "metadata": {
  "kernelspec": {
   "display_name": "Python 3",
   "language": "python",
   "name": "python3"
  },
  "language_info": {
   "codemirror_mode": {
    "name": "ipython",
    "version": 3
   },
   "file_extension": ".py",
   "mimetype": "text/x-python",
   "name": "python",
   "nbconvert_exporter": "python",
   "pygments_lexer": "ipython3",
   "version": "3.8.3"
  }
 },
 "nbformat": 4,
 "nbformat_minor": 5
}
