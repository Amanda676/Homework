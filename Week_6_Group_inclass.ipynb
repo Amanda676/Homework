{
 "cells": [
  {
   "cell_type": "code",
   "execution_count": 1,
   "id": "serious-writer",
   "metadata": {},
   "outputs": [],
   "source": [
    "import pandas as pd\n",
    "import numpy as np\n",
    "\n",
    "file_to_load = 'JEOPARDY_CSV.csv'\n",
    "\n",
    "jeopardy_df = pd.read_csv(file_to_load)"
   ]
  },
  {
   "cell_type": "code",
   "execution_count": 2,
   "id": "missing-choice",
   "metadata": {},
   "outputs": [
    {
     "data": {
      "text/html": [
       "<div>\n",
       "<style scoped>\n",
       "    .dataframe tbody tr th:only-of-type {\n",
       "        vertical-align: middle;\n",
       "    }\n",
       "\n",
       "    .dataframe tbody tr th {\n",
       "        vertical-align: top;\n",
       "    }\n",
       "\n",
       "    .dataframe thead th {\n",
       "        text-align: right;\n",
       "    }\n",
       "</style>\n",
       "<table border=\"1\" class=\"dataframe\">\n",
       "  <thead>\n",
       "    <tr style=\"text-align: right;\">\n",
       "      <th></th>\n",
       "      <th>Show Number</th>\n",
       "      <th>Air Date</th>\n",
       "      <th>Round</th>\n",
       "      <th>Category</th>\n",
       "      <th>Value</th>\n",
       "      <th>Question</th>\n",
       "      <th>Answer</th>\n",
       "    </tr>\n",
       "  </thead>\n",
       "  <tbody>\n",
       "    <tr>\n",
       "      <th>0</th>\n",
       "      <td>4680</td>\n",
       "      <td>12/31/2004</td>\n",
       "      <td>Jeopardy!</td>\n",
       "      <td>HISTORY</td>\n",
       "      <td>$200</td>\n",
       "      <td>For the last 8 years of his life, Galileo was ...</td>\n",
       "      <td>Copernicus</td>\n",
       "    </tr>\n",
       "    <tr>\n",
       "      <th>1</th>\n",
       "      <td>4680</td>\n",
       "      <td>12/31/2004</td>\n",
       "      <td>Jeopardy!</td>\n",
       "      <td>ESPN's TOP 10 ALL-TIME ATHLETES</td>\n",
       "      <td>$200</td>\n",
       "      <td>No. 2: 1912 Olympian; football star at Carlisl...</td>\n",
       "      <td>Jim Thorpe</td>\n",
       "    </tr>\n",
       "    <tr>\n",
       "      <th>2</th>\n",
       "      <td>4680</td>\n",
       "      <td>12/31/2004</td>\n",
       "      <td>Jeopardy!</td>\n",
       "      <td>EVERYBODY TALKS ABOUT IT...</td>\n",
       "      <td>$200</td>\n",
       "      <td>The city of Yuma in this state has a record av...</td>\n",
       "      <td>Arizona</td>\n",
       "    </tr>\n",
       "    <tr>\n",
       "      <th>3</th>\n",
       "      <td>4680</td>\n",
       "      <td>12/31/2004</td>\n",
       "      <td>Jeopardy!</td>\n",
       "      <td>THE COMPANY LINE</td>\n",
       "      <td>$200</td>\n",
       "      <td>In 1963, live on \"The Art Linkletter Show\", th...</td>\n",
       "      <td>McDonald's</td>\n",
       "    </tr>\n",
       "    <tr>\n",
       "      <th>4</th>\n",
       "      <td>4680</td>\n",
       "      <td>12/31/2004</td>\n",
       "      <td>Jeopardy!</td>\n",
       "      <td>EPITAPHS &amp; TRIBUTES</td>\n",
       "      <td>$200</td>\n",
       "      <td>Signer of the Dec. of Indep., framer of the Co...</td>\n",
       "      <td>John Adams</td>\n",
       "    </tr>\n",
       "  </tbody>\n",
       "</table>\n",
       "</div>"
      ],
      "text/plain": [
       "   Show Number    Air Date      Round                         Category  Value  \\\n",
       "0         4680  12/31/2004  Jeopardy!                          HISTORY  $200    \n",
       "1         4680  12/31/2004  Jeopardy!  ESPN's TOP 10 ALL-TIME ATHLETES  $200    \n",
       "2         4680  12/31/2004  Jeopardy!      EVERYBODY TALKS ABOUT IT...  $200    \n",
       "3         4680  12/31/2004  Jeopardy!                 THE COMPANY LINE  $200    \n",
       "4         4680  12/31/2004  Jeopardy!              EPITAPHS & TRIBUTES  $200    \n",
       "\n",
       "                                            Question      Answer  \n",
       "0  For the last 8 years of his life, Galileo was ...  Copernicus  \n",
       "1  No. 2: 1912 Olympian; football star at Carlisl...  Jim Thorpe  \n",
       "2  The city of Yuma in this state has a record av...     Arizona  \n",
       "3  In 1963, live on \"The Art Linkletter Show\", th...  McDonald's  \n",
       "4  Signer of the Dec. of Indep., framer of the Co...  John Adams  "
      ]
     },
     "execution_count": 2,
     "metadata": {},
     "output_type": "execute_result"
    }
   ],
   "source": [
    "jeopardy_df.head()"
   ]
  },
  {
   "cell_type": "code",
   "execution_count": 9,
   "id": "amended-balloon",
   "metadata": {},
   "outputs": [
    {
     "data": {
      "text/plain": [
       "Show Number    216930\n",
       "Air Date       216930\n",
       "Round          216930\n",
       "Category       216930\n",
       "Value          216930\n",
       "Question       216930\n",
       "Answer         216928\n",
       "Year           216930\n",
       "dtype: int64"
      ]
     },
     "execution_count": 9,
     "metadata": {},
     "output_type": "execute_result"
    }
   ],
   "source": [
    "#How many rows are there in the dataframe? What does a row represent in this\n",
    "#dataset? What is the “grain”?\n",
    "\n",
    "#row represents a jeopardy question\n",
    "#216,930 questions\n",
    "\n",
    "jeopardy_df.count()"
   ]
  },
  {
   "cell_type": "code",
   "execution_count": 3,
   "id": "rubber-office",
   "metadata": {},
   "outputs": [
    {
     "data": {
      "text/plain": [
       "Index(['Show Number', 'Air Date', 'Round', 'Category', 'Value', 'Question',\n",
       "       'Answer'],\n",
       "      dtype='object')"
      ]
     },
     "execution_count": 3,
     "metadata": {},
     "output_type": "execute_result"
    }
   ],
   "source": [
    "jeopardy_df.columns = jeopardy_df.columns.str.rstrip()\n",
    "jeopardy_df.columns = jeopardy_df.columns.str.lstrip()\n",
    "\n",
    "jeopardy_df.columns\n",
    "\n",
    "#Clean the data. How do you need to “clean” it? What is “dirty” about this data?\n",
    "# cleaning the columns - blank characters out"
   ]
  },
  {
   "cell_type": "code",
   "execution_count": 32,
   "id": "protecting-ottawa",
   "metadata": {},
   "outputs": [
    {
     "data": {
      "text/plain": [
       "Year\n",
       "1984     23\n",
       "1985     16\n",
       "1986     25\n",
       "1987     22\n",
       "1988     22\n",
       "1989     36\n",
       "1990     73\n",
       "1991     24\n",
       "1992     32\n",
       "1993     35\n",
       "1994     19\n",
       "1995     19\n",
       "1996     83\n",
       "1997    221\n",
       "1998    223\n",
       "1999    229\n",
       "2000    225\n",
       "2001    203\n",
       "2002    114\n",
       "2003    158\n",
       "2004    220\n",
       "2005    225\n",
       "2006    230\n",
       "2007    231\n",
       "2008    232\n",
       "2009    226\n",
       "2010    231\n",
       "2011    224\n",
       "2012     19\n",
       "Name: Show Number, dtype: int64"
      ]
     },
     "execution_count": 32,
     "metadata": {},
     "output_type": "execute_result"
    }
   ],
   "source": [
    "jeopardy_df['Year'] = pd.DatetimeIndex(jeopardy_df['Air Date']).year\n",
    "\n",
    "#print(jeopardy_df.head())\n",
    "\n",
    "unique_shows_per_year = jeopardy_df.groupby('Year')['Show Number'].nunique()\n",
    "unique_shows_per_year\n",
    "\n",
    "#How many unique shows were there each year?"
   ]
  },
  {
   "cell_type": "code",
   "execution_count": 5,
   "id": "continuing-aruba",
   "metadata": {},
   "outputs": [
    {
     "data": {
      "text/plain": [
       "0        $200 \n",
       "1        $200 \n",
       "2        $200 \n",
       "3        $200 \n",
       "4        $200 \n",
       "         ...  \n",
       "13726    $100 \n",
       "13727    $100 \n",
       "13728    $100 \n",
       "13729    $100 \n",
       "13730    $100 \n",
       "Name: Value, Length: 145, dtype: object"
      ]
     },
     "execution_count": 5,
     "metadata": {},
     "output_type": "execute_result"
    }
   ],
   "source": [
    "values = jeopardy_df.groupby('Year')['Value']\n",
    "values.head()"
   ]
  },
  {
   "cell_type": "code",
   "execution_count": 10,
   "id": "happy-september",
   "metadata": {},
   "outputs": [
    {
     "data": {
      "text/plain": [
       "BEFORE & AFTER        547\n",
       "SCIENCE               519\n",
       "LITERATURE            496\n",
       "AMERICAN HISTORY      418\n",
       "POTPOURRI             401\n",
       "                     ... \n",
       "20th CENTURY OPERA      1\n",
       "PLAY & FILM TITLES      1\n",
       "FAMOUS LANDMARKS        1\n",
       "CLIMATE TERMS           1\n",
       "FAMOUS TEENAGERS        1\n",
       "Name: Category, Length: 27983, dtype: int64"
      ]
     },
     "execution_count": 10,
     "metadata": {},
     "output_type": "execute_result"
    }
   ],
   "source": [
    "#How many times was each category used?\n",
    "\n",
    "jeopardy_df['Category'].value_counts()"
   ]
  },
  {
   "cell_type": "code",
   "execution_count": 13,
   "id": "ranging-guinea",
   "metadata": {},
   "outputs": [
    {
     "data": {
      "text/plain": [
       "11    25672\n",
       "1     21128\n",
       "5     21052\n",
       "12    20875\n",
       "10    20510\n",
       "3     19731\n",
       "4     19654\n",
       "6     19331\n",
       "2     17501\n",
       "9     16053\n",
       "7     15423\n",
       "Name: Month, dtype: int64"
      ]
     },
     "execution_count": 13,
     "metadata": {},
     "output_type": "execute_result"
    }
   ],
   "source": [
    "#Which month (over the years) has had the most shows?\n",
    "\n",
    "jeopardy_df['Month'] = pd.DatetimeIndex(jeopardy_df['Air Date']).month\n",
    "\n",
    "jeopardy_df['Month'].value_counts()"
   ]
  },
  {
   "cell_type": "code",
   "execution_count": 27,
   "id": "turkish-major",
   "metadata": {},
   "outputs": [
    {
     "data": {
      "text/plain": [
       "Answer\n",
       " Hamlet                  1\n",
       " Les Miserables          1\n",
       " Nosferatu               1\n",
       " She Loves You           1\n",
       " Sleepless in Seattle    1\n",
       "Name: Question, dtype: int64"
      ]
     },
     "execution_count": 27,
     "metadata": {},
     "output_type": "execute_result"
    }
   ],
   "source": [
    "#Are there any answers that appeared multiple times? Find the questions for the top\n",
    "#three most common answers.\n",
    "\n",
    "answers_df = jeopardy_df.groupby('Answer')['Question'].count()\n",
    "\n",
    "#answers_df = jeopardy_df.drop_duplicates(subset=['Answer'])\n",
    "\n",
    "answers_df.head()"
   ]
  },
  {
   "cell_type": "code",
   "execution_count": 31,
   "id": "interstate-documentation",
   "metadata": {},
   "outputs": [
    {
     "data": {
      "text/plain": [
       "China            216\n",
       "Australia        215\n",
       "Japan            196\n",
       "Chicago          194\n",
       "France           193\n",
       "                ... \n",
       "Glamis             1\n",
       "Queen's beans      1\n",
       "\"I'm Glad\"         1\n",
       "Y-A-C-H-T          1\n",
       "The Prisoner       1\n",
       "Name: Answer, Length: 88236, dtype: int64"
      ]
     },
     "execution_count": 31,
     "metadata": {},
     "output_type": "execute_result"
    }
   ],
   "source": [
    "jeopardy_df['Answer'].value_counts()\n",
    "\n",
    "#merge, join"
   ]
  },
  {
   "cell_type": "code",
   "execution_count": 73,
   "id": "smart-departure",
   "metadata": {},
   "outputs": [
    {
     "data": {
      "text/html": [
       "<div>\n",
       "<style scoped>\n",
       "    .dataframe tbody tr th:only-of-type {\n",
       "        vertical-align: middle;\n",
       "    }\n",
       "\n",
       "    .dataframe tbody tr th {\n",
       "        vertical-align: top;\n",
       "    }\n",
       "\n",
       "    .dataframe thead th {\n",
       "        text-align: right;\n",
       "    }\n",
       "</style>\n",
       "<table border=\"1\" class=\"dataframe\">\n",
       "  <thead>\n",
       "    <tr style=\"text-align: right;\">\n",
       "      <th></th>\n",
       "      <th>Show Number</th>\n",
       "      <th>Air Date</th>\n",
       "      <th>Round</th>\n",
       "      <th>Category</th>\n",
       "      <th>Value</th>\n",
       "      <th>Question</th>\n",
       "      <th>Answer</th>\n",
       "      <th>Year</th>\n",
       "      <th>Month</th>\n",
       "    </tr>\n",
       "  </thead>\n",
       "  <tbody>\n",
       "    <tr>\n",
       "      <th>404</th>\n",
       "      <td>2825</td>\n",
       "      <td>12/6/1996</td>\n",
       "      <td>Double Jeopardy!</td>\n",
       "      <td>HISTORY</td>\n",
       "      <td>$600</td>\n",
       "      <td>In February 1904 this country attacked the Rus...</td>\n",
       "      <td>Japan</td>\n",
       "      <td>1996</td>\n",
       "      <td>12</td>\n",
       "    </tr>\n",
       "    <tr>\n",
       "      <th>560</th>\n",
       "      <td>3036</td>\n",
       "      <td>11/10/1997</td>\n",
       "      <td>Jeopardy!</td>\n",
       "      <td>AT THE KENNEDY CENTER</td>\n",
       "      <td>$500</td>\n",
       "      <td>A 1994 festival honoring this country featured...</td>\n",
       "      <td>Australia</td>\n",
       "      <td>1997</td>\n",
       "      <td>11</td>\n",
       "    </tr>\n",
       "    <tr>\n",
       "      <th>598</th>\n",
       "      <td>4107</td>\n",
       "      <td>6/11/2002</td>\n",
       "      <td>Jeopardy!</td>\n",
       "      <td>REMEMBER THE TIME</td>\n",
       "      <td>$200</td>\n",
       "      <td>In 1958 this country launched its second 5-yea...</td>\n",
       "      <td>China</td>\n",
       "      <td>2002</td>\n",
       "      <td>6</td>\n",
       "    </tr>\n",
       "    <tr>\n",
       "      <th>688</th>\n",
       "      <td>2735</td>\n",
       "      <td>6/21/1996</td>\n",
       "      <td>Double Jeopardy!</td>\n",
       "      <td>WORLD GEOGRAPHY</td>\n",
       "      <td>$200</td>\n",
       "      <td>Large aboriginal populations live in this coun...</td>\n",
       "      <td>Australia</td>\n",
       "      <td>1996</td>\n",
       "      <td>6</td>\n",
       "    </tr>\n",
       "    <tr>\n",
       "      <th>874</th>\n",
       "      <td>4541</td>\n",
       "      <td>5/10/2004</td>\n",
       "      <td>Double Jeopardy!</td>\n",
       "      <td>GROSS NATIONAL PRODUCTS</td>\n",
       "      <td>$1,200</td>\n",
       "      <td>Sanma aisu is fish-flavored ice cream &amp; taco a...</td>\n",
       "      <td>Japan</td>\n",
       "      <td>2004</td>\n",
       "      <td>5</td>\n",
       "    </tr>\n",
       "    <tr>\n",
       "      <th>...</th>\n",
       "      <td>...</td>\n",
       "      <td>...</td>\n",
       "      <td>...</td>\n",
       "      <td>...</td>\n",
       "      <td>...</td>\n",
       "      <td>...</td>\n",
       "      <td>...</td>\n",
       "      <td>...</td>\n",
       "      <td>...</td>\n",
       "    </tr>\n",
       "    <tr>\n",
       "      <th>215568</th>\n",
       "      <td>3589</td>\n",
       "      <td>3/23/2000</td>\n",
       "      <td>Jeopardy!</td>\n",
       "      <td>BEER COUNTRY OF ORIGIN</td>\n",
       "      <td>$400</td>\n",
       "      <td>Kirin</td>\n",
       "      <td>Japan</td>\n",
       "      <td>2000</td>\n",
       "      <td>3</td>\n",
       "    </tr>\n",
       "    <tr>\n",
       "      <th>215912</th>\n",
       "      <td>6003</td>\n",
       "      <td>10/20/2010</td>\n",
       "      <td>Final Jeopardy!</td>\n",
       "      <td>COUNTRY DEMOGRAPHICS</td>\n",
       "      <td>None</td>\n",
       "      <td>Because of a policy adopted in 1979, this coun...</td>\n",
       "      <td>China</td>\n",
       "      <td>2010</td>\n",
       "      <td>10</td>\n",
       "    </tr>\n",
       "    <tr>\n",
       "      <th>216044</th>\n",
       "      <td>4364</td>\n",
       "      <td>7/17/2003</td>\n",
       "      <td>Jeopardy!</td>\n",
       "      <td>MONEY, MONEY, MONEY</td>\n",
       "      <td>$600</td>\n",
       "      <td>Norfolk Island &amp; the Republic of Kiribati use ...</td>\n",
       "      <td>Australia</td>\n",
       "      <td>2003</td>\n",
       "      <td>7</td>\n",
       "    </tr>\n",
       "    <tr>\n",
       "      <th>216150</th>\n",
       "      <td>1983</td>\n",
       "      <td>3/31/1993</td>\n",
       "      <td>Jeopardy!</td>\n",
       "      <td>FASHION</td>\n",
       "      <td>$100</td>\n",
       "      <td>Colorful patches called p'u-fang used to indic...</td>\n",
       "      <td>China</td>\n",
       "      <td>1993</td>\n",
       "      <td>3</td>\n",
       "    </tr>\n",
       "    <tr>\n",
       "      <th>216660</th>\n",
       "      <td>3940</td>\n",
       "      <td>10/19/2001</td>\n",
       "      <td>Double Jeopardy!</td>\n",
       "      <td>I'M IN CHARGE!</td>\n",
       "      <td>$200</td>\n",
       "      <td>In Asia: Prime Minister Junichiro Koizumi</td>\n",
       "      <td>Japan</td>\n",
       "      <td>2001</td>\n",
       "      <td>10</td>\n",
       "    </tr>\n",
       "  </tbody>\n",
       "</table>\n",
       "<p>627 rows × 9 columns</p>\n",
       "</div>"
      ],
      "text/plain": [
       "        Show Number    Air Date             Round                 Category  \\\n",
       "404            2825   12/6/1996  Double Jeopardy!                  HISTORY   \n",
       "560            3036  11/10/1997         Jeopardy!    AT THE KENNEDY CENTER   \n",
       "598            4107   6/11/2002         Jeopardy!        REMEMBER THE TIME   \n",
       "688            2735   6/21/1996  Double Jeopardy!          WORLD GEOGRAPHY   \n",
       "874            4541   5/10/2004  Double Jeopardy!  GROSS NATIONAL PRODUCTS   \n",
       "...             ...         ...               ...                      ...   \n",
       "215568         3589   3/23/2000         Jeopardy!   BEER COUNTRY OF ORIGIN   \n",
       "215912         6003  10/20/2010   Final Jeopardy!     COUNTRY DEMOGRAPHICS   \n",
       "216044         4364   7/17/2003         Jeopardy!      MONEY, MONEY, MONEY   \n",
       "216150         1983   3/31/1993         Jeopardy!                  FASHION   \n",
       "216660         3940  10/19/2001  Double Jeopardy!           I'M IN CHARGE!   \n",
       "\n",
       "          Value                                           Question     Answer  \\\n",
       "404       $600   In February 1904 this country attacked the Rus...      Japan   \n",
       "560       $500   A 1994 festival honoring this country featured...  Australia   \n",
       "598       $200   In 1958 this country launched its second 5-yea...      China   \n",
       "688       $200   Large aboriginal populations live in this coun...  Australia   \n",
       "874     $1,200   Sanma aisu is fish-flavored ice cream & taco a...      Japan   \n",
       "...         ...                                                ...        ...   \n",
       "215568    $400                                               Kirin      Japan   \n",
       "215912     None  Because of a policy adopted in 1979, this coun...      China   \n",
       "216044    $600   Norfolk Island & the Republic of Kiribati use ...  Australia   \n",
       "216150    $100   Colorful patches called p'u-fang used to indic...      China   \n",
       "216660    $200           In Asia: Prime Minister Junichiro Koizumi      Japan   \n",
       "\n",
       "        Year  Month  \n",
       "404     1996     12  \n",
       "560     1997     11  \n",
       "598     2002      6  \n",
       "688     1996      6  \n",
       "874     2004      5  \n",
       "...      ...    ...  \n",
       "215568  2000      3  \n",
       "215912  2010     10  \n",
       "216044  2003      7  \n",
       "216150  1993      3  \n",
       "216660  2001     10  \n",
       "\n",
       "[627 rows x 9 columns]"
      ]
     },
     "execution_count": 73,
     "metadata": {},
     "output_type": "execute_result"
    }
   ],
   "source": [
    "# I don't know what to do next to get the quesitions for each top answer\n",
    "# For the top three answers, pull the question/answer pair into a new dataframe?\n",
    "\n",
    "top3answers = ['China', 'Australia', 'Japan']\n",
    "jeopardy_df.loc[jeopardy_df['Answer'].isin(top3answers)]"
   ]
  },
  {
   "cell_type": "code",
   "execution_count": 33,
   "id": "stable-adolescent",
   "metadata": {},
   "outputs": [],
   "source": [
    "import matplotlib.pyplot as plt\n",
    "import seaborn as sns"
   ]
  },
  {
   "cell_type": "code",
   "execution_count": 36,
   "id": "painful-webster",
   "metadata": {},
   "outputs": [],
   "source": [
    "#top 5 categories\n",
    "\n",
    "top5cat = pd.DataFrame(jeopardy_df['Category'].value_counts())"
   ]
  },
  {
   "cell_type": "code",
   "execution_count": 61,
   "id": "confidential-input",
   "metadata": {},
   "outputs": [
    {
     "name": "stdout",
     "output_type": "stream",
     "text": [
      "Index(['BEFORE & AFTER', 'SCIENCE', 'LITERATURE', 'AMERICAN HISTORY',\n",
      "       'POTPOURRI'],\n",
      "      dtype='object')\n"
     ]
    },
    {
     "data": {
      "text/html": [
       "<div>\n",
       "<style scoped>\n",
       "    .dataframe tbody tr th:only-of-type {\n",
       "        vertical-align: middle;\n",
       "    }\n",
       "\n",
       "    .dataframe tbody tr th {\n",
       "        vertical-align: top;\n",
       "    }\n",
       "\n",
       "    .dataframe thead th {\n",
       "        text-align: right;\n",
       "    }\n",
       "</style>\n",
       "<table border=\"1\" class=\"dataframe\">\n",
       "  <thead>\n",
       "    <tr style=\"text-align: right;\">\n",
       "      <th></th>\n",
       "      <th>Category</th>\n",
       "    </tr>\n",
       "  </thead>\n",
       "  <tbody>\n",
       "    <tr>\n",
       "      <th>BEFORE &amp; AFTER</th>\n",
       "      <td>547</td>\n",
       "    </tr>\n",
       "    <tr>\n",
       "      <th>SCIENCE</th>\n",
       "      <td>519</td>\n",
       "    </tr>\n",
       "    <tr>\n",
       "      <th>LITERATURE</th>\n",
       "      <td>496</td>\n",
       "    </tr>\n",
       "    <tr>\n",
       "      <th>AMERICAN HISTORY</th>\n",
       "      <td>418</td>\n",
       "    </tr>\n",
       "    <tr>\n",
       "      <th>POTPOURRI</th>\n",
       "      <td>401</td>\n",
       "    </tr>\n",
       "  </tbody>\n",
       "</table>\n",
       "</div>"
      ],
      "text/plain": [
       "                  Category\n",
       "BEFORE & AFTER         547\n",
       "SCIENCE                519\n",
       "LITERATURE             496\n",
       "AMERICAN HISTORY       418\n",
       "POTPOURRI              401"
      ]
     },
     "execution_count": 61,
     "metadata": {},
     "output_type": "execute_result"
    }
   ],
   "source": [
    "top5cat = top5cat.head()\n",
    "print(top5cat.index)\n",
    "top5cat"
   ]
  },
  {
   "cell_type": "code",
   "execution_count": 83,
   "id": "thermal-talent",
   "metadata": {},
   "outputs": [
    {
     "data": {
      "image/png": "[encoded data removed]",
      "text/plain": [
       "<Figure size 432x288 with 1 Axes>"
      ]
     },
     "metadata": {
      "needs_background": "light"
     },
     "output_type": "display_data"
    }
   ],
   "source": [
    "myplot = sns.barplot(x=top5cat.index, y='Category', data = top5cat) \n",
    "#could use myplot (ax object) .set to label title, x axis, y axis\n",
    "plt.title('Top 5 Jeopardy Categories')\n",
    "plt.xlabel('Category')\n",
    "plt.ylabel(\"Number of Times\")\n",
    "plt.xticks(rotation=70)\n",
    "plt.show()"
   ]
  },
  {
   "cell_type": "code",
   "execution_count": null,
   "id": "authorized-mississippi",
   "metadata": {},
   "outputs": [],
   "source": []
  }
 ],
 "metadata": {
  "kernelspec": {
   "display_name": "Python 3",
   "language": "python",
   "name": "python3"
  },
  "language_info": {
   "codemirror_mode": {
    "name": "ipython",
    "version": 3
   },
   "file_extension": ".py",
   "mimetype": "text/x-python",
   "name": "python",
   "nbconvert_exporter": "python",
   "pygments_lexer": "ipython3",
   "version": "3.8.3"
  }
 },
 "nbformat": 4,
 "nbformat_minor": 5
}
