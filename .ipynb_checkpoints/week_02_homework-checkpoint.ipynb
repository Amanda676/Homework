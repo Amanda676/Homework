{
 "cells": [
  {
   "cell_type": "markdown",
   "metadata": {},
   "source": [
    "### Homework Week 02\n",
    "#### Loops, Functions and Classes\n",
    "1. Do this homework **in order**. \n",
    "2. Be sure to have a solid understanding of Functions before working with Classes. "
   ]
  },
  {
   "cell_type": "markdown",
   "metadata": {},
   "source": [
    "1. Iterate through `integers_list` and `print` values that are multiples of 7."
   ]
  },
  {
   "cell_type": "code",
   "execution_count": 16,
   "metadata": {},
   "outputs": [
    {
     "name": "stdout",
     "output_type": "stream",
     "text": [
      "686\n",
      "679\n",
      "203\n",
      "119\n",
      "140\n",
      "84\n",
      "504\n"
     ]
    }
   ],
   "source": [
    "import random\n",
    "integers_list = [random.randint(0,1000) for i in range(50)] # a list comprehension\n",
    "\n",
    "# your code here\n",
    "for j in integers_list: #look at every number in list\n",
    "    if j%7 ==0: #if the remainder is 0 after dividing by 7\n",
    "        print(j) #print the number"
   ]
  },
  {
   "cell_type": "markdown",
   "metadata": {},
   "source": [
    "2. Create `list` of 5 colors as `strings` which are all lowercase. \n",
    "Iterate through the `list` and capitalize each color. \n",
    "You should modify the `list` in place. "
   ]
  },
  {
   "cell_type": "code",
   "execution_count": 12,
   "metadata": {},
   "outputs": [
    {
     "name": "stdout",
     "output_type": "stream",
     "text": [
      "['Blue', 'Red', 'Yellow', 'Pink', 'Purple']\n"
     ]
    }
   ],
   "source": [
    "colorList = ['blue', \"red\", 'yellow', 'pink', 'purple']\n",
    "for c in range(len(colorList)): #create index and interate through\n",
    "    colorList[c] = colorList[c].capitalize()  #calling function to capitalized string\n",
    "print(colorList) #test program output"
   ]
  },
  {
   "cell_type": "markdown",
   "metadata": {},
   "source": [
    "3. Loop through the string and eliminate all the asterisks."
   ]
  },
  {
   "cell_type": "code",
   "execution_count": 20,
   "metadata": {},
   "outputs": [
    {
     "name": "stdout",
     "output_type": "stream",
     "text": [
      "My computer has gone crazy and added extra symbols.\n"
     ]
    }
   ],
   "source": [
    "asterisk = 'My *compu*ter has go*ne craz***y an*d add*ed extra *symbols.*'\n",
    "\n",
    "# your code here\n",
    "noAsterisk = ''\n",
    "for char in range(0, len(asterisk) -1): # for each character in the string\n",
    "    if asterisk[char] != '*': # Check if it is an asterisk\n",
    "        noAsterisk += asterisk[char]  #create new temp string to hold all characters that are not *\n",
    "asterisk = noAsterisk  #reassignment        \n",
    "\n",
    "print(asterisk) # check code by printing"
   ]
  },
  {
   "cell_type": "markdown",
   "metadata": {},
   "source": [
    "4. Write a `while` loop that increments `counter` until it reaches 7."
   ]
  },
  {
   "cell_type": "code",
   "execution_count": 21,
   "metadata": {},
   "outputs": [
    {
     "name": "stdout",
     "output_type": "stream",
     "text": [
      "7\n"
     ]
    }
   ],
   "source": [
    "counter = 0\n",
    "# your code here\n",
    "while counter < 7:  #While counter is 6 or less (less than 7)\n",
    "    counter += 1 #add 1 to counter\n",
    "print(counter)  #test counter by printing it"
   ]
  },
  {
   "cell_type": "markdown",
   "metadata": {},
   "source": [
    "5. Loop over `double_trouble` and eliminate any 'mosquito'."
   ]
  },
  {
   "cell_type": "code",
   "execution_count": 26,
   "metadata": {},
   "outputs": [
    {
     "name": "stdout",
     "output_type": "stream",
     "text": [
      "['cat', 'dog', ['mouse', 'bat'], ['elephant', 'dog', 'whale', 'lion', 32], 'bird', [], 'mosquitoe']\n"
     ]
    }
   ],
   "source": [
    "double_trouble = ['cat', 'dog', ['mouse','mosquito','bat','mosquito'],['elephant','dog','whale','lion',32,'mosquito'],\n",
    "                  'bird',[],'mosquitoe']\n",
    "# your code here\n",
    "# the more difficult problem to solve is \n",
    "# to eliminate any part of an item containing the letters in order of mosquito\n",
    "# I solved the obvious problem, and kept \"mosquitoe\"\n",
    "for item in double_trouble:  #check every item in double trouble\n",
    "    if type(item) == list: #if item is a list\n",
    "        for nestedItem in item: #check every item in the sublist\n",
    "            if nestedItem == 'mosquito': #if mosquito is found\n",
    "                item.remove('mosquito') #remove it from the item list\n",
    "    else:  #if item is not a list\n",
    "        if item == 'mosquito': #if mosquito is found\n",
    "            double_trouble.remove('mosquito') #remove it from the item list\n",
    "print(double_trouble) # check solution"
   ]
  },
  {
   "cell_type": "markdown",
   "metadata": {},
   "source": [
    "6. Loop through the dictionary of phone numbers and correct the parentheses. "
   ]
  },
  {
   "cell_type": "code",
   "execution_count": 53,
   "metadata": {},
   "outputs": [
    {
     "name": "stdout",
     "output_type": "stream",
     "text": [
      "{'Jill': '1-(555)-567-8910', 'Jen': '1-(555)-567-8910', 'Jan': '1-(555)-567-8910', 'Jane': '1-(555)-567-8910', 'Jerri': '1-(555)-567-8910'}\n"
     ]
    }
   ],
   "source": [
    "phone_numbers = {'Jill':'1-)555(-567-8910',\n",
    "                'Jen':'1-)555(-567-8910',\n",
    "                'Jan':'1-)555(-567-8910',\n",
    "                'Jane':'1-)555(-567-8910',\n",
    "                'Jerri':'1-)555(-567-8910'}\n",
    "for key in phone_numbers: #check every item in dictionary\n",
    "    newNumber = phone_numbers[key] #retrieve value of key\n",
    "    tempNumber = ''  #build new number\n",
    "    for i in range(0, len(newNumber)): #create iterable to over string newNumber\n",
    "        if newNumber[i] == \")\": #if character is )\n",
    "            tempNumber += \"(\" #replace in new string with (\n",
    "        elif newNumber[i] == \"(\":\n",
    "            tempNumber += ')'\n",
    "        else:\n",
    "            tempNumber += newNumber[i] #no need to replace, just add to new string\n",
    "    phone_numbers[key] = tempNumber   #new string value for key after fixing ()\n",
    "\n",
    "print(phone_numbers) #check output"
   ]
  },
  {
   "cell_type": "markdown",
   "metadata": {},
   "source": [
    "7. Create a function that takes in two numbers.\n",
    "\n",
    "If the numbers are both even add them and `return` the result.\n",
    "\n",
    "If the numbers are odd, subtract the second number from the first and `return` the result.\n",
    "\n",
    "(Assume you'll always get integers)"
   ]
  },
  {
   "cell_type": "code",
   "execution_count": 65,
   "metadata": {},
   "outputs": [
    {
     "name": "stdout",
     "output_type": "stream",
     "text": [
      "2\n",
      "16\n"
     ]
    },
    {
     "ename": "TypeError",
     "evalue": "Numbers must be both odd or both even",
     "output_type": "error",
     "traceback": [
      "\u001b[0;31m---------------------------------------------------------------------------\u001b[0m",
      "\u001b[0;31mTypeError\u001b[0m                                 Traceback (most recent call last)",
      "\u001b[0;32m<ipython-input-65-ab3d72d4fc6f>\u001b[0m in \u001b[0;36m<module>\u001b[0;34m\u001b[0m\n\u001b[1;32m     13\u001b[0m \u001b[0mprint\u001b[0m\u001b[0;34m(\u001b[0m\u001b[0mevenAddoddSub\u001b[0m\u001b[0;34m(\u001b[0m\u001b[0;36m5\u001b[0m\u001b[0;34m,\u001b[0m\u001b[0;36m3\u001b[0m\u001b[0;34m)\u001b[0m\u001b[0;34m)\u001b[0m\u001b[0;34m\u001b[0m\u001b[0;34m\u001b[0m\u001b[0m\n\u001b[1;32m     14\u001b[0m \u001b[0mprint\u001b[0m\u001b[0;34m(\u001b[0m\u001b[0mevenAddoddSub\u001b[0m\u001b[0;34m(\u001b[0m\u001b[0;36m10\u001b[0m\u001b[0;34m,\u001b[0m\u001b[0;36m6\u001b[0m\u001b[0;34m)\u001b[0m\u001b[0;34m)\u001b[0m\u001b[0;34m\u001b[0m\u001b[0;34m\u001b[0m\u001b[0m\n\u001b[0;32m---> 15\u001b[0;31m \u001b[0mevenAddoddSub\u001b[0m\u001b[0;34m(\u001b[0m\u001b[0;36m2\u001b[0m\u001b[0;34m,\u001b[0m\u001b[0;36m3\u001b[0m\u001b[0;34m)\u001b[0m\u001b[0;34m\u001b[0m\u001b[0;34m\u001b[0m\u001b[0m\n\u001b[0m",
      "\u001b[0;32m<ipython-input-65-ab3d72d4fc6f>\u001b[0m in \u001b[0;36mevenAddoddSub\u001b[0;34m(x, y)\u001b[0m\n\u001b[1;32m      4\u001b[0m     \u001b[0;31m# returns an int, or raises excepttion\u001b[0m\u001b[0;34m\u001b[0m\u001b[0;34m\u001b[0m\u001b[0;34m\u001b[0m\u001b[0m\n\u001b[1;32m      5\u001b[0m     \u001b[0;32mif\u001b[0m \u001b[0;34m(\u001b[0m\u001b[0mx\u001b[0m\u001b[0;34m+\u001b[0m\u001b[0my\u001b[0m\u001b[0;34m)\u001b[0m\u001b[0;34m%\u001b[0m\u001b[0;36m2\u001b[0m \u001b[0;34m!=\u001b[0m \u001b[0;36m0\u001b[0m\u001b[0;34m:\u001b[0m \u001b[0;31m#return \"your numbers must be both odd or both even\"\u001b[0m\u001b[0;34m\u001b[0m\u001b[0;34m\u001b[0m\u001b[0m\n\u001b[0;32m----> 6\u001b[0;31m         \u001b[0;32mraise\u001b[0m \u001b[0mTypeError\u001b[0m\u001b[0;34m(\u001b[0m\u001b[0;34m\"Numbers must be both odd or both even\"\u001b[0m\u001b[0;34m)\u001b[0m\u001b[0;34m\u001b[0m\u001b[0;34m\u001b[0m\u001b[0m\n\u001b[0m\u001b[1;32m      7\u001b[0m     \u001b[0;32mif\u001b[0m \u001b[0mx\u001b[0m\u001b[0;34m%\u001b[0m\u001b[0;36m2\u001b[0m \u001b[0;34m==\u001b[0m \u001b[0;36m0\u001b[0m\u001b[0;34m:\u001b[0m \u001b[0;31m#both numbers even\u001b[0m\u001b[0;34m\u001b[0m\u001b[0;34m\u001b[0m\u001b[0m\n\u001b[1;32m      8\u001b[0m         \u001b[0;32mreturn\u001b[0m \u001b[0mx\u001b[0m\u001b[0;34m+\u001b[0m\u001b[0my\u001b[0m\u001b[0;34m\u001b[0m\u001b[0;34m\u001b[0m\u001b[0m\n",
      "\u001b[0;31mTypeError\u001b[0m: Numbers must be both odd or both even"
     ]
    }
   ],
   "source": [
    "def evenAddoddSub(x, y):\n",
    "    # function takes in two integers, x and y\n",
    "    # x and y are both even or both odd\n",
    "    # returns an int, or raises excepttion\n",
    "    if (x+y)%2 != 0: #return \"your numbers must be both odd or both even\"\n",
    "        raise TypeError(\"Numbers must be both odd or both even\")\n",
    "    if x%2 == 0: #both numbers even\n",
    "        return x+y\n",
    "    else:  # both numbers odd\n",
    "        return x-y\n",
    "    \n",
    "#code testing below\n",
    "print(evenAddoddSub(5,3))\n",
    "print(evenAddoddSub(10,6))\n",
    "evenAddoddSub(2,3)  #throws my exception error"
   ]
  },
  {
   "cell_type": "markdown",
   "metadata": {},
   "source": [
    "8. Create a function that takes in a `string` and removes all non-alphanumeric characters."
   ]
  },
  {
   "cell_type": "code",
   "execution_count": 215,
   "metadata": {},
   "outputs": [
    {
     "data": {
      "text/plain": [
       "'3help'"
      ]
     },
     "execution_count": 215,
     "metadata": {},
     "output_type": "execute_result"
    }
   ],
   "source": [
    "def removeNonAlphaNumC(string):  \n",
    "    ansString = \"\"\n",
    "    for char in string:\n",
    "        if char.isalnum():\n",
    "            ansString += char\n",
    "    return ansString\n",
    "\n",
    "removeNonAlphaNumC(\"3h#el $(p!*&\") #test code"
   ]
  },
  {
   "cell_type": "markdown",
   "metadata": {},
   "source": [
    "9. Create a function to convert Celsius to Farenheight and print the result. \n",
    "\n",
    "Bonus(Optional): Include the degree symbol in the output."
   ]
  },
  {
   "cell_type": "code",
   "execution_count": 216,
   "metadata": {},
   "outputs": [
    {
     "name": "stdout",
     "output_type": "stream",
     "text": [
      "212.0°\n",
      "72.5°\n"
     ]
    }
   ],
   "source": [
    "def CelsiustoFarenh(degreesC):\n",
    "    degreesF = (degreesC * 9/5) + 32 #convert Celsius to Farenheight\n",
    "    return str(degreesF) + chr(176) #returns degrees F as string with degree symbol\n",
    "\n",
    "print(CelsiustoFarenh(100)) #test code\n",
    "print(CelsiustoFarenh(22.5))"
   ]
  },
  {
   "cell_type": "markdown",
   "metadata": {},
   "source": [
    "10. Create a function that prints the fibonacci sequence from 0 to 25. "
   ]
  },
  {
   "cell_type": "code",
   "execution_count": 91,
   "metadata": {},
   "outputs": [
    {
     "name": "stdout",
     "output_type": "stream",
     "text": [
      "0\n",
      "1\n",
      "1\n",
      "2\n",
      "3\n",
      "5\n",
      "8\n",
      "13\n",
      "21\n"
     ]
    }
   ],
   "source": [
    "def makeFib(limitNum):  #prints fibonacci sequence until number limit, returns nothing\n",
    "    x1 = 0 #initialize fib sequence\n",
    "    x2 = 1\n",
    "    print(x1) #prints first two numbers\n",
    "    print(x2)\n",
    "    while x1+x2 <= limitNum: #while under limit number\n",
    "        print(x1 + x2) #print next fib number\n",
    "        x3 = x1 + x2 #x3 is next fib number\n",
    "        x1 = x2 #second fib number now first fib number\n",
    "        x2 = x3 #new fib number now second fib number\n",
    "    pass #function returns nothing\n",
    "        \n",
    "makeFib(25) #test code"
   ]
  },
  {
   "cell_type": "markdown",
   "metadata": {},
   "source": [
    "11. Create two functions. One function that accepts args `a` and `b` and returns `a + b`. \n",
    "\n",
    "Create a second function that accepts the first function as the 3rd argument as well as a and b.\n"
   ]
  },
  {
   "cell_type": "code",
   "execution_count": 217,
   "metadata": {},
   "outputs": [],
   "source": [
    "# you do the first function\n",
    "def first_function(a, b): #function takes two numbers a,b\n",
    "    return a+b #returns a + b\n",
    "\n",
    "# second function\n",
    "# Here's some starter code to avoid confusion.\n",
    "# Functions can be passed around like any other object. \n",
    "\n",
    "def second_function(a,b,func): # takes two numbers a,b and function that returns number\n",
    "    value = func(a,b)\n",
    "    #returns a tuple of \n",
    "    return (a*value, b*value)\n",
    "\n",
    "         "
   ]
  },
  {
   "cell_type": "code",
   "execution_count": 218,
   "metadata": {},
   "outputs": [
    {
     "data": {
      "text/plain": [
       "(5, 20)"
      ]
     },
     "execution_count": 218,
     "metadata": {},
     "output_type": "execute_result"
    }
   ],
   "source": [
    "second_function(1,4,first_function)"
   ]
  },
  {
   "cell_type": "markdown",
   "metadata": {},
   "source": [
    "12. Create a function that prints prime number from 0 to 100. "
   ]
  },
  {
   "cell_type": "code",
   "execution_count": 220,
   "metadata": {},
   "outputs": [
    {
     "name": "stdout",
     "output_type": "stream",
     "text": [
      "[2, 3, 5, 7, 11, 13, 17, 19, 23, 29, 31, 37, 41, 43, 47, 53, 59, 61, 67, 71, 73, 79, 83, 89, 97]\n"
     ]
    }
   ],
   "source": [
    "def printPrimesto100():\n",
    "    primes = []  #empty holding list\n",
    "    for number in range(2, 100):   #check every number 2-100 through iteration\n",
    "        primeFlag = True    #assume number is prime\n",
    "        for denom in primes:  #iterate over denominator \n",
    "            if number%denom == 0:  #if test number is divisor\n",
    "                primeFlag = False  #then number is not prime\n",
    "                break #break out of loop, might save time on larger numbers\n",
    "        if primeFlag:  #number is prime\n",
    "            primes.append(number)   #add to prime number list\n",
    "    return primes  #returns prime number list\n",
    "            \n",
    "print(printPrimesto100())"
   ]
  },
  {
   "cell_type": "markdown",
   "metadata": {},
   "source": [
    "13. Now's your chance to show off. Create a function that does something that has not already been done in the homework. Get creative. "
   ]
  },
  {
   "cell_type": "code",
   "execution_count": 145,
   "metadata": {},
   "outputs": [
    {
     "name": "stdout",
     "output_type": "stream",
     "text": [
      "Please think of a number between 0 and 100!\n",
      "Is your secret number 50?\n",
      "Enter 'h' to indicate the guess is too high.  \n",
      "Enter 'l' to indicate the guess is too low.  \n",
      "Enter 'c' to indicate I guessed correctly. k\n",
      "Sorry, I did not understand your input.\n",
      "Is your secret number 50?\n",
      "Enter 'h' to indicate the guess is too high.  \n",
      "Enter 'l' to indicate the guess is too low.  \n",
      "Enter 'c' to indicate I guessed correctly. l\n",
      "Sorry, I did not understand your input.\n",
      "Is your secret number 75?\n",
      "Enter 'h' to indicate the guess is too high.  \n",
      "Enter 'l' to indicate the guess is too low.  \n",
      "Enter 'c' to indicate I guessed correctly. c\n",
      "Game over. Your secret number was: 75\n"
     ]
    }
   ],
   "source": [
    "def guessNumber():   #number guessing game - creatted in a python class\n",
    "    low = 0\n",
    "    high = 100\n",
    "    guess = 50\n",
    "    feedback = \"\"   #declaree a variable outside the the while loop\n",
    "\n",
    "    print(\"Please think of a number between 0 and 100!\")\n",
    "\n",
    "    while True:\n",
    "\n",
    "        print('Is your secret number ' + str(guess) + \"?\")\n",
    "        print(\"Enter 'h' to indicate the guess is too high.\", \" \")\n",
    "        print(\"Enter 'l' to indicate the guess is too low.\", \" \")\n",
    "        feedback = input(\"Enter 'c' to indicate I guessed correctly. \")\n",
    "    \n",
    "        if feedback == \"c\":\n",
    "            print(\"Game over. Your secret number was: \" + str(guess))\n",
    "            break\n",
    "       \n",
    "        if feedback == \"h\":\n",
    "            high = guess\n",
    "            guess = (low + high)//2\n",
    "   \n",
    "        if feedback == \"l\":\n",
    "            low = guess\n",
    "            guess = (high + low)//2\n",
    "        \n",
    "        if feedback != \"h\" and \"l\":\n",
    "            print('Sorry, I did not understand your input.')\n",
    "\n",
    "guessNumber()"
   ]
  },
  {
   "cell_type": "markdown",
   "metadata": {},
   "source": [
    "14. Add an attribute called `age` to the `__init__` method of the `Person` class.\n",
    "\n",
    "Create an instance of `Person()` and print the `age`."
   ]
  },
  {
   "cell_type": "code",
   "execution_count": 122,
   "metadata": {},
   "outputs": [
    {
     "name": "stdout",
     "output_type": "stream",
     "text": [
      "44\n"
     ]
    }
   ],
   "source": [
    "class Person():\n",
    "    \n",
    "    def __init__(self, name, occupation, country, age = 0):\n",
    "        self.name = name\n",
    "        self.occupation = occupation\n",
    "        self.country = country\n",
    "        self.age = age\n",
    "        \n",
    "me = Person(\"Amanda\", \"student\", \"United States\", 44)\n",
    "print(me.age)\n",
    "\n"
   ]
  },
  {
   "cell_type": "markdown",
   "metadata": {},
   "source": [
    "15. Creat an instance of the class `Candy`. \n",
    "\n",
    "Add an attribute called `cost` on your instance. (Don't modify the class starter code.)\n",
    "\n",
    "Print the instance's `cost` attribute.\n",
    "\n",
    "Bonus(optional): Add a function of your choice to the instance. "
   ]
  },
  {
   "cell_type": "code",
   "execution_count": 193,
   "metadata": {},
   "outputs": [],
   "source": [
    "class Candy():\n",
    "    \n",
    "    def __init__(self, kind='chocolate', brand= 'Nestle', caramel = False):\n",
    "        self.type = kind\n",
    "        self.brand = brand\n",
    "        self.caramel = caramel\n",
    "    \n",
    "    def isGood(self):\n",
    "        if self.type != \"chocolate\":\n",
    "            return print(\"Not good\")\n",
    "        if self.caramel:\n",
    "            return print('Yum!')\n",
    "        else:\n",
    "            return print('Good')\n",
    "\n",
    "        "
   ]
  },
  {
   "cell_type": "code",
   "execution_count": 198,
   "metadata": {},
   "outputs": [
    {
     "name": "stdout",
     "output_type": "stream",
     "text": [
      "$ 3\n",
      "Good\n",
      "Yum!\n"
     ]
    }
   ],
   "source": [
    "mandms = Candy(\"chocolate\", \"Mars\")\n",
    "setattr(mandms, \"cost\", 3)\n",
    "print(\"$\", mandms.cost)\n",
    "mandms.isGood()\n",
    "chocAndCaramel = Candy('chocolate', 'Highend', True)\n",
    "chocAndCaramel.isGood()"
   ]
  },
  {
   "cell_type": "markdown",
   "metadata": {},
   "source": [
    "16. Add an instance method to our class `Greet` that prints a greeting including `greeting` and the `name`. \n",
    "\n",
    "Example:\n",
    "\n",
    "`jen = Greet()`\n",
    "\n",
    "`jen.greet_method()` returns `\"Hello Jennifer\"`\n"
   ]
  },
  {
   "cell_type": "code",
   "execution_count": 164,
   "metadata": {},
   "outputs": [
    {
     "data": {
      "text/plain": [
       "'Hello Jennifer'"
      ]
     },
     "execution_count": 164,
     "metadata": {},
     "output_type": "execute_result"
    }
   ],
   "source": [
    "class Greet():\n",
    "    \n",
    "    def __init__(self, name='Jennifer', language='english', greeting=\"Hello\"):\n",
    "        \n",
    "        self.language = language\n",
    "        self.greeting = greeting\n",
    "        self.name = name\n",
    "        \n",
    "    # Your method here\n",
    "    def greet_method(self):\n",
    "        return self.greeting + \" \" + self.name\n",
    "\n",
    "jen = Greet()\n",
    "jen.greet_method()"
   ]
  },
  {
   "cell_type": "markdown",
   "metadata": {},
   "source": [
    "17. Add a line to the follwing code that will increment `employee_count` by 1 for **all** instances of `Employee`.\n",
    "\n",
    "The code should run each time an new instance of`Employee` is created. \n",
    "\n",
    "Hint: You don't need methods. Just a single expression will work. And it does NOT inlcude the word `self`. "
   ]
  },
  {
   "cell_type": "code",
   "execution_count": 169,
   "metadata": {},
   "outputs": [
    {
     "name": "stdout",
     "output_type": "stream",
     "text": [
      "1\n",
      "2\n"
     ]
    }
   ],
   "source": [
    "class Employee():\n",
    "    \n",
    "    # class variables. Applies to all instances of this class during creation.\n",
    "    yearly_bonus = 1.01 # not used anywhere in this example\n",
    "    \n",
    "    employee_count = 0 # This variable will change for all instances of the class.\n",
    "    \n",
    "       \n",
    "    def __init__(self,name, age, base_pay): # creates an instance of our object with unique attributes\n",
    "        \n",
    "        self.name = name\n",
    "        self.age = age\n",
    "        self.base_pay = base_pay  \n",
    "        \n",
    "        # your code here inside the __init__ method. \n",
    "\n",
    "        Employee.employee_count += 1\n",
    "        \n",
    "emp1 = Employee('Matt', 32,40000)\n",
    "print(emp1.employee_count) # should be 1 if the __init__ method is working properly. \n",
    "\n",
    "emp2 = emp1 = Employee('Joe', 22,50000) # should be 2 if the __init__ method is working properly. \n",
    "print(emp2.employee_count)\n",
    "\n"
   ]
  },
  {
   "cell_type": "markdown",
   "metadata": {},
   "source": [
    "18 . Add a `static` method of your choice to the class below. \n",
    "\n",
    "Instaiate an object and call your method. \n",
    "\n",
    "What is a static method anyway? \n"
   ]
  },
  {
   "cell_type": "code",
   "execution_count": 205,
   "metadata": {},
   "outputs": [
    {
     "name": "stdout",
     "output_type": "stream",
     "text": [
      "Meryl Streep: This is my line...\n"
     ]
    }
   ],
   "source": [
    "class actress():\n",
    "    def __init__(self, name = 'Meryl Streep'):\n",
    "        self.name = name\n",
    "        \n",
    "    def act(self, line):\n",
    "        print(f'{self.name}: {line}')\n",
    "        \n",
    "    # your static method goes here.\n",
    "    def all_actress_say():\n",
    "        return print('Look at me!')\n",
    "        \n",
    "meryl = actress()\n",
    "meryl.act('This is my line...')\n",
    "\n",
    "#static method won’t modify class or instance state.\n",
    "#Static methods don’t have access to cls or self. \n",
    "#belong to class namespace"
   ]
  },
  {
   "cell_type": "code",
   "execution_count": 204,
   "metadata": {},
   "outputs": [
    {
     "name": "stdout",
     "output_type": "stream",
     "text": [
      "Cher: If I could turn back time\n",
      "Look at me!\n"
     ]
    }
   ],
   "source": [
    "cher = actress(\"Cher\")\n",
    "cher.act('If I could turn back time')\n",
    "actress.all_actress_say()"
   ]
  },
  {
   "cell_type": "markdown",
   "metadata": {},
   "source": [
    "19. Create a `class` called Car that accepts 3 attributes (make, model and year). \n",
    "\n",
    "In the `__init__` method give your instance those three attributes. \n",
    "\n",
    "Instantiate (create) an object that is your dream car. \n",
    "\n",
    "Print the make of your dream car using the object attributes. \n",
    "\n",
    "Then call the dir() method on your new object. (See your attrs are now included!)"
   ]
  },
  {
   "cell_type": "code",
   "execution_count": 229,
   "metadata": {},
   "outputs": [
    {
     "name": "stdout",
     "output_type": "stream",
     "text": [
      "My dream car is a Honda CRV built in 2022.\n"
     ]
    },
    {
     "data": {
      "text/plain": [
       "['__class__',\n",
       " '__delattr__',\n",
       " '__dict__',\n",
       " '__dir__',\n",
       " '__doc__',\n",
       " '__eq__',\n",
       " '__format__',\n",
       " '__ge__',\n",
       " '__getattribute__',\n",
       " '__gt__',\n",
       " '__hash__',\n",
       " '__init__',\n",
       " '__init_subclass__',\n",
       " '__le__',\n",
       " '__lt__',\n",
       " '__module__',\n",
       " '__ne__',\n",
       " '__new__',\n",
       " '__reduce__',\n",
       " '__reduce_ex__',\n",
       " '__repr__',\n",
       " '__setattr__',\n",
       " '__sizeof__',\n",
       " '__str__',\n",
       " '__subclasshook__',\n",
       " '__weakref__',\n",
       " 'dreamCar',\n",
       " 'make',\n",
       " 'model',\n",
       " 'year']"
      ]
     },
     "execution_count": 229,
     "metadata": {},
     "output_type": "execute_result"
    }
   ],
   "source": [
    "class Car():\n",
    "    \n",
    "    def __init__(self, make, model, year):\n",
    "        self.make = make\n",
    "        self.model = model\n",
    "        self.year = year\n",
    "        \n",
    "    def dreamCar(self):\n",
    "        print(\"My dream car is a \" + self.make + ' ' + self.model +' built in ' + self.year + '.')\n",
    "        \n",
    "\n",
    "myCar = Car(\"Honda\", \"CRV\", \"2022\") \n",
    "myCar.dreamCar()\n",
    "dir(myCar)\n"
   ]
  },
  {
   "cell_type": "markdown",
   "metadata": {},
   "source": [
    "20. Create a class called `Dice` that accepts a single argument called `number_of_dice`. \n",
    "\n",
    "Create an instance method called `roll`. \n",
    "\n",
    "`roll` should randomly pick a number for each die when called and print the results as a list. \n",
    "\n",
    "Create an instance of `Dice`. Then call `roll()` on your instance.\n",
    "\n",
    "Hint: Inside your class create an empty list called `dice`."
   ]
  },
  {
   "cell_type": "code",
   "execution_count": 173,
   "metadata": {},
   "outputs": [
    {
     "name": "stdout",
     "output_type": "stream",
     "text": [
      "4\n"
     ]
    }
   ],
   "source": [
    "# Helpful starter code\n",
    "from random import randrange\n",
    "\n",
    "print(randrange(1,7)) # randomly generates a number between 1 and 6"
   ]
  },
  {
   "cell_type": "code",
   "execution_count": 230,
   "metadata": {},
   "outputs": [
    {
     "data": {
      "text/plain": [
       "[2, 1, 4, 2]"
      ]
     },
     "execution_count": 230,
     "metadata": {},
     "output_type": "execute_result"
    }
   ],
   "source": [
    "class Dice():\n",
    "    \n",
    "    def __init__(self, number_of_dice):\n",
    "        \n",
    "        self.number_of_dice = number_of_dice\n",
    "        \n",
    "    def roll(self):\n",
    "        roll_list =  []\n",
    "        for n in range(0, self.number_of_dice):\n",
    "            roll_list.append(randrange(1,7))\n",
    "        return roll_list\n",
    "            \n",
    "myDice = Dice(4)\n",
    "myDice.roll()"
   ]
  },
  {
   "cell_type": "markdown",
   "metadata": {},
   "source": [
    "Bonus(optional):\n",
    "\n",
    "0. Create a class of your choice.\n",
    "1. Give it instance variables and class variables. \n",
    "2. Give it a classmethod. \n",
    "3. Give it a regular method (instance method).\n",
    "4. Give it a static method. \n",
    "\n",
    "Show how each works by printing an example. "
   ]
  },
  {
   "cell_type": "code",
   "execution_count": 272,
   "metadata": {},
   "outputs": [],
   "source": [
    "class Instrument():\n",
    "    \n",
    "    numOfInstruments = 0\n",
    "    \n",
    "    def __init__(self, kind, memberOf, key = \"C\"):\n",
    "        self.kind = kind\n",
    "        self.memberOf = memberOf\n",
    "        self.key = key\n",
    "        \n",
    "        Instrument.numOfInstruments += 1\n",
    "        \n",
    "    def howManyInstruments():\n",
    "        return Instrument.numOfInstruments\n",
    "    \n",
    "    def aboutInstrument(self):\n",
    "        print(\"The \" + self.kind + \" is a member of the \" + self.memberOf + '.')\n",
    "        \n",
    "    def makeBrassInstrument(kind, key = \"B flat\"):\n",
    "        return Instrument(kind, \"brass\", key)\n",
    "\n",
    "    "
   ]
  },
  {
   "cell_type": "code",
   "execution_count": 273,
   "metadata": {},
   "outputs": [
    {
     "name": "stdout",
     "output_type": "stream",
     "text": [
      "2\n",
      "The trumpet is a member of the brass.\n"
     ]
    }
   ],
   "source": [
    "flute1 = Instrument(\"flute\", \"woodwinds\")\n",
    "trumpet1 = Instrument('trumpet', \"brass\", 'E flat')\n",
    "\n",
    "print(Instrument.howManyInstruments())\n",
    "trumpet1.aboutInstrument()"
   ]
  },
  {
   "cell_type": "code",
   "execution_count": 274,
   "metadata": {},
   "outputs": [
    {
     "name": "stdout",
     "output_type": "stream",
     "text": [
      "The tuba is a member of the brass.\n"
     ]
    }
   ],
   "source": [
    "tuba1 = Instrument.makeBrassInstrument(\"tuba\")\n",
    "tuba1.aboutInstrument()"
   ]
  },
  {
   "cell_type": "code",
   "execution_count": null,
   "metadata": {},
   "outputs": [],
   "source": []
  }
 ],
 "metadata": {
  "kernelspec": {
   "display_name": "Python 3",
   "language": "python",
   "name": "python3"
  },
  "language_info": {
   "codemirror_mode": {
    "name": "ipython",
    "version": 3
   },
   "file_extension": ".py",
   "mimetype": "text/x-python",
   "name": "python",
   "nbconvert_exporter": "python",
   "pygments_lexer": "ipython3",
   "version": "3.8.3"
  }
 },
 "nbformat": 4,
 "nbformat_minor": 4
}
