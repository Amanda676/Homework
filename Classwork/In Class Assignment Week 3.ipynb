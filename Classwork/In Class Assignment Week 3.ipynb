{
 "cells": [
  {
   "cell_type": "markdown",
   "id": "announced-subsection",
   "metadata": {},
   "source": [
    " Task\n",
    "Create a function that accepts two values, a and b. Add code to print three lines where:\n",
    "The first line contains the sum of the two numbers.\n",
    "The second line contains the difference of the two numbers (first - second). The third line contains the product of the two numbers.\n",
    "Conditions:\n",
    "If any of the results are zero, print “zero” as the result instead of 0\n",
    "Note: be sure to include useful info printed out, not just the result\n",
    "Example 0\n",
    "a=3 b=5\n",
    "Print the following:\n",
    "A+b=8 A - b = -2 A * b = 15\n",
    "Example 1\n",
    "a=3 b=3\n",
    "Print the following:\n",
    "A+b=6\n",
    "A - b = zero A*b=9\n"
   ]
  },
  {
   "cell_type": "code",
   "execution_count": 9,
   "id": "deluxe-calculation",
   "metadata": {},
   "outputs": [],
   "source": [
    "def task(a,b):\n",
    "    abSum = a+b\n",
    "    abDiff = a-b\n",
    "    abProd = a*b\n",
    "    if abSum == 0:\n",
    "        print(\"a+b = zero\")\n",
    "    else:\n",
    "        print(\"a+b =\", abSum)\n",
    "    if abDiff == 0:\n",
    "        print(\"a-b = zero\")\n",
    "    else:\n",
    "        print(\"a-b =\", abDiff)\n",
    "    if abProd == 0:\n",
    "        print(\"a*b = zero\")\n",
    "    else:\n",
    "        print(\"a*b =\", a*b)"
   ]
  },
  {
   "cell_type": "code",
   "execution_count": 11,
   "id": "national-district",
   "metadata": {},
   "outputs": [
    {
     "name": "stdout",
     "output_type": "stream",
     "text": [
      "a+b = 3\n",
      "a-b = 3\n",
      "a*b = zero\n"
     ]
    }
   ],
   "source": [
    "task(3, 0)"
   ]
  },
  {
   "cell_type": "code",
   "execution_count": null,
   "id": "automatic-crystal",
   "metadata": {},
   "outputs": [],
   "source": []
  }
 ],
 "metadata": {
  "kernelspec": {
   "display_name": "Python 3",
   "language": "python",
   "name": "python3"
  },
  "language_info": {
   "codemirror_mode": {
    "name": "ipython",
    "version": 3
   },
   "file_extension": ".py",
   "mimetype": "text/x-python",
   "name": "python",
   "nbconvert_exporter": "python",
   "pygments_lexer": "ipython3",
   "version": "3.8.3"
  }
 },
 "nbformat": 4,
 "nbformat_minor": 5
}
