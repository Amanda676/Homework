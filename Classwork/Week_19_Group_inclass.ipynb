{
 "cells": [
  {
   "cell_type": "markdown",
   "id": "altered-durham",
   "metadata": {},
   "source": [
    "1. Take one of the supervised learning models you have built recently and apply at least three dimensionality reduction techniques to it (separately). Be sure to create a short summary of each technique you use. Indicate how each changed the model performance. Reference: https://machinelearningmastery.com/dimensionality-reduction-algorithms-with-python/\n"
   ]
  },
  {
   "cell_type": "code",
   "execution_count": 1,
   "id": "helpful-adapter",
   "metadata": {},
   "outputs": [],
   "source": [
    "import numpy as np\n",
    "import pandas as pd\n",
    "from sklearn import metrics\n",
    "\n",
    "from sklearn.linear_model import LogisticRegression\n",
    "from sklearn.preprocessing import StandardScaler\n",
    "from sklearn.model_selection import train_test_split"
   ]
  },
  {
   "cell_type": "code",
   "execution_count": 2,
   "id": "ongoing-thomson",
   "metadata": {},
   "outputs": [
    {
     "data": {
      "text/html": [
       "<div>\n",
       "<style scoped>\n",
       "    .dataframe tbody tr th:only-of-type {\n",
       "        vertical-align: middle;\n",
       "    }\n",
       "\n",
       "    .dataframe tbody tr th {\n",
       "        vertical-align: top;\n",
       "    }\n",
       "\n",
       "    .dataframe thead th {\n",
       "        text-align: right;\n",
       "    }\n",
       "</style>\n",
       "<table border=\"1\" class=\"dataframe\">\n",
       "  <thead>\n",
       "    <tr style=\"text-align: right;\">\n",
       "      <th></th>\n",
       "      <th>Pregnancies</th>\n",
       "      <th>Glucose</th>\n",
       "      <th>BloodPressure</th>\n",
       "      <th>SkinThickness</th>\n",
       "      <th>Insulin</th>\n",
       "      <th>BMI</th>\n",
       "      <th>DiabetesPedigreeFunction</th>\n",
       "      <th>Age</th>\n",
       "      <th>Outcome</th>\n",
       "    </tr>\n",
       "  </thead>\n",
       "  <tbody>\n",
       "    <tr>\n",
       "      <th>0</th>\n",
       "      <td>6</td>\n",
       "      <td>148</td>\n",
       "      <td>72</td>\n",
       "      <td>35</td>\n",
       "      <td>0</td>\n",
       "      <td>33.6</td>\n",
       "      <td>0.627</td>\n",
       "      <td>50</td>\n",
       "      <td>1</td>\n",
       "    </tr>\n",
       "    <tr>\n",
       "      <th>1</th>\n",
       "      <td>1</td>\n",
       "      <td>85</td>\n",
       "      <td>66</td>\n",
       "      <td>29</td>\n",
       "      <td>0</td>\n",
       "      <td>26.6</td>\n",
       "      <td>0.351</td>\n",
       "      <td>31</td>\n",
       "      <td>0</td>\n",
       "    </tr>\n",
       "    <tr>\n",
       "      <th>2</th>\n",
       "      <td>8</td>\n",
       "      <td>183</td>\n",
       "      <td>64</td>\n",
       "      <td>0</td>\n",
       "      <td>0</td>\n",
       "      <td>23.3</td>\n",
       "      <td>0.672</td>\n",
       "      <td>32</td>\n",
       "      <td>1</td>\n",
       "    </tr>\n",
       "    <tr>\n",
       "      <th>3</th>\n",
       "      <td>1</td>\n",
       "      <td>89</td>\n",
       "      <td>66</td>\n",
       "      <td>23</td>\n",
       "      <td>94</td>\n",
       "      <td>28.1</td>\n",
       "      <td>0.167</td>\n",
       "      <td>21</td>\n",
       "      <td>0</td>\n",
       "    </tr>\n",
       "    <tr>\n",
       "      <th>4</th>\n",
       "      <td>0</td>\n",
       "      <td>137</td>\n",
       "      <td>40</td>\n",
       "      <td>35</td>\n",
       "      <td>168</td>\n",
       "      <td>43.1</td>\n",
       "      <td>2.288</td>\n",
       "      <td>33</td>\n",
       "      <td>1</td>\n",
       "    </tr>\n",
       "  </tbody>\n",
       "</table>\n",
       "</div>"
      ],
      "text/plain": [
       "   Pregnancies  Glucose  BloodPressure  SkinThickness  Insulin   BMI  \\\n",
       "0            6      148             72             35        0  33.6   \n",
       "1            1       85             66             29        0  26.6   \n",
       "2            8      183             64              0        0  23.3   \n",
       "3            1       89             66             23       94  28.1   \n",
       "4            0      137             40             35      168  43.1   \n",
       "\n",
       "   DiabetesPedigreeFunction  Age  Outcome  \n",
       "0                     0.627   50        1  \n",
       "1                     0.351   31        0  \n",
       "2                     0.672   32        1  \n",
       "3                     0.167   21        0  \n",
       "4                     2.288   33        1  "
      ]
     },
     "execution_count": 2,
     "metadata": {},
     "output_type": "execute_result"
    }
   ],
   "source": [
    "diabetes_df = pd.read_csv(\"diabetes.csv\")\n",
    "diabetes_df.head()"
   ]
  },
  {
   "cell_type": "code",
   "execution_count": 3,
   "id": "stupid-charger",
   "metadata": {},
   "outputs": [],
   "source": [
    "# Create feature and target arrays\n",
    "X = diabetes_df.drop('Outcome', axis=1)\n",
    "y = diabetes_df['Outcome']\n",
    "\n",
    "# Split into training and test set\n",
    "X_train, X_test, y_train, y_test = train_test_split(X, y, test_size = 0.3, random_state=42, stratify=y)\n",
    "\n",
    "#Standardize\n",
    "sc= StandardScaler()\n",
    "X_train=sc.fit_transform(X_train)\n",
    "X_test=sc.fit_transform(X_test)"
   ]
  },
  {
   "cell_type": "markdown",
   "id": "strategic-valve",
   "metadata": {},
   "source": [
    "#### Logistic Regression Baseline, no dimensionality reduction "
   ]
  },
  {
   "cell_type": "code",
   "execution_count": 4,
   "id": "amino-session",
   "metadata": {},
   "outputs": [
    {
     "name": "stdout",
     "output_type": "stream",
     "text": [
      "test accuracy: 0.7359307359307359\n",
      "train accuracy: 0.7877094972067039\n"
     ]
    }
   ],
   "source": [
    "# Logistic Regression\n",
    "clr = LogisticRegression(random_state=42).fit(X_train, y_train)\n",
    "\n",
    "#predict\n",
    "y_predicted= clr.predict(X_test)\n",
    "\n",
    "# Print the accuracy\n",
    "print(\"test accuracy: \" + str(clr.score(X_test, y_test)))\n",
    "\n",
    "# Print the accuracy\n",
    "print(\"train accuracy: \" + str(clr.score(X_train, y_train)))"
   ]
  },
  {
   "cell_type": "markdown",
   "id": "willing-nylon",
   "metadata": {},
   "source": [
    "#### Apply PCA\n",
    "\n",
    "Principle Component Analysis is a linear reduction trying to get to features that explain the most variance. It reduced the features to a number specified creating new features.  Helps reduce features that may be redundant.\n",
    "\n",
    "Worse results with Logistic Regression"
   ]
  },
  {
   "cell_type": "code",
   "execution_count": 5,
   "id": "brown-indian",
   "metadata": {},
   "outputs": [],
   "source": [
    "from sklearn.decomposition import PCA\n",
    "\n",
    "pca = PCA(n_components=4)\n",
    "\n",
    "X_train = pca.fit_transform(X_train)\n",
    "X_test = pca.fit_transform(X_test)"
   ]
  },
  {
   "cell_type": "code",
   "execution_count": 6,
   "id": "white-progressive",
   "metadata": {},
   "outputs": [
    {
     "name": "stdout",
     "output_type": "stream",
     "text": [
      "[0.2711249  0.22544964 0.1193502  0.11548948]\n"
     ]
    }
   ],
   "source": [
    "print(pca.explained_variance_ratio_)"
   ]
  },
  {
   "cell_type": "code",
   "execution_count": 7,
   "id": "divided-henry",
   "metadata": {},
   "outputs": [
    {
     "name": "stdout",
     "output_type": "stream",
     "text": [
      "test accuracy: 0.5367965367965368\n",
      "train accuracy: 0.7243947858472998\n"
     ]
    }
   ],
   "source": [
    "# Logistic Regression\n",
    "clr = LogisticRegression(random_state=42).fit(X_train, y_train)\n",
    "\n",
    "#predict\n",
    "y_predicted= clr.predict(X_test)\n",
    "\n",
    "# Print the accuracy\n",
    "print(\"test accuracy: \" + str(clr.score(X_test, y_test)))\n",
    "\n",
    "# Print the accuracy\n",
    "print(\"train accuracy: \" + str(clr.score(X_train, y_train)))"
   ]
  },
  {
   "cell_type": "code",
   "execution_count": 8,
   "id": "smooth-petite",
   "metadata": {},
   "outputs": [
    {
     "data": {
      "text/plain": [
       "<sklearn.metrics._plot.confusion_matrix.ConfusionMatrixDisplay at 0x119693fa0>"
      ]
     },
     "execution_count": 8,
     "metadata": {},
     "output_type": "execute_result"
    },
    {
     "data": {
      "image/png": "[encoded data removed]",
      "text/plain": [
       "<Figure size 432x288 with 2 Axes>"
      ]
     },
     "metadata": {
      "needs_background": "light"
     },
     "output_type": "display_data"
    }
   ],
   "source": [
    "from sklearn.metrics import confusion_matrix, plot_confusion_matrix,classification_report\n",
    "plot_confusion_matrix(clr, X_test, y_test)"
   ]
  },
  {
   "cell_type": "markdown",
   "id": "stuck-display",
   "metadata": {},
   "source": [
    "#### Apply Truncated SVD\n",
    "\n",
    "Singular Value Decomposition works best for sparse data and is a linear technique.  Can be used with one hot encoding (because that intoduces zeros).\n",
    "\n",
    "Reducing data in this model is not necessarily producing better results."
   ]
  },
  {
   "cell_type": "code",
   "execution_count": 9,
   "id": "initial-injection",
   "metadata": {},
   "outputs": [],
   "source": [
    "# Split into training and test set\n",
    "X_train, X_test, y_train, y_test = train_test_split(X, y, test_size = 0.3, random_state=42, stratify=y)\n",
    "\n",
    "#Standardize\n",
    "sc= StandardScaler()\n",
    "X_train=sc.fit_transform(X_train)\n",
    "X_test=sc.fit_transform(X_test)"
   ]
  },
  {
   "cell_type": "code",
   "execution_count": 10,
   "id": "fixed-grain",
   "metadata": {},
   "outputs": [
    {
     "name": "stdout",
     "output_type": "stream",
     "text": [
      "[0.2711249  0.22544964 0.1193502  0.11548948 0.08741379 0.07930846]\n"
     ]
    }
   ],
   "source": [
    "from sklearn.decomposition import TruncatedSVD\n",
    "\n",
    "svd = TruncatedSVD(n_components=6)\n",
    "\n",
    "X_train=svd.fit_transform(X_train)\n",
    "X_test=svd.fit_transform(X_test)\n",
    "\n",
    "print(svd.explained_variance_ratio_)"
   ]
  },
  {
   "cell_type": "code",
   "execution_count": 11,
   "id": "substantial-analysis",
   "metadata": {},
   "outputs": [
    {
     "name": "stdout",
     "output_type": "stream",
     "text": [
      "test accuracy: 0.5800865800865801\n",
      "train accuracy: 0.7877094972067039\n"
     ]
    }
   ],
   "source": [
    "# Logistic Regression\n",
    "clr = LogisticRegression(random_state=42).fit(X_train, y_train)\n",
    "\n",
    "#predict\n",
    "y_predicted= clr.predict(X_test)\n",
    "\n",
    "# Print the accuracy\n",
    "print(\"test accuracy: \" + str(clr.score(X_test, y_test)))\n",
    "\n",
    "# Print the accuracy\n",
    "print(\"train accuracy: \" + str(clr.score(X_train, y_train)))"
   ]
  },
  {
   "cell_type": "code",
   "execution_count": 12,
   "id": "terminal-shuttle",
   "metadata": {},
   "outputs": [
    {
     "data": {
      "text/plain": [
       "<sklearn.metrics._plot.confusion_matrix.ConfusionMatrixDisplay at 0x11bcd4940>"
      ]
     },
     "execution_count": 12,
     "metadata": {},
     "output_type": "execute_result"
    },
    {
     "data": {
      "image/png": "[encoded data removed]",
      "text/plain": [
       "<Figure size 432x288 with 2 Axes>"
      ]
     },
     "metadata": {
      "needs_background": "light"
     },
     "output_type": "display_data"
    }
   ],
   "source": [
    "from sklearn.metrics import confusion_matrix, plot_confusion_matrix,classification_report\n",
    "plot_confusion_matrix(clr, X_test, y_test)"
   ]
  },
  {
   "cell_type": "markdown",
   "id": "equivalent-framework",
   "metadata": {},
   "source": [
    "### Apply Isomap\n",
    "\n",
    "Isomap is a nonlinear reduction techinique that attempts to preserve relationships in the data.   It's like a projection of the data into fewer dimensions (features).\n",
    "\n",
    "This did not improve performance."
   ]
  },
  {
   "cell_type": "code",
   "execution_count": 13,
   "id": "proof-northeast",
   "metadata": {},
   "outputs": [],
   "source": [
    "from sklearn.manifold import Isomap\n",
    "#from sklearn.datasets import load_digits"
   ]
  },
  {
   "cell_type": "code",
   "execution_count": 14,
   "id": "laden-camel",
   "metadata": {},
   "outputs": [],
   "source": [
    "# Split into training and test set\n",
    "X_train, X_test, y_train, y_test = train_test_split(X, y, test_size = 0.3, random_state=42, stratify=y)\n",
    "\n",
    "#Standardize\n",
    "sc= StandardScaler()\n",
    "X_train=sc.fit_transform(X_train)\n",
    "X_test=sc.fit_transform(X_test)"
   ]
  },
  {
   "cell_type": "code",
   "execution_count": 15,
   "id": "eligible-repository",
   "metadata": {},
   "outputs": [],
   "source": [
    "iso = Isomap( n_neighbors=5, n_components=3)\n",
    "X_train = iso.fit_transform(X_train)\n",
    "X_test = iso.fit_transform(X_test)"
   ]
  },
  {
   "cell_type": "code",
   "execution_count": 16,
   "id": "major-garlic",
   "metadata": {},
   "outputs": [
    {
     "data": {
      "text/plain": [
       "array([[ 0.        ,  5.178584  ,  4.70770278, ...,  6.34474097,\n",
       "         9.75064964,  2.89987572],\n",
       "       [ 5.178584  ,  0.        ,  7.37436227, ...,  9.01140046,\n",
       "        11.099742  ,  2.67261042],\n",
       "       [ 4.70770278,  7.37436227,  0.        , ...,  3.32570965,\n",
       "         8.85031348,  5.86857793],\n",
       "       ...,\n",
       "       [ 6.34474097,  9.01140046,  3.32570965, ...,  0.        ,\n",
       "        10.03725742,  7.50850079],\n",
       "       [ 9.75064964, 11.099742  ,  8.85031348, ..., 10.03725742,\n",
       "         0.        , 10.30088893],\n",
       "       [ 2.89987572,  2.67261042,  5.86857793, ...,  7.50850079,\n",
       "        10.30088893,  0.        ]])"
      ]
     },
     "execution_count": 16,
     "metadata": {},
     "output_type": "execute_result"
    }
   ],
   "source": [
    "iso.dist_matrix_"
   ]
  },
  {
   "cell_type": "code",
   "execution_count": 17,
   "id": "generous-alaska",
   "metadata": {},
   "outputs": [
    {
     "data": {
      "text/plain": [
       "(231, 231)"
      ]
     },
     "execution_count": 17,
     "metadata": {},
     "output_type": "execute_result"
    }
   ],
   "source": [
    "iso.dist_matrix_.shape"
   ]
  },
  {
   "cell_type": "code",
   "execution_count": 18,
   "id": "remarkable-fortune",
   "metadata": {},
   "outputs": [
    {
     "name": "stdout",
     "output_type": "stream",
     "text": [
      "test accuracy: 0.6536796536796536\n",
      "train accuracy: 0.6871508379888268\n"
     ]
    }
   ],
   "source": [
    "# Logistic Regression\n",
    "clr = LogisticRegression(random_state=42).fit(X_train, y_train)\n",
    "\n",
    "#predict\n",
    "y_predicted= clr.predict(X_test)\n",
    "\n",
    "# Print the accuracy\n",
    "print(\"test accuracy: \" + str(clr.score(X_test, y_test)))\n",
    "\n",
    "# Print the accuracy\n",
    "print(\"train accuracy: \" + str(clr.score(X_train, y_train)))"
   ]
  },
  {
   "cell_type": "code",
   "execution_count": 19,
   "id": "polished-sister",
   "metadata": {},
   "outputs": [
    {
     "data": {
      "text/plain": [
       "<sklearn.metrics._plot.confusion_matrix.ConfusionMatrixDisplay at 0x11c00c880>"
      ]
     },
     "execution_count": 19,
     "metadata": {},
     "output_type": "execute_result"
    },
    {
     "data": {
      "image/png": "[encoded data removed]",
      "text/plain": [
       "<Figure size 432x288 with 2 Axes>"
      ]
     },
     "metadata": {
      "needs_background": "light"
     },
     "output_type": "display_data"
    }
   ],
   "source": [
    "from sklearn.metrics import confusion_matrix, plot_confusion_matrix,classification_report\n",
    "plot_confusion_matrix(clr, X_test, y_test)"
   ]
  },
  {
   "cell_type": "markdown",
   "id": "northern-terrain",
   "metadata": {},
   "source": [
    "#### None of the dimesionality reduction techiniques improved the results from the diabetes data set."
   ]
  },
  {
   "cell_type": "markdown",
   "id": "successful-geneva",
   "metadata": {},
   "source": [
    "\n",
    "2. Write a function that will indicate if an inputted IPv4 address is accurate or not.\n",
    "IP addresses are valid if they have 4 values between 0 and 255 (inclusive), punctuated by periods."
   ]
  },
  {
   "cell_type": "code",
   "execution_count": 20,
   "id": "miniature-partnership",
   "metadata": {},
   "outputs": [],
   "source": [
    "def ipv4_check(ipv4):\n",
    "    # returns boolean\n",
    "    # True if string is an IPv4 address\n",
    "    # False if string does not conform\n",
    "    if ipv4.count('.') != 3:\n",
    "        return False\n",
    "    check_list = ipv4.split('.')\n",
    "    for num_str in check_list:\n",
    "        num = int(num_str)\n",
    "        if num > 255 or num < 0:\n",
    "            return False  \n",
    "    return True"
   ]
  },
  {
   "cell_type": "code",
   "execution_count": 21,
   "id": "endangered-private",
   "metadata": {},
   "outputs": [],
   "source": [
    "ipv4 = '255.234.89.0'"
   ]
  },
  {
   "cell_type": "code",
   "execution_count": 22,
   "id": "serial-bearing",
   "metadata": {},
   "outputs": [
    {
     "data": {
      "text/plain": [
       "True"
      ]
     },
     "execution_count": 22,
     "metadata": {},
     "output_type": "execute_result"
    }
   ],
   "source": [
    "ipv4_check(ipv4)"
   ]
  },
  {
   "cell_type": "code",
   "execution_count": 23,
   "id": "afraid-fundamentals",
   "metadata": {},
   "outputs": [
    {
     "data": {
      "text/plain": [
       "True"
      ]
     },
     "execution_count": 23,
     "metadata": {},
     "output_type": "execute_result"
    }
   ],
   "source": [
    "ipv4_check('2.33.245.5')"
   ]
  },
  {
   "cell_type": "code",
   "execution_count": 24,
   "id": "subtle-input",
   "metadata": {},
   "outputs": [
    {
     "data": {
      "text/plain": [
       "False"
      ]
     },
     "execution_count": 24,
     "metadata": {},
     "output_type": "execute_result"
    }
   ],
   "source": [
    "ipv4_check('12.345.67.89')"
   ]
  },
  {
   "cell_type": "code",
   "execution_count": 25,
   "id": "proprietary-double",
   "metadata": {},
   "outputs": [],
   "source": [
    "# with list comprehension\n",
    "def ipv4_check2(ipv4):\n",
    "    if ipv4.count('.') != 3:\n",
    "        return False\n",
    "    check_list = [int(x) for x in ipv4.split('.')]\n",
    "    for num in check_list:\n",
    "        if num > 255 or num < 0:\n",
    "            return False  \n",
    "    return True\n"
   ]
  },
  {
   "cell_type": "code",
   "execution_count": 26,
   "id": "fabulous-tobago",
   "metadata": {},
   "outputs": [
    {
     "data": {
      "text/plain": [
       "True"
      ]
     },
     "execution_count": 26,
     "metadata": {},
     "output_type": "execute_result"
    }
   ],
   "source": [
    "ipv4_check2('2.33.245.5')"
   ]
  },
  {
   "cell_type": "code",
   "execution_count": 27,
   "id": "continental-picking",
   "metadata": {},
   "outputs": [
    {
     "data": {
      "text/plain": [
       "False"
      ]
     },
     "execution_count": 27,
     "metadata": {},
     "output_type": "execute_result"
    }
   ],
   "source": [
    "ipv4_check2('12.345.67.89')"
   ]
  },
  {
   "cell_type": "code",
   "execution_count": null,
   "id": "leading-package",
   "metadata": {},
   "outputs": [],
   "source": []
  }
 ],
 "metadata": {
  "kernelspec": {
   "display_name": "Python 3",
   "language": "python",
   "name": "python3"
  },
  "language_info": {
   "codemirror_mode": {
    "name": "ipython",
    "version": 3
   },
   "file_extension": ".py",
   "mimetype": "text/x-python",
   "name": "python",
   "nbconvert_exporter": "python",
   "pygments_lexer": "ipython3",
   "version": "3.8.2"
  }
 },
 "nbformat": 4,
 "nbformat_minor": 5
}
