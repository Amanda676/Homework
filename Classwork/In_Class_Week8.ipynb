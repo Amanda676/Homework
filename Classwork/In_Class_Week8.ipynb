{
 "cells": [
  {
   "cell_type": "code",
   "execution_count": 1,
   "id": "aging-alignment",
   "metadata": {},
   "outputs": [],
   "source": [
    "import numpy as np\n",
    "import pandas as pd\n",
    "\n",
    "import matplotlib.pyplot as plt\n",
    "\n",
    "import math\n",
    "import statistics\n",
    "from scipy import stats"
   ]
  },
  {
   "cell_type": "code",
   "execution_count": 2,
   "id": "completed-boating",
   "metadata": {},
   "outputs": [],
   "source": [
    "belize_listings_path = \"belize_airbnb_listings.csv\"\n",
    "belize_df = pd.read_csv(belize_listings_path)\n",
    "#belize_df.head()"
   ]
  },
  {
   "cell_type": "markdown",
   "id": "massive-exposure",
   "metadata": {},
   "source": [
    "# Arithmetic mean\n",
    "\n",
    "mean = sum(values)/number of values\n",
    "\n",
    "the average of a set of numerical values, calculated by adding them together and dividing by the number of terms in the set.\n"
   ]
  },
  {
   "cell_type": "code",
   "execution_count": 3,
   "id": "explicit-contributor",
   "metadata": {},
   "outputs": [
    {
     "data": {
      "text/plain": [
       "price    357.102289\n",
       "dtype: float64"
      ]
     },
     "execution_count": 3,
     "metadata": {},
     "output_type": "execute_result"
    }
   ],
   "source": [
    "belize_df[['price']].mean()"
   ]
  },
  {
   "cell_type": "markdown",
   "id": "talented-fitting",
   "metadata": {},
   "source": [
    "# Geometric \n",
    "\n",
    "= nth root (where n is the number of numbers) of the product of each number multiplied (a*b*c....n)\n",
    "\n",
    "used in possibly year over year growth\n"
   ]
  },
  {
   "cell_type": "code",
   "execution_count": 4,
   "id": "instant-flood",
   "metadata": {},
   "outputs": [
    {
     "data": {
      "text/plain": [
       "234.7347175108817"
      ]
     },
     "execution_count": 4,
     "metadata": {},
     "output_type": "execute_result"
    }
   ],
   "source": [
    "stats.gmean(belize_df['price'])"
   ]
  },
  {
   "cell_type": "markdown",
   "id": "directed-doubt",
   "metadata": {},
   "source": [
    "# Harmonic mean\n",
    "\n",
    " = the reciprocal of the average of the reciprocals\n",
    "    \n",
    "reciprocal of n is 1/n\n",
    "\n",
    "ex. where n is the number of numbers\n",
    "\n",
    "= n/(1/a +1/b +1/c....1/n)\n",
    "\n",
    "used in finance?  gives equal weight to every data point\n",
    "like in a price to earnings ratio"
   ]
  },
  {
   "cell_type": "code",
   "execution_count": 5,
   "id": "black-riverside",
   "metadata": {},
   "outputs": [
    {
     "data": {
      "text/plain": [
       "170.99338501026463"
      ]
     },
     "execution_count": 5,
     "metadata": {},
     "output_type": "execute_result"
    }
   ],
   "source": [
    "stats.hmean(belize_df['price'])"
   ]
  }
 ],
 "metadata": {
  "kernelspec": {
   "display_name": "Python 3",
   "language": "python",
   "name": "python3"
  },
  "language_info": {
   "codemirror_mode": {
    "name": "ipython",
    "version": 3
   },
   "file_extension": ".py",
   "mimetype": "text/x-python",
   "name": "python",
   "nbconvert_exporter": "python",
   "pygments_lexer": "ipython3",
   "version": "3.8.3"
  }
 },
 "nbformat": 4,
 "nbformat_minor": 5
}
