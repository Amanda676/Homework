{
 "cells": [
  {
   "cell_type": "code",
   "execution_count": 27,
   "id": "operating-green",
   "metadata": {},
   "outputs": [],
   "source": [
    "#\n",
    "\n",
    "def digitArrange(n = 111111):\n",
    "    #n is a non negative integer\n",
    "    n = str(n)\n",
    "    n = sorted(n, reverse = True)\n",
    "    result = ''\n",
    "    for i in n:\n",
    "        result += i\n",
    "    return int(result)\n",
    "    "
   ]
  },
  {
   "cell_type": "code",
   "execution_count": 28,
   "id": "assumed-chassis",
   "metadata": {},
   "outputs": [
    {
     "data": {
      "text/plain": [
       "111111"
      ]
     },
     "execution_count": 28,
     "metadata": {},
     "output_type": "execute_result"
    }
   ],
   "source": [
    "digitArrange()"
   ]
  },
  {
   "cell_type": "code",
   "execution_count": 29,
   "id": "opposed-universe",
   "metadata": {},
   "outputs": [
    {
     "data": {
      "text/plain": [
       "866543"
      ]
     },
     "execution_count": 29,
     "metadata": {},
     "output_type": "execute_result"
    }
   ],
   "source": [
    "digitArrange(584366)"
   ]
  },
  {
   "cell_type": "code",
   "execution_count": 32,
   "id": "united-detective",
   "metadata": {},
   "outputs": [],
   "source": [
    "import pandas as pd\n",
    "import numpy as np\n",
    "\n",
    "file_to_load = 'JEOPARDY_CSV.csv'\n",
    "\n",
    "jeopardy_df = pd.read_csv(file_to_load)"
   ]
  },
  {
   "cell_type": "code",
   "execution_count": 33,
   "id": "convenient-selection",
   "metadata": {},
   "outputs": [
    {
     "data": {
      "text/html": [
       "<div>\n",
       "<style scoped>\n",
       "    .dataframe tbody tr th:only-of-type {\n",
       "        vertical-align: middle;\n",
       "    }\n",
       "\n",
       "    .dataframe tbody tr th {\n",
       "        vertical-align: top;\n",
       "    }\n",
       "\n",
       "    .dataframe thead th {\n",
       "        text-align: right;\n",
       "    }\n",
       "</style>\n",
       "<table border=\"1\" class=\"dataframe\">\n",
       "  <thead>\n",
       "    <tr style=\"text-align: right;\">\n",
       "      <th></th>\n",
       "      <th>Show Number</th>\n",
       "      <th>Air Date</th>\n",
       "      <th>Round</th>\n",
       "      <th>Category</th>\n",
       "      <th>Value</th>\n",
       "      <th>Question</th>\n",
       "      <th>Answer</th>\n",
       "    </tr>\n",
       "  </thead>\n",
       "  <tbody>\n",
       "    <tr>\n",
       "      <th>0</th>\n",
       "      <td>4680</td>\n",
       "      <td>12/31/2004</td>\n",
       "      <td>Jeopardy!</td>\n",
       "      <td>HISTORY</td>\n",
       "      <td>$200</td>\n",
       "      <td>For the last 8 years of his life, Galileo was ...</td>\n",
       "      <td>Copernicus</td>\n",
       "    </tr>\n",
       "    <tr>\n",
       "      <th>1</th>\n",
       "      <td>4680</td>\n",
       "      <td>12/31/2004</td>\n",
       "      <td>Jeopardy!</td>\n",
       "      <td>ESPN's TOP 10 ALL-TIME ATHLETES</td>\n",
       "      <td>$200</td>\n",
       "      <td>No. 2: 1912 Olympian; football star at Carlisl...</td>\n",
       "      <td>Jim Thorpe</td>\n",
       "    </tr>\n",
       "    <tr>\n",
       "      <th>2</th>\n",
       "      <td>4680</td>\n",
       "      <td>12/31/2004</td>\n",
       "      <td>Jeopardy!</td>\n",
       "      <td>EVERYBODY TALKS ABOUT IT...</td>\n",
       "      <td>$200</td>\n",
       "      <td>The city of Yuma in this state has a record av...</td>\n",
       "      <td>Arizona</td>\n",
       "    </tr>\n",
       "    <tr>\n",
       "      <th>3</th>\n",
       "      <td>4680</td>\n",
       "      <td>12/31/2004</td>\n",
       "      <td>Jeopardy!</td>\n",
       "      <td>THE COMPANY LINE</td>\n",
       "      <td>$200</td>\n",
       "      <td>In 1963, live on \"The Art Linkletter Show\", th...</td>\n",
       "      <td>McDonald's</td>\n",
       "    </tr>\n",
       "    <tr>\n",
       "      <th>4</th>\n",
       "      <td>4680</td>\n",
       "      <td>12/31/2004</td>\n",
       "      <td>Jeopardy!</td>\n",
       "      <td>EPITAPHS &amp; TRIBUTES</td>\n",
       "      <td>$200</td>\n",
       "      <td>Signer of the Dec. of Indep., framer of the Co...</td>\n",
       "      <td>John Adams</td>\n",
       "    </tr>\n",
       "  </tbody>\n",
       "</table>\n",
       "</div>"
      ],
      "text/plain": [
       "   Show Number    Air Date      Round                         Category  Value  \\\n",
       "0         4680  12/31/2004  Jeopardy!                          HISTORY  $200    \n",
       "1         4680  12/31/2004  Jeopardy!  ESPN's TOP 10 ALL-TIME ATHLETES  $200    \n",
       "2         4680  12/31/2004  Jeopardy!      EVERYBODY TALKS ABOUT IT...  $200    \n",
       "3         4680  12/31/2004  Jeopardy!                 THE COMPANY LINE  $200    \n",
       "4         4680  12/31/2004  Jeopardy!              EPITAPHS & TRIBUTES  $200    \n",
       "\n",
       "                                            Question      Answer  \n",
       "0  For the last 8 years of his life, Galileo was ...  Copernicus  \n",
       "1  No. 2: 1912 Olympian; football star at Carlisl...  Jim Thorpe  \n",
       "2  The city of Yuma in this state has a record av...     Arizona  \n",
       "3  In 1963, live on \"The Art Linkletter Show\", th...  McDonald's  \n",
       "4  Signer of the Dec. of Indep., framer of the Co...  John Adams  "
      ]
     },
     "execution_count": 33,
     "metadata": {},
     "output_type": "execute_result"
    }
   ],
   "source": [
    "jeopardy_df.head()"
   ]
  },
  {
   "cell_type": "code",
   "execution_count": 41,
   "id": "traditional-activation",
   "metadata": {},
   "outputs": [
    {
     "data": {
      "text/html": [
       "<div>\n",
       "<style scoped>\n",
       "    .dataframe tbody tr th:only-of-type {\n",
       "        vertical-align: middle;\n",
       "    }\n",
       "\n",
       "    .dataframe tbody tr th {\n",
       "        vertical-align: top;\n",
       "    }\n",
       "\n",
       "    .dataframe thead th {\n",
       "        text-align: right;\n",
       "    }\n",
       "</style>\n",
       "<table border=\"1\" class=\"dataframe\">\n",
       "  <thead>\n",
       "    <tr style=\"text-align: right;\">\n",
       "      <th></th>\n",
       "      <th>Show Number</th>\n",
       "    </tr>\n",
       "  </thead>\n",
       "  <tbody>\n",
       "    <tr>\n",
       "      <th>count</th>\n",
       "      <td>216930.000000</td>\n",
       "    </tr>\n",
       "    <tr>\n",
       "      <th>mean</th>\n",
       "      <td>4264.238519</td>\n",
       "    </tr>\n",
       "    <tr>\n",
       "      <th>std</th>\n",
       "      <td>1386.296335</td>\n",
       "    </tr>\n",
       "    <tr>\n",
       "      <th>min</th>\n",
       "      <td>1.000000</td>\n",
       "    </tr>\n",
       "    <tr>\n",
       "      <th>25%</th>\n",
       "      <td>3349.000000</td>\n",
       "    </tr>\n",
       "    <tr>\n",
       "      <th>50%</th>\n",
       "      <td>4490.000000</td>\n",
       "    </tr>\n",
       "    <tr>\n",
       "      <th>75%</th>\n",
       "      <td>5393.000000</td>\n",
       "    </tr>\n",
       "    <tr>\n",
       "      <th>max</th>\n",
       "      <td>6300.000000</td>\n",
       "    </tr>\n",
       "  </tbody>\n",
       "</table>\n",
       "</div>"
      ],
      "text/plain": [
       "         Show Number\n",
       "count  216930.000000\n",
       "mean     4264.238519\n",
       "std      1386.296335\n",
       "min         1.000000\n",
       "25%      3349.000000\n",
       "50%      4490.000000\n",
       "75%      5393.000000\n",
       "max      6300.000000"
      ]
     },
     "execution_count": 41,
     "metadata": {},
     "output_type": "execute_result"
    }
   ],
   "source": [
    "jeopardy_df.describe()"
   ]
  },
  {
   "cell_type": "markdown",
   "id": "cheap-crown",
   "metadata": {},
   "source": [
    "2a. There are 216,930 rows.  Each row represents a jeopardy question, answer, and other information."
   ]
  },
  {
   "cell_type": "code",
   "execution_count": 60,
   "id": "potential-makeup",
   "metadata": {},
   "outputs": [
    {
     "data": {
      "text/plain": [
       "Index(['Show Number', 'Air Date', 'Round', 'Category', 'Value', 'Question',\n",
       "       'Answer', 'Year'],\n",
       "      dtype='object')"
      ]
     },
     "execution_count": 60,
     "metadata": {},
     "output_type": "execute_result"
    }
   ],
   "source": [
    "jeopardy_df.columns = jeopardy_df.columns.str.rstrip()\n",
    "jeopardy_df.columns = jeopardy_df.columns.str.lstrip()\n",
    "\n",
    "jeopardy_df.columns"
   ]
  },
  {
   "cell_type": "code",
   "execution_count": 65,
   "id": "incorporated-married",
   "metadata": {},
   "outputs": [
    {
     "name": "stdout",
     "output_type": "stream",
     "text": [
      "Year\n",
      "1984     23\n",
      "1985     16\n",
      "1986     25\n",
      "1987     22\n",
      "1988     22\n",
      "1989     36\n",
      "1990     73\n",
      "1991     24\n",
      "1992     32\n",
      "1993     35\n",
      "1994     19\n",
      "1995     19\n",
      "1996     83\n",
      "1997    221\n",
      "1998    223\n",
      "1999    229\n",
      "2000    225\n",
      "2001    203\n",
      "2002    114\n",
      "2003    158\n",
      "2004    220\n",
      "2005    225\n",
      "2006    230\n",
      "2007    231\n",
      "2008    232\n",
      "2009    226\n",
      "2010    231\n",
      "2011    224\n",
      "2012     19\n",
      "Name: Show Number, dtype: int64\n"
     ]
    }
   ],
   "source": [
    "jeopardy_df['Year'] = pd.DatetimeIndex(jeopardy_df['Air Date']).year\n",
    "\n",
    "#print(jeopardy_df.head())\n",
    "\n",
    "unique_shows_per_year = jeopardy_df.groupby('Year')['Show Number'].nunique()\n",
    "print(unique_shows_per_year)"
   ]
  },
  {
   "cell_type": "markdown",
   "id": "numerical-chess",
   "metadata": {},
   "source": [
    "2b. See above output."
   ]
  },
  {
   "cell_type": "code",
   "execution_count": 72,
   "id": "specialized-bulgarian",
   "metadata": {},
   "outputs": [
    {
     "data": {
      "text/plain": [
       "0        $200 \n",
       "1        $200 \n",
       "2        $200 \n",
       "3        $200 \n",
       "4        $200 \n",
       "         ...  \n",
       "13726    $100 \n",
       "13727    $100 \n",
       "13728    $100 \n",
       "13729    $100 \n",
       "13730    $100 \n",
       "Name: Value, Length: 145, dtype: object"
      ]
     },
     "execution_count": 72,
     "metadata": {},
     "output_type": "execute_result"
    }
   ],
   "source": [
    "values = jeopardy_df.groupby('Year')['Value']\n",
    "values.head()\n",
    "\n",
    "#I could try to strip out the '$' and convert to an int, but it's late...."
   ]
  },
  {
   "cell_type": "code",
   "execution_count": null,
   "id": "fitted-actor",
   "metadata": {},
   "outputs": [],
   "source": []
  }
 ],
 "metadata": {
  "kernelspec": {
   "display_name": "Python 3",
   "language": "python",
   "name": "python3"
  },
  "language_info": {
   "codemirror_mode": {
    "name": "ipython",
    "version": 3
   },
   "file_extension": ".py",
   "mimetype": "text/x-python",
   "name": "python",
   "nbconvert_exporter": "python",
   "pygments_lexer": "ipython3",
   "version": "3.8.3"
  }
 },
 "nbformat": 4,
 "nbformat_minor": 5
}
