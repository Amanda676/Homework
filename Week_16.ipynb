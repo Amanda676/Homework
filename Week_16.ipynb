{
 "cells": [
  {
   "cell_type": "markdown",
   "id": "enabling-ethernet",
   "metadata": {},
   "source": [
    "# Week 16"
   ]
  },
  {
   "cell_type": "markdown",
   "id": "earlier-feature",
   "metadata": {},
   "source": [
    "### 1.\tPerform combined over and undersampling on the diabetes dataset (use SMOTEENN). Explain how combined sampling works."
   ]
  },
  {
   "cell_type": "code",
   "execution_count": 1,
   "id": "frequent-purse",
   "metadata": {},
   "outputs": [
    {
     "data": {
      "text/html": [
       "<div>\n",
       "<style scoped>\n",
       "    .dataframe tbody tr th:only-of-type {\n",
       "        vertical-align: middle;\n",
       "    }\n",
       "\n",
       "    .dataframe tbody tr th {\n",
       "        vertical-align: top;\n",
       "    }\n",
       "\n",
       "    .dataframe thead th {\n",
       "        text-align: right;\n",
       "    }\n",
       "</style>\n",
       "<table border=\"1\" class=\"dataframe\">\n",
       "  <thead>\n",
       "    <tr style=\"text-align: right;\">\n",
       "      <th></th>\n",
       "      <th>Pregnancies</th>\n",
       "      <th>Glucose</th>\n",
       "      <th>BloodPressure</th>\n",
       "      <th>SkinThickness</th>\n",
       "      <th>Insulin</th>\n",
       "      <th>BMI</th>\n",
       "      <th>DiabetesPedigreeFunction</th>\n",
       "      <th>Age</th>\n",
       "      <th>Outcome</th>\n",
       "    </tr>\n",
       "  </thead>\n",
       "  <tbody>\n",
       "    <tr>\n",
       "      <th>0</th>\n",
       "      <td>6</td>\n",
       "      <td>148</td>\n",
       "      <td>72</td>\n",
       "      <td>35</td>\n",
       "      <td>0</td>\n",
       "      <td>33.6</td>\n",
       "      <td>0.627</td>\n",
       "      <td>50</td>\n",
       "      <td>1</td>\n",
       "    </tr>\n",
       "    <tr>\n",
       "      <th>1</th>\n",
       "      <td>1</td>\n",
       "      <td>85</td>\n",
       "      <td>66</td>\n",
       "      <td>29</td>\n",
       "      <td>0</td>\n",
       "      <td>26.6</td>\n",
       "      <td>0.351</td>\n",
       "      <td>31</td>\n",
       "      <td>0</td>\n",
       "    </tr>\n",
       "    <tr>\n",
       "      <th>2</th>\n",
       "      <td>8</td>\n",
       "      <td>183</td>\n",
       "      <td>64</td>\n",
       "      <td>0</td>\n",
       "      <td>0</td>\n",
       "      <td>23.3</td>\n",
       "      <td>0.672</td>\n",
       "      <td>32</td>\n",
       "      <td>1</td>\n",
       "    </tr>\n",
       "    <tr>\n",
       "      <th>3</th>\n",
       "      <td>1</td>\n",
       "      <td>89</td>\n",
       "      <td>66</td>\n",
       "      <td>23</td>\n",
       "      <td>94</td>\n",
       "      <td>28.1</td>\n",
       "      <td>0.167</td>\n",
       "      <td>21</td>\n",
       "      <td>0</td>\n",
       "    </tr>\n",
       "    <tr>\n",
       "      <th>4</th>\n",
       "      <td>0</td>\n",
       "      <td>137</td>\n",
       "      <td>40</td>\n",
       "      <td>35</td>\n",
       "      <td>168</td>\n",
       "      <td>43.1</td>\n",
       "      <td>2.288</td>\n",
       "      <td>33</td>\n",
       "      <td>1</td>\n",
       "    </tr>\n",
       "  </tbody>\n",
       "</table>\n",
       "</div>"
      ],
      "text/plain": [
       "   Pregnancies  Glucose  BloodPressure  SkinThickness  Insulin   BMI  \\\n",
       "0            6      148             72             35        0  33.6   \n",
       "1            1       85             66             29        0  26.6   \n",
       "2            8      183             64              0        0  23.3   \n",
       "3            1       89             66             23       94  28.1   \n",
       "4            0      137             40             35      168  43.1   \n",
       "\n",
       "   DiabetesPedigreeFunction  Age  Outcome  \n",
       "0                     0.627   50        1  \n",
       "1                     0.351   31        0  \n",
       "2                     0.672   32        1  \n",
       "3                     0.167   21        0  \n",
       "4                     2.288   33        1  "
      ]
     },
     "execution_count": 1,
     "metadata": {},
     "output_type": "execute_result"
    }
   ],
   "source": [
    "import pandas as pd\n",
    "import numpy as np\n",
    "\n",
    "diabetes_df = pd.read_csv(\"Classwork/diabetes.csv\")\n",
    "diabetes_df.head()"
   ]
  },
  {
   "cell_type": "code",
   "execution_count": 2,
   "id": "eleven-mentor",
   "metadata": {},
   "outputs": [],
   "source": [
    "from imblearn.combine import SMOTEENN\n",
    "from sklearn.linear_model import LogisticRegression\n",
    "from sklearn.model_selection import train_test_split\n",
    "from sklearn.preprocessing import StandardScaler"
   ]
  },
  {
   "cell_type": "code",
   "execution_count": 3,
   "id": "increased-guidance",
   "metadata": {},
   "outputs": [],
   "source": [
    "X = diabetes_df.drop('Outcome',axis = 1)\n",
    "y = diabetes_df['Outcome']\n",
    "\n",
    "X_train, X_test, y_train, y_test = train_test_split(X, y, test_size = 0.2, random_state = 42, stratify = y)\n",
    "\n",
    "#Standardize\n",
    "sc = StandardScaler()\n",
    "X_train_scaler = sc.fit_transform(X_train)\n",
    "X_test_scaler = sc.fit_transform(X_test)"
   ]
  },
  {
   "cell_type": "markdown",
   "id": "advance-treaty",
   "metadata": {},
   "source": [
    "### Logistic Regression using SMOTEEN"
   ]
  },
  {
   "cell_type": "code",
   "execution_count": 4,
   "id": "collectible-shopping",
   "metadata": {},
   "outputs": [],
   "source": [
    "sm = SMOTEENN(random_state=42)\n",
    "\n",
    "X_res, y_res = sm.fit_resample(X_train_scaler, y_train)"
   ]
  },
  {
   "cell_type": "code",
   "execution_count": 5,
   "id": "difficult-worst",
   "metadata": {},
   "outputs": [
    {
     "data": {
      "text/plain": [
       "LogisticRegression(random_state=42)"
      ]
     },
     "execution_count": 5,
     "metadata": {},
     "output_type": "execute_result"
    }
   ],
   "source": [
    "#train using the resampled data\n",
    "\n",
    "model = LogisticRegression(random_state=42)\n",
    "model.fit(X_res, y_res)"
   ]
  },
  {
   "cell_type": "code",
   "execution_count": 6,
   "id": "geographic-theater",
   "metadata": {},
   "outputs": [
    {
     "data": {
      "text/plain": [
       "0.7088888888888889"
      ]
     },
     "execution_count": 6,
     "metadata": {},
     "output_type": "execute_result"
    }
   ],
   "source": [
    "#calculate the accuracy score\n",
    "from sklearn.metrics import balanced_accuracy_score\n",
    "y_pred = model.predict(X_test_scaler)\n",
    "balanced_accuracy_score(y_test, y_pred)\n",
    "# old resampling comment below\n",
    "#increased accuracy from .6 to .74 by using oversampling"
   ]
  },
  {
   "cell_type": "code",
   "execution_count": 7,
   "id": "intermediate-circuit",
   "metadata": {},
   "outputs": [],
   "source": [
    "from sklearn.metrics import confusion_matrix, classification_report, plot_confusion_matrix"
   ]
  },
  {
   "cell_type": "code",
   "execution_count": 8,
   "id": "thrown-shelf",
   "metadata": {},
   "outputs": [
    {
     "name": "stdout",
     "output_type": "stream",
     "text": [
      "[[64 36]\n",
      " [12 42]]\n"
     ]
    }
   ],
   "source": [
    "print(confusion_matrix(y_test, y_pred))"
   ]
  },
  {
   "cell_type": "code",
   "execution_count": 9,
   "id": "racial-nerve",
   "metadata": {},
   "outputs": [
    {
     "name": "stdout",
     "output_type": "stream",
     "text": [
      "              precision    recall  f1-score   support\n",
      "\n",
      "           0       0.84      0.64      0.73       100\n",
      "           1       0.54      0.78      0.64        54\n",
      "\n",
      "    accuracy                           0.69       154\n",
      "   macro avg       0.69      0.71      0.68       154\n",
      "weighted avg       0.74      0.69      0.70       154\n",
      "\n"
     ]
    }
   ],
   "source": [
    "print(classification_report(y_test, y_pred))"
   ]
  },
  {
   "cell_type": "markdown",
   "id": "downtown-mining",
   "metadata": {},
   "source": [
    "**SMOTEEN** Combined over and under sampling\n",
    "\n",
    "SMOTEEN uses SMOTE and ENN to create more samples in the majority and minority classes.  SMOTE create new minority data points using original minority data points to better represent the minority class. It doesn't repeat the same minoirty data points as naive oversampling.\n",
    "\n",
    "ENN (Edited Nearest Neighbors).  From what I've read, it seems to locate misclassified data points and removed them using nearest neighbors.  By default, ENN removes data from both minority and majority classes.   So if the observation is in disagreement over the k(default=3) nearest neighbors majority class, then all are deleted.\n",
    "\n",
    "I ran the default method above.  It's possible that tuning the SMOTEEN would product better results in the logistic regression."
   ]
  },
  {
   "cell_type": "markdown",
   "id": "varying-hygiene",
   "metadata": {},
   "source": [
    "### Decision Tree Regression using SMOTEEN"
   ]
  },
  {
   "cell_type": "code",
   "execution_count": 10,
   "id": "upper-realtor",
   "metadata": {},
   "outputs": [],
   "source": [
    "from sklearn import tree"
   ]
  },
  {
   "cell_type": "code",
   "execution_count": 11,
   "id": "configured-savannah",
   "metadata": {},
   "outputs": [],
   "source": [
    "tree_model = tree.DecisionTreeClassifier(max_depth=6, random_state=42)"
   ]
  },
  {
   "cell_type": "code",
   "execution_count": 12,
   "id": "awful-velvet",
   "metadata": {},
   "outputs": [],
   "source": [
    "tree_model = tree_model.fit(X_res, y_res)\n",
    "y_tree_pred = tree_model.predict(X_test_scaler)"
   ]
  },
  {
   "cell_type": "code",
   "execution_count": 13,
   "id": "meaning-trustee",
   "metadata": {},
   "outputs": [
    {
     "data": {
      "text/plain": [
       "array([[64, 36],\n",
       "       [10, 44]])"
      ]
     },
     "execution_count": 13,
     "metadata": {},
     "output_type": "execute_result"
    }
   ],
   "source": [
    "confusion_matrix(y_test, y_tree_pred)"
   ]
  },
  {
   "cell_type": "code",
   "execution_count": 14,
   "id": "respective-burns",
   "metadata": {},
   "outputs": [
    {
     "name": "stdout",
     "output_type": "stream",
     "text": [
      "              precision    recall  f1-score   support\n",
      "\n",
      "           0       0.86      0.64      0.74       100\n",
      "           1       0.55      0.81      0.66        54\n",
      "\n",
      "    accuracy                           0.70       154\n",
      "   macro avg       0.71      0.73      0.70       154\n",
      "weighted avg       0.75      0.70      0.71       154\n",
      "\n"
     ]
    }
   ],
   "source": [
    "print(classification_report(y_test, y_tree_pred))"
   ]
  },
  {
   "cell_type": "code",
   "execution_count": 15,
   "id": "municipal-canon",
   "metadata": {},
   "outputs": [
    {
     "data": {
      "text/plain": [
       "0.7274074074074074"
      ]
     },
     "execution_count": 15,
     "metadata": {},
     "output_type": "execute_result"
    }
   ],
   "source": [
    "balanced_accuracy_score(y_test, y_tree_pred)"
   ]
  },
  {
   "cell_type": "markdown",
   "id": "fundamental-sucking",
   "metadata": {},
   "source": [
    "### Decision Tree Regression using SMOTEEN, taking out BloodPressure and SkinThickness"
   ]
  },
  {
   "cell_type": "code",
   "execution_count": 16,
   "id": "attempted-carbon",
   "metadata": {},
   "outputs": [],
   "source": [
    "tree_model_2 = tree.DecisionTreeClassifier(max_depth=8, random_state=42)\n",
    "\n",
    "X = diabetes_df.drop(['Outcome', 'BloodPressure', 'SkinThickness'], axis = 1)\n",
    "y = diabetes_df['Outcome']\n",
    "\n",
    "X_train, X_test, y_train, y_test = train_test_split(X, y, test_size = 0.2, random_state = 42, stratify = y)\n",
    "\n",
    "#Standardize\n",
    "sc = StandardScaler()\n",
    "X_train_scaler = sc.fit_transform(X_train)\n",
    "X_test_scaler = sc.fit_transform(X_test)"
   ]
  },
  {
   "cell_type": "code",
   "execution_count": 17,
   "id": "oriental-peeing",
   "metadata": {},
   "outputs": [],
   "source": [
    "sm = SMOTEENN(random_state=42)\n",
    "\n",
    "X_res, y_res = sm.fit_resample(X_train_scaler, y_train)"
   ]
  },
  {
   "cell_type": "code",
   "execution_count": 18,
   "id": "necessary-yorkshire",
   "metadata": {},
   "outputs": [],
   "source": [
    "tree_model_2.fit(X_res, y_res)\n",
    "y_tree_pred2 = tree_model_2.predict(X_test_scaler)"
   ]
  },
  {
   "cell_type": "code",
   "execution_count": 19,
   "id": "entertaining-variation",
   "metadata": {},
   "outputs": [
    {
     "data": {
      "text/plain": [
       "array([[73, 27],\n",
       "       [15, 39]])"
      ]
     },
     "execution_count": 19,
     "metadata": {},
     "output_type": "execute_result"
    }
   ],
   "source": [
    "confusion_matrix(y_test, y_tree_pred2)"
   ]
  },
  {
   "cell_type": "code",
   "execution_count": 20,
   "id": "organized-signal",
   "metadata": {},
   "outputs": [
    {
     "name": "stdout",
     "output_type": "stream",
     "text": [
      "              precision    recall  f1-score   support\n",
      "\n",
      "           0       0.83      0.73      0.78       100\n",
      "           1       0.59      0.72      0.65        54\n",
      "\n",
      "    accuracy                           0.73       154\n",
      "   macro avg       0.71      0.73      0.71       154\n",
      "weighted avg       0.75      0.73      0.73       154\n",
      "\n"
     ]
    }
   ],
   "source": [
    "print(classification_report(y_test, y_tree_pred2))"
   ]
  },
  {
   "cell_type": "code",
   "execution_count": 21,
   "id": "honest-cannon",
   "metadata": {},
   "outputs": [
    {
     "data": {
      "text/plain": [
       "0.7261111111111112"
      ]
     },
     "execution_count": 21,
     "metadata": {},
     "output_type": "execute_result"
    }
   ],
   "source": [
    "balanced_accuracy_score(y_test, y_tree_pred2)"
   ]
  },
  {
   "cell_type": "markdown",
   "id": "returning-animation",
   "metadata": {},
   "source": [
    "### 2.\tComment on the performance of combined sampling vs the other approaches we have used for the diabetes dataset."
   ]
  },
  {
   "cell_type": "markdown",
   "id": "dramatic-cincinnati",
   "metadata": {},
   "source": [
    "The performance improved for False Negative class, but I'm not sure there are huge gains.\n",
    "\n",
    "In tyring to directly compare models, I've chosed balanced accuracy score.  However, I think there are many other ways to think about performance.   We can look at the precision for all models, computational time, and perhaps, more importantly, the false negative rate.\n",
    "\n",
    "With recall = TP/(TP + FN), as False Negatives are smaller, the recall rate moves closer to 1.\n",
    "\n",
    "So another way to score the diabetes models would be to look at the recall of class 1.  In the SMOTE and SMOTEEN resampling, the recall of class 1 improved.  This number was in the mid-50s and moved to 70s and above.\n",
    "\n",
    "Other sampling techiniques (lecture notebook) seem to help improve the recall of class 1.  However those used imbalanced classification report and I don't know if there is a direct comparison."
   ]
  },
  {
   "cell_type": "markdown",
   "id": "going-authority",
   "metadata": {},
   "source": [
    "Using balanced_accuracy_score (average of recall obtained on each class):\n",
    "\n",
    "73% accuracy score from SMOTE using LogisticRegression (Source: Week_15_inclass)\n",
    "\n",
    "71% accuracy score from SMOTEEN using LogisticRegression.  (Source: this notebook)\n",
    "\n",
    "73% accuracy score from SMOTEEN using DecisionTreeRegression (Source: this notebook)\n",
    "\n",
    "77% accuracy score using DecisionTreeRegression when BloodPressue and SkinThickness were taken out. (Source: Week_16_Group_inClass)\n",
    "\n",
    "71% accuracy score from LogisticRegression (Source: Week_14_homework)\n",
    "\n",
    "73% accuracy score from LogisticRegression when BloodPressue and SkinThickness were taken out (Source: Week_14_homework)\n",
    "\n",
    "68% accuracy score from KNN (Source: Week_14_homework) This is different than the model score of 72%\n",
    "\n",
    "74% accuracy score from RandomOverSampler and Logistic Regression. (Source: over_under_sampling.ipynb class notebook)"
   ]
  },
  {
   "cell_type": "markdown",
   "id": "reflected-testament",
   "metadata": {},
   "source": [
    "After looking at all these accuracy numbers, I tried to improve the performance of the SMOTEEN using DecisionTreeRegression by taking out BloodPressure and SkinThickness.   I ran few different max_depth trees, but did not get a radical performance improvement."
   ]
  },
  {
   "cell_type": "markdown",
   "id": "arranged-application",
   "metadata": {},
   "source": [
    "### 3.\tWhat is outlier detection? Why is it useful? What methods can you use for outlier detection?"
   ]
  },
  {
   "cell_type": "markdown",
   "id": "remarkable-fossil",
   "metadata": {},
   "source": [
    "Outlier detection looks for data points that can lie far out of the distribution of the data points.  For example, data that lies 2-3 standard deviations from the mean for a normal distribution would be considered outliers.\n",
    "\n",
    "Outliers could be noise, data errors, experimental errors, naturally occurring, or even experiements themselves (how does the model handle the outier).  In some cases, the model itself is trying to detect outliers.   Even in the diabetes data set, diabetes itself is an outlier, so a diabetes detection model is trying to predict the outliers.\n",
    "\n",
    "Methods:\n",
    "* Using standard deviation\n",
    "* A mulitiplier (like 1.5) outside the interquartile ranges\n",
    "* DBScan Clustering or other clustering algorithms\n",
    "* Isolation Forest\n",
    "* Robust Random Cut Forest\n",
    "* Z-Score (based on std dev)\n",
    "* Linear Regression Models (Principal Component Analysis)"
   ]
  },
  {
   "cell_type": "markdown",
   "id": "floating-suggestion",
   "metadata": {},
   "source": [
    "### 4.\tPerform a linear SVM to predict credit approval (last column) using this dataset: \n",
    "https://archive.ics.uci.edu/ml/datasets/Statlog+%28Australian+Credit+Approval%29 . Make sure you look at the accompanying document that describes the data in the dat file. You will need to either convert this data to another file type or import the dat file to python. \n",
    "You can use this code, but otherwise you follow standard practices we have already used many times: \n"
   ]
  },
  {
   "cell_type": "code",
   "execution_count": 22,
   "id": "needed-antique",
   "metadata": {
    "scrolled": true
   },
   "outputs": [
    {
     "data": {
      "text/html": [
       "<div>\n",
       "<style scoped>\n",
       "    .dataframe tbody tr th:only-of-type {\n",
       "        vertical-align: middle;\n",
       "    }\n",
       "\n",
       "    .dataframe tbody tr th {\n",
       "        vertical-align: top;\n",
       "    }\n",
       "\n",
       "    .dataframe thead th {\n",
       "        text-align: right;\n",
       "    }\n",
       "</style>\n",
       "<table border=\"1\" class=\"dataframe\">\n",
       "  <thead>\n",
       "    <tr style=\"text-align: right;\">\n",
       "      <th></th>\n",
       "      <th>0</th>\n",
       "      <th>1</th>\n",
       "      <th>2</th>\n",
       "      <th>3</th>\n",
       "      <th>4</th>\n",
       "      <th>5</th>\n",
       "      <th>6</th>\n",
       "      <th>7</th>\n",
       "      <th>8</th>\n",
       "      <th>9</th>\n",
       "      <th>10</th>\n",
       "      <th>11</th>\n",
       "      <th>12</th>\n",
       "      <th>13</th>\n",
       "      <th>14</th>\n",
       "    </tr>\n",
       "  </thead>\n",
       "  <tbody>\n",
       "    <tr>\n",
       "      <th>0</th>\n",
       "      <td>1</td>\n",
       "      <td>22.08</td>\n",
       "      <td>11.46</td>\n",
       "      <td>2</td>\n",
       "      <td>4</td>\n",
       "      <td>4</td>\n",
       "      <td>1.585</td>\n",
       "      <td>0</td>\n",
       "      <td>0</td>\n",
       "      <td>0</td>\n",
       "      <td>1</td>\n",
       "      <td>2</td>\n",
       "      <td>100</td>\n",
       "      <td>1213</td>\n",
       "      <td>0</td>\n",
       "    </tr>\n",
       "    <tr>\n",
       "      <th>1</th>\n",
       "      <td>0</td>\n",
       "      <td>22.67</td>\n",
       "      <td>7.00</td>\n",
       "      <td>2</td>\n",
       "      <td>8</td>\n",
       "      <td>4</td>\n",
       "      <td>0.165</td>\n",
       "      <td>0</td>\n",
       "      <td>0</td>\n",
       "      <td>0</td>\n",
       "      <td>0</td>\n",
       "      <td>2</td>\n",
       "      <td>160</td>\n",
       "      <td>1</td>\n",
       "      <td>0</td>\n",
       "    </tr>\n",
       "    <tr>\n",
       "      <th>2</th>\n",
       "      <td>0</td>\n",
       "      <td>29.58</td>\n",
       "      <td>1.75</td>\n",
       "      <td>1</td>\n",
       "      <td>4</td>\n",
       "      <td>4</td>\n",
       "      <td>1.250</td>\n",
       "      <td>0</td>\n",
       "      <td>0</td>\n",
       "      <td>0</td>\n",
       "      <td>1</td>\n",
       "      <td>2</td>\n",
       "      <td>280</td>\n",
       "      <td>1</td>\n",
       "      <td>0</td>\n",
       "    </tr>\n",
       "    <tr>\n",
       "      <th>3</th>\n",
       "      <td>0</td>\n",
       "      <td>21.67</td>\n",
       "      <td>11.50</td>\n",
       "      <td>1</td>\n",
       "      <td>5</td>\n",
       "      <td>3</td>\n",
       "      <td>0.000</td>\n",
       "      <td>1</td>\n",
       "      <td>1</td>\n",
       "      <td>11</td>\n",
       "      <td>1</td>\n",
       "      <td>2</td>\n",
       "      <td>0</td>\n",
       "      <td>1</td>\n",
       "      <td>1</td>\n",
       "    </tr>\n",
       "    <tr>\n",
       "      <th>4</th>\n",
       "      <td>1</td>\n",
       "      <td>20.17</td>\n",
       "      <td>8.17</td>\n",
       "      <td>2</td>\n",
       "      <td>6</td>\n",
       "      <td>4</td>\n",
       "      <td>1.960</td>\n",
       "      <td>1</td>\n",
       "      <td>1</td>\n",
       "      <td>14</td>\n",
       "      <td>0</td>\n",
       "      <td>2</td>\n",
       "      <td>60</td>\n",
       "      <td>159</td>\n",
       "      <td>1</td>\n",
       "    </tr>\n",
       "  </tbody>\n",
       "</table>\n",
       "</div>"
      ],
      "text/plain": [
       "   0      1      2   3   4   5      6   7   8   9   10  11   12    13  14\n",
       "0   1  22.08  11.46   2   4   4  1.585   0   0   0   1   2  100  1213   0\n",
       "1   0  22.67   7.00   2   8   4  0.165   0   0   0   0   2  160     1   0\n",
       "2   0  29.58   1.75   1   4   4  1.250   0   0   0   1   2  280     1   0\n",
       "3   0  21.67  11.50   1   5   3  0.000   1   1  11   1   2    0     1   1\n",
       "4   1  20.17   8.17   2   6   4  1.960   1   1  14   0   2   60   159   1"
      ]
     },
     "execution_count": 22,
     "metadata": {},
     "output_type": "execute_result"
    }
   ],
   "source": [
    "credit_df = pd.read_table(\"australian.dat\", sep=\" \",header=None)\n",
    "credit_df.head()"
   ]
  },
  {
   "cell_type": "code",
   "execution_count": 23,
   "id": "voluntary-finding",
   "metadata": {},
   "outputs": [
    {
     "name": "stdout",
     "output_type": "stream",
     "text": [
      "<class 'pandas.core.frame.DataFrame'>\n",
      "RangeIndex: 690 entries, 0 to 689\n",
      "Data columns (total 15 columns):\n",
      " #   Column  Non-Null Count  Dtype  \n",
      "---  ------  --------------  -----  \n",
      " 0   0       690 non-null    int64  \n",
      " 1   1       690 non-null    float64\n",
      " 2   2       690 non-null    float64\n",
      " 3   3       690 non-null    int64  \n",
      " 4   4       690 non-null    int64  \n",
      " 5   5       690 non-null    int64  \n",
      " 6   6       690 non-null    float64\n",
      " 7   7       690 non-null    int64  \n",
      " 8   8       690 non-null    int64  \n",
      " 9   9       690 non-null    int64  \n",
      " 10  10      690 non-null    int64  \n",
      " 11  11      690 non-null    int64  \n",
      " 12  12      690 non-null    int64  \n",
      " 13  13      690 non-null    int64  \n",
      " 14  14      690 non-null    int64  \n",
      "dtypes: float64(3), int64(12)\n",
      "memory usage: 81.0 KB\n"
     ]
    }
   ],
   "source": [
    "credit_df.info()"
   ]
  },
  {
   "cell_type": "code",
   "execution_count": 24,
   "id": "ceramic-reflection",
   "metadata": {},
   "outputs": [
    {
     "data": {
      "text/html": [
       "<div>\n",
       "<style scoped>\n",
       "    .dataframe tbody tr th:only-of-type {\n",
       "        vertical-align: middle;\n",
       "    }\n",
       "\n",
       "    .dataframe tbody tr th {\n",
       "        vertical-align: top;\n",
       "    }\n",
       "\n",
       "    .dataframe thead th {\n",
       "        text-align: right;\n",
       "    }\n",
       "</style>\n",
       "<table border=\"1\" class=\"dataframe\">\n",
       "  <thead>\n",
       "    <tr style=\"text-align: right;\">\n",
       "      <th></th>\n",
       "      <th>0</th>\n",
       "      <th>1</th>\n",
       "      <th>2</th>\n",
       "      <th>3</th>\n",
       "      <th>4</th>\n",
       "      <th>5</th>\n",
       "      <th>6</th>\n",
       "      <th>7</th>\n",
       "      <th>8</th>\n",
       "      <th>9</th>\n",
       "      <th>10</th>\n",
       "      <th>11</th>\n",
       "      <th>12</th>\n",
       "      <th>13</th>\n",
       "      <th>14</th>\n",
       "    </tr>\n",
       "  </thead>\n",
       "  <tbody>\n",
       "    <tr>\n",
       "      <th>count</th>\n",
       "      <td>690.000000</td>\n",
       "      <td>690.000000</td>\n",
       "      <td>690.000000</td>\n",
       "      <td>690.000000</td>\n",
       "      <td>690.000000</td>\n",
       "      <td>690.000000</td>\n",
       "      <td>690.000000</td>\n",
       "      <td>690.000000</td>\n",
       "      <td>690.000000</td>\n",
       "      <td>690.00000</td>\n",
       "      <td>690.000000</td>\n",
       "      <td>690.000000</td>\n",
       "      <td>690.000000</td>\n",
       "      <td>690.000000</td>\n",
       "      <td>690.000000</td>\n",
       "    </tr>\n",
       "    <tr>\n",
       "      <th>mean</th>\n",
       "      <td>0.678261</td>\n",
       "      <td>31.568203</td>\n",
       "      <td>4.758725</td>\n",
       "      <td>1.766667</td>\n",
       "      <td>7.372464</td>\n",
       "      <td>4.692754</td>\n",
       "      <td>2.223406</td>\n",
       "      <td>0.523188</td>\n",
       "      <td>0.427536</td>\n",
       "      <td>2.40000</td>\n",
       "      <td>0.457971</td>\n",
       "      <td>1.928986</td>\n",
       "      <td>184.014493</td>\n",
       "      <td>1018.385507</td>\n",
       "      <td>0.444928</td>\n",
       "    </tr>\n",
       "    <tr>\n",
       "      <th>std</th>\n",
       "      <td>0.467482</td>\n",
       "      <td>11.853273</td>\n",
       "      <td>4.978163</td>\n",
       "      <td>0.430063</td>\n",
       "      <td>3.683265</td>\n",
       "      <td>1.992316</td>\n",
       "      <td>3.346513</td>\n",
       "      <td>0.499824</td>\n",
       "      <td>0.495080</td>\n",
       "      <td>4.86294</td>\n",
       "      <td>0.498592</td>\n",
       "      <td>0.298813</td>\n",
       "      <td>172.159274</td>\n",
       "      <td>5210.102598</td>\n",
       "      <td>0.497318</td>\n",
       "    </tr>\n",
       "    <tr>\n",
       "      <th>min</th>\n",
       "      <td>0.000000</td>\n",
       "      <td>13.750000</td>\n",
       "      <td>0.000000</td>\n",
       "      <td>1.000000</td>\n",
       "      <td>1.000000</td>\n",
       "      <td>1.000000</td>\n",
       "      <td>0.000000</td>\n",
       "      <td>0.000000</td>\n",
       "      <td>0.000000</td>\n",
       "      <td>0.00000</td>\n",
       "      <td>0.000000</td>\n",
       "      <td>1.000000</td>\n",
       "      <td>0.000000</td>\n",
       "      <td>1.000000</td>\n",
       "      <td>0.000000</td>\n",
       "    </tr>\n",
       "    <tr>\n",
       "      <th>25%</th>\n",
       "      <td>0.000000</td>\n",
       "      <td>22.670000</td>\n",
       "      <td>1.000000</td>\n",
       "      <td>2.000000</td>\n",
       "      <td>4.000000</td>\n",
       "      <td>4.000000</td>\n",
       "      <td>0.165000</td>\n",
       "      <td>0.000000</td>\n",
       "      <td>0.000000</td>\n",
       "      <td>0.00000</td>\n",
       "      <td>0.000000</td>\n",
       "      <td>2.000000</td>\n",
       "      <td>80.000000</td>\n",
       "      <td>1.000000</td>\n",
       "      <td>0.000000</td>\n",
       "    </tr>\n",
       "    <tr>\n",
       "      <th>50%</th>\n",
       "      <td>1.000000</td>\n",
       "      <td>28.625000</td>\n",
       "      <td>2.750000</td>\n",
       "      <td>2.000000</td>\n",
       "      <td>8.000000</td>\n",
       "      <td>4.000000</td>\n",
       "      <td>1.000000</td>\n",
       "      <td>1.000000</td>\n",
       "      <td>0.000000</td>\n",
       "      <td>0.00000</td>\n",
       "      <td>0.000000</td>\n",
       "      <td>2.000000</td>\n",
       "      <td>160.000000</td>\n",
       "      <td>6.000000</td>\n",
       "      <td>0.000000</td>\n",
       "    </tr>\n",
       "    <tr>\n",
       "      <th>75%</th>\n",
       "      <td>1.000000</td>\n",
       "      <td>37.707500</td>\n",
       "      <td>7.207500</td>\n",
       "      <td>2.000000</td>\n",
       "      <td>10.000000</td>\n",
       "      <td>5.000000</td>\n",
       "      <td>2.625000</td>\n",
       "      <td>1.000000</td>\n",
       "      <td>1.000000</td>\n",
       "      <td>3.00000</td>\n",
       "      <td>1.000000</td>\n",
       "      <td>2.000000</td>\n",
       "      <td>272.000000</td>\n",
       "      <td>396.500000</td>\n",
       "      <td>1.000000</td>\n",
       "    </tr>\n",
       "    <tr>\n",
       "      <th>max</th>\n",
       "      <td>1.000000</td>\n",
       "      <td>80.250000</td>\n",
       "      <td>28.000000</td>\n",
       "      <td>3.000000</td>\n",
       "      <td>14.000000</td>\n",
       "      <td>9.000000</td>\n",
       "      <td>28.500000</td>\n",
       "      <td>1.000000</td>\n",
       "      <td>1.000000</td>\n",
       "      <td>67.00000</td>\n",
       "      <td>1.000000</td>\n",
       "      <td>3.000000</td>\n",
       "      <td>2000.000000</td>\n",
       "      <td>100001.000000</td>\n",
       "      <td>1.000000</td>\n",
       "    </tr>\n",
       "  </tbody>\n",
       "</table>\n",
       "</div>"
      ],
      "text/plain": [
       "               0           1           2           3           4           5   \\\n",
       "count  690.000000  690.000000  690.000000  690.000000  690.000000  690.000000   \n",
       "mean     0.678261   31.568203    4.758725    1.766667    7.372464    4.692754   \n",
       "std      0.467482   11.853273    4.978163    0.430063    3.683265    1.992316   \n",
       "min      0.000000   13.750000    0.000000    1.000000    1.000000    1.000000   \n",
       "25%      0.000000   22.670000    1.000000    2.000000    4.000000    4.000000   \n",
       "50%      1.000000   28.625000    2.750000    2.000000    8.000000    4.000000   \n",
       "75%      1.000000   37.707500    7.207500    2.000000   10.000000    5.000000   \n",
       "max      1.000000   80.250000   28.000000    3.000000   14.000000    9.000000   \n",
       "\n",
       "               6           7           8          9           10          11  \\\n",
       "count  690.000000  690.000000  690.000000  690.00000  690.000000  690.000000   \n",
       "mean     2.223406    0.523188    0.427536    2.40000    0.457971    1.928986   \n",
       "std      3.346513    0.499824    0.495080    4.86294    0.498592    0.298813   \n",
       "min      0.000000    0.000000    0.000000    0.00000    0.000000    1.000000   \n",
       "25%      0.165000    0.000000    0.000000    0.00000    0.000000    2.000000   \n",
       "50%      1.000000    1.000000    0.000000    0.00000    0.000000    2.000000   \n",
       "75%      2.625000    1.000000    1.000000    3.00000    1.000000    2.000000   \n",
       "max     28.500000    1.000000    1.000000   67.00000    1.000000    3.000000   \n",
       "\n",
       "                12             13          14  \n",
       "count   690.000000     690.000000  690.000000  \n",
       "mean    184.014493    1018.385507    0.444928  \n",
       "std     172.159274    5210.102598    0.497318  \n",
       "min       0.000000       1.000000    0.000000  \n",
       "25%      80.000000       1.000000    0.000000  \n",
       "50%     160.000000       6.000000    0.000000  \n",
       "75%     272.000000     396.500000    1.000000  \n",
       "max    2000.000000  100001.000000    1.000000  "
      ]
     },
     "execution_count": 24,
     "metadata": {},
     "output_type": "execute_result"
    }
   ],
   "source": [
    "credit_df.describe()"
   ]
  },
  {
   "cell_type": "code",
   "execution_count": 25,
   "id": "mineral-bachelor",
   "metadata": {},
   "outputs": [
    {
     "data": {
      "image/png": "[encoded data removed]",
      "text/plain": [
       "<Figure size 432x288 with 16 Axes>"
      ]
     },
     "metadata": {
      "needs_background": "light"
     },
     "output_type": "display_data"
    }
   ],
   "source": [
    "# looking at the distributions of the column data\n",
    "credit_df.hist();"
   ]
  },
  {
   "cell_type": "code",
   "execution_count": 26,
   "id": "usual-romania",
   "metadata": {},
   "outputs": [
    {
     "data": {
      "text/plain": [
       "0      0\n",
       "1      0\n",
       "2      0\n",
       "3      1\n",
       "4      1\n",
       "      ..\n",
       "685    1\n",
       "686    0\n",
       "687    1\n",
       "688    1\n",
       "689    1\n",
       "Name: 14, Length: 690, dtype: int64"
      ]
     },
     "execution_count": 26,
     "metadata": {},
     "output_type": "execute_result"
    }
   ],
   "source": [
    "# testing calling column - first time we've worked in an int named column instead of a string\n",
    "credit_df[14]"
   ]
  },
  {
   "cell_type": "code",
   "execution_count": 27,
   "id": "statutory-vertex",
   "metadata": {},
   "outputs": [],
   "source": [
    "# from problem set\n",
    "from sklearn.svm import SVC\n",
    "lsvc_model = SVC(kernel='linear')"
   ]
  },
  {
   "cell_type": "code",
   "execution_count": 28,
   "id": "decent-wellington",
   "metadata": {},
   "outputs": [],
   "source": [
    "# split data into train and test, 25% test data\n",
    "# stratify on y, because outcome class is not quite 50/50\n",
    "X = credit_df.drop(14, axis = 1)\n",
    "y = credit_df[14]\n",
    "\n",
    "X_train, X_test, y_train, y_test = train_test_split(X, y, test_size = 0.25, random_state = 42, stratify = y)"
   ]
  },
  {
   "cell_type": "code",
   "execution_count": 29,
   "id": "variable-combination",
   "metadata": {},
   "outputs": [],
   "source": [
    "#Standardize\n",
    "sc = StandardScaler()\n",
    "X_train_scaler = sc.fit_transform(X_train)\n",
    "X_test_scaler = sc.fit_transform(X_test)"
   ]
  },
  {
   "cell_type": "code",
   "execution_count": 30,
   "id": "electronic-weapon",
   "metadata": {},
   "outputs": [],
   "source": [
    "lsvc_model.fit(X_train_scaler, y_train)\n",
    "\n",
    "lsvc_y_pred = lsvc_model.predict(X_test_scaler)"
   ]
  },
  {
   "cell_type": "code",
   "execution_count": 31,
   "id": "universal-density",
   "metadata": {},
   "outputs": [
    {
     "data": {
      "text/plain": [
       "array([[69, 27],\n",
       "       [ 6, 71]])"
      ]
     },
     "execution_count": 31,
     "metadata": {},
     "output_type": "execute_result"
    }
   ],
   "source": [
    "confusion_matrix(y_test, lsvc_y_pred)"
   ]
  },
  {
   "cell_type": "code",
   "execution_count": 32,
   "id": "numeric-trinidad",
   "metadata": {},
   "outputs": [
    {
     "name": "stdout",
     "output_type": "stream",
     "text": [
      "              precision    recall  f1-score   support\n",
      "\n",
      "           0       0.92      0.72      0.81        96\n",
      "           1       0.72      0.92      0.81        77\n",
      "\n",
      "    accuracy                           0.81       173\n",
      "   macro avg       0.82      0.82      0.81       173\n",
      "weighted avg       0.83      0.81      0.81       173\n",
      "\n"
     ]
    }
   ],
   "source": [
    "print(classification_report(y_test, lsvc_y_pred))"
   ]
  },
  {
   "cell_type": "code",
   "execution_count": 33,
   "id": "italian-dairy",
   "metadata": {},
   "outputs": [
    {
     "data": {
      "text/plain": [
       "array([[72, 24],\n",
       "       [ 8, 69]])"
      ]
     },
     "execution_count": 33,
     "metadata": {},
     "output_type": "execute_result"
    }
   ],
   "source": [
    "# I also tried running the SVC on non-scaled data.   Probably NOT the right thing to do.\n",
    "# Further reading says SVC-linear works best on scaled data.\n",
    "# This unscaled data model also seems to take longer to run\n",
    "new_model = SVC(kernel='linear')\n",
    "new_model.fit(X_train, y_train)\n",
    "lsvc_y_pred_unscaled = new_model.predict(X_test)\n",
    "\n",
    "confusion_matrix(y_test, lsvc_y_pred_unscaled)"
   ]
  },
  {
   "cell_type": "code",
   "execution_count": 34,
   "id": "virgin-hazard",
   "metadata": {},
   "outputs": [
    {
     "name": "stdout",
     "output_type": "stream",
     "text": [
      "              precision    recall  f1-score   support\n",
      "\n",
      "           0       0.90      0.75      0.82        96\n",
      "           1       0.74      0.90      0.81        77\n",
      "\n",
      "    accuracy                           0.82       173\n",
      "   macro avg       0.82      0.82      0.81       173\n",
      "weighted avg       0.83      0.82      0.82       173\n",
      "\n"
     ]
    }
   ],
   "source": [
    "# unscaled data\n",
    "print(classification_report(y_test, lsvc_y_pred_unscaled))"
   ]
  },
  {
   "cell_type": "markdown",
   "id": "international-terrorism",
   "metadata": {},
   "source": [
    "### 5.\tHow did the SVM model perform? Use a classification report. "
   ]
  },
  {
   "cell_type": "code",
   "execution_count": 35,
   "id": "motivated-little",
   "metadata": {},
   "outputs": [
    {
     "name": "stdout",
     "output_type": "stream",
     "text": [
      "              precision    recall  f1-score   support\n",
      "\n",
      "           0       0.92      0.72      0.81        96\n",
      "           1       0.72      0.92      0.81        77\n",
      "\n",
      "    accuracy                           0.81       173\n",
      "   macro avg       0.82      0.82      0.81       173\n",
      "weighted avg       0.83      0.81      0.81       173\n",
      "\n"
     ]
    }
   ],
   "source": [
    "# this model used the scaled data\n",
    "print(classification_report(y_test, lsvc_y_pred))"
   ]
  },
  {
   "cell_type": "markdown",
   "id": "successful-village",
   "metadata": {},
   "source": [
    "**The SVM model preformed well.**\n",
    "\n",
    "The precision for class 1 is 72% - not great accuracy, but not bad.\n",
    "The recall for 1 is 90%, so the model predicted 90% of class 1.\n",
    "\n",
    "The precision for class 0 is 92% - high accuracy for this class.\n",
    "The recall for 0 is 72%, so the model predicited 72% of class 0.\n",
    "\n",
    "Depending on what class 1 and 0 are, this model could be ideal if the answer has to do with credit worthiness.  However if the false positive number (27 from the confusion matrix) was those that model deemed credit worthy (for example), but were not, that's really concerning.  Unlike the diabetes data set, the business would rather have a low false positive rate than a low false negative rate if what we're talking about is credit worthiness. It would be easier to review by human false negative data then auto approve the false positives (seemed credit worthy, but were not).  \n",
    "\n",
    "\n",
    "***IF THE MODEL INDICATES CREDIT APPROVAL WITH CLASS 1:***\n",
    "\n",
    "Then the model should only be used to automatically deny credit approval, but not *approve* credit.  Clearly, it seems risky that the precision for Class 1 is so low."
   ]
  },
  {
   "cell_type": "markdown",
   "id": "qualified-davis",
   "metadata": {},
   "source": [
    "### 6.\tWhat kinds of jobs in data are you most interested in? Do some research on what is out there. Write about your thoughts in under 400 words. "
   ]
  },
  {
   "cell_type": "markdown",
   "id": "directed-formation",
   "metadata": {},
   "source": [
    "I am most interested in **applying data to solve business or industry problems or using data to provide insight**.  Being part of team with individual and group work sounds most appealing with opportunities to grow my technical skills.  Most jobs seem to be titled as a data analyst or associate data scientist.\n",
    "\n",
    "One job that sounds that I would meet the qualifications for is a **Data Reporting Specialist** with Anheuser-Busch.   The job description part that interests me the most are **sales modeling** for near- and long-term projections, **programming ability, willingness to learn new skills, team-orientation**, and **ability to draw insightful conclusions and communicate them**.\n",
    "\n",
    "Another job description I liked was a **python and SQL developer** where the job requirement was to develop a new security tool that will help protect and match large sets of data.\n",
    "\n",
    "A few of the jobs that are interesting to me also have requirements for MS or PhD in a technical field such as computer science or mathematics.  \n",
    "\n",
    "The **Associate Data Scientist** with Spectrum Brands job description would be something I’m interested in.   The job **supports sales, marketing, supply chain and leadership teams** with insights derived from analyzing internal and external data. One responsibility is developing **custom data models and algorithms** to apply to data sets and predictive modeling.  **Communicating to non-technical audiences** is also required and something I like to do.\n",
    "\n",
    "**I like to head up projects and using soft skills to build collaboration.**  At this time, I’m not interested in managing a team or group; I would rather be a contributing team member.  \n",
    "\n",
    "Being a beginner at data analytics and data science, having no team support or mentor to learn from is probably my largest concern.  Also, the more I am learning through class, the more I know I don’t know and that motivates me to keep learning.\n"
   ]
  },
  {
   "cell_type": "code",
   "execution_count": null,
   "id": "liquid-custom",
   "metadata": {},
   "outputs": [],
   "source": []
  }
 ],
 "metadata": {
  "kernelspec": {
   "display_name": "Python 3",
   "language": "python",
   "name": "python3"
  },
  "language_info": {
   "codemirror_mode": {
    "name": "ipython",
    "version": 3
   },
   "file_extension": ".py",
   "mimetype": "text/x-python",
   "name": "python",
   "nbconvert_exporter": "python",
   "pygments_lexer": "ipython3",
   "version": "3.8.2"
  }
 },
 "nbformat": 4,
 "nbformat_minor": 5
}
