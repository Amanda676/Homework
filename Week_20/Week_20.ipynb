{
 "cells": [
  {
   "cell_type": "markdown",
   "id": "skilled-candidate",
   "metadata": {},
   "source": [
    "# Week 20"
   ]
  },
  {
   "attachments": {},
   "cell_type": "markdown",
   "id": "available-international",
   "metadata": {},
   "source": [
    "### 3.\tLoad the tokenized Paradise Lost from the Gutenberg Corpus in NLTK. https://www.nltk.org/book/ch02.html . Stem or lemmatize the words and find counts. Select the top 20 words and create a histogram. Exclude stop words and make sure you are including words of all capitalizations in your count. If there are any meaningless “words” that are produced in your list or top words, alter your logic to exclude them. Specify why you chose stemming or lemmatization."
   ]
  },
  {
   "cell_type": "code",
   "execution_count": 1,
   "id": "spatial-harvard",
   "metadata": {},
   "outputs": [],
   "source": [
    "import nltk\n",
    "from nltk.tokenize import word_tokenize, sent_tokenize\n",
    "from collections import Counter\n",
    "import pandas as pd\n",
    "import numpy as np"
   ]
  },
  {
   "cell_type": "code",
   "execution_count": 2,
   "id": "complex-confidentiality",
   "metadata": {},
   "outputs": [
    {
     "data": {
      "text/plain": [
       "468220"
      ]
     },
     "execution_count": 2,
     "metadata": {},
     "output_type": "execute_result"
    }
   ],
   "source": [
    "paradise = nltk.corpus.gutenberg.raw('milton-paradise.txt')\n",
    "len(paradise)"
   ]
  },
  {
   "cell_type": "code",
   "execution_count": 3,
   "id": "waiting-pressing",
   "metadata": {},
   "outputs": [
    {
     "name": "stdout",
     "output_type": "stream",
     "text": [
      "[Paradise Lost by John Milton 1667] \n",
      " \n",
      " \n",
      "Book I \n",
      " \n",
      " \n",
      "Of Man's first disobedience, and the fruit \n",
      "Of \n"
     ]
    },
    {
     "data": {
      "text/plain": [
       "str"
      ]
     },
     "execution_count": 3,
     "metadata": {},
     "output_type": "execute_result"
    }
   ],
   "source": [
    "print(paradise[:100])\n",
    "type(paradise)"
   ]
  },
  {
   "cell_type": "code",
   "execution_count": 4,
   "id": "internal-review",
   "metadata": {},
   "outputs": [
    {
     "name": "stderr",
     "output_type": "stream",
     "text": [
      "[nltk_data] Downloading package stopwords to\n",
      "[nltk_data]     /Users/matheusmythe/nltk_data...\n",
      "[nltk_data]   Package stopwords is already up-to-date!\n"
     ]
    }
   ],
   "source": [
    "def words_cleanup(string):\n",
    "    '''Takes in a string, returns list of lowercase words\n",
    "    That eliminates stop words and punctuation'''\n",
    "\n",
    "    # make all words lowercase\n",
    "    lowercase = string.lower()\n",
    "\n",
    "    # tokenize all of string\n",
    "    lowercase_words = word_tokenize(lowercase)\n",
    "\n",
    "    # eliminate stop words\n",
    "    nltk.download('stopwords')\n",
    "    stop_words = set(nltk.corpus.stopwords.words('english'))\n",
    "    \n",
    "    \n",
    "    # new list that has no stop words\n",
    "    filtered_list = [w for w in lowercase_words if w not in stop_words]\n",
    "    \n",
    "    # list that has no punctuation\n",
    "    clean_words = [w for w in filtered_list if w.isalpha()]\n",
    "    \n",
    "    return clean_words\n",
    "\n",
    "paradise_words = words_cleanup(paradise)"
   ]
  },
  {
   "cell_type": "markdown",
   "id": "comparable-sunglasses",
   "metadata": {},
   "source": [
    "##### I chose lemmitization because it considers the word in context to get to the word's base.  Stemming does not consider this.  However, with the 'older'  and perhaps more formal language of Paradise Lost, it's hard to say how well lemmitization works."
   ]
  },
  {
   "cell_type": "code",
   "execution_count": 5,
   "id": "hungry-wonder",
   "metadata": {},
   "outputs": [
    {
     "name": "stderr",
     "output_type": "stream",
     "text": [
      "[nltk_data] Downloading package wordnet to\n",
      "[nltk_data]     /Users/matheusmythe/nltk_data...\n",
      "[nltk_data]   Package wordnet is already up-to-date!\n"
     ]
    }
   ],
   "source": [
    "nltk.download('wordnet')\n",
    "from nltk.stem import WordNetLemmatizer\n",
    "lemmatizer = WordNetLemmatizer()\n",
    "\n",
    "paradise_lem = [lemmatizer.lemmatize(w) for w in paradise_words]"
   ]
  },
  {
   "cell_type": "code",
   "execution_count": 6,
   "id": "painful-former",
   "metadata": {},
   "outputs": [],
   "source": [
    "# after running this once, taking out less meaningful words\n",
    "paradise_lem = [w for w in paradise_lem if w not in ['thou', 'thy', 'thee', 'thus', 'u']]"
   ]
  },
  {
   "cell_type": "code",
   "execution_count": 7,
   "id": "knowing-kitchen",
   "metadata": {},
   "outputs": [],
   "source": [
    "# create Frequency Dictionary\n",
    "from nltk import FreqDist\n",
    "paradise_freq = FreqDist(paradise_lem)"
   ]
  },
  {
   "cell_type": "code",
   "execution_count": 8,
   "id": "desirable-origin",
   "metadata": {},
   "outputs": [
    {
     "name": "stdout",
     "output_type": "stream",
     "text": [
      "[('heaven', 425), ('god', 307), ('shall', 283), ('yet', 228), ('though', 217), ('earth', 215), ('man', 174), ('first', 169), ('day', 151), ('high', 149), ('one', 141), ('son', 132), ('far', 128), ('death', 127), ('may', 126), ('power', 125), ('great', 123), ('world', 119), ('till', 119), ('thing', 116)]\n"
     ]
    }
   ],
   "source": [
    "paradise_top20 = paradise_freq.most_common(20)\n",
    "print(paradise_top20)\n",
    "\n",
    "x = [t[0] for t in paradise_top20]\n",
    "y = [t[1] for t in paradise_top20]"
   ]
  },
  {
   "cell_type": "code",
   "execution_count": 9,
   "id": "oriental-startup",
   "metadata": {},
   "outputs": [
    {
     "data": {
      "image/png": "[encoded data removed]",
      "text/plain": [
       "<Figure size 576x432 with 1 Axes>"
      ]
     },
     "metadata": {
      "needs_background": "light"
     },
     "output_type": "display_data"
    }
   ],
   "source": [
    "import matplotlib.pyplot as plt\n",
    "\n",
    "plt.figure(figsize=(8,6))\n",
    "plt.bar(x, height=y, color='darkred')\n",
    "plt.title('Top 20 Word Frequencies for Paradise Lost')\n",
    "plt.xlabel('Word')\n",
    "plt.ylabel('Count')\n",
    "plt.xticks(rotation=70)\n",
    "plt.show()"
   ]
  },
  {
   "attachments": {},
   "cell_type": "markdown",
   "id": "heavy-friendship",
   "metadata": {},
   "source": [
    "### 4.\tPerform Vader Sentiment Analysis on the book. Find the 5 most negative, 5 most positive, and 5 most neutral sentences in Paradise Lost. http://www.nltk.org/howto/sentiment.html . This may take a while to run, so you can always start with a small subset of the data (100 sentences) and then once your code works as expected, expand it to the whole book and let it run. "
   ]
  },
  {
   "cell_type": "code",
   "execution_count": 10,
   "id": "useful-insider",
   "metadata": {},
   "outputs": [
    {
     "name": "stderr",
     "output_type": "stream",
     "text": [
      "[nltk_data] Downloading package vader_lexicon to\n",
      "[nltk_data]     /Users/matheusmythe/nltk_data...\n",
      "[nltk_data]   Package vader_lexicon is already up-to-date!\n"
     ]
    }
   ],
   "source": [
    "from nltk.sentiment.vader import SentimentIntensityAnalyzer\n",
    "nltk.download('vader_lexicon')\n",
    "analyzer = SentimentIntensityAnalyzer()\n"
   ]
  },
  {
   "cell_type": "code",
   "execution_count": 11,
   "id": "urban-gauge",
   "metadata": {},
   "outputs": [
    {
     "name": "stdout",
     "output_type": "stream",
     "text": [
      "[[' [ Paradise Lost by John Milton 1667 ]'], [' Book I'], [\" Of Man ' s first disobedience , and the fruit Of that forbidden tree whose mortal taste Brought death into the World , and all our woe , With loss of Eden , till one greater Man Restore us , and regain the blissful seat , Sing , Heavenly Muse , that , on the secret top Of Oreb , or of Sinai , didst inspire That shepherd who first taught the chosen seed In the beginning how the heavens and earth Rose out of Chaos : or , if Sion hill Delight thee more , and Siloa ' s brook that flowed Fast by the oracle of God , I thence Invoke thy aid to my adventurous song , That with no middle flight intends to soar Above th ' Aonian mount , while it pursues Things unattempted yet in prose or rhyme .\"], [\" And chiefly thou , O Spirit , that dost prefer Before all temples th ' upright heart and pure , Instruct me , for thou know ' st ; thou from the first Wast present , and , with mighty wings outspread , Dove - like sat ' st brooding on the vast Abyss , And mad ' st it pregnant : what in me is dark Illumine , what is low raise and support ; That , to the height of this great argument , I may assert Eternal Providence , And justify the ways of God to men .\"], [' Say first -- for Heaven hides nothing from thy view , Nor the deep tract of Hell -- say first what cause Moved our grand parents , in that happy state , Favoured of Heaven so highly , to fall off From their Creator , and transgress his will For one restraint , lords of the World besides .']]\n"
     ]
    }
   ],
   "source": [
    "# Read in Paradise Lost as sentences\n",
    "paradise = nltk.corpus.gutenberg.sents('milton-paradise.txt')\n",
    "\n",
    "# helper function to create a string from the token sentences\n",
    "def to_list_sentences(sentences):\n",
    "    #takes in a list of lists\n",
    "    sentence_list = []\n",
    "    #for each list \n",
    "    for sentence in sentences:\n",
    "        sentence_string =''\n",
    "        # for each word in the list\n",
    "        for word in sentence:\n",
    "            sentence_string += ' ' + word\n",
    "        temp = []\n",
    "        temp.append(sentence_string)\n",
    "        sentence_list.append(temp)\n",
    "    return sentence_list\n",
    "\n",
    "# make every sentence it's own string for sentiment analysis\n",
    "paradise_sent = to_list_sentences(paradise)\n",
    "print(paradise_sent[:5])"
   ]
  },
  {
   "cell_type": "code",
   "execution_count": 12,
   "id": "acting-finland",
   "metadata": {},
   "outputs": [
    {
     "data": {
      "text/plain": [
       "1851"
      ]
     },
     "execution_count": 12,
     "metadata": {},
     "output_type": "execute_result"
    }
   ],
   "source": [
    "len(paradise_sent)"
   ]
  },
  {
   "cell_type": "code",
   "execution_count": 13,
   "id": "grave-astrology",
   "metadata": {},
   "outputs": [],
   "source": [
    "# making a list of dictionaries that have the sentiments saved and \n",
    "# associated with the sentence\n",
    "sentiments=[]\n",
    "for sentence in paradise_sent:\n",
    "    # must call sentence[0] becuase each sentence is a list with one sentence\n",
    "    sentiment = analyzer.polarity_scores(sentence[0])\n",
    "    #print(sentiment)\n",
    "    compound = sentiment[\"compound\"]\n",
    "    pos = sentiment[\"pos\"]\n",
    "    neu = sentiment[\"neu\"]\n",
    "    neg = sentiment[\"neg\"]\n",
    "    sentiments.append({\n",
    "                \"text\":sentence[0],\n",
    "                \"compound\":compound,\n",
    "                \"positive\":pos,\n",
    "                \"negative\":neg,\n",
    "                \"neutral\":neu\n",
    "    })\n",
    "#sentiments"
   ]
  },
  {
   "cell_type": "code",
   "execution_count": 14,
   "id": "voluntary-lloyd",
   "metadata": {},
   "outputs": [
    {
     "data": {
      "text/plain": [
       "[{'text': ' [ Paradise Lost by John Milton 1667 ]',\n",
       "  'compound': 0.4404,\n",
       "  'positive': 0.4,\n",
       "  'negative': 0.219,\n",
       "  'neutral': 0.381},\n",
       " {'text': \" Of Man ' s first disobedience , and the fruit Of that forbidden tree whose mortal taste Brought death into the World , and all our woe , With loss of Eden , till one greater Man Restore us , and regain the blissful seat , Sing , Heavenly Muse , that , on the secret top Of Oreb , or of Sinai , didst inspire That shepherd who first taught the chosen seed In the beginning how the heavens and earth Rose out of Chaos : or , if Sion hill Delight thee more , and Siloa ' s brook that flowed Fast by the oracle of God , I thence Invoke thy aid to my adventurous song , That with no middle flight intends to soar Above th ' Aonian mount , while it pursues Things unattempted yet in prose or rhyme .\",\n",
       "  'compound': 0.8885,\n",
       "  'positive': 0.192,\n",
       "  'negative': 0.117,\n",
       "  'neutral': 0.691},\n",
       " {'text': ' Say first -- for Heaven hides nothing from thy view , Nor the deep tract of Hell -- say first what cause Moved our grand parents , in that happy state , Favoured of Heaven so highly , to fall off From their Creator , and transgress his will For one restraint , lords of the World besides .',\n",
       "  'compound': 0.8689,\n",
       "  'positive': 0.239,\n",
       "  'negative': 0.093,\n",
       "  'neutral': 0.668}]"
      ]
     },
     "execution_count": 14,
     "metadata": {},
     "output_type": "execute_result"
    }
   ],
   "source": [
    "sentiments[:6:2]"
   ]
  },
  {
   "cell_type": "code",
   "execution_count": 15,
   "id": "grand-battle",
   "metadata": {},
   "outputs": [
    {
     "data": {
      "text/html": [
       "<div>\n",
       "<style scoped>\n",
       "    .dataframe tbody tr th:only-of-type {\n",
       "        vertical-align: middle;\n",
       "    }\n",
       "\n",
       "    .dataframe tbody tr th {\n",
       "        vertical-align: top;\n",
       "    }\n",
       "\n",
       "    .dataframe thead th {\n",
       "        text-align: right;\n",
       "    }\n",
       "</style>\n",
       "<table border=\"1\" class=\"dataframe\">\n",
       "  <thead>\n",
       "    <tr style=\"text-align: right;\">\n",
       "      <th></th>\n",
       "      <th>text</th>\n",
       "      <th>compound</th>\n",
       "      <th>positive</th>\n",
       "      <th>negative</th>\n",
       "      <th>neutral</th>\n",
       "    </tr>\n",
       "  </thead>\n",
       "  <tbody>\n",
       "    <tr>\n",
       "      <th>0</th>\n",
       "      <td>[ Paradise Lost by John Milton 1667 ]</td>\n",
       "      <td>0.4404</td>\n",
       "      <td>0.400</td>\n",
       "      <td>0.219</td>\n",
       "      <td>0.381</td>\n",
       "    </tr>\n",
       "    <tr>\n",
       "      <th>1</th>\n",
       "      <td>Book I</td>\n",
       "      <td>0.0000</td>\n",
       "      <td>0.000</td>\n",
       "      <td>0.000</td>\n",
       "      <td>1.000</td>\n",
       "    </tr>\n",
       "    <tr>\n",
       "      <th>2</th>\n",
       "      <td>Of Man ' s first disobedience , and the fruit...</td>\n",
       "      <td>0.8885</td>\n",
       "      <td>0.192</td>\n",
       "      <td>0.117</td>\n",
       "      <td>0.691</td>\n",
       "    </tr>\n",
       "    <tr>\n",
       "      <th>3</th>\n",
       "      <td>And chiefly thou , O Spirit , that dost prefe...</td>\n",
       "      <td>0.7331</td>\n",
       "      <td>0.163</td>\n",
       "      <td>0.085</td>\n",
       "      <td>0.752</td>\n",
       "    </tr>\n",
       "    <tr>\n",
       "      <th>4</th>\n",
       "      <td>Say first -- for Heaven hides nothing from th...</td>\n",
       "      <td>0.8689</td>\n",
       "      <td>0.239</td>\n",
       "      <td>0.093</td>\n",
       "      <td>0.668</td>\n",
       "    </tr>\n",
       "  </tbody>\n",
       "</table>\n",
       "</div>"
      ],
      "text/plain": [
       "                                                text  compound  positive  \\\n",
       "0              [ Paradise Lost by John Milton 1667 ]    0.4404     0.400   \n",
       "1                                             Book I    0.0000     0.000   \n",
       "2   Of Man ' s first disobedience , and the fruit...    0.8885     0.192   \n",
       "3   And chiefly thou , O Spirit , that dost prefe...    0.7331     0.163   \n",
       "4   Say first -- for Heaven hides nothing from th...    0.8689     0.239   \n",
       "\n",
       "   negative  neutral  \n",
       "0     0.219    0.381  \n",
       "1     0.000    1.000  \n",
       "2     0.117    0.691  \n",
       "3     0.085    0.752  \n",
       "4     0.093    0.668  "
      ]
     },
     "execution_count": 15,
     "metadata": {},
     "output_type": "execute_result"
    }
   ],
   "source": [
    "df = pd.DataFrame(sentiments)\n",
    "df.head()"
   ]
  },
  {
   "cell_type": "code",
   "execution_count": 16,
   "id": "integral-painting",
   "metadata": {},
   "outputs": [
    {
     "data": {
      "text/html": [
       "<div>\n",
       "<style scoped>\n",
       "    .dataframe tbody tr th:only-of-type {\n",
       "        vertical-align: middle;\n",
       "    }\n",
       "\n",
       "    .dataframe tbody tr th {\n",
       "        vertical-align: top;\n",
       "    }\n",
       "\n",
       "    .dataframe thead th {\n",
       "        text-align: right;\n",
       "    }\n",
       "</style>\n",
       "<table border=\"1\" class=\"dataframe\">\n",
       "  <thead>\n",
       "    <tr style=\"text-align: right;\">\n",
       "      <th></th>\n",
       "      <th>compound</th>\n",
       "      <th>positive</th>\n",
       "      <th>negative</th>\n",
       "      <th>neutral</th>\n",
       "    </tr>\n",
       "  </thead>\n",
       "  <tbody>\n",
       "    <tr>\n",
       "      <th>count</th>\n",
       "      <td>1851.000000</td>\n",
       "      <td>1851.000000</td>\n",
       "      <td>1851.000000</td>\n",
       "      <td>1851.000000</td>\n",
       "    </tr>\n",
       "    <tr>\n",
       "      <th>mean</th>\n",
       "      <td>0.146361</td>\n",
       "      <td>0.150328</td>\n",
       "      <td>0.115088</td>\n",
       "      <td>0.732953</td>\n",
       "    </tr>\n",
       "    <tr>\n",
       "      <th>std</th>\n",
       "      <td>0.632738</td>\n",
       "      <td>0.137675</td>\n",
       "      <td>0.134717</td>\n",
       "      <td>0.170586</td>\n",
       "    </tr>\n",
       "    <tr>\n",
       "      <th>min</th>\n",
       "      <td>-0.995200</td>\n",
       "      <td>0.000000</td>\n",
       "      <td>0.000000</td>\n",
       "      <td>0.000000</td>\n",
       "    </tr>\n",
       "    <tr>\n",
       "      <th>25%</th>\n",
       "      <td>-0.401900</td>\n",
       "      <td>0.033500</td>\n",
       "      <td>0.000000</td>\n",
       "      <td>0.631000</td>\n",
       "    </tr>\n",
       "    <tr>\n",
       "      <th>50%</th>\n",
       "      <td>0.144500</td>\n",
       "      <td>0.132000</td>\n",
       "      <td>0.077000</td>\n",
       "      <td>0.736000</td>\n",
       "    </tr>\n",
       "    <tr>\n",
       "      <th>75%</th>\n",
       "      <td>0.765000</td>\n",
       "      <td>0.227000</td>\n",
       "      <td>0.184000</td>\n",
       "      <td>0.843000</td>\n",
       "    </tr>\n",
       "    <tr>\n",
       "      <th>max</th>\n",
       "      <td>0.997300</td>\n",
       "      <td>1.000000</td>\n",
       "      <td>1.000000</td>\n",
       "      <td>1.000000</td>\n",
       "    </tr>\n",
       "  </tbody>\n",
       "</table>\n",
       "</div>"
      ],
      "text/plain": [
       "          compound     positive     negative      neutral\n",
       "count  1851.000000  1851.000000  1851.000000  1851.000000\n",
       "mean      0.146361     0.150328     0.115088     0.732953\n",
       "std       0.632738     0.137675     0.134717     0.170586\n",
       "min      -0.995200     0.000000     0.000000     0.000000\n",
       "25%      -0.401900     0.033500     0.000000     0.631000\n",
       "50%       0.144500     0.132000     0.077000     0.736000\n",
       "75%       0.765000     0.227000     0.184000     0.843000\n",
       "max       0.997300     1.000000     1.000000     1.000000"
      ]
     },
     "execution_count": 16,
     "metadata": {},
     "output_type": "execute_result"
    }
   ],
   "source": [
    "df.describe()"
   ]
  },
  {
   "cell_type": "markdown",
   "id": "demographic-venezuela",
   "metadata": {},
   "source": [
    "### First 5 most negative sentences"
   ]
  },
  {
   "cell_type": "code",
   "execution_count": 17,
   "id": "naked-tuner",
   "metadata": {},
   "outputs": [
    {
     "data": {
      "text/html": [
       "<div>\n",
       "<style scoped>\n",
       "    .dataframe tbody tr th:only-of-type {\n",
       "        vertical-align: middle;\n",
       "    }\n",
       "\n",
       "    .dataframe tbody tr th {\n",
       "        vertical-align: top;\n",
       "    }\n",
       "\n",
       "    .dataframe thead th {\n",
       "        text-align: right;\n",
       "    }\n",
       "</style>\n",
       "<table border=\"1\" class=\"dataframe\">\n",
       "  <thead>\n",
       "    <tr style=\"text-align: right;\">\n",
       "      <th></th>\n",
       "      <th>text</th>\n",
       "      <th>compound</th>\n",
       "      <th>positive</th>\n",
       "      <th>negative</th>\n",
       "      <th>neutral</th>\n",
       "    </tr>\n",
       "  </thead>\n",
       "  <tbody>\n",
       "    <tr>\n",
       "      <th>153</th>\n",
       "      <td>No !</td>\n",
       "      <td>-0.3595</td>\n",
       "      <td>0.0</td>\n",
       "      <td>1.000</td>\n",
       "      <td>0.000</td>\n",
       "    </tr>\n",
       "    <tr>\n",
       "      <th>512</th>\n",
       "      <td>O Hell !</td>\n",
       "      <td>-0.7088</td>\n",
       "      <td>0.0</td>\n",
       "      <td>1.000</td>\n",
       "      <td>0.000</td>\n",
       "    </tr>\n",
       "    <tr>\n",
       "      <th>1689</th>\n",
       "      <td>Alas !</td>\n",
       "      <td>-0.3382</td>\n",
       "      <td>0.0</td>\n",
       "      <td>1.000</td>\n",
       "      <td>0.000</td>\n",
       "    </tr>\n",
       "    <tr>\n",
       "      <th>478</th>\n",
       "      <td>Me miserable !</td>\n",
       "      <td>-0.5411</td>\n",
       "      <td>0.0</td>\n",
       "      <td>0.777</td>\n",
       "      <td>0.223</td>\n",
       "    </tr>\n",
       "    <tr>\n",
       "      <th>175</th>\n",
       "      <td>Sad cure !</td>\n",
       "      <td>-0.5255</td>\n",
       "      <td>0.0</td>\n",
       "      <td>0.772</td>\n",
       "      <td>0.228</td>\n",
       "    </tr>\n",
       "  </tbody>\n",
       "</table>\n",
       "</div>"
      ],
      "text/plain": [
       "                 text  compound  positive  negative  neutral\n",
       "153              No !   -0.3595       0.0     1.000    0.000\n",
       "512          O Hell !   -0.7088       0.0     1.000    0.000\n",
       "1689           Alas !   -0.3382       0.0     1.000    0.000\n",
       "478    Me miserable !   -0.5411       0.0     0.777    0.223\n",
       "175        Sad cure !   -0.5255       0.0     0.772    0.228"
      ]
     },
     "execution_count": 17,
     "metadata": {},
     "output_type": "execute_result"
    }
   ],
   "source": [
    "df.nlargest(5, columns=['negative'], keep='first')"
   ]
  },
  {
   "cell_type": "markdown",
   "id": "lesser-chapter",
   "metadata": {},
   "source": [
    "### First 5 most positive sentences"
   ]
  },
  {
   "cell_type": "code",
   "execution_count": 18,
   "id": "younger-headset",
   "metadata": {},
   "outputs": [
    {
     "data": {
      "text/html": [
       "<div>\n",
       "<style scoped>\n",
       "    .dataframe tbody tr th:only-of-type {\n",
       "        vertical-align: middle;\n",
       "    }\n",
       "\n",
       "    .dataframe tbody tr th {\n",
       "        vertical-align: top;\n",
       "    }\n",
       "\n",
       "    .dataframe thead th {\n",
       "        text-align: right;\n",
       "    }\n",
       "</style>\n",
       "<table border=\"1\" class=\"dataframe\">\n",
       "  <thead>\n",
       "    <tr style=\"text-align: right;\">\n",
       "      <th></th>\n",
       "      <th>text</th>\n",
       "      <th>compound</th>\n",
       "      <th>positive</th>\n",
       "      <th>negative</th>\n",
       "      <th>neutral</th>\n",
       "    </tr>\n",
       "  </thead>\n",
       "  <tbody>\n",
       "    <tr>\n",
       "      <th>605</th>\n",
       "      <td>O friends !</td>\n",
       "      <td>0.5255</td>\n",
       "      <td>1.000</td>\n",
       "      <td>0.0</td>\n",
       "      <td>0.000</td>\n",
       "    </tr>\n",
       "    <tr>\n",
       "      <th>828</th>\n",
       "      <td>O Heaven !</td>\n",
       "      <td>0.5562</td>\n",
       "      <td>1.000</td>\n",
       "      <td>0.0</td>\n",
       "      <td>0.000</td>\n",
       "    </tr>\n",
       "    <tr>\n",
       "      <th>908</th>\n",
       "      <td>O Friends !</td>\n",
       "      <td>0.5255</td>\n",
       "      <td>1.000</td>\n",
       "      <td>0.0</td>\n",
       "      <td>0.000</td>\n",
       "    </tr>\n",
       "    <tr>\n",
       "      <th>1441</th>\n",
       "      <td>O Heaven !</td>\n",
       "      <td>0.5562</td>\n",
       "      <td>1.000</td>\n",
       "      <td>0.0</td>\n",
       "      <td>0.000</td>\n",
       "    </tr>\n",
       "    <tr>\n",
       "      <th>1233</th>\n",
       "      <td>She fair , divinely fair , fit love for Gods !</td>\n",
       "      <td>0.9381</td>\n",
       "      <td>0.838</td>\n",
       "      <td>0.0</td>\n",
       "      <td>0.162</td>\n",
       "    </tr>\n",
       "    <tr>\n",
       "      <th>1142</th>\n",
       "      <td>Be strong , live happy , and love !</td>\n",
       "      <td>0.9098</td>\n",
       "      <td>0.793</td>\n",
       "      <td>0.0</td>\n",
       "      <td>0.207</td>\n",
       "    </tr>\n",
       "    <tr>\n",
       "      <th>626</th>\n",
       "      <td>Courageous Chief !</td>\n",
       "      <td>0.5707</td>\n",
       "      <td>0.787</td>\n",
       "      <td>0.0</td>\n",
       "      <td>0.213</td>\n",
       "    </tr>\n",
       "  </tbody>\n",
       "</table>\n",
       "</div>"
      ],
      "text/plain": [
       "                                                 text  compound  positive  \\\n",
       "605                                       O friends !    0.5255     1.000   \n",
       "828                                        O Heaven !    0.5562     1.000   \n",
       "908                                       O Friends !    0.5255     1.000   \n",
       "1441                                       O Heaven !    0.5562     1.000   \n",
       "1233   She fair , divinely fair , fit love for Gods !    0.9381     0.838   \n",
       "1142              Be strong , live happy , and love !    0.9098     0.793   \n",
       "626                                Courageous Chief !    0.5707     0.787   \n",
       "\n",
       "      negative  neutral  \n",
       "605        0.0    0.000  \n",
       "828        0.0    0.000  \n",
       "908        0.0    0.000  \n",
       "1441       0.0    0.000  \n",
       "1233       0.0    0.162  \n",
       "1142       0.0    0.207  \n",
       "626        0.0    0.213  "
      ]
     },
     "execution_count": 18,
     "metadata": {},
     "output_type": "execute_result"
    }
   ],
   "source": [
    "df.nlargest(7, columns=['positive'], keep='first')\n",
    "\n",
    "# O friends and O Heaven repeat"
   ]
  },
  {
   "cell_type": "markdown",
   "id": "competitive-telling",
   "metadata": {},
   "source": [
    "### First 5 most neutral sentences\n",
    "\n",
    "***However, there are 224 sentences that were rated 1.0 - the highest neutral rating.***"
   ]
  },
  {
   "cell_type": "code",
   "execution_count": 19,
   "id": "downtown-button",
   "metadata": {},
   "outputs": [
    {
     "data": {
      "text/html": [
       "<div>\n",
       "<style scoped>\n",
       "    .dataframe tbody tr th:only-of-type {\n",
       "        vertical-align: middle;\n",
       "    }\n",
       "\n",
       "    .dataframe tbody tr th {\n",
       "        vertical-align: top;\n",
       "    }\n",
       "\n",
       "    .dataframe thead th {\n",
       "        text-align: right;\n",
       "    }\n",
       "</style>\n",
       "<table border=\"1\" class=\"dataframe\">\n",
       "  <thead>\n",
       "    <tr style=\"text-align: right;\">\n",
       "      <th></th>\n",
       "      <th>text</th>\n",
       "      <th>compound</th>\n",
       "      <th>positive</th>\n",
       "      <th>negative</th>\n",
       "      <th>neutral</th>\n",
       "    </tr>\n",
       "  </thead>\n",
       "  <tbody>\n",
       "    <tr>\n",
       "      <th>1</th>\n",
       "      <td>Book I</td>\n",
       "      <td>0.0</td>\n",
       "      <td>0.0</td>\n",
       "      <td>0.0</td>\n",
       "      <td>1.0</td>\n",
       "    </tr>\n",
       "    <tr>\n",
       "      <th>13</th>\n",
       "      <td>Oh how unlike the place from whence they fell !</td>\n",
       "      <td>0.0</td>\n",
       "      <td>0.0</td>\n",
       "      <td>0.0</td>\n",
       "      <td>1.0</td>\n",
       "    </tr>\n",
       "    <tr>\n",
       "      <th>27</th>\n",
       "      <td>But see !</td>\n",
       "      <td>0.0</td>\n",
       "      <td>0.0</td>\n",
       "      <td>0.0</td>\n",
       "      <td>1.0</td>\n",
       "    </tr>\n",
       "    <tr>\n",
       "      <th>33</th>\n",
       "      <td>Him , haply slumbering on the Norway foam , T...</td>\n",
       "      <td>0.0</td>\n",
       "      <td>0.0</td>\n",
       "      <td>0.0</td>\n",
       "      <td>1.0</td>\n",
       "    </tr>\n",
       "    <tr>\n",
       "      <th>37</th>\n",
       "      <td>Such resting found the sole Of unblest feet .</td>\n",
       "      <td>0.0</td>\n",
       "      <td>0.0</td>\n",
       "      <td>0.0</td>\n",
       "      <td>1.0</td>\n",
       "    </tr>\n",
       "  </tbody>\n",
       "</table>\n",
       "</div>"
      ],
      "text/plain": [
       "                                                 text  compound  positive  \\\n",
       "1                                              Book I       0.0       0.0   \n",
       "13    Oh how unlike the place from whence they fell !       0.0       0.0   \n",
       "27                                          But see !       0.0       0.0   \n",
       "33   Him , haply slumbering on the Norway foam , T...       0.0       0.0   \n",
       "37      Such resting found the sole Of unblest feet .       0.0       0.0   \n",
       "\n",
       "    negative  neutral  \n",
       "1        0.0      1.0  \n",
       "13       0.0      1.0  \n",
       "27       0.0      1.0  \n",
       "33       0.0      1.0  \n",
       "37       0.0      1.0  "
      ]
     },
     "execution_count": 19,
     "metadata": {},
     "output_type": "execute_result"
    }
   ],
   "source": [
    "df.nlargest(5, columns=['neutral'], keep='first')"
   ]
  },
  {
   "cell_type": "code",
   "execution_count": 20,
   "id": "first-election",
   "metadata": {},
   "outputs": [],
   "source": [
    "neutral_text = df[df['neutral'] == 1.0]"
   ]
  },
  {
   "cell_type": "code",
   "execution_count": 21,
   "id": "engaged-pound",
   "metadata": {},
   "outputs": [
    {
     "data": {
      "text/html": [
       "<div>\n",
       "<style scoped>\n",
       "    .dataframe tbody tr th:only-of-type {\n",
       "        vertical-align: middle;\n",
       "    }\n",
       "\n",
       "    .dataframe tbody tr th {\n",
       "        vertical-align: top;\n",
       "    }\n",
       "\n",
       "    .dataframe thead th {\n",
       "        text-align: right;\n",
       "    }\n",
       "</style>\n",
       "<table border=\"1\" class=\"dataframe\">\n",
       "  <thead>\n",
       "    <tr style=\"text-align: right;\">\n",
       "      <th></th>\n",
       "      <th>text</th>\n",
       "      <th>compound</th>\n",
       "      <th>positive</th>\n",
       "      <th>negative</th>\n",
       "      <th>neutral</th>\n",
       "    </tr>\n",
       "  </thead>\n",
       "  <tbody>\n",
       "    <tr>\n",
       "      <th>1</th>\n",
       "      <td>Book I</td>\n",
       "      <td>0.0</td>\n",
       "      <td>0.0</td>\n",
       "      <td>0.0</td>\n",
       "      <td>1.0</td>\n",
       "    </tr>\n",
       "    <tr>\n",
       "      <th>13</th>\n",
       "      <td>Oh how unlike the place from whence they fell !</td>\n",
       "      <td>0.0</td>\n",
       "      <td>0.0</td>\n",
       "      <td>0.0</td>\n",
       "      <td>1.0</td>\n",
       "    </tr>\n",
       "    <tr>\n",
       "      <th>27</th>\n",
       "      <td>But see !</td>\n",
       "      <td>0.0</td>\n",
       "      <td>0.0</td>\n",
       "      <td>0.0</td>\n",
       "      <td>1.0</td>\n",
       "    </tr>\n",
       "    <tr>\n",
       "      <th>33</th>\n",
       "      <td>Him , haply slumbering on the Norway foam , T...</td>\n",
       "      <td>0.0</td>\n",
       "      <td>0.0</td>\n",
       "      <td>0.0</td>\n",
       "      <td>1.0</td>\n",
       "    </tr>\n",
       "    <tr>\n",
       "      <th>37</th>\n",
       "      <td>Such resting found the sole Of unblest feet .</td>\n",
       "      <td>0.0</td>\n",
       "      <td>0.0</td>\n",
       "      <td>0.0</td>\n",
       "      <td>1.0</td>\n",
       "    </tr>\n",
       "    <tr>\n",
       "      <th>...</th>\n",
       "      <td>...</td>\n",
       "      <td>...</td>\n",
       "      <td>...</td>\n",
       "      <td>...</td>\n",
       "      <td>...</td>\n",
       "    </tr>\n",
       "    <tr>\n",
       "      <th>1828</th>\n",
       "      <td>Who then shall guide His people , who defend ?</td>\n",
       "      <td>0.0</td>\n",
       "      <td>0.0</td>\n",
       "      <td>0.0</td>\n",
       "      <td>1.0</td>\n",
       "    </tr>\n",
       "    <tr>\n",
       "      <th>1837</th>\n",
       "      <td>He ended ; and thus Adam last replied .</td>\n",
       "      <td>0.0</td>\n",
       "      <td>0.0</td>\n",
       "      <td>0.0</td>\n",
       "      <td>1.0</td>\n",
       "    </tr>\n",
       "    <tr>\n",
       "      <th>1838</th>\n",
       "      <td>How soon hath thy prediction , Seer blest , M...</td>\n",
       "      <td>0.0</td>\n",
       "      <td>0.0</td>\n",
       "      <td>0.0</td>\n",
       "      <td>1.0</td>\n",
       "    </tr>\n",
       "    <tr>\n",
       "      <th>1842</th>\n",
       "      <td>To whom thus also the Angel last replied .</td>\n",
       "      <td>0.0</td>\n",
       "      <td>0.0</td>\n",
       "      <td>0.0</td>\n",
       "      <td>1.0</td>\n",
       "    </tr>\n",
       "    <tr>\n",
       "      <th>1850</th>\n",
       "      <td>[ The End ]\u001a\u001a</td>\n",
       "      <td>0.0</td>\n",
       "      <td>0.0</td>\n",
       "      <td>0.0</td>\n",
       "      <td>1.0</td>\n",
       "    </tr>\n",
       "  </tbody>\n",
       "</table>\n",
       "<p>224 rows × 5 columns</p>\n",
       "</div>"
      ],
      "text/plain": [
       "                                                   text  compound  positive  \\\n",
       "1                                                Book I       0.0       0.0   \n",
       "13      Oh how unlike the place from whence they fell !       0.0       0.0   \n",
       "27                                            But see !       0.0       0.0   \n",
       "33     Him , haply slumbering on the Norway foam , T...       0.0       0.0   \n",
       "37        Such resting found the sole Of unblest feet .       0.0       0.0   \n",
       "...                                                 ...       ...       ...   \n",
       "1828     Who then shall guide His people , who defend ?       0.0       0.0   \n",
       "1837            He ended ; and thus Adam last replied .       0.0       0.0   \n",
       "1838   How soon hath thy prediction , Seer blest , M...       0.0       0.0   \n",
       "1842         To whom thus also the Angel last replied .       0.0       0.0   \n",
       "1850                                      [ The End ]\u001a\u001a       0.0       0.0   \n",
       "\n",
       "      negative  neutral  \n",
       "1          0.0      1.0  \n",
       "13         0.0      1.0  \n",
       "27         0.0      1.0  \n",
       "33         0.0      1.0  \n",
       "37         0.0      1.0  \n",
       "...        ...      ...  \n",
       "1828       0.0      1.0  \n",
       "1837       0.0      1.0  \n",
       "1838       0.0      1.0  \n",
       "1842       0.0      1.0  \n",
       "1850       0.0      1.0  \n",
       "\n",
       "[224 rows x 5 columns]"
      ]
     },
     "execution_count": 21,
     "metadata": {},
     "output_type": "execute_result"
    }
   ],
   "source": [
    "neutral_text"
   ]
  },
  {
   "cell_type": "markdown",
   "id": "future-leisure",
   "metadata": {},
   "source": [
    "***The most neutral 224 sentences.***"
   ]
  },
  {
   "cell_type": "code",
   "execution_count": 22,
   "id": "explicit-segment",
   "metadata": {},
   "outputs": [
    {
     "data": {
      "text/plain": [
       "[' Book I',\n",
       " ' Oh how unlike the place from whence they fell !',\n",
       " ' But see !',\n",
       " ' Him , haply slumbering on the Norway foam , The pilot of some small night - foundered skiff , Deeming some island , oft , as seamen tell , With fixed anchor in his scaly rind , Moors by his side under the lee , while night Invests the sea , and wished morn delays .',\n",
       " ' Such resting found the sole Of unblest feet .',\n",
       " ' With these came they who , from the bordering flood Of old Euphrates to the brook that parts Egypt from Syrian ground , had general names Of Baalim and Ashtaroth -- those male , These feminine .',\n",
       " ' Thither , winged with speed , A numerous brigade hastened : as when bands Of pioneers , with spade and pickaxe armed , Forerun the royal camp , to trench a field , Or cast a rampart .',\n",
       " ' Soon had his crew Opened into the hill a spacious wound , And digged out ribs of gold .',\n",
       " ' Their summons called From every band and squared regiment By place or choice the worthiest : they anon With hundreds and with thousands trooping came Attended .',\n",
       " ' As bees In spring - time , when the Sun with Taurus rides .',\n",
       " ' Book II',\n",
       " ' Who can advise may speak .\"',\n",
       " ' Of wiles , More unexpert , I boast not : them let those Contrive who need , or when they need ; not now .',\n",
       " \" ' Wherefore cease we , then ?'\",\n",
       " ' Or when we lay Chained on the burning lake ?',\n",
       " ' Ye have what I advise .\"',\n",
       " ' But , first , whom shall we send In search of this new World ?',\n",
       " ' whom shall we find Sufficient ?',\n",
       " ' This said , he sat ; and expectation held His look suspense , awaiting who appeared To second , or oppose , or undertake The perilous attempt .',\n",
       " ' Empyreal Thrones !',\n",
       " ' With reason hath deep silence and demur Seized us , though undismayed .',\n",
       " ' This enterprise None shall partake with me .\"',\n",
       " ' Their rising all at once was as the sound Of thunder heard remote .',\n",
       " ' As when far off at sea a fleet descried Hangs in the clouds , by equinoctial winds Close sailing from Bengala , or the isles Of Ternate and Tidore , whence merchants bring Their spicy drugs ; they on the trading flood , Through the wide Ethiopian to the Cape , Ply stemming nightly toward the pole : so seemed Far off the flying Fiend .',\n",
       " ' Before the gates there sat On either side a formidable Shape .',\n",
       " ' To whom the Goblin , full of wrath , replied :-- \" Art thou that traitor Angel ?',\n",
       " \" And know ' st for whom ?\",\n",
       " ' I know thee not , nor ever saw till now Sight more detestable than him and thee .\"',\n",
       " ' There ye shall be fed and filled Immeasurably ; all things shall be your prey .\"',\n",
       " \" Thou art my father , thou my author , thou My being gav ' st me ; whom should I obey But thee ?\",\n",
       " ' whom follow ?',\n",
       " ' Book III',\n",
       " ' Or hear \" st thou rather pure ethereal stream , Whose fountain who shall tell ?',\n",
       " ' So much the rather thou , celestial Light , Shine inward , and the mind through all her powers Irradiate ; there plant eyes , all mist from thence Purge and disperse , that I may see and tell Of things invisible to mortal sight .',\n",
       " ' Whose but his own ?',\n",
       " ' that be from thee far , That far be from thee , Father , who art judge Of all things made , and judgest only right .',\n",
       " ' As when a scout , Through dark ?',\n",
       " ' ; nd desart ways with ? oeril gone All ? might ,?',\n",
       " ' Book IV',\n",
       " ' Ay me !',\n",
       " ' Ah !',\n",
       " ' To whom thus Eve replied .',\n",
       " ' what thou hast said is just and right .',\n",
       " ' That day I oft remember , when from sleep I first awaked , and found myself reposed Under a shade on flowers , much wondering where And what I was , whence thither brought , and how .',\n",
       " ' To whom the winged warriour thus returned .',\n",
       " ' When Adam thus to Eve .',\n",
       " ' But wherefore all night long shine these ?',\n",
       " ' To whom our general ancestor replied .',\n",
       " ' These , lulled by nightingales , embracing slept , And on their naked limbs the flowery roof Showered roses , which the morn repaired .',\n",
       " ' Now had night measured with her shadowy cone Half way up hill this vast sublunar vault , And from their ivory port the Cherubim , Forth issuing at the accustomed hour , stood armed To their night watches in warlike parade ; When Gabriel to his next in power thus spake .',\n",
       " ' Uzziel , half these draw off , and coast the south With strictest watch ; these other wheel the north ; Our circuit meets full west .',\n",
       " ' As flame they part , Half wheeling to the shield , half to the spear .',\n",
       " ' Now drew they nigh The western point , where those half - rounding guards Just met , and closing stood in squadron joined , A waiting next command .',\n",
       " ' To whom their Chief , Gabriel , from the front thus called aloud .',\n",
       " ' He scarce had ended , when those two approached , And brief related whom they brought , where found , How busied , in what form and posture couched .',\n",
       " ' To whom with stern regard thus Gabriel spake .',\n",
       " ' Gabriel ?',\n",
       " ' So judge thou still , presumptuous !',\n",
       " ' But mark what I arreed thee now , Avant ; Fly neither whence thou fledst !',\n",
       " ' The Fiend looked up , and knew His mounted scale aloft : Nor more ; but fled Murmuring , and with him fled the shades of night .',\n",
       " ' Book V',\n",
       " ' To whom thus Eve .',\n",
       " ' To whom the Angel .',\n",
       " ' The sun that light imparts to all , receives From all his alimental recompence In humid exhalations , and at even Sups with the ocean .',\n",
       " ' To whom the patriarch of mankind replied .',\n",
       " ' But say , What meant that caution joined , If ye be found Obedient ?',\n",
       " ' To whom the Angel .',\n",
       " ' This was that caution given thee ; be advised .',\n",
       " ' Thus Adam made request ; and Raphael , After short pause assenting , thus began .',\n",
       " ' how last unfold The secrets of another world , perhaps Not lawful to reveal ?',\n",
       " ' What sleep can close Thy eye - lids ?',\n",
       " ' Thou to me thy thoughts Wast wont , I mine to thee was wont to impart ; Both waking we were one ; how then can now Thy sleep dissent ?',\n",
       " ' Too much to one !',\n",
       " ' but double how endured , To one , and to his image now proclaimed ?',\n",
       " ' Will ye submit your necks , and choose to bend The supple knee ?',\n",
       " ' or can introduce Law and edict on us , who without law Err not ?',\n",
       " ' That we were formed then sayest thou ?',\n",
       " ' and the work Of secondary hands , by task transferred From Father to his Son ?',\n",
       " ' rememberest thou Thy making , while the Maker gave thee being ?',\n",
       " ' Book VI',\n",
       " ' To whom in brief thus Abdiel stern replied .',\n",
       " ' Apostate !',\n",
       " ' What wonder ?',\n",
       " ' Whereto with look composed Satan replied .',\n",
       " ' So all ere day - spring , under conscious night , Secret they finished , and in order set , With silent circumspection , unespied .',\n",
       " ' At interview both stood A while ; but suddenly at head appeared Satan , and thus was heard commanding loud .',\n",
       " ' What should they do ?',\n",
       " ' Leader !',\n",
       " ' He said , and on his Son with rays direct Shone full ; he all his Father full expressed Ineffably into his face received ; And thus the Filial Godhead answering spake .',\n",
       " ' Book VII',\n",
       " ' Thus Adam his illustrious guest besought : And thus the Godlike Angel answered mild .',\n",
       " ' This also thy request , with caution asked , Obtain ; though to recount almighty works What words or tongue of Seraph can suffice , Or heart of man suffice to comprehend ?',\n",
       " ' So spake the Almighty , and to what he spake His Word , the Filial Godhead , gave effect .',\n",
       " ' Be fruitful , multiply , and in the seas , And lakes , and running streams , the waters fill ; And let the fowl be multiplied , on the Earth .',\n",
       " ' thus to his Son audibly spake .',\n",
       " ' Let us make now Man in our image , Man In our similitude , and let them rule Over the fish and fowl of sea and air , Beast of the field , and over all the Earth , And every creeping thing that creeps the ground .',\n",
       " ' Open , ye everlasting gates !',\n",
       " ' infinite Thy power !',\n",
       " ' what thought can measure thee , or tongue Relate thee !',\n",
       " ' Who can impair thee , Mighty King , or bound Thy empire !',\n",
       " ' So sung they , and the empyrean rung With halleluiahs : Thus was sabbath kept .',\n",
       " ' Book VIII',\n",
       " ' So spake the Godlike Power , and thus our Sire .',\n",
       " ' What callest thou solitude ?',\n",
       " ' Knowest thou not Their language and their ways ?',\n",
       " ' Hast thou not made me here thy substitute , And these inferiour far beneath me set ?',\n",
       " ' What thinkest thou then of me , and this my state ?',\n",
       " ' but fairest this Of all thy gifts !',\n",
       " ' nor enviest .',\n",
       " ' I now see Bone of my bone , flesh of my flesh , myself Before me : Woman is her name ; of Man Extracted : for this cause he shall forego Father and mother , and to his wife adhere ; And they shall be one flesh , one heart , one soul .',\n",
       " ' To whom the Angel with contracted brow .',\n",
       " ' For , what admirest thou , what transports thee so , An outside ?',\n",
       " ' To whom thus , half abashed , Adam replied .',\n",
       " ' by looks only ?',\n",
       " ' or do they mix Irradiance , virtual or immediate touch ?',\n",
       " ' So saying , he arose ; whom Adam thus Followed with benediction .',\n",
       " ' Book IX',\n",
       " ' More justly , seat worthier of Gods , as built With second thoughts , reforming what was old !',\n",
       " ' O foul descent !',\n",
       " ' To whom mild answer Adam thus returned .',\n",
       " ' To whom with healing words Adam replied .',\n",
       " \" Nor thou his malice and false guile contemn ; Subtle he needs must be , who could seduce Angels ; nor think superfluous other ' s aid .\",\n",
       " ' To whom thus Adam fervently replied .',\n",
       " ' Wouldst thou approve thy constancy , approve First thy obedience ; the other who can know , Not seeing thee attempted , who attest ?',\n",
       " ' So spake the patriarch of mankind ; but Eve Persisted ; yet submiss , though last , replied .',\n",
       " ' For now , and since first break of dawn , the Fiend , Mere serpent in appearance , forth was come ; And on his quest , where likeliest he might find The only two of mankind , but in them The whole included race , his purposed prey .',\n",
       " ' Thoughts , whither have ye led me !',\n",
       " ' and toward Eve Addressed his way : not with indented wave , Prone on the ground , as since ; but on his rear , Circular base of rising folds , that towered Fold above fold , a surging maze !',\n",
       " ' Wonder not , sovran Mistress , if perhaps Thou canst , who art sole wonder !',\n",
       " ' and what is one ?',\n",
       " ' So glozed the Tempter , and his proem tuned : Into the heart of Eve his words made way , Though at the voice much marvelling ; at length , Not unamazed , she thus in answer spake .',\n",
       " ' What may this mean ?',\n",
       " ' language of man pronounced By tongue of brute , and human sense expressed ?',\n",
       " ' Say , for such wonder claims attention due .',\n",
       " ' To whom the guileful Tempter thus replied .',\n",
       " ' from hence how far ?',\n",
       " ' To whom the Tempter guilefully replied .',\n",
       " ' Indeed !',\n",
       " ' To whom thus Eve , yet sinless .',\n",
       " ' Queen of this universe !',\n",
       " ' by the fruit ?',\n",
       " ' Shall that be shut to Man , which to the Beast Is open ?',\n",
       " ' That ye shall be as Gods , since I as Man , Internal Man , is but proportion meet ; I , of brute , human ; ye , of human , Gods .',\n",
       " ' Such prohibitions bind not .',\n",
       " ' How dies the Serpent ?',\n",
       " ' of operation blest To sapience , hitherto obscured , infamed .',\n",
       " ' But to Adam in what sort Shall I appear ?',\n",
       " ' Hast thou not wondered , Adam , at my stay ?',\n",
       " ' But past who can recall , or done undo ?',\n",
       " ' So Adam ; and thus Eve to him replied .',\n",
       " ' Such of late Columbus found the American , so girt With feathered cincture ; naked else , and wild Among the trees on isles and woody shores .',\n",
       " ' Was I to have never parted from thy side ?',\n",
       " ' Hadst thou been firm and fixed in thy dissent , Neither had I transgressed , nor thou with me .',\n",
       " ' And am I now upbraided as the cause Of thy transgressing ?',\n",
       " ' Book X',\n",
       " ' For still they knew , and ought to have still remembered , The high injunction , not to taste that fruit , Whoever tempted ; which they not obeying , ( Incurred what could they less ?)',\n",
       " ' But whom send I to judge them ?',\n",
       " ' whom but thee , Vicegerent Son ?',\n",
       " ' Whence Adam , faltering long , thus answered brief .',\n",
       " ' That thou art naked , who Hath told thee ?',\n",
       " ' Hast thou eaten of the tree , Whereof I gave thee charge thou shouldst not eat ?',\n",
       " ' To whom the Sovran Presence thus replied .',\n",
       " ' So having said , he thus to Eve in few .',\n",
       " ' Say , Woman , what is this which thou hast done ?',\n",
       " ' The Serpent me beguiled , and I did eat .',\n",
       " ' Because thou hast done this , thou art accursed Above all cattle , each beast of the field ; Upon thy belly groveling thou shalt go , And dust shalt eat all the days of thy life .',\n",
       " ' Between thee and the woman I will put Enmity , and between thine and her seed ; Her seed shall bruise thy head , thou bruise his heel .',\n",
       " ' On Adam last thus judgement he pronounced .',\n",
       " \" Opprobrious , with his robe of righteousness , Arraying , covered from his Father ' s sight .\",\n",
       " ' Whom thus the meager Shadow answered soon .',\n",
       " ' O Parent , these are thy magnifick deeds , Thy trophies !',\n",
       " ' However , some tradition they dispersed Among the Heathen , of their purchase got , And fabled how the Serpent , whom they called Ophion , with Eurynome , the wide -- Encroaching Eve perhaps , had first the rule Of high Olympus ; thence by Saturn driven And Ops , ere yet Dictaean Jove was born .',\n",
       " ' To whom the incestuous mother thus replied .',\n",
       " ' and , whatever thing The sithe of Time mows down , devour unspared ; Till I , in Man residing , through the race , His thoughts , his looks , words , actions , all infect ; And season him thy last and sweetest prey .',\n",
       " \" The sun Had first his precept so to move , so shine , As might affect the earth with cold and heat Scarce tolerable ; and from the north to call Decrepit winter ; from the south to bring Solstitial summer ' s heat .\",\n",
       " ' for what can I encrease , Or multiply , but curses on my head ?',\n",
       " ' Did I request thee , Maker , from my clay To mould me Man ?',\n",
       " ' Yet why ?',\n",
       " ' For though the Lord of all be infinite , Is his wrath also ?',\n",
       " ' But from me what can proceed , But all corrupt ; both mind and will depraved Not to do only , but to will the same With me ?',\n",
       " ' O Conscience !',\n",
       " ' Out of my sight , thou Serpent !',\n",
       " ' Forsake me not thus , Adam !',\n",
       " ' derived .',\n",
       " ' To whom thus Eve , recovering heart , replied .',\n",
       " ' Book XI',\n",
       " ' Adam observed , and with his eye the chase Pursuing , not unmoved , to Eve thus spake .',\n",
       " \" Why else this double object in our sight Of flight pursued in the air , and o ' er the ground , One way the self - same hour ?\",\n",
       " ' Who now shall rear ye to the sun , or rank Your tribes , and water from the ambrosial fount ?',\n",
       " ' Thee lastly , nuptial bower !',\n",
       " ' Adam , by this from the cold sudden damp Recovering , and his scattered spirits returned , To Michael thus his humble words addressed .',\n",
       " ' Celestial , whether among the Thrones , or named Of them the highest ; for such of shape may seem Prince above princes !',\n",
       " ' To whom Michael thus , he also moved , replied .',\n",
       " ' To which our sire .',\n",
       " ' both for the deed , and for the cause !',\n",
       " ' Is this the way I must return to native dust ?',\n",
       " ' To whom thus Michael .',\n",
       " ' Sight so deform what heart of rock could long Dry - eyed behold ?',\n",
       " ' Why is life given To be thus wrested from us ?',\n",
       " ' rather , why Obtruded on us thus ?',\n",
       " ' I yield it just , said Adam , and submit .',\n",
       " ' To whom our ancestor .',\n",
       " ' Michael replied .',\n",
       " ' To whom thus Michael .',\n",
       " ' But now prepare thee for another scene .',\n",
       " ' To whom thus Michael .',\n",
       " ' How comes it thus ?',\n",
       " ' unfold , celestial Guide , And whether here the race of Man will end .',\n",
       " ' To whom thus Michael .',\n",
       " ' And now , what further shall ensue , behold .',\n",
       " ' Or serve they , as a flowery verge , to bind The fluid skirts of that same watery cloud , Lest it again dissolve , and shower the earth ?',\n",
       " ' To whom the Arch - Angel .',\n",
       " ' Book XII',\n",
       " ' Thus thou hast seen one world begin , and end ; And Man , as from a second stock , proceed .',\n",
       " ' O execrable son !',\n",
       " ' To whom thus Michael .',\n",
       " ' Here Adam interposed .',\n",
       " ' To whom thus Michael .',\n",
       " ' To whom thus Michael .',\n",
       " ' Who then shall guide His people , who defend ?',\n",
       " ' He ended ; and thus Adam last replied .',\n",
       " ' How soon hath thy prediction , Seer blest , Measured this transient world , the race of time , Till time stand fixed !',\n",
       " ' To whom thus also the Angel last replied .',\n",
       " ' [ The End ]\\x1a\\x1a']"
      ]
     },
     "execution_count": 22,
     "metadata": {},
     "output_type": "execute_result"
    }
   ],
   "source": [
    "list(neutral_text['text'])"
   ]
  },
  {
   "cell_type": "code",
   "execution_count": 23,
   "id": "joined-possibility",
   "metadata": {},
   "outputs": [
    {
     "data": {
      "text/plain": [
       "1841"
      ]
     },
     "execution_count": 23,
     "metadata": {},
     "output_type": "execute_result"
    }
   ],
   "source": [
    "df['text'].nunique()"
   ]
  },
  {
   "attachments": {},
   "cell_type": "markdown",
   "id": "hungry-fraud",
   "metadata": {},
   "source": [
    "### 5.\tExplain your findings from the previous question. Are the sentences and their sentiment analysis scores correct? Explain why or why not. "
   ]
  },
  {
   "cell_type": "markdown",
   "id": "chief-turtle",
   "metadata": {},
   "source": [
    "The scoring for sentiment analysis leaves something to be desired.  For example, the following sentences were labeled neutral:\n",
    "\n",
    "* ' O Conscience !'\n",
    "* ' Out of my sight , thou Serpent !'\n",
    "* ' O foul descent !'\n",
    "* ' Because thou hast done this , thou art accursed Above all cattle , each beast of the field ; Upon thy belly groveling thou shalt go , And dust shalt eat all the days of thy life .'\n",
    "\n",
    "The above sentences should have some negative sentiment.\n",
    "\n",
    "The two largest challenges in correctly labeling sentiment from Paradise Lost are the age of text (released in 1667) and the poetic structure.  Both the age and structure are enough to not work well with Vader.\n",
    "\n",
    "Sentiment analysis is already difficult for texts less than 25 years old. Satire, sarcasm, and other nuances of the english language are difficult to capture and categorize.  The english language has changed substantially since the 1660s."
   ]
  },
  {
   "cell_type": "code",
   "execution_count": null,
   "id": "genetic-dancing",
   "metadata": {},
   "outputs": [],
   "source": []
  }
 ],
 "metadata": {
  "kernelspec": {
   "display_name": "Python 3",
   "language": "python",
   "name": "python3"
  },
  "language_info": {
   "codemirror_mode": {
    "name": "ipython",
    "version": 3
   },
   "file_extension": ".py",
   "mimetype": "text/x-python",
   "name": "python",
   "nbconvert_exporter": "python",
   "pygments_lexer": "ipython3",
   "version": "3.8.2"
  }
 },
 "nbformat": 4,
 "nbformat_minor": 5
}
