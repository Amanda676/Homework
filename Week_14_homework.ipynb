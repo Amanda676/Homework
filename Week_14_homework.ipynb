{
 "cells": [
  {
   "cell_type": "markdown",
   "id": "continuous-newton",
   "metadata": {},
   "source": [
    "# Week 14"
   ]
  },
  {
   "cell_type": "markdown",
   "id": "mysterious-finger",
   "metadata": {},
   "source": [
    "1.\tPerform pre-processing on the full dataset here: https://www.kaggle.com/sohier/calcofi "
   ]
  },
  {
   "cell_type": "code",
   "execution_count": 1,
   "id": "flying-brick",
   "metadata": {},
   "outputs": [],
   "source": [
    "import numpy as np\n",
    "import pandas as pd\n",
    "import matplotlib.pyplot as plt\n",
    "import seaborn as sns"
   ]
  },
  {
   "cell_type": "code",
   "execution_count": 2,
   "id": "correct-transmission",
   "metadata": {},
   "outputs": [
    {
     "name": "stderr",
     "output_type": "stream",
     "text": [
      "/opt/anaconda3/lib/python3.8/site-packages/IPython/core/interactiveshell.py:3165: DtypeWarning: Columns (47,73) have mixed types.Specify dtype option on import or set low_memory=False.\n",
      "  has_raised = await self.run_ast_nodes(code_ast.body, cell_name,\n"
     ]
    }
   ],
   "source": [
    "bottle_df = pd.read_csv('../bottle.csv')"
   ]
  },
  {
   "cell_type": "code",
   "execution_count": 3,
   "id": "personal-retirement",
   "metadata": {},
   "outputs": [
    {
     "data": {
      "text/html": [
       "<div>\n",
       "<style scoped>\n",
       "    .dataframe tbody tr th:only-of-type {\n",
       "        vertical-align: middle;\n",
       "    }\n",
       "\n",
       "    .dataframe tbody tr th {\n",
       "        vertical-align: top;\n",
       "    }\n",
       "\n",
       "    .dataframe thead th {\n",
       "        text-align: right;\n",
       "    }\n",
       "</style>\n",
       "<table border=\"1\" class=\"dataframe\">\n",
       "  <thead>\n",
       "    <tr style=\"text-align: right;\">\n",
       "      <th></th>\n",
       "      <th>Cst_Cnt</th>\n",
       "      <th>Btl_Cnt</th>\n",
       "      <th>Sta_ID</th>\n",
       "      <th>Depth_ID</th>\n",
       "      <th>Depthm</th>\n",
       "      <th>T_degC</th>\n",
       "      <th>Salnty</th>\n",
       "      <th>O2ml_L</th>\n",
       "      <th>STheta</th>\n",
       "      <th>O2Sat</th>\n",
       "      <th>Oxy_µmol/Kg</th>\n",
       "      <th>BtlNum</th>\n",
       "      <th>RecInd</th>\n",
       "      <th>T_prec</th>\n",
       "      <th>T_qual</th>\n",
       "      <th>S_prec</th>\n",
       "      <th>S_qual</th>\n",
       "      <th>P_qual</th>\n",
       "      <th>O_qual</th>\n",
       "      <th>SThtaq</th>\n",
       "      <th>O2Satq</th>\n",
       "      <th>ChlorA</th>\n",
       "      <th>Chlqua</th>\n",
       "      <th>Phaeop</th>\n",
       "      <th>Phaqua</th>\n",
       "      <th>PO4uM</th>\n",
       "      <th>PO4q</th>\n",
       "      <th>SiO3uM</th>\n",
       "      <th>SiO3qu</th>\n",
       "      <th>NO2uM</th>\n",
       "      <th>NO2q</th>\n",
       "      <th>NO3uM</th>\n",
       "      <th>NO3q</th>\n",
       "      <th>NH3uM</th>\n",
       "      <th>NH3q</th>\n",
       "      <th>C14As1</th>\n",
       "      <th>C14A1p</th>\n",
       "      <th>C14A1q</th>\n",
       "      <th>C14As2</th>\n",
       "      <th>C14A2p</th>\n",
       "      <th>C14A2q</th>\n",
       "      <th>DarkAs</th>\n",
       "      <th>DarkAp</th>\n",
       "      <th>DarkAq</th>\n",
       "      <th>MeanAs</th>\n",
       "      <th>MeanAp</th>\n",
       "      <th>MeanAq</th>\n",
       "      <th>IncTim</th>\n",
       "      <th>LightP</th>\n",
       "      <th>R_Depth</th>\n",
       "      <th>R_TEMP</th>\n",
       "      <th>R_POTEMP</th>\n",
       "      <th>R_SALINITY</th>\n",
       "      <th>R_SIGMA</th>\n",
       "      <th>R_SVA</th>\n",
       "      <th>R_DYNHT</th>\n",
       "      <th>R_O2</th>\n",
       "      <th>R_O2Sat</th>\n",
       "      <th>R_SIO3</th>\n",
       "      <th>R_PO4</th>\n",
       "      <th>R_NO3</th>\n",
       "      <th>R_NO2</th>\n",
       "      <th>R_NH4</th>\n",
       "      <th>R_CHLA</th>\n",
       "      <th>R_PHAEO</th>\n",
       "      <th>R_PRES</th>\n",
       "      <th>R_SAMP</th>\n",
       "      <th>DIC1</th>\n",
       "      <th>DIC2</th>\n",
       "      <th>TA1</th>\n",
       "      <th>TA2</th>\n",
       "      <th>pH2</th>\n",
       "      <th>pH1</th>\n",
       "      <th>DIC Quality Comment</th>\n",
       "    </tr>\n",
       "  </thead>\n",
       "  <tbody>\n",
       "    <tr>\n",
       "      <th>0</th>\n",
       "      <td>1</td>\n",
       "      <td>1</td>\n",
       "      <td>054.0 056.0</td>\n",
       "      <td>19-4903CR-HY-060-0930-05400560-0000A-3</td>\n",
       "      <td>0</td>\n",
       "      <td>10.50</td>\n",
       "      <td>33.440</td>\n",
       "      <td>NaN</td>\n",
       "      <td>25.649</td>\n",
       "      <td>NaN</td>\n",
       "      <td>NaN</td>\n",
       "      <td>NaN</td>\n",
       "      <td>3</td>\n",
       "      <td>1.0</td>\n",
       "      <td>NaN</td>\n",
       "      <td>2.0</td>\n",
       "      <td>NaN</td>\n",
       "      <td>9.0</td>\n",
       "      <td>9.0</td>\n",
       "      <td>NaN</td>\n",
       "      <td>9.0</td>\n",
       "      <td>NaN</td>\n",
       "      <td>9.0</td>\n",
       "      <td>NaN</td>\n",
       "      <td>9.0</td>\n",
       "      <td>NaN</td>\n",
       "      <td>9.0</td>\n",
       "      <td>NaN</td>\n",
       "      <td>9.0</td>\n",
       "      <td>NaN</td>\n",
       "      <td>9.0</td>\n",
       "      <td>NaN</td>\n",
       "      <td>9.0</td>\n",
       "      <td>NaN</td>\n",
       "      <td>9.0</td>\n",
       "      <td>NaN</td>\n",
       "      <td>NaN</td>\n",
       "      <td>9.0</td>\n",
       "      <td>NaN</td>\n",
       "      <td>NaN</td>\n",
       "      <td>9.0</td>\n",
       "      <td>NaN</td>\n",
       "      <td>NaN</td>\n",
       "      <td>9.0</td>\n",
       "      <td>NaN</td>\n",
       "      <td>NaN</td>\n",
       "      <td>9.0</td>\n",
       "      <td>NaN</td>\n",
       "      <td>NaN</td>\n",
       "      <td>0.0</td>\n",
       "      <td>10.50</td>\n",
       "      <td>10.50</td>\n",
       "      <td>33.440</td>\n",
       "      <td>25.64</td>\n",
       "      <td>233.0</td>\n",
       "      <td>0.00</td>\n",
       "      <td>NaN</td>\n",
       "      <td>NaN</td>\n",
       "      <td>NaN</td>\n",
       "      <td>NaN</td>\n",
       "      <td>NaN</td>\n",
       "      <td>NaN</td>\n",
       "      <td>NaN</td>\n",
       "      <td>NaN</td>\n",
       "      <td>NaN</td>\n",
       "      <td>0</td>\n",
       "      <td>NaN</td>\n",
       "      <td>NaN</td>\n",
       "      <td>NaN</td>\n",
       "      <td>NaN</td>\n",
       "      <td>NaN</td>\n",
       "      <td>NaN</td>\n",
       "      <td>NaN</td>\n",
       "      <td>NaN</td>\n",
       "    </tr>\n",
       "    <tr>\n",
       "      <th>1</th>\n",
       "      <td>1</td>\n",
       "      <td>2</td>\n",
       "      <td>054.0 056.0</td>\n",
       "      <td>19-4903CR-HY-060-0930-05400560-0008A-3</td>\n",
       "      <td>8</td>\n",
       "      <td>10.46</td>\n",
       "      <td>33.440</td>\n",
       "      <td>NaN</td>\n",
       "      <td>25.656</td>\n",
       "      <td>NaN</td>\n",
       "      <td>NaN</td>\n",
       "      <td>NaN</td>\n",
       "      <td>3</td>\n",
       "      <td>2.0</td>\n",
       "      <td>NaN</td>\n",
       "      <td>2.0</td>\n",
       "      <td>NaN</td>\n",
       "      <td>9.0</td>\n",
       "      <td>9.0</td>\n",
       "      <td>NaN</td>\n",
       "      <td>9.0</td>\n",
       "      <td>NaN</td>\n",
       "      <td>9.0</td>\n",
       "      <td>NaN</td>\n",
       "      <td>9.0</td>\n",
       "      <td>NaN</td>\n",
       "      <td>9.0</td>\n",
       "      <td>NaN</td>\n",
       "      <td>9.0</td>\n",
       "      <td>NaN</td>\n",
       "      <td>9.0</td>\n",
       "      <td>NaN</td>\n",
       "      <td>9.0</td>\n",
       "      <td>NaN</td>\n",
       "      <td>9.0</td>\n",
       "      <td>NaN</td>\n",
       "      <td>NaN</td>\n",
       "      <td>9.0</td>\n",
       "      <td>NaN</td>\n",
       "      <td>NaN</td>\n",
       "      <td>9.0</td>\n",
       "      <td>NaN</td>\n",
       "      <td>NaN</td>\n",
       "      <td>9.0</td>\n",
       "      <td>NaN</td>\n",
       "      <td>NaN</td>\n",
       "      <td>9.0</td>\n",
       "      <td>NaN</td>\n",
       "      <td>NaN</td>\n",
       "      <td>8.0</td>\n",
       "      <td>10.46</td>\n",
       "      <td>10.46</td>\n",
       "      <td>33.440</td>\n",
       "      <td>25.65</td>\n",
       "      <td>232.5</td>\n",
       "      <td>0.01</td>\n",
       "      <td>NaN</td>\n",
       "      <td>NaN</td>\n",
       "      <td>NaN</td>\n",
       "      <td>NaN</td>\n",
       "      <td>NaN</td>\n",
       "      <td>NaN</td>\n",
       "      <td>NaN</td>\n",
       "      <td>NaN</td>\n",
       "      <td>NaN</td>\n",
       "      <td>8</td>\n",
       "      <td>NaN</td>\n",
       "      <td>NaN</td>\n",
       "      <td>NaN</td>\n",
       "      <td>NaN</td>\n",
       "      <td>NaN</td>\n",
       "      <td>NaN</td>\n",
       "      <td>NaN</td>\n",
       "      <td>NaN</td>\n",
       "    </tr>\n",
       "    <tr>\n",
       "      <th>2</th>\n",
       "      <td>1</td>\n",
       "      <td>3</td>\n",
       "      <td>054.0 056.0</td>\n",
       "      <td>19-4903CR-HY-060-0930-05400560-0010A-7</td>\n",
       "      <td>10</td>\n",
       "      <td>10.46</td>\n",
       "      <td>33.437</td>\n",
       "      <td>NaN</td>\n",
       "      <td>25.654</td>\n",
       "      <td>NaN</td>\n",
       "      <td>NaN</td>\n",
       "      <td>NaN</td>\n",
       "      <td>7</td>\n",
       "      <td>2.0</td>\n",
       "      <td>NaN</td>\n",
       "      <td>3.0</td>\n",
       "      <td>NaN</td>\n",
       "      <td>9.0</td>\n",
       "      <td>9.0</td>\n",
       "      <td>NaN</td>\n",
       "      <td>9.0</td>\n",
       "      <td>NaN</td>\n",
       "      <td>9.0</td>\n",
       "      <td>NaN</td>\n",
       "      <td>9.0</td>\n",
       "      <td>NaN</td>\n",
       "      <td>9.0</td>\n",
       "      <td>NaN</td>\n",
       "      <td>9.0</td>\n",
       "      <td>NaN</td>\n",
       "      <td>9.0</td>\n",
       "      <td>NaN</td>\n",
       "      <td>9.0</td>\n",
       "      <td>NaN</td>\n",
       "      <td>9.0</td>\n",
       "      <td>NaN</td>\n",
       "      <td>NaN</td>\n",
       "      <td>9.0</td>\n",
       "      <td>NaN</td>\n",
       "      <td>NaN</td>\n",
       "      <td>9.0</td>\n",
       "      <td>NaN</td>\n",
       "      <td>NaN</td>\n",
       "      <td>9.0</td>\n",
       "      <td>NaN</td>\n",
       "      <td>NaN</td>\n",
       "      <td>9.0</td>\n",
       "      <td>NaN</td>\n",
       "      <td>NaN</td>\n",
       "      <td>10.0</td>\n",
       "      <td>10.46</td>\n",
       "      <td>10.46</td>\n",
       "      <td>33.437</td>\n",
       "      <td>25.65</td>\n",
       "      <td>232.8</td>\n",
       "      <td>0.02</td>\n",
       "      <td>NaN</td>\n",
       "      <td>NaN</td>\n",
       "      <td>NaN</td>\n",
       "      <td>NaN</td>\n",
       "      <td>NaN</td>\n",
       "      <td>NaN</td>\n",
       "      <td>NaN</td>\n",
       "      <td>NaN</td>\n",
       "      <td>NaN</td>\n",
       "      <td>10</td>\n",
       "      <td>NaN</td>\n",
       "      <td>NaN</td>\n",
       "      <td>NaN</td>\n",
       "      <td>NaN</td>\n",
       "      <td>NaN</td>\n",
       "      <td>NaN</td>\n",
       "      <td>NaN</td>\n",
       "      <td>NaN</td>\n",
       "    </tr>\n",
       "    <tr>\n",
       "      <th>3</th>\n",
       "      <td>1</td>\n",
       "      <td>4</td>\n",
       "      <td>054.0 056.0</td>\n",
       "      <td>19-4903CR-HY-060-0930-05400560-0019A-3</td>\n",
       "      <td>19</td>\n",
       "      <td>10.45</td>\n",
       "      <td>33.420</td>\n",
       "      <td>NaN</td>\n",
       "      <td>25.643</td>\n",
       "      <td>NaN</td>\n",
       "      <td>NaN</td>\n",
       "      <td>NaN</td>\n",
       "      <td>3</td>\n",
       "      <td>2.0</td>\n",
       "      <td>NaN</td>\n",
       "      <td>2.0</td>\n",
       "      <td>NaN</td>\n",
       "      <td>9.0</td>\n",
       "      <td>9.0</td>\n",
       "      <td>NaN</td>\n",
       "      <td>9.0</td>\n",
       "      <td>NaN</td>\n",
       "      <td>9.0</td>\n",
       "      <td>NaN</td>\n",
       "      <td>9.0</td>\n",
       "      <td>NaN</td>\n",
       "      <td>9.0</td>\n",
       "      <td>NaN</td>\n",
       "      <td>9.0</td>\n",
       "      <td>NaN</td>\n",
       "      <td>9.0</td>\n",
       "      <td>NaN</td>\n",
       "      <td>9.0</td>\n",
       "      <td>NaN</td>\n",
       "      <td>9.0</td>\n",
       "      <td>NaN</td>\n",
       "      <td>NaN</td>\n",
       "      <td>9.0</td>\n",
       "      <td>NaN</td>\n",
       "      <td>NaN</td>\n",
       "      <td>9.0</td>\n",
       "      <td>NaN</td>\n",
       "      <td>NaN</td>\n",
       "      <td>9.0</td>\n",
       "      <td>NaN</td>\n",
       "      <td>NaN</td>\n",
       "      <td>9.0</td>\n",
       "      <td>NaN</td>\n",
       "      <td>NaN</td>\n",
       "      <td>19.0</td>\n",
       "      <td>10.45</td>\n",
       "      <td>10.45</td>\n",
       "      <td>33.420</td>\n",
       "      <td>25.64</td>\n",
       "      <td>234.1</td>\n",
       "      <td>0.04</td>\n",
       "      <td>NaN</td>\n",
       "      <td>NaN</td>\n",
       "      <td>NaN</td>\n",
       "      <td>NaN</td>\n",
       "      <td>NaN</td>\n",
       "      <td>NaN</td>\n",
       "      <td>NaN</td>\n",
       "      <td>NaN</td>\n",
       "      <td>NaN</td>\n",
       "      <td>19</td>\n",
       "      <td>NaN</td>\n",
       "      <td>NaN</td>\n",
       "      <td>NaN</td>\n",
       "      <td>NaN</td>\n",
       "      <td>NaN</td>\n",
       "      <td>NaN</td>\n",
       "      <td>NaN</td>\n",
       "      <td>NaN</td>\n",
       "    </tr>\n",
       "    <tr>\n",
       "      <th>4</th>\n",
       "      <td>1</td>\n",
       "      <td>5</td>\n",
       "      <td>054.0 056.0</td>\n",
       "      <td>19-4903CR-HY-060-0930-05400560-0020A-7</td>\n",
       "      <td>20</td>\n",
       "      <td>10.45</td>\n",
       "      <td>33.421</td>\n",
       "      <td>NaN</td>\n",
       "      <td>25.643</td>\n",
       "      <td>NaN</td>\n",
       "      <td>NaN</td>\n",
       "      <td>NaN</td>\n",
       "      <td>7</td>\n",
       "      <td>2.0</td>\n",
       "      <td>NaN</td>\n",
       "      <td>3.0</td>\n",
       "      <td>NaN</td>\n",
       "      <td>9.0</td>\n",
       "      <td>9.0</td>\n",
       "      <td>NaN</td>\n",
       "      <td>9.0</td>\n",
       "      <td>NaN</td>\n",
       "      <td>9.0</td>\n",
       "      <td>NaN</td>\n",
       "      <td>9.0</td>\n",
       "      <td>NaN</td>\n",
       "      <td>9.0</td>\n",
       "      <td>NaN</td>\n",
       "      <td>9.0</td>\n",
       "      <td>NaN</td>\n",
       "      <td>9.0</td>\n",
       "      <td>NaN</td>\n",
       "      <td>9.0</td>\n",
       "      <td>NaN</td>\n",
       "      <td>9.0</td>\n",
       "      <td>NaN</td>\n",
       "      <td>NaN</td>\n",
       "      <td>9.0</td>\n",
       "      <td>NaN</td>\n",
       "      <td>NaN</td>\n",
       "      <td>9.0</td>\n",
       "      <td>NaN</td>\n",
       "      <td>NaN</td>\n",
       "      <td>9.0</td>\n",
       "      <td>NaN</td>\n",
       "      <td>NaN</td>\n",
       "      <td>9.0</td>\n",
       "      <td>NaN</td>\n",
       "      <td>NaN</td>\n",
       "      <td>20.0</td>\n",
       "      <td>10.45</td>\n",
       "      <td>10.45</td>\n",
       "      <td>33.421</td>\n",
       "      <td>25.64</td>\n",
       "      <td>234.0</td>\n",
       "      <td>0.04</td>\n",
       "      <td>NaN</td>\n",
       "      <td>NaN</td>\n",
       "      <td>NaN</td>\n",
       "      <td>NaN</td>\n",
       "      <td>NaN</td>\n",
       "      <td>NaN</td>\n",
       "      <td>NaN</td>\n",
       "      <td>NaN</td>\n",
       "      <td>NaN</td>\n",
       "      <td>20</td>\n",
       "      <td>NaN</td>\n",
       "      <td>NaN</td>\n",
       "      <td>NaN</td>\n",
       "      <td>NaN</td>\n",
       "      <td>NaN</td>\n",
       "      <td>NaN</td>\n",
       "      <td>NaN</td>\n",
       "      <td>NaN</td>\n",
       "    </tr>\n",
       "  </tbody>\n",
       "</table>\n",
       "</div>"
      ],
      "text/plain": [
       "   Cst_Cnt  Btl_Cnt       Sta_ID                                Depth_ID  \\\n",
       "0        1        1  054.0 056.0  19-4903CR-HY-060-0930-05400560-0000A-3   \n",
       "1        1        2  054.0 056.0  19-4903CR-HY-060-0930-05400560-0008A-3   \n",
       "2        1        3  054.0 056.0  19-4903CR-HY-060-0930-05400560-0010A-7   \n",
       "3        1        4  054.0 056.0  19-4903CR-HY-060-0930-05400560-0019A-3   \n",
       "4        1        5  054.0 056.0  19-4903CR-HY-060-0930-05400560-0020A-7   \n",
       "\n",
       "   Depthm  T_degC  Salnty  O2ml_L  STheta  O2Sat  Oxy_µmol/Kg  BtlNum  RecInd  \\\n",
       "0       0   10.50  33.440     NaN  25.649    NaN          NaN     NaN       3   \n",
       "1       8   10.46  33.440     NaN  25.656    NaN          NaN     NaN       3   \n",
       "2      10   10.46  33.437     NaN  25.654    NaN          NaN     NaN       7   \n",
       "3      19   10.45  33.420     NaN  25.643    NaN          NaN     NaN       3   \n",
       "4      20   10.45  33.421     NaN  25.643    NaN          NaN     NaN       7   \n",
       "\n",
       "   T_prec  T_qual  S_prec  S_qual  P_qual  O_qual  SThtaq  O2Satq  ChlorA  \\\n",
       "0     1.0     NaN     2.0     NaN     9.0     9.0     NaN     9.0     NaN   \n",
       "1     2.0     NaN     2.0     NaN     9.0     9.0     NaN     9.0     NaN   \n",
       "2     2.0     NaN     3.0     NaN     9.0     9.0     NaN     9.0     NaN   \n",
       "3     2.0     NaN     2.0     NaN     9.0     9.0     NaN     9.0     NaN   \n",
       "4     2.0     NaN     3.0     NaN     9.0     9.0     NaN     9.0     NaN   \n",
       "\n",
       "   Chlqua  Phaeop  Phaqua  PO4uM  PO4q  SiO3uM  SiO3qu  NO2uM  NO2q  NO3uM  \\\n",
       "0     9.0     NaN     9.0    NaN   9.0     NaN     9.0    NaN   9.0    NaN   \n",
       "1     9.0     NaN     9.0    NaN   9.0     NaN     9.0    NaN   9.0    NaN   \n",
       "2     9.0     NaN     9.0    NaN   9.0     NaN     9.0    NaN   9.0    NaN   \n",
       "3     9.0     NaN     9.0    NaN   9.0     NaN     9.0    NaN   9.0    NaN   \n",
       "4     9.0     NaN     9.0    NaN   9.0     NaN     9.0    NaN   9.0    NaN   \n",
       "\n",
       "   NO3q  NH3uM  NH3q  C14As1  C14A1p  C14A1q  C14As2  C14A2p  C14A2q  DarkAs  \\\n",
       "0   9.0    NaN   9.0     NaN     NaN     9.0     NaN     NaN     9.0     NaN   \n",
       "1   9.0    NaN   9.0     NaN     NaN     9.0     NaN     NaN     9.0     NaN   \n",
       "2   9.0    NaN   9.0     NaN     NaN     9.0     NaN     NaN     9.0     NaN   \n",
       "3   9.0    NaN   9.0     NaN     NaN     9.0     NaN     NaN     9.0     NaN   \n",
       "4   9.0    NaN   9.0     NaN     NaN     9.0     NaN     NaN     9.0     NaN   \n",
       "\n",
       "   DarkAp  DarkAq  MeanAs  MeanAp  MeanAq IncTim  LightP  R_Depth  R_TEMP  \\\n",
       "0     NaN     9.0     NaN     NaN     9.0    NaN     NaN      0.0   10.50   \n",
       "1     NaN     9.0     NaN     NaN     9.0    NaN     NaN      8.0   10.46   \n",
       "2     NaN     9.0     NaN     NaN     9.0    NaN     NaN     10.0   10.46   \n",
       "3     NaN     9.0     NaN     NaN     9.0    NaN     NaN     19.0   10.45   \n",
       "4     NaN     9.0     NaN     NaN     9.0    NaN     NaN     20.0   10.45   \n",
       "\n",
       "   R_POTEMP  R_SALINITY  R_SIGMA  R_SVA  R_DYNHT  R_O2  R_O2Sat  R_SIO3  \\\n",
       "0     10.50      33.440    25.64  233.0     0.00   NaN      NaN     NaN   \n",
       "1     10.46      33.440    25.65  232.5     0.01   NaN      NaN     NaN   \n",
       "2     10.46      33.437    25.65  232.8     0.02   NaN      NaN     NaN   \n",
       "3     10.45      33.420    25.64  234.1     0.04   NaN      NaN     NaN   \n",
       "4     10.45      33.421    25.64  234.0     0.04   NaN      NaN     NaN   \n",
       "\n",
       "   R_PO4  R_NO3  R_NO2  R_NH4  R_CHLA  R_PHAEO  R_PRES  R_SAMP  DIC1  DIC2  \\\n",
       "0    NaN    NaN    NaN    NaN     NaN      NaN       0     NaN   NaN   NaN   \n",
       "1    NaN    NaN    NaN    NaN     NaN      NaN       8     NaN   NaN   NaN   \n",
       "2    NaN    NaN    NaN    NaN     NaN      NaN      10     NaN   NaN   NaN   \n",
       "3    NaN    NaN    NaN    NaN     NaN      NaN      19     NaN   NaN   NaN   \n",
       "4    NaN    NaN    NaN    NaN     NaN      NaN      20     NaN   NaN   NaN   \n",
       "\n",
       "   TA1  TA2  pH2  pH1 DIC Quality Comment  \n",
       "0  NaN  NaN  NaN  NaN                 NaN  \n",
       "1  NaN  NaN  NaN  NaN                 NaN  \n",
       "2  NaN  NaN  NaN  NaN                 NaN  \n",
       "3  NaN  NaN  NaN  NaN                 NaN  \n",
       "4  NaN  NaN  NaN  NaN                 NaN  "
      ]
     },
     "execution_count": 3,
     "metadata": {},
     "output_type": "execute_result"
    }
   ],
   "source": [
    "pd.options.display.max_columns = None\n",
    "bottle_df.head()"
   ]
  },
  {
   "cell_type": "code",
   "execution_count": 4,
   "id": "treated-jason",
   "metadata": {},
   "outputs": [
    {
     "name": "stdout",
     "output_type": "stream",
     "text": [
      "['Cst_Cnt', 'Btl_Cnt', 'Sta_ID', 'Depth_ID', 'Depthm', 'T_degC', 'Salnty', 'O2ml_L', 'STheta', 'O2Sat', 'Oxy_µmol/Kg', 'BtlNum', 'RecInd', 'T_prec', 'T_qual', 'S_prec', 'S_qual', 'P_qual', 'O_qual', 'SThtaq', 'O2Satq', 'ChlorA', 'Chlqua', 'Phaeop', 'Phaqua', 'PO4uM', 'PO4q', 'SiO3uM', 'SiO3qu', 'NO2uM', 'NO2q', 'NO3uM', 'NO3q', 'NH3uM', 'NH3q', 'C14As1', 'C14A1p', 'C14A1q', 'C14As2', 'C14A2p', 'C14A2q', 'DarkAs', 'DarkAp', 'DarkAq', 'MeanAs', 'MeanAp', 'MeanAq', 'IncTim', 'LightP', 'R_Depth', 'R_TEMP', 'R_POTEMP', 'R_SALINITY', 'R_SIGMA', 'R_SVA', 'R_DYNHT', 'R_O2', 'R_O2Sat', 'R_SIO3', 'R_PO4', 'R_NO3', 'R_NO2', 'R_NH4', 'R_CHLA', 'R_PHAEO', 'R_PRES', 'R_SAMP', 'DIC1', 'DIC2', 'TA1', 'TA2', 'pH2', 'pH1', 'DIC Quality Comment']\n"
     ]
    }
   ],
   "source": [
    "print(bottle_df.columns.values.tolist())"
   ]
  },
  {
   "cell_type": "code",
   "execution_count": 5,
   "id": "stuck-letter",
   "metadata": {},
   "outputs": [],
   "source": [
    "columns_to_keep = ['Depthm', \n",
    "                   'T_degC', \n",
    "                   'Salnty', \n",
    "                   'O2ml_L', \n",
    "                   'ChlorA', \n",
    "                   'Phaeop',  \n",
    "                   'PO4uM',  \n",
    "                   'SiO3uM', \n",
    "                   'NO2uM', \n",
    "                   'NO3uM', \n",
    "                   'NH3uM']"
   ]
  },
  {
   "cell_type": "code",
   "execution_count": 6,
   "id": "conditional-innocent",
   "metadata": {},
   "outputs": [],
   "source": [
    "bottle_cleanDF = pd.DataFrame(bottle_df[columns_to_keep])\n"
   ]
  },
  {
   "cell_type": "code",
   "execution_count": 7,
   "id": "organic-concept",
   "metadata": {
    "scrolled": true
   },
   "outputs": [
    {
     "name": "stdout",
     "output_type": "stream",
     "text": [
      "<class 'pandas.core.frame.DataFrame'>\n",
      "RangeIndex: 864863 entries, 0 to 864862\n",
      "Data columns (total 11 columns):\n",
      " #   Column  Non-Null Count   Dtype  \n",
      "---  ------  --------------   -----  \n",
      " 0   Depthm  864863 non-null  int64  \n",
      " 1   T_degC  853900 non-null  float64\n",
      " 2   Salnty  817509 non-null  float64\n",
      " 3   O2ml_L  696201 non-null  float64\n",
      " 4   ChlorA  225272 non-null  float64\n",
      " 5   Phaeop  225271 non-null  float64\n",
      " 6   PO4uM   413317 non-null  float64\n",
      " 7   SiO3uM  354091 non-null  float64\n",
      " 8   NO2uM   337576 non-null  float64\n",
      " 9   NO3uM   337403 non-null  float64\n",
      " 10  NH3uM   64962 non-null   float64\n",
      "dtypes: float64(10), int64(1)\n",
      "memory usage: 72.6 MB\n"
     ]
    }
   ],
   "source": [
    "bottle_cleanDF.info()"
   ]
  },
  {
   "cell_type": "code",
   "execution_count": 8,
   "id": "looking-destruction",
   "metadata": {},
   "outputs": [
    {
     "data": {
      "image/png": "[encoded data removed]",
      "text/plain": [
       "<Figure size 1080x1080 with 2 Axes>"
      ]
     },
     "metadata": {
      "needs_background": "light"
     },
     "output_type": "display_data"
    }
   ],
   "source": [
    "corrMatrix = bottle_cleanDF.corr()\n",
    "corr_df = pd.DataFrame(corrMatrix)\n",
    "# create heat map\n",
    "plt.figure(figsize=(15, 15))\n",
    "sns.heatmap(corrMatrix, annot=True)\n",
    "plt.show()"
   ]
  },
  {
   "cell_type": "markdown",
   "id": "vietnamese-maldives",
   "metadata": {},
   "source": [
    "Because the NH3uM (Ammonium concentration) data points are not enough, and it doesn't contribute much to temperature."
   ]
  },
  {
   "cell_type": "code",
   "execution_count": 9,
   "id": "developed-porcelain",
   "metadata": {},
   "outputs": [],
   "source": [
    "bottle_cleanDF.drop(columns=['NH3uM'], inplace=True)"
   ]
  },
  {
   "cell_type": "code",
   "execution_count": 10,
   "id": "vocational-truck",
   "metadata": {},
   "outputs": [
    {
     "name": "stdout",
     "output_type": "stream",
     "text": [
      "<class 'pandas.core.frame.DataFrame'>\n",
      "RangeIndex: 864863 entries, 0 to 864862\n",
      "Data columns (total 10 columns):\n",
      " #   Column  Non-Null Count   Dtype  \n",
      "---  ------  --------------   -----  \n",
      " 0   Depthm  864863 non-null  int64  \n",
      " 1   T_degC  853900 non-null  float64\n",
      " 2   Salnty  817509 non-null  float64\n",
      " 3   O2ml_L  696201 non-null  float64\n",
      " 4   ChlorA  225272 non-null  float64\n",
      " 5   Phaeop  225271 non-null  float64\n",
      " 6   PO4uM   413317 non-null  float64\n",
      " 7   SiO3uM  354091 non-null  float64\n",
      " 8   NO2uM   337576 non-null  float64\n",
      " 9   NO3uM   337403 non-null  float64\n",
      "dtypes: float64(9), int64(1)\n",
      "memory usage: 66.0 MB\n"
     ]
    }
   ],
   "source": [
    "bottle_cleanDF.info()"
   ]
  },
  {
   "cell_type": "code",
   "execution_count": 11,
   "id": "alone-promise",
   "metadata": {},
   "outputs": [
    {
     "name": "stdout",
     "output_type": "stream",
     "text": [
      "<class 'pandas.core.frame.DataFrame'>\n",
      "Int64Index: 207230 entries, 513063 to 864862\n",
      "Data columns (total 10 columns):\n",
      " #   Column  Non-Null Count   Dtype  \n",
      "---  ------  --------------   -----  \n",
      " 0   Depthm  207230 non-null  int64  \n",
      " 1   T_degC  207230 non-null  float64\n",
      " 2   Salnty  207230 non-null  float64\n",
      " 3   O2ml_L  207230 non-null  float64\n",
      " 4   ChlorA  207230 non-null  float64\n",
      " 5   Phaeop  207230 non-null  float64\n",
      " 6   PO4uM   207230 non-null  float64\n",
      " 7   SiO3uM  207230 non-null  float64\n",
      " 8   NO2uM   207230 non-null  float64\n",
      " 9   NO3uM   207230 non-null  float64\n",
      "dtypes: float64(9), int64(1)\n",
      "memory usage: 17.4 MB\n"
     ]
    }
   ],
   "source": [
    "bottle_cleanDF.dropna(axis=0, inplace=True)\n",
    "bottle_cleanDF.info()"
   ]
  },
  {
   "cell_type": "code",
   "execution_count": 12,
   "id": "increasing-uncertainty",
   "metadata": {},
   "outputs": [],
   "source": [
    "bottle_cleanDF['Depthm'] = bottle_cleanDF['Depthm'].astype(float)"
   ]
  },
  {
   "cell_type": "code",
   "execution_count": 13,
   "id": "shared-herald",
   "metadata": {},
   "outputs": [
    {
     "data": {
      "text/html": [
       "<div>\n",
       "<style scoped>\n",
       "    .dataframe tbody tr th:only-of-type {\n",
       "        vertical-align: middle;\n",
       "    }\n",
       "\n",
       "    .dataframe tbody tr th {\n",
       "        vertical-align: top;\n",
       "    }\n",
       "\n",
       "    .dataframe thead th {\n",
       "        text-align: right;\n",
       "    }\n",
       "</style>\n",
       "<table border=\"1\" class=\"dataframe\">\n",
       "  <thead>\n",
       "    <tr style=\"text-align: right;\">\n",
       "      <th></th>\n",
       "      <th>Depthm</th>\n",
       "      <th>T_degC</th>\n",
       "      <th>Salnty</th>\n",
       "      <th>O2ml_L</th>\n",
       "      <th>ChlorA</th>\n",
       "      <th>Phaeop</th>\n",
       "      <th>PO4uM</th>\n",
       "      <th>SiO3uM</th>\n",
       "      <th>NO2uM</th>\n",
       "      <th>NO3uM</th>\n",
       "    </tr>\n",
       "  </thead>\n",
       "  <tbody>\n",
       "    <tr>\n",
       "      <th>513063</th>\n",
       "      <td>0.0</td>\n",
       "      <td>15.34</td>\n",
       "      <td>33.492</td>\n",
       "      <td>5.86</td>\n",
       "      <td>0.85</td>\n",
       "      <td>0.19</td>\n",
       "      <td>0.25</td>\n",
       "      <td>2.0</td>\n",
       "      <td>0.0</td>\n",
       "      <td>0.1</td>\n",
       "    </tr>\n",
       "    <tr>\n",
       "      <th>513064</th>\n",
       "      <td>1.0</td>\n",
       "      <td>15.34</td>\n",
       "      <td>33.492</td>\n",
       "      <td>5.86</td>\n",
       "      <td>0.85</td>\n",
       "      <td>0.19</td>\n",
       "      <td>0.25</td>\n",
       "      <td>2.0</td>\n",
       "      <td>0.0</td>\n",
       "      <td>0.1</td>\n",
       "    </tr>\n",
       "    <tr>\n",
       "      <th>513065</th>\n",
       "      <td>10.0</td>\n",
       "      <td>15.32</td>\n",
       "      <td>33.490</td>\n",
       "      <td>5.86</td>\n",
       "      <td>0.65</td>\n",
       "      <td>0.23</td>\n",
       "      <td>0.28</td>\n",
       "      <td>2.0</td>\n",
       "      <td>0.0</td>\n",
       "      <td>0.1</td>\n",
       "    </tr>\n",
       "    <tr>\n",
       "      <th>513066</th>\n",
       "      <td>11.0</td>\n",
       "      <td>15.32</td>\n",
       "      <td>33.490</td>\n",
       "      <td>5.86</td>\n",
       "      <td>0.62</td>\n",
       "      <td>0.24</td>\n",
       "      <td>0.28</td>\n",
       "      <td>2.0</td>\n",
       "      <td>0.0</td>\n",
       "      <td>0.1</td>\n",
       "    </tr>\n",
       "    <tr>\n",
       "      <th>513067</th>\n",
       "      <td>20.0</td>\n",
       "      <td>15.28</td>\n",
       "      <td>33.490</td>\n",
       "      <td>5.86</td>\n",
       "      <td>0.58</td>\n",
       "      <td>0.22</td>\n",
       "      <td>0.29</td>\n",
       "      <td>2.5</td>\n",
       "      <td>0.0</td>\n",
       "      <td>0.4</td>\n",
       "    </tr>\n",
       "  </tbody>\n",
       "</table>\n",
       "</div>"
      ],
      "text/plain": [
       "        Depthm  T_degC  Salnty  O2ml_L  ChlorA  Phaeop  PO4uM  SiO3uM  NO2uM  \\\n",
       "513063     0.0   15.34  33.492    5.86    0.85    0.19   0.25     2.0    0.0   \n",
       "513064     1.0   15.34  33.492    5.86    0.85    0.19   0.25     2.0    0.0   \n",
       "513065    10.0   15.32  33.490    5.86    0.65    0.23   0.28     2.0    0.0   \n",
       "513066    11.0   15.32  33.490    5.86    0.62    0.24   0.28     2.0    0.0   \n",
       "513067    20.0   15.28  33.490    5.86    0.58    0.22   0.29     2.5    0.0   \n",
       "\n",
       "        NO3uM  \n",
       "513063    0.1  \n",
       "513064    0.1  \n",
       "513065    0.1  \n",
       "513066    0.1  \n",
       "513067    0.4  "
      ]
     },
     "execution_count": 13,
     "metadata": {},
     "output_type": "execute_result"
    }
   ],
   "source": [
    "bottle_cleanDF.head()"
   ]
  },
  {
   "cell_type": "code",
   "execution_count": 14,
   "id": "strange-brooks",
   "metadata": {},
   "outputs": [
    {
     "data": {
      "text/html": [
       "<div>\n",
       "<style scoped>\n",
       "    .dataframe tbody tr th:only-of-type {\n",
       "        vertical-align: middle;\n",
       "    }\n",
       "\n",
       "    .dataframe tbody tr th {\n",
       "        vertical-align: top;\n",
       "    }\n",
       "\n",
       "    .dataframe thead th {\n",
       "        text-align: right;\n",
       "    }\n",
       "</style>\n",
       "<table border=\"1\" class=\"dataframe\">\n",
       "  <thead>\n",
       "    <tr style=\"text-align: right;\">\n",
       "      <th></th>\n",
       "      <th>Depthm</th>\n",
       "      <th>T_degC</th>\n",
       "      <th>Salnty</th>\n",
       "      <th>O2ml_L</th>\n",
       "      <th>ChlorA</th>\n",
       "      <th>Phaeop</th>\n",
       "      <th>PO4uM</th>\n",
       "      <th>SiO3uM</th>\n",
       "      <th>NO2uM</th>\n",
       "      <th>NO3uM</th>\n",
       "    </tr>\n",
       "  </thead>\n",
       "  <tbody>\n",
       "    <tr>\n",
       "      <th>count</th>\n",
       "      <td>207230.000000</td>\n",
       "      <td>207230.000000</td>\n",
       "      <td>207230.000000</td>\n",
       "      <td>207230.000000</td>\n",
       "      <td>207230.000000</td>\n",
       "      <td>207230.000000</td>\n",
       "      <td>207230.000000</td>\n",
       "      <td>207230.000000</td>\n",
       "      <td>207230.000000</td>\n",
       "      <td>207230.000000</td>\n",
       "    </tr>\n",
       "    <tr>\n",
       "      <th>mean</th>\n",
       "      <td>72.491681</td>\n",
       "      <td>12.937935</td>\n",
       "      <td>33.500077</td>\n",
       "      <td>4.806726</td>\n",
       "      <td>0.429587</td>\n",
       "      <td>0.187804</td>\n",
       "      <td>0.951754</td>\n",
       "      <td>11.466099</td>\n",
       "      <td>0.055374</td>\n",
       "      <td>9.543598</td>\n",
       "    </tr>\n",
       "    <tr>\n",
       "      <th>std</th>\n",
       "      <td>58.259556</td>\n",
       "      <td>3.056426</td>\n",
       "      <td>0.303980</td>\n",
       "      <td>1.310090</td>\n",
       "      <td>1.127449</td>\n",
       "      <td>0.278874</td>\n",
       "      <td>0.669900</td>\n",
       "      <td>11.252562</td>\n",
       "      <td>0.098415</td>\n",
       "      <td>10.294622</td>\n",
       "    </tr>\n",
       "    <tr>\n",
       "      <th>min</th>\n",
       "      <td>0.000000</td>\n",
       "      <td>3.740000</td>\n",
       "      <td>29.934000</td>\n",
       "      <td>0.050000</td>\n",
       "      <td>0.000000</td>\n",
       "      <td>-3.890000</td>\n",
       "      <td>0.000000</td>\n",
       "      <td>0.000000</td>\n",
       "      <td>0.000000</td>\n",
       "      <td>-0.400000</td>\n",
       "    </tr>\n",
       "    <tr>\n",
       "      <th>25%</th>\n",
       "      <td>20.000000</td>\n",
       "      <td>10.190000</td>\n",
       "      <td>33.294000</td>\n",
       "      <td>3.753000</td>\n",
       "      <td>0.050000</td>\n",
       "      <td>0.050000</td>\n",
       "      <td>0.350000</td>\n",
       "      <td>2.500000</td>\n",
       "      <td>0.000000</td>\n",
       "      <td>0.100000</td>\n",
       "    </tr>\n",
       "    <tr>\n",
       "      <th>50%</th>\n",
       "      <td>60.000000</td>\n",
       "      <td>12.710000</td>\n",
       "      <td>33.482650</td>\n",
       "      <td>5.440000</td>\n",
       "      <td>0.160000</td>\n",
       "      <td>0.109000</td>\n",
       "      <td>0.690000</td>\n",
       "      <td>5.800000</td>\n",
       "      <td>0.013000</td>\n",
       "      <td>4.800000</td>\n",
       "    </tr>\n",
       "    <tr>\n",
       "      <th>75%</th>\n",
       "      <td>118.000000</td>\n",
       "      <td>15.230000</td>\n",
       "      <td>33.698000</td>\n",
       "      <td>5.826000</td>\n",
       "      <td>0.380000</td>\n",
       "      <td>0.230000</td>\n",
       "      <td>1.560000</td>\n",
       "      <td>19.500000</td>\n",
       "      <td>0.060000</td>\n",
       "      <td>19.300000</td>\n",
       "    </tr>\n",
       "    <tr>\n",
       "      <th>max</th>\n",
       "      <td>1029.000000</td>\n",
       "      <td>24.950000</td>\n",
       "      <td>37.034000</td>\n",
       "      <td>11.130000</td>\n",
       "      <td>66.110000</td>\n",
       "      <td>10.660000</td>\n",
       "      <td>4.390000</td>\n",
       "      <td>123.700000</td>\n",
       "      <td>2.300000</td>\n",
       "      <td>44.400000</td>\n",
       "    </tr>\n",
       "  </tbody>\n",
       "</table>\n",
       "</div>"
      ],
      "text/plain": [
       "              Depthm         T_degC         Salnty         O2ml_L  \\\n",
       "count  207230.000000  207230.000000  207230.000000  207230.000000   \n",
       "mean       72.491681      12.937935      33.500077       4.806726   \n",
       "std        58.259556       3.056426       0.303980       1.310090   \n",
       "min         0.000000       3.740000      29.934000       0.050000   \n",
       "25%        20.000000      10.190000      33.294000       3.753000   \n",
       "50%        60.000000      12.710000      33.482650       5.440000   \n",
       "75%       118.000000      15.230000      33.698000       5.826000   \n",
       "max      1029.000000      24.950000      37.034000      11.130000   \n",
       "\n",
       "              ChlorA         Phaeop          PO4uM         SiO3uM  \\\n",
       "count  207230.000000  207230.000000  207230.000000  207230.000000   \n",
       "mean        0.429587       0.187804       0.951754      11.466099   \n",
       "std         1.127449       0.278874       0.669900      11.252562   \n",
       "min         0.000000      -3.890000       0.000000       0.000000   \n",
       "25%         0.050000       0.050000       0.350000       2.500000   \n",
       "50%         0.160000       0.109000       0.690000       5.800000   \n",
       "75%         0.380000       0.230000       1.560000      19.500000   \n",
       "max        66.110000      10.660000       4.390000     123.700000   \n",
       "\n",
       "               NO2uM          NO3uM  \n",
       "count  207230.000000  207230.000000  \n",
       "mean        0.055374       9.543598  \n",
       "std         0.098415      10.294622  \n",
       "min         0.000000      -0.400000  \n",
       "25%         0.000000       0.100000  \n",
       "50%         0.013000       4.800000  \n",
       "75%         0.060000      19.300000  \n",
       "max         2.300000      44.400000  "
      ]
     },
     "execution_count": 14,
     "metadata": {},
     "output_type": "execute_result"
    }
   ],
   "source": [
    "bottle_cleanDF.describe()"
   ]
  },
  {
   "cell_type": "markdown",
   "id": "standing-orleans",
   "metadata": {},
   "source": [
    "Looking at the distribution of each feature before more processing"
   ]
  },
  {
   "cell_type": "code",
   "execution_count": 15,
   "id": "technological-perfume",
   "metadata": {},
   "outputs": [
    {
     "data": {
      "image/png": "[encoded data removed]",
      "text/plain": [
       "<Figure size 432x288 with 12 Axes>"
      ]
     },
     "metadata": {
      "needs_background": "light"
     },
     "output_type": "display_data"
    }
   ],
   "source": [
    "bottle_cleanDF.hist()\n",
    "plt.title('Histogram/Frequency charts for each water feature')\n",
    "plt.show()"
   ]
  },
  {
   "cell_type": "code",
   "execution_count": 16,
   "id": "champion-conflict",
   "metadata": {},
   "outputs": [],
   "source": [
    "from sklearn.preprocessing import StandardScaler\n",
    "\n",
    "scaler = StandardScaler()\n",
    "bottle_cleanDF_scaled = pd.DataFrame(scaler.fit_transform(bottle_cleanDF), columns=bottle_cleanDF.columns)"
   ]
  },
  {
   "cell_type": "code",
   "execution_count": 17,
   "id": "protecting-button",
   "metadata": {},
   "outputs": [
    {
     "data": {
      "text/html": [
       "<div>\n",
       "<style scoped>\n",
       "    .dataframe tbody tr th:only-of-type {\n",
       "        vertical-align: middle;\n",
       "    }\n",
       "\n",
       "    .dataframe tbody tr th {\n",
       "        vertical-align: top;\n",
       "    }\n",
       "\n",
       "    .dataframe thead th {\n",
       "        text-align: right;\n",
       "    }\n",
       "</style>\n",
       "<table border=\"1\" class=\"dataframe\">\n",
       "  <thead>\n",
       "    <tr style=\"text-align: right;\">\n",
       "      <th></th>\n",
       "      <th>Depthm</th>\n",
       "      <th>T_degC</th>\n",
       "      <th>Salnty</th>\n",
       "      <th>O2ml_L</th>\n",
       "      <th>ChlorA</th>\n",
       "      <th>Phaeop</th>\n",
       "      <th>PO4uM</th>\n",
       "      <th>SiO3uM</th>\n",
       "      <th>NO2uM</th>\n",
       "      <th>NO3uM</th>\n",
       "    </tr>\n",
       "  </thead>\n",
       "  <tbody>\n",
       "    <tr>\n",
       "      <th>count</th>\n",
       "      <td>2.072300e+05</td>\n",
       "      <td>2.072300e+05</td>\n",
       "      <td>2.072300e+05</td>\n",
       "      <td>2.072300e+05</td>\n",
       "      <td>2.072300e+05</td>\n",
       "      <td>2.072300e+05</td>\n",
       "      <td>2.072300e+05</td>\n",
       "      <td>2.072300e+05</td>\n",
       "      <td>2.072300e+05</td>\n",
       "      <td>2.072300e+05</td>\n",
       "    </tr>\n",
       "    <tr>\n",
       "      <th>mean</th>\n",
       "      <td>-1.582901e-15</td>\n",
       "      <td>7.956093e-16</td>\n",
       "      <td>2.137646e-14</td>\n",
       "      <td>1.963299e-15</td>\n",
       "      <td>-1.191669e-14</td>\n",
       "      <td>-5.085745e-15</td>\n",
       "      <td>-2.263440e-15</td>\n",
       "      <td>1.292075e-15</td>\n",
       "      <td>5.428567e-14</td>\n",
       "      <td>7.978206e-15</td>\n",
       "    </tr>\n",
       "    <tr>\n",
       "      <th>std</th>\n",
       "      <td>1.000002e+00</td>\n",
       "      <td>1.000002e+00</td>\n",
       "      <td>1.000002e+00</td>\n",
       "      <td>1.000002e+00</td>\n",
       "      <td>1.000002e+00</td>\n",
       "      <td>1.000002e+00</td>\n",
       "      <td>1.000002e+00</td>\n",
       "      <td>1.000002e+00</td>\n",
       "      <td>1.000002e+00</td>\n",
       "      <td>1.000002e+00</td>\n",
       "    </tr>\n",
       "    <tr>\n",
       "      <th>min</th>\n",
       "      <td>-1.244291e+00</td>\n",
       "      <td>-3.009383e+00</td>\n",
       "      <td>-1.173132e+01</td>\n",
       "      <td>-3.630848e+00</td>\n",
       "      <td>-3.810263e-01</td>\n",
       "      <td>-1.462245e+01</td>\n",
       "      <td>-1.420744e+00</td>\n",
       "      <td>-1.018979e+00</td>\n",
       "      <td>-5.626565e-01</td>\n",
       "      <td>-9.659045e-01</td>\n",
       "    </tr>\n",
       "    <tr>\n",
       "      <th>25%</th>\n",
       "      <td>-9.009991e-01</td>\n",
       "      <td>-8.990704e-01</td>\n",
       "      <td>-6.779330e-01</td>\n",
       "      <td>-8.043179e-01</td>\n",
       "      <td>-3.366783e-01</td>\n",
       "      <td>-4.941458e-01</td>\n",
       "      <td>-8.982768e-01</td>\n",
       "      <td>-7.968071e-01</td>\n",
       "      <td>-5.626565e-01</td>\n",
       "      <td>-9.173353e-01</td>\n",
       "    </tr>\n",
       "    <tr>\n",
       "      <th>50%</th>\n",
       "      <td>-2.144148e-01</td>\n",
       "      <td>-7.457598e-02</td>\n",
       "      <td>-5.733111e-02</td>\n",
       "      <td>4.833831e-01</td>\n",
       "      <td>-2.391127e-01</td>\n",
       "      <td>-2.825799e-01</td>\n",
       "      <td>-3.907369e-01</td>\n",
       "      <td>-5.035398e-01</td>\n",
       "      <td>-4.305623e-01</td>\n",
       "      <td>-4.607852e-01</td>\n",
       "    </tr>\n",
       "    <tr>\n",
       "      <th>75%</th>\n",
       "      <td>7.811324e-01</td>\n",
       "      <td>7.499184e-01</td>\n",
       "      <td>6.511057e-01</td>\n",
       "      <td>7.780201e-01</td>\n",
       "      <td>-4.398148e-02</td>\n",
       "      <td>1.513096e-01</td>\n",
       "      <td>9.079683e-01</td>\n",
       "      <td>7.139637e-01</td>\n",
       "      <td>4.700904e-02</td>\n",
       "      <td>9.477207e-01</td>\n",
       "    </tr>\n",
       "    <tr>\n",
       "      <th>max</th>\n",
       "      <td>1.641809e+01</td>\n",
       "      <td>3.930111e+00</td>\n",
       "      <td>1.162554e+01</td>\n",
       "      <td>4.826607e+00</td>\n",
       "      <td>5.825590e+01</td>\n",
       "      <td>3.755186e+01</td>\n",
       "      <td>5.132492e+00</td>\n",
       "      <td>9.974100e+00</td>\n",
       "      <td>2.280785e+01</td>\n",
       "      <td>3.385893e+00</td>\n",
       "    </tr>\n",
       "  </tbody>\n",
       "</table>\n",
       "</div>"
      ],
      "text/plain": [
       "             Depthm        T_degC        Salnty        O2ml_L        ChlorA  \\\n",
       "count  2.072300e+05  2.072300e+05  2.072300e+05  2.072300e+05  2.072300e+05   \n",
       "mean  -1.582901e-15  7.956093e-16  2.137646e-14  1.963299e-15 -1.191669e-14   \n",
       "std    1.000002e+00  1.000002e+00  1.000002e+00  1.000002e+00  1.000002e+00   \n",
       "min   -1.244291e+00 -3.009383e+00 -1.173132e+01 -3.630848e+00 -3.810263e-01   \n",
       "25%   -9.009991e-01 -8.990704e-01 -6.779330e-01 -8.043179e-01 -3.366783e-01   \n",
       "50%   -2.144148e-01 -7.457598e-02 -5.733111e-02  4.833831e-01 -2.391127e-01   \n",
       "75%    7.811324e-01  7.499184e-01  6.511057e-01  7.780201e-01 -4.398148e-02   \n",
       "max    1.641809e+01  3.930111e+00  1.162554e+01  4.826607e+00  5.825590e+01   \n",
       "\n",
       "             Phaeop         PO4uM        SiO3uM         NO2uM         NO3uM  \n",
       "count  2.072300e+05  2.072300e+05  2.072300e+05  2.072300e+05  2.072300e+05  \n",
       "mean  -5.085745e-15 -2.263440e-15  1.292075e-15  5.428567e-14  7.978206e-15  \n",
       "std    1.000002e+00  1.000002e+00  1.000002e+00  1.000002e+00  1.000002e+00  \n",
       "min   -1.462245e+01 -1.420744e+00 -1.018979e+00 -5.626565e-01 -9.659045e-01  \n",
       "25%   -4.941458e-01 -8.982768e-01 -7.968071e-01 -5.626565e-01 -9.173353e-01  \n",
       "50%   -2.825799e-01 -3.907369e-01 -5.035398e-01 -4.305623e-01 -4.607852e-01  \n",
       "75%    1.513096e-01  9.079683e-01  7.139637e-01  4.700904e-02  9.477207e-01  \n",
       "max    3.755186e+01  5.132492e+00  9.974100e+00  2.280785e+01  3.385893e+00  "
      ]
     },
     "execution_count": 17,
     "metadata": {},
     "output_type": "execute_result"
    }
   ],
   "source": [
    "bottle_cleanDF_scaled.describe()"
   ]
  },
  {
   "cell_type": "markdown",
   "id": "warming-colors",
   "metadata": {},
   "source": [
    "Distribution of each feature after scaling"
   ]
  },
  {
   "cell_type": "code",
   "execution_count": 18,
   "id": "opening-toddler",
   "metadata": {},
   "outputs": [
    {
     "data": {
      "image/png": "[encoded data removed]",
      "text/plain": [
       "<Figure size 432x288 with 12 Axes>"
      ]
     },
     "metadata": {
      "needs_background": "light"
     },
     "output_type": "display_data"
    }
   ],
   "source": [
    "bottle_cleanDF_scaled.hist()\n",
    "plt.title('Histogram/Frequency charts for each water feature')\n",
    "plt.show()"
   ]
  },
  {
   "cell_type": "markdown",
   "id": "macro-alpha",
   "metadata": {},
   "source": [
    "The distribution of the data is similar, but the values have been rescaled.\n",
    "\n",
    "Next, we will try to determine which features have the biggest impact on water temperature."
   ]
  },
  {
   "cell_type": "markdown",
   "id": "covered-virus",
   "metadata": {},
   "source": [
    "2.\tPerform feature selection (decide what columns should be included in your analysis). How did you figure out what features were important?"
   ]
  },
  {
   "cell_type": "markdown",
   "id": "baking-capability",
   "metadata": {},
   "source": [
    "To decide on feature selection, I will perform a Lasso regression and recursive feature elimination.\n",
    "\n",
    "Because RFE is so computationally intense, I will only look at a 1% sample of the data."
   ]
  },
  {
   "cell_type": "code",
   "execution_count": 19,
   "id": "welsh-polyester",
   "metadata": {},
   "outputs": [
    {
     "name": "stdout",
     "output_type": "stream",
     "text": [
      "[-1.50442062e-01  0.00000000e+00  0.00000000e+00 -0.00000000e+00\n",
      " -4.21068382e-04 -6.63980651e-01 -0.00000000e+00 -1.98675402e-02\n",
      " -0.00000000e+00]\n"
     ]
    },
    {
     "data": {
      "image/png": "[encoded data removed]",
      "text/plain": [
       "<Figure size 432x288 with 1 Axes>"
      ]
     },
     "metadata": {
      "needs_background": "light"
     },
     "output_type": "display_data"
    }
   ],
   "source": [
    "from sklearn.linear_model import Lasso\n",
    "\n",
    "target = bottle_cleanDF_scaled['T_degC']\n",
    "variablesX = bottle_cleanDF_scaled.drop('T_degC', axis=1)\n",
    "\n",
    "lasso = Lasso(alpha=0.1)\n",
    "lasso_coef = lasso.fit(variablesX, target).coef_\n",
    "print(lasso_coef)\n",
    "\n",
    "plt.plot(range(9), lasso_coef)\n",
    "plt.xticks(range(9), variablesX.columns, rotation=60)\n",
    "plt.ylabel('Coefficients')\n",
    "plt.show()"
   ]
  },
  {
   "cell_type": "markdown",
   "id": "incoming-morgan",
   "metadata": {},
   "source": [
    "If I were going off the Lasso regression, I would choose:\n",
    "Depth, PO4, NO2.\n",
    "\n",
    "Now, I will try RFE on a sample of the data."
   ]
  },
  {
   "cell_type": "code",
   "execution_count": 20,
   "id": "former-teddy",
   "metadata": {},
   "outputs": [],
   "source": [
    "from sklearn.feature_selection import RFE\n",
    "from sklearn.svm import SVR"
   ]
  },
  {
   "cell_type": "code",
   "execution_count": 21,
   "id": "victorian-architect",
   "metadata": {},
   "outputs": [],
   "source": [
    "bottle_sampleDF = bottle_cleanDF_scaled.sample(frac=.01)\n",
    "sampleX = bottle_sampleDF.drop('T_degC', axis=1)\n",
    "sampleY = bottle_sampleDF['T_degC']"
   ]
  },
  {
   "cell_type": "code",
   "execution_count": 22,
   "id": "continuing-address",
   "metadata": {},
   "outputs": [],
   "source": [
    "estimator = SVR(kernel=\"linear\")\n",
    "selector = RFE(estimator, n_features_to_select=3, step=1)"
   ]
  },
  {
   "cell_type": "code",
   "execution_count": 23,
   "id": "dense-victory",
   "metadata": {},
   "outputs": [],
   "source": [
    "selector = selector.fit(sampleX, sampleY)"
   ]
  },
  {
   "cell_type": "code",
   "execution_count": 24,
   "id": "valid-graduate",
   "metadata": {},
   "outputs": [
    {
     "name": "stdout",
     "output_type": "stream",
     "text": [
      "[2 3 1 7 4 1 5 6 1]\n"
     ]
    }
   ],
   "source": [
    "sr = selector.ranking_\n",
    "print(sr)"
   ]
  },
  {
   "cell_type": "code",
   "execution_count": 25,
   "id": "brazilian-radar",
   "metadata": {},
   "outputs": [
    {
     "data": {
      "text/plain": [
       "{'Depthm': 2,\n",
       " 'Salnty': 3,\n",
       " 'O2ml_L': 1,\n",
       " 'ChlorA': 7,\n",
       " 'Phaeop': 4,\n",
       " 'PO4uM': 1,\n",
       " 'SiO3uM': 5,\n",
       " 'NO2uM': 6,\n",
       " 'NO3uM': 1}"
      ]
     },
     "execution_count": 25,
     "metadata": {},
     "output_type": "execute_result"
    }
   ],
   "source": [
    "dict(zip(list(sampleX.columns), sr ))"
   ]
  },
  {
   "cell_type": "markdown",
   "id": "continental-virgin",
   "metadata": {},
   "source": [
    "RFE ranking produces slightly different results than the lasso:\n",
    "\n",
    "Ranking the first 5 features:\n",
    "* 1 - O2, PO4, NO3\n",
    "* 2 - Salnty\n",
    "* 3 - Depthm\n",
    "\n",
    "\n",
    "For my model, I will use the above 5 features to predict temperature."
   ]
  },
  {
   "cell_type": "markdown",
   "id": "matched-holmes",
   "metadata": {},
   "source": [
    "3.\tPerform multiple linear regression on the dataset. Be sure to display the final resulting equation with the coefficients and intercept in markdown. "
   ]
  },
  {
   "cell_type": "code",
   "execution_count": 26,
   "id": "unlimited-cement",
   "metadata": {},
   "outputs": [],
   "source": [
    "X = bottle_cleanDF_scaled.drop(['T_degC', 'ChlorA', 'Phaeop', 'SiO3uM', 'NO2uM'], axis=1)\n",
    "y = bottle_cleanDF_scaled['T_degC']"
   ]
  },
  {
   "cell_type": "code",
   "execution_count": 27,
   "id": "arbitrary-standard",
   "metadata": {},
   "outputs": [
    {
     "data": {
      "text/plain": [
       "Index(['Depthm', 'Salnty', 'O2ml_L', 'PO4uM', 'NO3uM'], dtype='object')"
      ]
     },
     "execution_count": 27,
     "metadata": {},
     "output_type": "execute_result"
    }
   ],
   "source": [
    "X.columns"
   ]
  },
  {
   "cell_type": "code",
   "execution_count": 28,
   "id": "complimentary-numbers",
   "metadata": {},
   "outputs": [
    {
     "data": {
      "text/plain": [
       "0.898836032148183"
      ]
     },
     "execution_count": 28,
     "metadata": {},
     "output_type": "execute_result"
    }
   ],
   "source": [
    "from sklearn.model_selection import train_test_split\n",
    "from sklearn.linear_model import LinearRegression\n",
    "\n",
    "reg = LinearRegression()\n",
    "\n",
    "X_train, X_test, y_train, y_test = train_test_split(X, y, random_state = 16)\n",
    "\n",
    "reg.fit(X_train, y_train)\n",
    "reg.score(X_test, y_test)"
   ]
  },
  {
   "cell_type": "code",
   "execution_count": 29,
   "id": "ranging-tender",
   "metadata": {},
   "outputs": [
    {
     "name": "stdout",
     "output_type": "stream",
     "text": [
      "[-0.22344767  0.16965675 -0.94184729 -1.06198787 -0.6762138 ]\n",
      "-0.0006393575330967643 -0.22344766862546786 0.16965675319705173 -0.9418472854084805 -1.0619878745919211 -0.6762138032878754\n"
     ]
    }
   ],
   "source": [
    "theta0 = reg.intercept_\n",
    "coef = reg.coef_\n",
    "print(coef)\n",
    "theta1 = coef[0]\n",
    "theta2 = coef[1]\n",
    "theta3 = coef[2]\n",
    "theta4 = coef[3]\n",
    "theta5 = coef[4]\n",
    "print(theta0, theta1, theta2, theta3, theta4, theta5)"
   ]
  },
  {
   "cell_type": "markdown",
   "id": "burning-salad",
   "metadata": {},
   "source": [
    "### Equation\n",
    "${Temperature} = -0.000639 + -0.22344767*{Depthm} + 0.16965675*{Salnty} + -0.94184729*{O2ml/L} + -1.06198787*{PO4uM} + -0.6762138*{NO3uM}$"
   ]
  },
  {
   "cell_type": "markdown",
   "id": "documented-cyprus",
   "metadata": {},
   "source": [
    "4.\tWhich regression approach had the “best” performance? Be sure to compare it to what you did last week."
   ]
  },
  {
   "cell_type": "markdown",
   "id": "educated-reader",
   "metadata": {},
   "source": [
    "The multiple linear regression had the best performance.  The model with 5 features selected performed better than just one - Salinity.\n",
    "\n",
    "The model performance for Depthm, Salnty, O2ml_L, PO4uM, NO3uM had a score of 89.9% while the linear model that just included salinity was 26%.\n",
    "\n",
    "While working with the model, using the top 3 and top 4 features also worked well and seem to have acceptable results.\n",
    "\n",
    "No analysis was done on the data that cut during preprocessing.  It's possible that it may have come from a particular time and/or location that could have an affect on the model."
   ]
  },
  {
   "cell_type": "markdown",
   "id": "dominant-fossil",
   "metadata": {},
   "source": [
    "5.\tWork with the diabetes dataset to perform multiple logistic regression. Look at the documentation for logistic regression in statsmodel and/or sklearn and see if you can tune the model performance based on available parameters. Please note: data scientists need to constantly learn new approaches to optimizing models. This is one way of doing that. "
   ]
  },
  {
   "cell_type": "code",
   "execution_count": 30,
   "id": "classical-papua",
   "metadata": {},
   "outputs": [
    {
     "data": {
      "text/html": [
       "<div>\n",
       "<style scoped>\n",
       "    .dataframe tbody tr th:only-of-type {\n",
       "        vertical-align: middle;\n",
       "    }\n",
       "\n",
       "    .dataframe tbody tr th {\n",
       "        vertical-align: top;\n",
       "    }\n",
       "\n",
       "    .dataframe thead th {\n",
       "        text-align: right;\n",
       "    }\n",
       "</style>\n",
       "<table border=\"1\" class=\"dataframe\">\n",
       "  <thead>\n",
       "    <tr style=\"text-align: right;\">\n",
       "      <th></th>\n",
       "      <th>Pregnancies</th>\n",
       "      <th>Glucose</th>\n",
       "      <th>BloodPressure</th>\n",
       "      <th>SkinThickness</th>\n",
       "      <th>Insulin</th>\n",
       "      <th>BMI</th>\n",
       "      <th>DiabetesPedigreeFunction</th>\n",
       "      <th>Age</th>\n",
       "      <th>Outcome</th>\n",
       "    </tr>\n",
       "  </thead>\n",
       "  <tbody>\n",
       "    <tr>\n",
       "      <th>0</th>\n",
       "      <td>6</td>\n",
       "      <td>148</td>\n",
       "      <td>72</td>\n",
       "      <td>35</td>\n",
       "      <td>0</td>\n",
       "      <td>33.6</td>\n",
       "      <td>0.627</td>\n",
       "      <td>50</td>\n",
       "      <td>1</td>\n",
       "    </tr>\n",
       "    <tr>\n",
       "      <th>1</th>\n",
       "      <td>1</td>\n",
       "      <td>85</td>\n",
       "      <td>66</td>\n",
       "      <td>29</td>\n",
       "      <td>0</td>\n",
       "      <td>26.6</td>\n",
       "      <td>0.351</td>\n",
       "      <td>31</td>\n",
       "      <td>0</td>\n",
       "    </tr>\n",
       "    <tr>\n",
       "      <th>2</th>\n",
       "      <td>8</td>\n",
       "      <td>183</td>\n",
       "      <td>64</td>\n",
       "      <td>0</td>\n",
       "      <td>0</td>\n",
       "      <td>23.3</td>\n",
       "      <td>0.672</td>\n",
       "      <td>32</td>\n",
       "      <td>1</td>\n",
       "    </tr>\n",
       "    <tr>\n",
       "      <th>3</th>\n",
       "      <td>1</td>\n",
       "      <td>89</td>\n",
       "      <td>66</td>\n",
       "      <td>23</td>\n",
       "      <td>94</td>\n",
       "      <td>28.1</td>\n",
       "      <td>0.167</td>\n",
       "      <td>21</td>\n",
       "      <td>0</td>\n",
       "    </tr>\n",
       "    <tr>\n",
       "      <th>4</th>\n",
       "      <td>0</td>\n",
       "      <td>137</td>\n",
       "      <td>40</td>\n",
       "      <td>35</td>\n",
       "      <td>168</td>\n",
       "      <td>43.1</td>\n",
       "      <td>2.288</td>\n",
       "      <td>33</td>\n",
       "      <td>1</td>\n",
       "    </tr>\n",
       "  </tbody>\n",
       "</table>\n",
       "</div>"
      ],
      "text/plain": [
       "   Pregnancies  Glucose  BloodPressure  SkinThickness  Insulin   BMI  \\\n",
       "0            6      148             72             35        0  33.6   \n",
       "1            1       85             66             29        0  26.6   \n",
       "2            8      183             64              0        0  23.3   \n",
       "3            1       89             66             23       94  28.1   \n",
       "4            0      137             40             35      168  43.1   \n",
       "\n",
       "   DiabetesPedigreeFunction  Age  Outcome  \n",
       "0                     0.627   50        1  \n",
       "1                     0.351   31        0  \n",
       "2                     0.672   32        1  \n",
       "3                     0.167   21        0  \n",
       "4                     2.288   33        1  "
      ]
     },
     "execution_count": 30,
     "metadata": {},
     "output_type": "execute_result"
    }
   ],
   "source": [
    "diabetes_df = pd.read_csv(\"Classwork/diabetes.csv\")\n",
    "diabetes_df.head()"
   ]
  },
  {
   "cell_type": "code",
   "execution_count": 31,
   "id": "favorite-notebook",
   "metadata": {},
   "outputs": [
    {
     "data": {
      "text/html": [
       "<div>\n",
       "<style scoped>\n",
       "    .dataframe tbody tr th:only-of-type {\n",
       "        vertical-align: middle;\n",
       "    }\n",
       "\n",
       "    .dataframe tbody tr th {\n",
       "        vertical-align: top;\n",
       "    }\n",
       "\n",
       "    .dataframe thead th {\n",
       "        text-align: right;\n",
       "    }\n",
       "</style>\n",
       "<table border=\"1\" class=\"dataframe\">\n",
       "  <thead>\n",
       "    <tr style=\"text-align: right;\">\n",
       "      <th></th>\n",
       "      <th>Pregnancies</th>\n",
       "      <th>Glucose</th>\n",
       "      <th>BloodPressure</th>\n",
       "      <th>SkinThickness</th>\n",
       "      <th>Insulin</th>\n",
       "      <th>BMI</th>\n",
       "      <th>DiabetesPedigreeFunction</th>\n",
       "      <th>Age</th>\n",
       "      <th>Outcome</th>\n",
       "    </tr>\n",
       "  </thead>\n",
       "  <tbody>\n",
       "    <tr>\n",
       "      <th>count</th>\n",
       "      <td>768.000000</td>\n",
       "      <td>768.000000</td>\n",
       "      <td>768.000000</td>\n",
       "      <td>768.000000</td>\n",
       "      <td>768.000000</td>\n",
       "      <td>768.000000</td>\n",
       "      <td>768.000000</td>\n",
       "      <td>768.000000</td>\n",
       "      <td>768.000000</td>\n",
       "    </tr>\n",
       "    <tr>\n",
       "      <th>mean</th>\n",
       "      <td>3.845052</td>\n",
       "      <td>120.894531</td>\n",
       "      <td>69.105469</td>\n",
       "      <td>20.536458</td>\n",
       "      <td>79.799479</td>\n",
       "      <td>31.992578</td>\n",
       "      <td>0.471876</td>\n",
       "      <td>33.240885</td>\n",
       "      <td>0.348958</td>\n",
       "    </tr>\n",
       "    <tr>\n",
       "      <th>std</th>\n",
       "      <td>3.369578</td>\n",
       "      <td>31.972618</td>\n",
       "      <td>19.355807</td>\n",
       "      <td>15.952218</td>\n",
       "      <td>115.244002</td>\n",
       "      <td>7.884160</td>\n",
       "      <td>0.331329</td>\n",
       "      <td>11.760232</td>\n",
       "      <td>0.476951</td>\n",
       "    </tr>\n",
       "    <tr>\n",
       "      <th>min</th>\n",
       "      <td>0.000000</td>\n",
       "      <td>0.000000</td>\n",
       "      <td>0.000000</td>\n",
       "      <td>0.000000</td>\n",
       "      <td>0.000000</td>\n",
       "      <td>0.000000</td>\n",
       "      <td>0.078000</td>\n",
       "      <td>21.000000</td>\n",
       "      <td>0.000000</td>\n",
       "    </tr>\n",
       "    <tr>\n",
       "      <th>25%</th>\n",
       "      <td>1.000000</td>\n",
       "      <td>99.000000</td>\n",
       "      <td>62.000000</td>\n",
       "      <td>0.000000</td>\n",
       "      <td>0.000000</td>\n",
       "      <td>27.300000</td>\n",
       "      <td>0.243750</td>\n",
       "      <td>24.000000</td>\n",
       "      <td>0.000000</td>\n",
       "    </tr>\n",
       "    <tr>\n",
       "      <th>50%</th>\n",
       "      <td>3.000000</td>\n",
       "      <td>117.000000</td>\n",
       "      <td>72.000000</td>\n",
       "      <td>23.000000</td>\n",
       "      <td>30.500000</td>\n",
       "      <td>32.000000</td>\n",
       "      <td>0.372500</td>\n",
       "      <td>29.000000</td>\n",
       "      <td>0.000000</td>\n",
       "    </tr>\n",
       "    <tr>\n",
       "      <th>75%</th>\n",
       "      <td>6.000000</td>\n",
       "      <td>140.250000</td>\n",
       "      <td>80.000000</td>\n",
       "      <td>32.000000</td>\n",
       "      <td>127.250000</td>\n",
       "      <td>36.600000</td>\n",
       "      <td>0.626250</td>\n",
       "      <td>41.000000</td>\n",
       "      <td>1.000000</td>\n",
       "    </tr>\n",
       "    <tr>\n",
       "      <th>max</th>\n",
       "      <td>17.000000</td>\n",
       "      <td>199.000000</td>\n",
       "      <td>122.000000</td>\n",
       "      <td>99.000000</td>\n",
       "      <td>846.000000</td>\n",
       "      <td>67.100000</td>\n",
       "      <td>2.420000</td>\n",
       "      <td>81.000000</td>\n",
       "      <td>1.000000</td>\n",
       "    </tr>\n",
       "  </tbody>\n",
       "</table>\n",
       "</div>"
      ],
      "text/plain": [
       "       Pregnancies     Glucose  BloodPressure  SkinThickness     Insulin  \\\n",
       "count   768.000000  768.000000     768.000000     768.000000  768.000000   \n",
       "mean      3.845052  120.894531      69.105469      20.536458   79.799479   \n",
       "std       3.369578   31.972618      19.355807      15.952218  115.244002   \n",
       "min       0.000000    0.000000       0.000000       0.000000    0.000000   \n",
       "25%       1.000000   99.000000      62.000000       0.000000    0.000000   \n",
       "50%       3.000000  117.000000      72.000000      23.000000   30.500000   \n",
       "75%       6.000000  140.250000      80.000000      32.000000  127.250000   \n",
       "max      17.000000  199.000000     122.000000      99.000000  846.000000   \n",
       "\n",
       "              BMI  DiabetesPedigreeFunction         Age     Outcome  \n",
       "count  768.000000                768.000000  768.000000  768.000000  \n",
       "mean    31.992578                  0.471876   33.240885    0.348958  \n",
       "std      7.884160                  0.331329   11.760232    0.476951  \n",
       "min      0.000000                  0.078000   21.000000    0.000000  \n",
       "25%     27.300000                  0.243750   24.000000    0.000000  \n",
       "50%     32.000000                  0.372500   29.000000    0.000000  \n",
       "75%     36.600000                  0.626250   41.000000    1.000000  \n",
       "max     67.100000                  2.420000   81.000000    1.000000  "
      ]
     },
     "execution_count": 31,
     "metadata": {},
     "output_type": "execute_result"
    }
   ],
   "source": [
    "diabetes_df.describe()"
   ]
  },
  {
   "cell_type": "code",
   "execution_count": 32,
   "id": "entertaining-intro",
   "metadata": {},
   "outputs": [
    {
     "data": {
      "image/png": "[encoded data removed]",
      "text/plain": [
       "<Figure size 1080x1080 with 2 Axes>"
      ]
     },
     "metadata": {
      "needs_background": "light"
     },
     "output_type": "display_data"
    }
   ],
   "source": [
    "corrMatrix = diabetes_df.corr()\n",
    "corr_df = pd.DataFrame(corrMatrix)\n",
    "# create heat map\n",
    "plt.figure(figsize=(15, 15))\n",
    "sns.heatmap(corrMatrix, annot=True)\n",
    "plt.show()\n",
    "\n",
    "# I don't know if this matters as much in a logistic regression, but I wanted to see the data correlations"
   ]
  },
  {
   "cell_type": "code",
   "execution_count": 33,
   "id": "absolute-garage",
   "metadata": {},
   "outputs": [
    {
     "name": "stdout",
     "output_type": "stream",
     "text": [
      "Optimization terminated successfully.\n",
      "         Current function value: 0.511514\n",
      "         Iterations 6\n",
      "Intercept                  -6.281611\n",
      "Age                         0.024889\n",
      "Glucose                     0.035046\n",
      "DiabetesPedigreeFunction    0.915615\n",
      "dtype: float64\n",
      "Optimization terminated successfully.\n",
      "         Current function value: 0.502237\n",
      "         Iterations 6\n",
      "Intercept                              -9.706021\n",
      "Age                                     0.079583\n",
      "Glucose                                 0.061795\n",
      "Age:Glucose                            -0.000422\n",
      "DiabetesPedigreeFunction                0.819223\n",
      "Age:DiabetesPedigreeFunction            0.082483\n",
      "Glucose:DiabetesPedigreeFunction        0.001448\n",
      "Age:Glucose:DiabetesPedigreeFunction   -0.000658\n",
      "dtype: float64\n"
     ]
    }
   ],
   "source": [
    "#use logit \n",
    "from statsmodels.formula.api import logit\n",
    "#no interaction\n",
    "age_gl_no_int=logit(\"Outcome ~ Age + Glucose + DiabetesPedigreeFunction\", data=diabetes_df).fit()\n",
    "print(age_gl_no_int.params)\n",
    "\n",
    "#interaction\n",
    "age_gl_int=logit(\"Outcome ~ Age * Glucose * DiabetesPedigreeFunction\", data=diabetes_df).fit()\n",
    "print(age_gl_int.params)"
   ]
  },
  {
   "cell_type": "markdown",
   "id": "specialized-broadcasting",
   "metadata": {},
   "source": [
    "I don't know if I really understand how to score the logit model.  I'm not sure how much I understand the clf score either."
   ]
  },
  {
   "cell_type": "code",
   "execution_count": 34,
   "id": "vocational-praise",
   "metadata": {},
   "outputs": [],
   "source": [
    "from sklearn.linear_model import LogisticRegression\n",
    "\n",
    "X = diabetes_df.drop('Outcome', axis=1)\n",
    "y = diabetes_df['Outcome']\n",
    "\n",
    "# Split into training and test set\n",
    "X_train, X_test, y_train, y_test = train_test_split(X, y, test_size = 0.2, random_state=16, stratify=y)\n",
    "\n",
    "#Standardize\n",
    "sc= StandardScaler()\n",
    "X_train=sc.fit_transform(X_train)\n",
    "X_test=sc.fit_transform(X_test)"
   ]
  },
  {
   "cell_type": "code",
   "execution_count": 35,
   "id": "experimental-superior",
   "metadata": {},
   "outputs": [],
   "source": [
    "#Simplest logistic regression approach\n",
    "clf = LogisticRegression(random_state=0).fit(X_train, y_train)\n",
    "\n",
    "y_predicted = clf.predict(X_test)"
   ]
  },
  {
   "cell_type": "code",
   "execution_count": 36,
   "id": "convertible-criminal",
   "metadata": {},
   "outputs": [
    {
     "data": {
      "text/plain": [
       "0.3502604166666667"
      ]
     },
     "execution_count": 36,
     "metadata": {},
     "output_type": "execute_result"
    }
   ],
   "source": [
    "clf.score(X,y)"
   ]
  },
  {
   "cell_type": "code",
   "execution_count": 37,
   "id": "desirable-elizabeth",
   "metadata": {},
   "outputs": [
    {
     "name": "stdout",
     "output_type": "stream",
     "text": [
      "              precision    recall  f1-score   support\n",
      "\n",
      "           0       0.78      0.89      0.83       100\n",
      "           1       0.72      0.54      0.62        54\n",
      "\n",
      "    accuracy                           0.77       154\n",
      "   macro avg       0.75      0.71      0.72       154\n",
      "weighted avg       0.76      0.77      0.76       154\n",
      "\n"
     ]
    }
   ],
   "source": [
    "import seaborn as sns\n",
    "from sklearn.metrics import confusion_matrix, plot_confusion_matrix, classification_report\n",
    "\n",
    "print(classification_report(y_test, y_predicted))"
   ]
  },
  {
   "cell_type": "markdown",
   "id": "reasonable-contribution",
   "metadata": {},
   "source": [
    "**Check to see if BloodPressure and SkinThickness have an impact on the model**\n",
    "\n",
    "They have a minimal impact on the model.  The score went from 35% to 34.9% when BloodPressue and SkinThickness were taken out."
   ]
  },
  {
   "cell_type": "code",
   "execution_count": 38,
   "id": "advance-population",
   "metadata": {},
   "outputs": [],
   "source": [
    "X = diabetes_df.drop(['Outcome', 'BloodPressure', 'SkinThickness'], axis=1)\n",
    "y = diabetes_df['Outcome']\n",
    "\n",
    "# Split into training and test set\n",
    "X_train, X_test, y_train, y_test = train_test_split(X, y, test_size = 0.2, random_state=16, stratify=y)\n",
    "\n",
    "#Standardize\n",
    "sc= StandardScaler()\n",
    "X_train=sc.fit_transform(X_train)\n",
    "X_test=sc.fit_transform(X_test)"
   ]
  },
  {
   "cell_type": "code",
   "execution_count": 39,
   "id": "difficult-cedar",
   "metadata": {},
   "outputs": [],
   "source": [
    "#Simplest logistic regression approach\n",
    "clf2 = LogisticRegression(random_state=0).fit(X_train, y_train)\n",
    "\n",
    "y_predicted = clf2.predict(X_test)"
   ]
  },
  {
   "cell_type": "code",
   "execution_count": 40,
   "id": "conscious-imagination",
   "metadata": {},
   "outputs": [
    {
     "data": {
      "text/plain": [
       "0.3489583333333333"
      ]
     },
     "execution_count": 40,
     "metadata": {},
     "output_type": "execute_result"
    }
   ],
   "source": [
    "clf2.score(X,y)"
   ]
  },
  {
   "cell_type": "code",
   "execution_count": 41,
   "id": "composite-silly",
   "metadata": {},
   "outputs": [
    {
     "name": "stdout",
     "output_type": "stream",
     "text": [
      "              precision    recall  f1-score   support\n",
      "\n",
      "           0       0.79      0.89      0.84       100\n",
      "           1       0.74      0.57      0.65        54\n",
      "\n",
      "    accuracy                           0.78       154\n",
      "   macro avg       0.77      0.73      0.74       154\n",
      "weighted avg       0.77      0.78      0.77       154\n",
      "\n"
     ]
    }
   ],
   "source": [
    "print(classification_report(y_test, y_predicted))"
   ]
  },
  {
   "cell_type": "code",
   "execution_count": 42,
   "id": "sweet-community",
   "metadata": {},
   "outputs": [],
   "source": [
    "conf_matrix = confusion_matrix(y_test, y_predicted)"
   ]
  },
  {
   "cell_type": "code",
   "execution_count": 43,
   "id": "studied-screen",
   "metadata": {},
   "outputs": [
    {
     "data": {
      "text/plain": [
       "(<Figure size 432x288 with 3 Axes>,\n",
       " {('0', '0'): (0.0, 0.0, 0.6461200491051238, 0.8870431893687707),\n",
       "  ('0', '1'): (0.0,\n",
       "   0.8903654485049833,\n",
       "   0.6461200491051238,\n",
       "   0.1096345514950166),\n",
       "  ('1', '0'): (0.6510951734832332,\n",
       "   0.0,\n",
       "   0.34890482651676685,\n",
       "   0.42451088962716865),\n",
       "  ('1', '1'): (0.6510951734832332,\n",
       "   0.4278331487633813,\n",
       "   0.34890482651676685,\n",
       "   0.5721668512366186)})"
      ]
     },
     "execution_count": 43,
     "metadata": {},
     "output_type": "execute_result"
    },
    {
     "data": {
      "image/png": "[encoded data removed]",
      "text/plain": [
       "<Figure size 432x288 with 3 Axes>"
      ]
     },
     "metadata": {
      "needs_background": "light"
     },
     "output_type": "display_data"
    }
   ],
   "source": [
    "from statsmodels.graphics.mosaicplot import mosaic\n",
    "mosaic(conf_matrix)"
   ]
  },
  {
   "cell_type": "markdown",
   "id": "amended-connection",
   "metadata": {},
   "source": [
    "6.\tWhat are the other ways to assess the performance of the model besides accuracy? What approach makes the most sense with the diabetes dataset? Why? "
   ]
  },
  {
   "cell_type": "markdown",
   "id": "genetic-canberra",
   "metadata": {},
   "source": [
    "In the diabetes model, we want to minimize the False Negatives - the patients that have diabetes that tested negative.  We would also prefer to minimize the False Positive rate - the patients that are predicted to have diabetes, but do not.  However, this is not quite as important to long term health outcomes as a false negative rate.\n",
    "\n",
    "I don't know how the KNN score and the Clf score are the same or different. "
   ]
  },
  {
   "cell_type": "markdown",
   "id": "sapphire-france",
   "metadata": {},
   "source": [
    "7.\tIs the KNN model or the multiple logistic regression model more performant for the diabetes dataset? How can you tell? "
   ]
  },
  {
   "cell_type": "code",
   "execution_count": 44,
   "id": "protecting-arkansas",
   "metadata": {},
   "outputs": [],
   "source": [
    "from sklearn.neighbors import KNeighborsClassifier"
   ]
  },
  {
   "cell_type": "code",
   "execution_count": 45,
   "id": "entertaining-director",
   "metadata": {},
   "outputs": [],
   "source": [
    "X = diabetes_df.drop(['Outcome', 'BloodPressure', 'SkinThickness'], axis=1)\n",
    "y = diabetes_df['Outcome']\n",
    "\n",
    "#split data into training and test set\n",
    "X_train, X_test, y_train, y_test = train_test_split(X, y, test_size=0.2, random_state=45)\n",
    "\n",
    "#Standardization\n",
    "sc = StandardScaler()\n",
    "X_train = sc.fit_transform(X_train)\n",
    "X_test = sc.fit_transform(X_test)\n",
    "\n",
    "knn = KNeighborsClassifier(n_neighbors=5)\n",
    "\n",
    "knn.fit(X_train,y_train)\n",
    "y_predicted = knn.predict(X_test)"
   ]
  },
  {
   "cell_type": "code",
   "execution_count": 46,
   "id": "improved-leeds",
   "metadata": {},
   "outputs": [
    {
     "name": "stdout",
     "output_type": "stream",
     "text": [
      "0.7207792207792207\n"
     ]
    }
   ],
   "source": [
    "print(knn.score(X_test, y_test))"
   ]
  },
  {
   "cell_type": "code",
   "execution_count": 47,
   "id": "representative-merchant",
   "metadata": {},
   "outputs": [
    {
     "data": {
      "text/plain": [
       "array([[82, 22],\n",
       "       [21, 29]])"
      ]
     },
     "execution_count": 47,
     "metadata": {},
     "output_type": "execute_result"
    }
   ],
   "source": [
    "confusion_matrix(y_test, y_predicted)"
   ]
  },
  {
   "cell_type": "code",
   "execution_count": 48,
   "id": "proof-apple",
   "metadata": {},
   "outputs": [
    {
     "data": {
      "text/plain": [
       "<sklearn.metrics._plot.confusion_matrix.ConfusionMatrixDisplay at 0x12481bb20>"
      ]
     },
     "execution_count": 48,
     "metadata": {},
     "output_type": "execute_result"
    },
    {
     "data": {
      "image/png": "[encoded data removed]",
      "text/plain": [
       "<Figure size 432x288 with 2 Axes>"
      ]
     },
     "metadata": {
      "needs_background": "light"
     },
     "output_type": "display_data"
    }
   ],
   "source": [
    "plot_confusion_matrix(knn, X_test, y_test)"
   ]
  },
  {
   "cell_type": "markdown",
   "id": "engaged-bridge",
   "metadata": {},
   "source": [
    "I don't know which one is more performant in this case unless I can directly compare model scores. (?)\n",
    "\n",
    "I dont' really understand the outuput of the logit model - the classification report of the confusion matrix.\n",
    "\n",
    "For the false negative outcome for the KNN model was 21."
   ]
  },
  {
   "cell_type": "code",
   "execution_count": null,
   "id": "royal-vintage",
   "metadata": {},
   "outputs": [],
   "source": []
  }
 ],
 "metadata": {
  "kernelspec": {
   "display_name": "Python 3",
   "language": "python",
   "name": "python3"
  },
  "language_info": {
   "codemirror_mode": {
    "name": "ipython",
    "version": 3
   },
   "file_extension": ".py",
   "mimetype": "text/x-python",
   "name": "python",
   "nbconvert_exporter": "python",
   "pygments_lexer": "ipython3",
   "version": "3.8.3"
  }
 },
 "nbformat": 4,
 "nbformat_minor": 5
}
