{
 "cells": [
  {
   "cell_type": "markdown",
   "id": "closing-scotland",
   "metadata": {},
   "source": [
    "# Week 17, Abalone Data Set "
   ]
  },
  {
   "cell_type": "markdown",
   "id": "neither-updating",
   "metadata": {},
   "source": [
    "**1.\tPreprocess your dataset. Indicate which steps worked and which didn’t. Include your thoughts on why certain steps worked and certain steps didn’t.**"
   ]
  },
  {
   "cell_type": "code",
   "execution_count": 1,
   "id": "occupied-aging",
   "metadata": {},
   "outputs": [],
   "source": [
    "import numpy as np\n",
    "import pandas as pd\n",
    "\n",
    "#credit_df = pd.read_table(\"australian.dat\", sep=\" \",header=None)\n",
    "abalone_df = pd.read_csv('abalone.data', header=None)"
   ]
  },
  {
   "cell_type": "code",
   "execution_count": 2,
   "id": "comic-huntington",
   "metadata": {},
   "outputs": [
    {
     "data": {
      "text/html": [
       "<div>\n",
       "<style scoped>\n",
       "    .dataframe tbody tr th:only-of-type {\n",
       "        vertical-align: middle;\n",
       "    }\n",
       "\n",
       "    .dataframe tbody tr th {\n",
       "        vertical-align: top;\n",
       "    }\n",
       "\n",
       "    .dataframe thead th {\n",
       "        text-align: right;\n",
       "    }\n",
       "</style>\n",
       "<table border=\"1\" class=\"dataframe\">\n",
       "  <thead>\n",
       "    <tr style=\"text-align: right;\">\n",
       "      <th></th>\n",
       "      <th>0</th>\n",
       "      <th>1</th>\n",
       "      <th>2</th>\n",
       "      <th>3</th>\n",
       "      <th>4</th>\n",
       "      <th>5</th>\n",
       "      <th>6</th>\n",
       "      <th>7</th>\n",
       "      <th>8</th>\n",
       "    </tr>\n",
       "  </thead>\n",
       "  <tbody>\n",
       "    <tr>\n",
       "      <th>0</th>\n",
       "      <td>M</td>\n",
       "      <td>0.455</td>\n",
       "      <td>0.365</td>\n",
       "      <td>0.095</td>\n",
       "      <td>0.5140</td>\n",
       "      <td>0.2245</td>\n",
       "      <td>0.1010</td>\n",
       "      <td>0.150</td>\n",
       "      <td>15</td>\n",
       "    </tr>\n",
       "    <tr>\n",
       "      <th>1</th>\n",
       "      <td>M</td>\n",
       "      <td>0.350</td>\n",
       "      <td>0.265</td>\n",
       "      <td>0.090</td>\n",
       "      <td>0.2255</td>\n",
       "      <td>0.0995</td>\n",
       "      <td>0.0485</td>\n",
       "      <td>0.070</td>\n",
       "      <td>7</td>\n",
       "    </tr>\n",
       "    <tr>\n",
       "      <th>2</th>\n",
       "      <td>F</td>\n",
       "      <td>0.530</td>\n",
       "      <td>0.420</td>\n",
       "      <td>0.135</td>\n",
       "      <td>0.6770</td>\n",
       "      <td>0.2565</td>\n",
       "      <td>0.1415</td>\n",
       "      <td>0.210</td>\n",
       "      <td>9</td>\n",
       "    </tr>\n",
       "    <tr>\n",
       "      <th>3</th>\n",
       "      <td>M</td>\n",
       "      <td>0.440</td>\n",
       "      <td>0.365</td>\n",
       "      <td>0.125</td>\n",
       "      <td>0.5160</td>\n",
       "      <td>0.2155</td>\n",
       "      <td>0.1140</td>\n",
       "      <td>0.155</td>\n",
       "      <td>10</td>\n",
       "    </tr>\n",
       "    <tr>\n",
       "      <th>4</th>\n",
       "      <td>I</td>\n",
       "      <td>0.330</td>\n",
       "      <td>0.255</td>\n",
       "      <td>0.080</td>\n",
       "      <td>0.2050</td>\n",
       "      <td>0.0895</td>\n",
       "      <td>0.0395</td>\n",
       "      <td>0.055</td>\n",
       "      <td>7</td>\n",
       "    </tr>\n",
       "  </tbody>\n",
       "</table>\n",
       "</div>"
      ],
      "text/plain": [
       "   0      1      2      3       4       5       6      7   8\n",
       "0  M  0.455  0.365  0.095  0.5140  0.2245  0.1010  0.150  15\n",
       "1  M  0.350  0.265  0.090  0.2255  0.0995  0.0485  0.070   7\n",
       "2  F  0.530  0.420  0.135  0.6770  0.2565  0.1415  0.210   9\n",
       "3  M  0.440  0.365  0.125  0.5160  0.2155  0.1140  0.155  10\n",
       "4  I  0.330  0.255  0.080  0.2050  0.0895  0.0395  0.055   7"
      ]
     },
     "execution_count": 2,
     "metadata": {},
     "output_type": "execute_result"
    }
   ],
   "source": [
    "abalone_df.head()"
   ]
  },
  {
   "cell_type": "code",
   "execution_count": 3,
   "id": "threaded-assets",
   "metadata": {},
   "outputs": [
    {
     "data": {
      "text/html": [
       "<div>\n",
       "<style scoped>\n",
       "    .dataframe tbody tr th:only-of-type {\n",
       "        vertical-align: middle;\n",
       "    }\n",
       "\n",
       "    .dataframe tbody tr th {\n",
       "        vertical-align: top;\n",
       "    }\n",
       "\n",
       "    .dataframe thead th {\n",
       "        text-align: right;\n",
       "    }\n",
       "</style>\n",
       "<table border=\"1\" class=\"dataframe\">\n",
       "  <thead>\n",
       "    <tr style=\"text-align: right;\">\n",
       "      <th></th>\n",
       "      <th>sex</th>\n",
       "      <th>length</th>\n",
       "      <th>diameter</th>\n",
       "      <th>height</th>\n",
       "      <th>whole_weight</th>\n",
       "      <th>shucked_weight</th>\n",
       "      <th>viscera_weight</th>\n",
       "      <th>shell_weight</th>\n",
       "      <th>rings</th>\n",
       "    </tr>\n",
       "  </thead>\n",
       "  <tbody>\n",
       "    <tr>\n",
       "      <th>4172</th>\n",
       "      <td>F</td>\n",
       "      <td>0.565</td>\n",
       "      <td>0.450</td>\n",
       "      <td>0.165</td>\n",
       "      <td>0.8870</td>\n",
       "      <td>0.3700</td>\n",
       "      <td>0.2390</td>\n",
       "      <td>0.2490</td>\n",
       "      <td>11</td>\n",
       "    </tr>\n",
       "    <tr>\n",
       "      <th>4173</th>\n",
       "      <td>M</td>\n",
       "      <td>0.590</td>\n",
       "      <td>0.440</td>\n",
       "      <td>0.135</td>\n",
       "      <td>0.9660</td>\n",
       "      <td>0.4390</td>\n",
       "      <td>0.2145</td>\n",
       "      <td>0.2605</td>\n",
       "      <td>10</td>\n",
       "    </tr>\n",
       "    <tr>\n",
       "      <th>4174</th>\n",
       "      <td>M</td>\n",
       "      <td>0.600</td>\n",
       "      <td>0.475</td>\n",
       "      <td>0.205</td>\n",
       "      <td>1.1760</td>\n",
       "      <td>0.5255</td>\n",
       "      <td>0.2875</td>\n",
       "      <td>0.3080</td>\n",
       "      <td>9</td>\n",
       "    </tr>\n",
       "    <tr>\n",
       "      <th>4175</th>\n",
       "      <td>F</td>\n",
       "      <td>0.625</td>\n",
       "      <td>0.485</td>\n",
       "      <td>0.150</td>\n",
       "      <td>1.0945</td>\n",
       "      <td>0.5310</td>\n",
       "      <td>0.2610</td>\n",
       "      <td>0.2960</td>\n",
       "      <td>10</td>\n",
       "    </tr>\n",
       "    <tr>\n",
       "      <th>4176</th>\n",
       "      <td>M</td>\n",
       "      <td>0.710</td>\n",
       "      <td>0.555</td>\n",
       "      <td>0.195</td>\n",
       "      <td>1.9485</td>\n",
       "      <td>0.9455</td>\n",
       "      <td>0.3765</td>\n",
       "      <td>0.4950</td>\n",
       "      <td>12</td>\n",
       "    </tr>\n",
       "  </tbody>\n",
       "</table>\n",
       "</div>"
      ],
      "text/plain": [
       "     sex  length  diameter  height  whole_weight  shucked_weight  \\\n",
       "4172   F   0.565     0.450   0.165        0.8870          0.3700   \n",
       "4173   M   0.590     0.440   0.135        0.9660          0.4390   \n",
       "4174   M   0.600     0.475   0.205        1.1760          0.5255   \n",
       "4175   F   0.625     0.485   0.150        1.0945          0.5310   \n",
       "4176   M   0.710     0.555   0.195        1.9485          0.9455   \n",
       "\n",
       "      viscera_weight  shell_weight  rings  \n",
       "4172          0.2390        0.2490     11  \n",
       "4173          0.2145        0.2605     10  \n",
       "4174          0.2875        0.3080      9  \n",
       "4175          0.2610        0.2960     10  \n",
       "4176          0.3765        0.4950     12  "
      ]
     },
     "execution_count": 3,
     "metadata": {},
     "output_type": "execute_result"
    }
   ],
   "source": [
    "# sex, length, diameter, height, whole_weight, shucked_weight, viscera_weight, shell_weight, rings\n",
    "\n",
    "abalone_df.rename(columns = {0:'sex',\n",
    "                             1:'length',\n",
    "                             2:'diameter',\n",
    "                             3:'height',\n",
    "                             4:'whole_weight',\n",
    "                             5:'shucked_weight',\n",
    "                             6:'viscera_weight',\n",
    "                             7:'shell_weight',\n",
    "                             8:'rings'\n",
    "                            },\n",
    "                  inplace=True\n",
    "                 )\n",
    "                  \n",
    "abalone_df.tail()"
   ]
  },
  {
   "cell_type": "code",
   "execution_count": 4,
   "id": "preliminary-innocent",
   "metadata": {},
   "outputs": [
    {
     "name": "stdout",
     "output_type": "stream",
     "text": [
      "<class 'pandas.core.frame.DataFrame'>\n",
      "RangeIndex: 4177 entries, 0 to 4176\n",
      "Data columns (total 9 columns):\n",
      " #   Column          Non-Null Count  Dtype  \n",
      "---  ------          --------------  -----  \n",
      " 0   sex             4177 non-null   object \n",
      " 1   length          4177 non-null   float64\n",
      " 2   diameter        4177 non-null   float64\n",
      " 3   height          4177 non-null   float64\n",
      " 4   whole_weight    4177 non-null   float64\n",
      " 5   shucked_weight  4177 non-null   float64\n",
      " 6   viscera_weight  4177 non-null   float64\n",
      " 7   shell_weight    4177 non-null   float64\n",
      " 8   rings           4177 non-null   int64  \n",
      "dtypes: float64(7), int64(1), object(1)\n",
      "memory usage: 293.8+ KB\n"
     ]
    }
   ],
   "source": [
    "abalone_df.info()"
   ]
  },
  {
   "cell_type": "code",
   "execution_count": 5,
   "id": "desirable-festival",
   "metadata": {},
   "outputs": [
    {
     "data": {
      "text/html": [
       "<div>\n",
       "<style scoped>\n",
       "    .dataframe tbody tr th:only-of-type {\n",
       "        vertical-align: middle;\n",
       "    }\n",
       "\n",
       "    .dataframe tbody tr th {\n",
       "        vertical-align: top;\n",
       "    }\n",
       "\n",
       "    .dataframe thead th {\n",
       "        text-align: right;\n",
       "    }\n",
       "</style>\n",
       "<table border=\"1\" class=\"dataframe\">\n",
       "  <thead>\n",
       "    <tr style=\"text-align: right;\">\n",
       "      <th></th>\n",
       "      <th>length</th>\n",
       "      <th>diameter</th>\n",
       "      <th>height</th>\n",
       "      <th>whole_weight</th>\n",
       "      <th>shucked_weight</th>\n",
       "      <th>viscera_weight</th>\n",
       "      <th>shell_weight</th>\n",
       "      <th>rings</th>\n",
       "    </tr>\n",
       "  </thead>\n",
       "  <tbody>\n",
       "    <tr>\n",
       "      <th>count</th>\n",
       "      <td>4177.000000</td>\n",
       "      <td>4177.000000</td>\n",
       "      <td>4177.000000</td>\n",
       "      <td>4177.000000</td>\n",
       "      <td>4177.000000</td>\n",
       "      <td>4177.000000</td>\n",
       "      <td>4177.000000</td>\n",
       "      <td>4177.000000</td>\n",
       "    </tr>\n",
       "    <tr>\n",
       "      <th>mean</th>\n",
       "      <td>0.523992</td>\n",
       "      <td>0.407881</td>\n",
       "      <td>0.139516</td>\n",
       "      <td>0.828742</td>\n",
       "      <td>0.359367</td>\n",
       "      <td>0.180594</td>\n",
       "      <td>0.238831</td>\n",
       "      <td>9.933684</td>\n",
       "    </tr>\n",
       "    <tr>\n",
       "      <th>std</th>\n",
       "      <td>0.120093</td>\n",
       "      <td>0.099240</td>\n",
       "      <td>0.041827</td>\n",
       "      <td>0.490389</td>\n",
       "      <td>0.221963</td>\n",
       "      <td>0.109614</td>\n",
       "      <td>0.139203</td>\n",
       "      <td>3.224169</td>\n",
       "    </tr>\n",
       "    <tr>\n",
       "      <th>min</th>\n",
       "      <td>0.075000</td>\n",
       "      <td>0.055000</td>\n",
       "      <td>0.000000</td>\n",
       "      <td>0.002000</td>\n",
       "      <td>0.001000</td>\n",
       "      <td>0.000500</td>\n",
       "      <td>0.001500</td>\n",
       "      <td>1.000000</td>\n",
       "    </tr>\n",
       "    <tr>\n",
       "      <th>25%</th>\n",
       "      <td>0.450000</td>\n",
       "      <td>0.350000</td>\n",
       "      <td>0.115000</td>\n",
       "      <td>0.441500</td>\n",
       "      <td>0.186000</td>\n",
       "      <td>0.093500</td>\n",
       "      <td>0.130000</td>\n",
       "      <td>8.000000</td>\n",
       "    </tr>\n",
       "    <tr>\n",
       "      <th>50%</th>\n",
       "      <td>0.545000</td>\n",
       "      <td>0.425000</td>\n",
       "      <td>0.140000</td>\n",
       "      <td>0.799500</td>\n",
       "      <td>0.336000</td>\n",
       "      <td>0.171000</td>\n",
       "      <td>0.234000</td>\n",
       "      <td>9.000000</td>\n",
       "    </tr>\n",
       "    <tr>\n",
       "      <th>75%</th>\n",
       "      <td>0.615000</td>\n",
       "      <td>0.480000</td>\n",
       "      <td>0.165000</td>\n",
       "      <td>1.153000</td>\n",
       "      <td>0.502000</td>\n",
       "      <td>0.253000</td>\n",
       "      <td>0.329000</td>\n",
       "      <td>11.000000</td>\n",
       "    </tr>\n",
       "    <tr>\n",
       "      <th>max</th>\n",
       "      <td>0.815000</td>\n",
       "      <td>0.650000</td>\n",
       "      <td>1.130000</td>\n",
       "      <td>2.825500</td>\n",
       "      <td>1.488000</td>\n",
       "      <td>0.760000</td>\n",
       "      <td>1.005000</td>\n",
       "      <td>29.000000</td>\n",
       "    </tr>\n",
       "  </tbody>\n",
       "</table>\n",
       "</div>"
      ],
      "text/plain": [
       "            length     diameter       height  whole_weight  shucked_weight  \\\n",
       "count  4177.000000  4177.000000  4177.000000   4177.000000     4177.000000   \n",
       "mean      0.523992     0.407881     0.139516      0.828742        0.359367   \n",
       "std       0.120093     0.099240     0.041827      0.490389        0.221963   \n",
       "min       0.075000     0.055000     0.000000      0.002000        0.001000   \n",
       "25%       0.450000     0.350000     0.115000      0.441500        0.186000   \n",
       "50%       0.545000     0.425000     0.140000      0.799500        0.336000   \n",
       "75%       0.615000     0.480000     0.165000      1.153000        0.502000   \n",
       "max       0.815000     0.650000     1.130000      2.825500        1.488000   \n",
       "\n",
       "       viscera_weight  shell_weight        rings  \n",
       "count     4177.000000   4177.000000  4177.000000  \n",
       "mean         0.180594      0.238831     9.933684  \n",
       "std          0.109614      0.139203     3.224169  \n",
       "min          0.000500      0.001500     1.000000  \n",
       "25%          0.093500      0.130000     8.000000  \n",
       "50%          0.171000      0.234000     9.000000  \n",
       "75%          0.253000      0.329000    11.000000  \n",
       "max          0.760000      1.005000    29.000000  "
      ]
     },
     "execution_count": 5,
     "metadata": {},
     "output_type": "execute_result"
    }
   ],
   "source": [
    "abalone_df.describe()"
   ]
  },
  {
   "cell_type": "code",
   "execution_count": 6,
   "id": "manufactured-composition",
   "metadata": {},
   "outputs": [
    {
     "data": {
      "image/png": "[encoded data removed]",
      "text/plain": [
       "<Figure size 864x864 with 9 Axes>"
      ]
     },
     "metadata": {
      "needs_background": "light"
     },
     "output_type": "display_data"
    }
   ],
   "source": [
    "abalone_df.hist(figsize=(12,12));"
   ]
  },
  {
   "cell_type": "markdown",
   "id": "floral-clear",
   "metadata": {},
   "source": [
    "Remove outliers based on rings - remove data with little representation in the target"
   ]
  },
  {
   "cell_type": "code",
   "execution_count": 7,
   "id": "marked-large",
   "metadata": {},
   "outputs": [
    {
     "data": {
      "text/plain": [
       "1       1\n",
       "2       1\n",
       "3      15\n",
       "4      57\n",
       "5     115\n",
       "6     259\n",
       "7     391\n",
       "8     568\n",
       "9     689\n",
       "10    634\n",
       "11    487\n",
       "12    267\n",
       "13    203\n",
       "14    126\n",
       "15    103\n",
       "16     67\n",
       "17     58\n",
       "18     42\n",
       "19     32\n",
       "20     26\n",
       "21     14\n",
       "22      6\n",
       "23      9\n",
       "24      2\n",
       "25      1\n",
       "26      1\n",
       "27      2\n",
       "29      1\n",
       "Name: rings, dtype: int64"
      ]
     },
     "execution_count": 7,
     "metadata": {},
     "output_type": "execute_result"
    }
   ],
   "source": [
    "abalone_df['rings'].value_counts().sort_index()"
   ]
  },
  {
   "cell_type": "markdown",
   "id": "satellite-brick",
   "metadata": {},
   "source": [
    "Rings is classes from 1-3 and 21-29 have little data on which to base a model. Next step is to eliminate that data."
   ]
  },
  {
   "cell_type": "code",
   "execution_count": 8,
   "id": "alive-consumer",
   "metadata": {},
   "outputs": [
    {
     "name": "stdout",
     "output_type": "stream",
     "text": [
      "<class 'pandas.core.frame.DataFrame'>\n",
      "Int64Index: 4124 entries, 0 to 4176\n",
      "Data columns (total 9 columns):\n",
      " #   Column          Non-Null Count  Dtype  \n",
      "---  ------          --------------  -----  \n",
      " 0   sex             4124 non-null   object \n",
      " 1   length          4124 non-null   float64\n",
      " 2   diameter        4124 non-null   float64\n",
      " 3   height          4124 non-null   float64\n",
      " 4   whole_weight    4124 non-null   float64\n",
      " 5   shucked_weight  4124 non-null   float64\n",
      " 6   viscera_weight  4124 non-null   float64\n",
      " 7   shell_weight    4124 non-null   float64\n",
      " 8   rings           4124 non-null   int64  \n",
      "dtypes: float64(7), int64(1), object(1)\n",
      "memory usage: 322.2+ KB\n"
     ]
    }
   ],
   "source": [
    "clean_ab_df = abalone_df[(abalone_df['rings'] < 21) & (abalone_df['rings']>3)]\n",
    "clean_ab_df.info()"
   ]
  },
  {
   "cell_type": "code",
   "execution_count": 9,
   "id": "frequent-first",
   "metadata": {},
   "outputs": [
    {
     "data": {
      "text/html": [
       "<div>\n",
       "<style scoped>\n",
       "    .dataframe tbody tr th:only-of-type {\n",
       "        vertical-align: middle;\n",
       "    }\n",
       "\n",
       "    .dataframe tbody tr th {\n",
       "        vertical-align: top;\n",
       "    }\n",
       "\n",
       "    .dataframe thead th {\n",
       "        text-align: right;\n",
       "    }\n",
       "</style>\n",
       "<table border=\"1\" class=\"dataframe\">\n",
       "  <thead>\n",
       "    <tr style=\"text-align: right;\">\n",
       "      <th></th>\n",
       "      <th>length</th>\n",
       "      <th>diameter</th>\n",
       "      <th>height</th>\n",
       "      <th>whole_weight</th>\n",
       "      <th>shucked_weight</th>\n",
       "      <th>viscera_weight</th>\n",
       "      <th>shell_weight</th>\n",
       "      <th>rings</th>\n",
       "    </tr>\n",
       "  </thead>\n",
       "  <tbody>\n",
       "    <tr>\n",
       "      <th>count</th>\n",
       "      <td>4124.000000</td>\n",
       "      <td>4124.000000</td>\n",
       "      <td>4124.000000</td>\n",
       "      <td>4124.000000</td>\n",
       "      <td>4124.000000</td>\n",
       "      <td>4124.000000</td>\n",
       "      <td>4124.000000</td>\n",
       "      <td>4124.000000</td>\n",
       "    </tr>\n",
       "    <tr>\n",
       "      <th>mean</th>\n",
       "      <td>0.524682</td>\n",
       "      <td>0.408385</td>\n",
       "      <td>0.139577</td>\n",
       "      <td>0.827977</td>\n",
       "      <td>0.360042</td>\n",
       "      <td>0.180696</td>\n",
       "      <td>0.238002</td>\n",
       "      <td>9.852085</td>\n",
       "    </tr>\n",
       "    <tr>\n",
       "      <th>std</th>\n",
       "      <td>0.118152</td>\n",
       "      <td>0.097708</td>\n",
       "      <td>0.041329</td>\n",
       "      <td>0.487015</td>\n",
       "      <td>0.221500</td>\n",
       "      <td>0.109155</td>\n",
       "      <td>0.137183</td>\n",
       "      <td>2.978123</td>\n",
       "    </tr>\n",
       "    <tr>\n",
       "      <th>min</th>\n",
       "      <td>0.130000</td>\n",
       "      <td>0.095000</td>\n",
       "      <td>0.000000</td>\n",
       "      <td>0.010500</td>\n",
       "      <td>0.005000</td>\n",
       "      <td>0.000500</td>\n",
       "      <td>0.003500</td>\n",
       "      <td>4.000000</td>\n",
       "    </tr>\n",
       "    <tr>\n",
       "      <th>25%</th>\n",
       "      <td>0.450000</td>\n",
       "      <td>0.350000</td>\n",
       "      <td>0.115000</td>\n",
       "      <td>0.442500</td>\n",
       "      <td>0.186875</td>\n",
       "      <td>0.093500</td>\n",
       "      <td>0.130000</td>\n",
       "      <td>8.000000</td>\n",
       "    </tr>\n",
       "    <tr>\n",
       "      <th>50%</th>\n",
       "      <td>0.545000</td>\n",
       "      <td>0.425000</td>\n",
       "      <td>0.140000</td>\n",
       "      <td>0.798500</td>\n",
       "      <td>0.336000</td>\n",
       "      <td>0.170750</td>\n",
       "      <td>0.231500</td>\n",
       "      <td>9.000000</td>\n",
       "    </tr>\n",
       "    <tr>\n",
       "      <th>75%</th>\n",
       "      <td>0.615000</td>\n",
       "      <td>0.480000</td>\n",
       "      <td>0.165000</td>\n",
       "      <td>1.150000</td>\n",
       "      <td>0.502250</td>\n",
       "      <td>0.252500</td>\n",
       "      <td>0.325000</td>\n",
       "      <td>11.000000</td>\n",
       "    </tr>\n",
       "    <tr>\n",
       "      <th>max</th>\n",
       "      <td>0.815000</td>\n",
       "      <td>0.650000</td>\n",
       "      <td>1.130000</td>\n",
       "      <td>2.825500</td>\n",
       "      <td>1.488000</td>\n",
       "      <td>0.760000</td>\n",
       "      <td>1.005000</td>\n",
       "      <td>20.000000</td>\n",
       "    </tr>\n",
       "  </tbody>\n",
       "</table>\n",
       "</div>"
      ],
      "text/plain": [
       "            length     diameter       height  whole_weight  shucked_weight  \\\n",
       "count  4124.000000  4124.000000  4124.000000   4124.000000     4124.000000   \n",
       "mean      0.524682     0.408385     0.139577      0.827977        0.360042   \n",
       "std       0.118152     0.097708     0.041329      0.487015        0.221500   \n",
       "min       0.130000     0.095000     0.000000      0.010500        0.005000   \n",
       "25%       0.450000     0.350000     0.115000      0.442500        0.186875   \n",
       "50%       0.545000     0.425000     0.140000      0.798500        0.336000   \n",
       "75%       0.615000     0.480000     0.165000      1.150000        0.502250   \n",
       "max       0.815000     0.650000     1.130000      2.825500        1.488000   \n",
       "\n",
       "       viscera_weight  shell_weight        rings  \n",
       "count     4124.000000   4124.000000  4124.000000  \n",
       "mean         0.180696      0.238002     9.852085  \n",
       "std          0.109155      0.137183     2.978123  \n",
       "min          0.000500      0.003500     4.000000  \n",
       "25%          0.093500      0.130000     8.000000  \n",
       "50%          0.170750      0.231500     9.000000  \n",
       "75%          0.252500      0.325000    11.000000  \n",
       "max          0.760000      1.005000    20.000000  "
      ]
     },
     "execution_count": 9,
     "metadata": {},
     "output_type": "execute_result"
    }
   ],
   "source": [
    "clean_ab_df.describe()"
   ]
  },
  {
   "cell_type": "code",
   "execution_count": 10,
   "id": "packed-pharmacy",
   "metadata": {},
   "outputs": [
    {
     "data": {
      "text/plain": [
       "<AxesSubplot:>"
      ]
     },
     "execution_count": 10,
     "metadata": {},
     "output_type": "execute_result"
    },
    {
     "data": {
      "image/png": "[encoded data removed]",
      "text/plain": [
       "<Figure size 1080x1080 with 1 Axes>"
      ]
     },
     "metadata": {
      "needs_background": "light"
     },
     "output_type": "display_data"
    }
   ],
   "source": [
    "clean_ab_df.boxplot(figsize=(15,15))"
   ]
  },
  {
   "cell_type": "code",
   "execution_count": 11,
   "id": "controversial-roulette",
   "metadata": {
    "scrolled": false
   },
   "outputs": [
    {
     "data": {
      "text/html": [
       "<div>\n",
       "<style scoped>\n",
       "    .dataframe tbody tr th:only-of-type {\n",
       "        vertical-align: middle;\n",
       "    }\n",
       "\n",
       "    .dataframe tbody tr th {\n",
       "        vertical-align: top;\n",
       "    }\n",
       "\n",
       "    .dataframe thead th {\n",
       "        text-align: right;\n",
       "    }\n",
       "</style>\n",
       "<table border=\"1\" class=\"dataframe\">\n",
       "  <thead>\n",
       "    <tr style=\"text-align: right;\">\n",
       "      <th></th>\n",
       "      <th>sex</th>\n",
       "      <th>length</th>\n",
       "      <th>diameter</th>\n",
       "      <th>height</th>\n",
       "      <th>whole_weight</th>\n",
       "      <th>shucked_weight</th>\n",
       "      <th>viscera_weight</th>\n",
       "      <th>shell_weight</th>\n",
       "      <th>rings</th>\n",
       "    </tr>\n",
       "  </thead>\n",
       "  <tbody>\n",
       "    <tr>\n",
       "      <th>0</th>\n",
       "      <td>M</td>\n",
       "      <td>0.455</td>\n",
       "      <td>0.365</td>\n",
       "      <td>0.095</td>\n",
       "      <td>0.5140</td>\n",
       "      <td>0.2245</td>\n",
       "      <td>0.1010</td>\n",
       "      <td>0.1500</td>\n",
       "      <td>15</td>\n",
       "    </tr>\n",
       "    <tr>\n",
       "      <th>1</th>\n",
       "      <td>M</td>\n",
       "      <td>0.350</td>\n",
       "      <td>0.265</td>\n",
       "      <td>0.090</td>\n",
       "      <td>0.2255</td>\n",
       "      <td>0.0995</td>\n",
       "      <td>0.0485</td>\n",
       "      <td>0.0700</td>\n",
       "      <td>7</td>\n",
       "    </tr>\n",
       "    <tr>\n",
       "      <th>2</th>\n",
       "      <td>F</td>\n",
       "      <td>0.530</td>\n",
       "      <td>0.420</td>\n",
       "      <td>0.135</td>\n",
       "      <td>0.6770</td>\n",
       "      <td>0.2565</td>\n",
       "      <td>0.1415</td>\n",
       "      <td>0.2100</td>\n",
       "      <td>9</td>\n",
       "    </tr>\n",
       "    <tr>\n",
       "      <th>3</th>\n",
       "      <td>M</td>\n",
       "      <td>0.440</td>\n",
       "      <td>0.365</td>\n",
       "      <td>0.125</td>\n",
       "      <td>0.5160</td>\n",
       "      <td>0.2155</td>\n",
       "      <td>0.1140</td>\n",
       "      <td>0.1550</td>\n",
       "      <td>10</td>\n",
       "    </tr>\n",
       "    <tr>\n",
       "      <th>4</th>\n",
       "      <td>I</td>\n",
       "      <td>0.330</td>\n",
       "      <td>0.255</td>\n",
       "      <td>0.080</td>\n",
       "      <td>0.2050</td>\n",
       "      <td>0.0895</td>\n",
       "      <td>0.0395</td>\n",
       "      <td>0.0550</td>\n",
       "      <td>7</td>\n",
       "    </tr>\n",
       "    <tr>\n",
       "      <th>...</th>\n",
       "      <td>...</td>\n",
       "      <td>...</td>\n",
       "      <td>...</td>\n",
       "      <td>...</td>\n",
       "      <td>...</td>\n",
       "      <td>...</td>\n",
       "      <td>...</td>\n",
       "      <td>...</td>\n",
       "      <td>...</td>\n",
       "    </tr>\n",
       "    <tr>\n",
       "      <th>4119</th>\n",
       "      <td>F</td>\n",
       "      <td>0.565</td>\n",
       "      <td>0.450</td>\n",
       "      <td>0.165</td>\n",
       "      <td>0.8870</td>\n",
       "      <td>0.3700</td>\n",
       "      <td>0.2390</td>\n",
       "      <td>0.2490</td>\n",
       "      <td>11</td>\n",
       "    </tr>\n",
       "    <tr>\n",
       "      <th>4120</th>\n",
       "      <td>M</td>\n",
       "      <td>0.590</td>\n",
       "      <td>0.440</td>\n",
       "      <td>0.135</td>\n",
       "      <td>0.9660</td>\n",
       "      <td>0.4390</td>\n",
       "      <td>0.2145</td>\n",
       "      <td>0.2605</td>\n",
       "      <td>10</td>\n",
       "    </tr>\n",
       "    <tr>\n",
       "      <th>4121</th>\n",
       "      <td>M</td>\n",
       "      <td>0.600</td>\n",
       "      <td>0.475</td>\n",
       "      <td>0.205</td>\n",
       "      <td>1.1760</td>\n",
       "      <td>0.5255</td>\n",
       "      <td>0.2875</td>\n",
       "      <td>0.3080</td>\n",
       "      <td>9</td>\n",
       "    </tr>\n",
       "    <tr>\n",
       "      <th>4122</th>\n",
       "      <td>F</td>\n",
       "      <td>0.625</td>\n",
       "      <td>0.485</td>\n",
       "      <td>0.150</td>\n",
       "      <td>1.0945</td>\n",
       "      <td>0.5310</td>\n",
       "      <td>0.2610</td>\n",
       "      <td>0.2960</td>\n",
       "      <td>10</td>\n",
       "    </tr>\n",
       "    <tr>\n",
       "      <th>4123</th>\n",
       "      <td>M</td>\n",
       "      <td>0.710</td>\n",
       "      <td>0.555</td>\n",
       "      <td>0.195</td>\n",
       "      <td>1.9485</td>\n",
       "      <td>0.9455</td>\n",
       "      <td>0.3765</td>\n",
       "      <td>0.4950</td>\n",
       "      <td>12</td>\n",
       "    </tr>\n",
       "  </tbody>\n",
       "</table>\n",
       "<p>4124 rows × 9 columns</p>\n",
       "</div>"
      ],
      "text/plain": [
       "     sex  length  diameter  height  whole_weight  shucked_weight  \\\n",
       "0      M   0.455     0.365   0.095        0.5140          0.2245   \n",
       "1      M   0.350     0.265   0.090        0.2255          0.0995   \n",
       "2      F   0.530     0.420   0.135        0.6770          0.2565   \n",
       "3      M   0.440     0.365   0.125        0.5160          0.2155   \n",
       "4      I   0.330     0.255   0.080        0.2050          0.0895   \n",
       "...   ..     ...       ...     ...           ...             ...   \n",
       "4119   F   0.565     0.450   0.165        0.8870          0.3700   \n",
       "4120   M   0.590     0.440   0.135        0.9660          0.4390   \n",
       "4121   M   0.600     0.475   0.205        1.1760          0.5255   \n",
       "4122   F   0.625     0.485   0.150        1.0945          0.5310   \n",
       "4123   M   0.710     0.555   0.195        1.9485          0.9455   \n",
       "\n",
       "      viscera_weight  shell_weight  rings  \n",
       "0             0.1010        0.1500     15  \n",
       "1             0.0485        0.0700      7  \n",
       "2             0.1415        0.2100      9  \n",
       "3             0.1140        0.1550     10  \n",
       "4             0.0395        0.0550      7  \n",
       "...              ...           ...    ...  \n",
       "4119          0.2390        0.2490     11  \n",
       "4120          0.2145        0.2605     10  \n",
       "4121          0.2875        0.3080      9  \n",
       "4122          0.2610        0.2960     10  \n",
       "4123          0.3765        0.4950     12  \n",
       "\n",
       "[4124 rows x 9 columns]"
      ]
     },
     "execution_count": 11,
     "metadata": {},
     "output_type": "execute_result"
    }
   ],
   "source": [
    "clean_ab_df.reset_index(drop=True, inplace=True)\n",
    "clean_ab_df"
   ]
  },
  {
   "cell_type": "markdown",
   "id": "stretch-genetics",
   "metadata": {},
   "source": [
    "Using Z-score to further clean data. Looking to see if a z score of 3 is a good choice.\n",
    "\n",
    "First, create the z-scores.   Second, look at the amount of data affected.  Third, drop data rows where z is greater than threshold"
   ]
  },
  {
   "cell_type": "code",
   "execution_count": 12,
   "id": "magnetic-ranch",
   "metadata": {},
   "outputs": [
    {
     "name": "stdout",
     "output_type": "stream",
     "text": [
      "4124\n",
      "[[0.58983923 0.44408092 1.07870903 ... 0.73020949 0.6415742  1.72878671]\n",
      " [1.47863131 1.46766114 1.19970329 ... 1.21123708 1.224809   0.95779507]\n",
      " [0.04501226 0.1188882  0.11075493 ... 0.35913106 0.20414809 0.28614962]\n",
      " ...\n",
      " [0.63754032 0.68185732 1.58316474 ... 0.97858378 0.51031454 0.28614962]\n",
      " [0.84915749 0.78421534 0.25222785 ... 0.73577937 0.42282932 0.0496731 ]\n",
      " [1.56865584 1.50072149 1.34117621 ... 1.79404008 1.8736259  0.72131854]]\n"
     ]
    }
   ],
   "source": [
    "from scipy import stats\n",
    "# must drop sex from zscore since that is string object\n",
    "z = np.abs(stats.zscore(clean_ab_df.drop('sex', axis=1)))\n",
    "print(len(z))\n",
    "print(z)"
   ]
  },
  {
   "cell_type": "code",
   "execution_count": 13,
   "id": "toxic-costume",
   "metadata": {},
   "outputs": [
    {
     "name": "stdout",
     "output_type": "stream",
     "text": [
      "189\n",
      "(array([   6,    9,   33,   72,   81,  127,  128,  148,  162,  163,  164,\n",
      "        164,  164,  165,  165,  166,  166,  167,  169,  233,  250,  269,\n",
      "        270,  285,  301,  321,  341,  344,  344,  348,  351,  358,  361,\n",
      "        402,  403,  413,  416,  426,  464,  478,  508,  550,  560,  571,\n",
      "        619,  641,  649,  667,  667,  669,  669,  715,  725,  727,  861,\n",
      "        861,  861, 1017, 1020, 1020, 1021, 1021, 1142, 1161, 1165, 1167,\n",
      "       1170, 1172, 1174, 1174, 1175, 1175, 1175, 1175, 1177, 1177, 1225,\n",
      "       1385, 1385, 1386, 1390, 1394, 1395, 1395, 1395, 1396, 1495, 1721,\n",
      "       1723, 1724, 1726, 1728, 1729, 1729, 1729, 1730, 1730, 1730, 1788,\n",
      "       1949, 1953, 1954, 1954, 2018, 2057, 2068, 2080, 2080, 2122, 2125,\n",
      "       2126, 2134, 2134, 2134, 2141, 2164, 2170, 2235, 2236, 2238, 2301,\n",
      "       2308, 2315, 2323, 2325, 2337, 2337, 2414, 2426, 2454, 2499, 2578,\n",
      "       2579, 2579, 2579, 2580, 2664, 2665, 2665, 2764, 2764, 2765, 2765,\n",
      "       2765, 2816, 2817, 2817, 2817, 2961, 2962, 3094, 3102, 3140, 3145,\n",
      "       3196, 3269, 3270, 3310, 3311, 3324, 3332, 3343, 3378, 3378, 3378,\n",
      "       3548, 3548, 3577, 3662, 3664, 3664, 3664, 3664, 3749, 3785, 3785,\n",
      "       3813, 3847, 3847, 3850, 3862, 3872, 3876, 3891, 3908, 3909, 3943,\n",
      "       4092, 4095]), array([7, 7, 7, 7, 6, 7, 6, 0, 6, 6, 3, 4, 6, 6, 7, 6, 7, 6, 5, 0, 7, 6,\n",
      "       7, 7, 7, 6, 7, 3, 6, 7, 7, 7, 7, 7, 7, 7, 7, 7, 7, 7, 7, 7, 7, 7,\n",
      "       7, 7, 7, 0, 1, 0, 1, 7, 7, 7, 3, 4, 6, 5, 3, 4, 3, 5, 2, 4, 4, 4,\n",
      "       4, 5, 4, 5, 3, 4, 5, 6, 3, 4, 2, 2, 4, 4, 5, 4, 3, 4, 5, 6, 4, 4,\n",
      "       4, 5, 5, 4, 3, 4, 5, 3, 4, 5, 4, 4, 0, 0, 1, 2, 6, 7, 0, 1, 6, 7,\n",
      "       6, 0, 1, 2, 7, 7, 6, 6, 7, 7, 0, 7, 7, 7, 6, 0, 1, 7, 7, 7, 4, 3,\n",
      "       3, 4, 5, 4, 5, 4, 5, 4, 5, 3, 4, 5, 4, 3, 4, 5, 4, 6, 7, 6, 6, 7,\n",
      "       7, 0, 7, 7, 7, 7, 7, 7, 3, 4, 5, 3, 4, 5, 4, 3, 4, 5, 6, 3, 0, 1,\n",
      "       7, 0, 1, 0, 7, 7, 6, 7, 4, 4, 2, 6, 5]))\n"
     ]
    }
   ],
   "source": [
    "z_threshold = 3\n",
    "print(len(np.where(z > z_threshold)[0])) #number of rows of data affected\n",
    "print(np.where(z > z_threshold))"
   ]
  },
  {
   "cell_type": "code",
   "execution_count": 14,
   "id": "sustained-employee",
   "metadata": {},
   "outputs": [
    {
     "name": "stdout",
     "output_type": "stream",
     "text": [
      "[6, 9, 33, 72, 81, 127, 128, 148, 162, 163, 164, 164, 164, 165, 165, 166, 166, 167, 169, 233, 250, 269, 270, 285, 301, 321, 341, 344, 344, 348, 351, 358, 361, 402, 403, 413, 416, 426, 464, 478, 508, 550, 560, 571, 619, 641, 649, 667, 667, 669, 669, 715, 725, 727, 861, 861, 861, 1017, 1020, 1020, 1021, 1021, 1142, 1161, 1165, 1167, 1170, 1172, 1174, 1174, 1175, 1175, 1175, 1175, 1177, 1177, 1225, 1385, 1385, 1386, 1390, 1394, 1395, 1395, 1395, 1396, 1495, 1721, 1723, 1724, 1726, 1728, 1729, 1729, 1729, 1730, 1730, 1730, 1788, 1949, 1953, 1954, 1954, 2018, 2057, 2068, 2080, 2080, 2122, 2125, 2126, 2134, 2134, 2134, 2141, 2164, 2170, 2235, 2236, 2238, 2301, 2308, 2315, 2323, 2325, 2337, 2337, 2414, 2426, 2454, 2499, 2578, 2579, 2579, 2579, 2580, 2664, 2665, 2665, 2764, 2764, 2765, 2765, 2765, 2816, 2817, 2817, 2817, 2961, 2962, 3094, 3102, 3140, 3145, 3196, 3269, 3270, 3310, 3311, 3324, 3332, 3343, 3378, 3378, 3378, 3548, 3548, 3577, 3662, 3664, 3664, 3664, 3664, 3749, 3785, 3785, 3813, 3847, 3847, 3850, 3862, 3872, 3876, 3891, 3908, 3909, 3943, 4092, 4095]\n"
     ]
    }
   ],
   "source": [
    "#rows to be dropped\n",
    "remove_rows = list(np.where(z > z_threshold)[0])\n",
    "print(remove_rows)  #checking"
   ]
  },
  {
   "cell_type": "code",
   "execution_count": 15,
   "id": "conceptual-marketplace",
   "metadata": {},
   "outputs": [
    {
     "name": "stdout",
     "output_type": "stream",
     "text": [
      "<class 'pandas.core.frame.DataFrame'>\n",
      "Int64Index: 3979 entries, 0 to 4123\n",
      "Data columns (total 9 columns):\n",
      " #   Column          Non-Null Count  Dtype  \n",
      "---  ------          --------------  -----  \n",
      " 0   sex             3979 non-null   object \n",
      " 1   length          3979 non-null   float64\n",
      " 2   diameter        3979 non-null   float64\n",
      " 3   height          3979 non-null   float64\n",
      " 4   whole_weight    3979 non-null   float64\n",
      " 5   shucked_weight  3979 non-null   float64\n",
      " 6   viscera_weight  3979 non-null   float64\n",
      " 7   shell_weight    3979 non-null   float64\n",
      " 8   rings           3979 non-null   int64  \n",
      "dtypes: float64(7), int64(1), object(1)\n",
      "memory usage: 310.9+ KB\n"
     ]
    },
    {
     "name": "stderr",
     "output_type": "stream",
     "text": [
      "/opt/anaconda3/lib/python3.8/site-packages/pandas/core/frame.py:4305: SettingWithCopyWarning: \n",
      "A value is trying to be set on a copy of a slice from a DataFrame\n",
      "\n",
      "See the caveats in the documentation: https://pandas.pydata.org/pandas-docs/stable/user_guide/indexing.html#returning-a-view-versus-a-copy\n",
      "  return super().drop(\n"
     ]
    }
   ],
   "source": [
    "clean_ab_df.drop(remove_rows, axis=0, inplace=True)\n",
    "clean_ab_df.info()"
   ]
  },
  {
   "cell_type": "code",
   "execution_count": 18,
   "id": "amateur-society",
   "metadata": {},
   "outputs": [
    {
     "data": {
      "text/plain": [
       "<AxesSubplot:>"
      ]
     },
     "execution_count": 18,
     "metadata": {},
     "output_type": "execute_result"
    },
    {
     "data": {
      "image/png": "[encoded data removed]",
      "text/plain": [
       "<Figure size 1080x1080 with 1 Axes>"
      ]
     },
     "metadata": {
      "needs_background": "light"
     },
     "output_type": "display_data"
    }
   ],
   "source": [
    "clean_ab_df.boxplot(figsize=(15, 15))"
   ]
  },
  {
   "cell_type": "markdown",
   "id": "employed-lightweight",
   "metadata": {},
   "source": [
    "The worst of the outliers have been dropped.\n",
    "\n",
    "**3979 samples kept = 96.48% of the original data**  This may or may not be enough to make a nice model."
   ]
  },
  {
   "cell_type": "markdown",
   "id": "modern-rally",
   "metadata": {},
   "source": [
    "Using label encoder to change sex into values"
   ]
  },
  {
   "cell_type": "code",
   "execution_count": 20,
   "id": "alpha-bangkok",
   "metadata": {},
   "outputs": [
    {
     "name": "stderr",
     "output_type": "stream",
     "text": [
      "<ipython-input-20-5266cb1eec60>:4: SettingWithCopyWarning: \n",
      "A value is trying to be set on a copy of a slice from a DataFrame.\n",
      "Try using .loc[row_indexer,col_indexer] = value instead\n",
      "\n",
      "See the caveats in the documentation: https://pandas.pydata.org/pandas-docs/stable/user_guide/indexing.html#returning-a-view-versus-a-copy\n",
      "  clean_ab_df['sex_cat'] = labelencoder.fit_transform(clean_ab_df['sex'])\n"
     ]
    }
   ],
   "source": [
    "from sklearn.preprocessing import LabelEncoder\n",
    "\n",
    "labelencoder = LabelEncoder()\n",
    "clean_ab_df['sex_cat'] = labelencoder.fit_transform(clean_ab_df['sex'])"
   ]
  },
  {
   "cell_type": "code",
   "execution_count": 21,
   "id": "extra-balloon",
   "metadata": {},
   "outputs": [
    {
     "data": {
      "text/html": [
       "<div>\n",
       "<style scoped>\n",
       "    .dataframe tbody tr th:only-of-type {\n",
       "        vertical-align: middle;\n",
       "    }\n",
       "\n",
       "    .dataframe tbody tr th {\n",
       "        vertical-align: top;\n",
       "    }\n",
       "\n",
       "    .dataframe thead th {\n",
       "        text-align: right;\n",
       "    }\n",
       "</style>\n",
       "<table border=\"1\" class=\"dataframe\">\n",
       "  <thead>\n",
       "    <tr style=\"text-align: right;\">\n",
       "      <th></th>\n",
       "      <th>sex</th>\n",
       "      <th>length</th>\n",
       "      <th>diameter</th>\n",
       "      <th>height</th>\n",
       "      <th>whole_weight</th>\n",
       "      <th>shucked_weight</th>\n",
       "      <th>viscera_weight</th>\n",
       "      <th>shell_weight</th>\n",
       "      <th>rings</th>\n",
       "      <th>sex_cat</th>\n",
       "    </tr>\n",
       "  </thead>\n",
       "  <tbody>\n",
       "    <tr>\n",
       "      <th>0</th>\n",
       "      <td>M</td>\n",
       "      <td>0.455</td>\n",
       "      <td>0.365</td>\n",
       "      <td>0.095</td>\n",
       "      <td>0.5140</td>\n",
       "      <td>0.2245</td>\n",
       "      <td>0.1010</td>\n",
       "      <td>0.150</td>\n",
       "      <td>15</td>\n",
       "      <td>2</td>\n",
       "    </tr>\n",
       "    <tr>\n",
       "      <th>1</th>\n",
       "      <td>M</td>\n",
       "      <td>0.350</td>\n",
       "      <td>0.265</td>\n",
       "      <td>0.090</td>\n",
       "      <td>0.2255</td>\n",
       "      <td>0.0995</td>\n",
       "      <td>0.0485</td>\n",
       "      <td>0.070</td>\n",
       "      <td>7</td>\n",
       "      <td>2</td>\n",
       "    </tr>\n",
       "    <tr>\n",
       "      <th>2</th>\n",
       "      <td>F</td>\n",
       "      <td>0.530</td>\n",
       "      <td>0.420</td>\n",
       "      <td>0.135</td>\n",
       "      <td>0.6770</td>\n",
       "      <td>0.2565</td>\n",
       "      <td>0.1415</td>\n",
       "      <td>0.210</td>\n",
       "      <td>9</td>\n",
       "      <td>0</td>\n",
       "    </tr>\n",
       "    <tr>\n",
       "      <th>3</th>\n",
       "      <td>M</td>\n",
       "      <td>0.440</td>\n",
       "      <td>0.365</td>\n",
       "      <td>0.125</td>\n",
       "      <td>0.5160</td>\n",
       "      <td>0.2155</td>\n",
       "      <td>0.1140</td>\n",
       "      <td>0.155</td>\n",
       "      <td>10</td>\n",
       "      <td>2</td>\n",
       "    </tr>\n",
       "    <tr>\n",
       "      <th>4</th>\n",
       "      <td>I</td>\n",
       "      <td>0.330</td>\n",
       "      <td>0.255</td>\n",
       "      <td>0.080</td>\n",
       "      <td>0.2050</td>\n",
       "      <td>0.0895</td>\n",
       "      <td>0.0395</td>\n",
       "      <td>0.055</td>\n",
       "      <td>7</td>\n",
       "      <td>1</td>\n",
       "    </tr>\n",
       "  </tbody>\n",
       "</table>\n",
       "</div>"
      ],
      "text/plain": [
       "  sex  length  diameter  height  whole_weight  shucked_weight  viscera_weight  \\\n",
       "0   M   0.455     0.365   0.095        0.5140          0.2245          0.1010   \n",
       "1   M   0.350     0.265   0.090        0.2255          0.0995          0.0485   \n",
       "2   F   0.530     0.420   0.135        0.6770          0.2565          0.1415   \n",
       "3   M   0.440     0.365   0.125        0.5160          0.2155          0.1140   \n",
       "4   I   0.330     0.255   0.080        0.2050          0.0895          0.0395   \n",
       "\n",
       "   shell_weight  rings  sex_cat  \n",
       "0         0.150     15        2  \n",
       "1         0.070      7        2  \n",
       "2         0.210      9        0  \n",
       "3         0.155     10        2  \n",
       "4         0.055      7        1  "
      ]
     },
     "execution_count": 21,
     "metadata": {},
     "output_type": "execute_result"
    }
   ],
   "source": [
    "clean_ab_df.head()"
   ]
  },
  {
   "cell_type": "markdown",
   "id": "settled-cartoon",
   "metadata": {},
   "source": [
    "### 2.\tCreate a decision tree model tuned to the best of your abilities. Explain how you tuned it."
   ]
  },
  {
   "cell_type": "markdown",
   "id": "funky-improvement",
   "metadata": {},
   "source": [
    "Creating a regression tree first I will try using all the features.\n",
    "\n",
    "Run number\n",
    "\n",
    "1 - max_depth = 8, min_samples_leaf = 5\n",
    "RMSE 2.1143\n",
    "\n",
    "2 - max_depth=6, min_samples_leaf=5\n",
    "RMSE 2.0554\n",
    "\n",
    "3 - max_depth=4, min_samples_leaf=5\n",
    "RMSE 2.0631\n",
    "\n",
    "4 - max_depth=5, min_samples_leaf=5\n",
    "RMSE 2.0245\n",
    "\n",
    "5 - max_depth=5, min_samples_leaf=10\n",
    "RMSE 2.0195\n"
   ]
  },
  {
   "cell_type": "code",
   "execution_count": 84,
   "id": "absent-bradford",
   "metadata": {},
   "outputs": [],
   "source": [
    "from sklearn.model_selection import train_test_split\n",
    "\n",
    "X = clean_ab_df.drop(['rings', 'sex'], axis=1)\n",
    "y = clean_ab_df['rings']\n",
    "\n",
    "# Split into training and test set\n",
    "X_train, X_test, y_train, y_test = train_test_split(X, y, test_size = 0.3, random_state=42, stratify=y)"
   ]
  },
  {
   "cell_type": "code",
   "execution_count": 99,
   "id": "going-phrase",
   "metadata": {},
   "outputs": [],
   "source": [
    "from sklearn.tree import DecisionTreeRegressor\n",
    "from sklearn.metrics import mean_squared_error as MSE\n",
    "\n",
    "tree_model = DecisionTreeRegressor(max_depth=6, min_samples_leaf=30, random_state=42)"
   ]
  },
  {
   "cell_type": "code",
   "execution_count": 100,
   "id": "forward-retro",
   "metadata": {},
   "outputs": [
    {
     "name": "stdout",
     "output_type": "stream",
     "text": [
      "Decision Tree Regressor RSME test: 2.019544318543961\n"
     ]
    }
   ],
   "source": [
    "tree_model.fit(X_train, y_train)\n",
    "\n",
    "y_pred_test = tree_model.predict(X_test)\n",
    "\n",
    "rmse = MSE(y_test, y_pred)**.5\n",
    "print('Decision Tree Regressor RSME test set:', rmse)"
   ]
  },
  {
   "cell_type": "code",
   "execution_count": 135,
   "id": "secondary-platinum",
   "metadata": {},
   "outputs": [
    {
     "data": {
      "text/plain": [
       "{'length': 0.00018440001827398162,\n",
       " 'diameter': 0.009918001511958102,\n",
       " 'height': 0.009537312109107543,\n",
       " 'whole_weight': 0.011643802215396742,\n",
       " 'shucked_weight': 0.12743221040342895,\n",
       " 'viscera_weight': 0.0026074727040553973,\n",
       " 'shell_weight': 0.822254626678521,\n",
       " 'sex_cat': 0.016422174359258374}"
      ]
     },
     "execution_count": 135,
     "metadata": {},
     "output_type": "execute_result"
    }
   ],
   "source": [
    "feats = {} # a dict to hold feature_name: feature_importance\n",
    "for feature, importance in zip(X.columns, tree_model.feature_importances_):\n",
    "    feats[feature] = importance #add the name/value pair\n",
    "feats"
   ]
  },
  {
   "cell_type": "code",
   "execution_count": 102,
   "id": "aware-integral",
   "metadata": {},
   "outputs": [],
   "source": [
    "from sklearn.model_selection import cross_val_score\n",
    "MSE_CV = - cross_val_score(tree_model, X_train, y_train, cv=10, scoring='neg_mean_squared_error',\n",
    "                        n_jobs=-1)"
   ]
  },
  {
   "cell_type": "code",
   "execution_count": 103,
   "id": "surprising-disability",
   "metadata": {},
   "outputs": [
    {
     "name": "stdout",
     "output_type": "stream",
     "text": [
      "Train RMSE: 1.77\n"
     ]
    }
   ],
   "source": [
    "y_pred_train = tree_model.predict(X_train)\n",
    "print('Train RMSE: {:.2f}'.format((MSE(y_train, y_pred_train))**.5))"
   ]
  },
  {
   "cell_type": "code",
   "execution_count": 104,
   "id": "hungry-amber",
   "metadata": {},
   "outputs": [
    {
     "name": "stdout",
     "output_type": "stream",
     "text": [
      "CV MSE: 3.73\n"
     ]
    }
   ],
   "source": [
    "print('CV MSE: {:.2f}'.format(MSE_CV.mean()))"
   ]
  },
  {
   "cell_type": "code",
   "execution_count": 105,
   "id": "universal-yorkshire",
   "metadata": {},
   "outputs": [
    {
     "name": "stdout",
     "output_type": "stream",
     "text": [
      "RMSE for model: 1.93\n"
     ]
    }
   ],
   "source": [
    "print('RMSE for model: {:.2f}'.format(MSE_CV.mean()**.5))"
   ]
  },
  {
   "cell_type": "markdown",
   "id": "standard-graph",
   "metadata": {},
   "source": [
    "**Discussion of Model above**\n",
    "\n",
    "I tried tuning the model because the RMSE scores seem to suggest the model overfits to the training data.  The RMSE of the training data is the lowest while the RMSE for the test data is higher.\n",
    "\n",
    "So, after trying to tune the tree by hand, I will try a GridSearch."
   ]
  },
  {
   "cell_type": "code",
   "execution_count": 125,
   "id": "center-destruction",
   "metadata": {},
   "outputs": [],
   "source": [
    "from sklearn.model_selection import GridSearchCV\n",
    "\n",
    "dt = DecisionTreeRegressor(random_state=42)\n",
    "\n",
    "# define parameters\n",
    "params_dt = {'max_depth':[3, 4, 5, 6, 7, 8],\n",
    "             'min_samples_leaf': [5, 10, 15, 20, 25, 30, 35],\n",
    "             'max_features': [.2, .4, .6, .8, 1]\n",
    "            }\n",
    "\n",
    "grid_dt = GridSearchCV(estimator=dt,\n",
    "                      param_grid=params_dt,\n",
    "                      scoring = 'neg_mean_squared_error',\n",
    "                      cv=10, verbose=3,\n",
    "                      n_jobs=-1)"
   ]
  },
  {
   "cell_type": "code",
   "execution_count": 126,
   "id": "potential-yeast",
   "metadata": {},
   "outputs": [
    {
     "name": "stdout",
     "output_type": "stream",
     "text": [
      "Fitting 10 folds for each of 210 candidates, totalling 2100 fits\n"
     ]
    },
    {
     "data": {
      "text/plain": [
       "GridSearchCV(cv=10, estimator=DecisionTreeRegressor(random_state=42), n_jobs=-1,\n",
       "             param_grid={'max_depth': [3, 4, 5, 6, 7, 8],\n",
       "                         'max_features': [0.2, 0.4, 0.6, 0.8, 1],\n",
       "                         'min_samples_leaf': [5, 10, 15, 20, 25, 30, 35]},\n",
       "             scoring='neg_mean_squared_error', verbose=3)"
      ]
     },
     "execution_count": 126,
     "metadata": {},
     "output_type": "execute_result"
    }
   ],
   "source": [
    "grid_dt.fit(X_train, y_train)"
   ]
  },
  {
   "cell_type": "code",
   "execution_count": 127,
   "id": "compatible-object",
   "metadata": {},
   "outputs": [
    {
     "name": "stdout",
     "output_type": "stream",
     "text": [
      "Best Parameters for Decision Tree Regressor:  {'max_depth': 7, 'max_features': 0.8, 'min_samples_leaf': 30}\n"
     ]
    }
   ],
   "source": [
    "best_params = grid_dt.best_params_\n",
    "print('Best Parameters for Decision Tree Regressor: ', best_params)"
   ]
  },
  {
   "cell_type": "code",
   "execution_count": 129,
   "id": "reduced-liver",
   "metadata": {},
   "outputs": [
    {
     "name": "stdout",
     "output_type": "stream",
     "text": [
      "Test set RMSE: 1.984\n"
     ]
    }
   ],
   "source": [
    "best_dt_reg_model = grid_dt.best_estimator_\n",
    "y_pred_test = best_dt_reg_model.predict(X_test)\n",
    "rmse_test = MSE(y_test, y_pred_test)**.5\n",
    "print('Test set RMSE: {:.3f}'.format(rmse_test))"
   ]
  },
  {
   "cell_type": "code",
   "execution_count": 131,
   "id": "legendary-genealogy",
   "metadata": {},
   "outputs": [
    {
     "name": "stdout",
     "output_type": "stream",
     "text": [
      "Train set RMSE: 1.758\n"
     ]
    }
   ],
   "source": [
    "y_pred_train = best_dt_reg_model.predict(X_train)\n",
    "rmse_train = MSE(y_train, y_pred_train)**.5\n",
    "print('Train set RMSE: {:.3f}'.format(rmse_train))"
   ]
  },
  {
   "cell_type": "code",
   "execution_count": 134,
   "id": "clinical-trinity",
   "metadata": {},
   "outputs": [
    {
     "data": {
      "text/plain": [
       "{'length': 0.010505484804482528,\n",
       " 'diameter': 0.012556100251824524,\n",
       " 'height': 0.007096560826254071,\n",
       " 'whole_weight': 0.041419088618933404,\n",
       " 'shucked_weight': 0.10900391882721483,\n",
       " 'viscera_weight': 0.06391368082136929,\n",
       " 'shell_weight': 0.7317091984061846,\n",
       " 'sex_cat': 0.023795967443736684}"
      ]
     },
     "execution_count": 134,
     "metadata": {},
     "output_type": "execute_result"
    }
   ],
   "source": [
    "feats = {} # a dict to hold feature_name: feature_importance\n",
    "for feature, importance in zip(X.columns, best_dt_reg_model.feature_importances_):\n",
    "    feats[feature] = importance #add the name/value pair \n",
    "    \n",
    "feats"
   ]
  },
  {
   "cell_type": "markdown",
   "id": "ready-mapping",
   "metadata": {},
   "source": [
    "Test set RMSE is slightly better than the previous model.\n",
    "\n",
    "Previous model RMSE on test set: 2.0195\n",
    "\n",
    "The current best model still seems to be slightly overfitted."
   ]
  },
  {
   "cell_type": "markdown",
   "id": "posted-guitar",
   "metadata": {},
   "source": [
    "### Decision Tree Regression\n",
    "\n",
    "So based on playing with a Decision Tree Regression model, the best way to tune was to use a GridSearchCV.  However, based on RMSE metrics, the model still seems overly tuned to the training set.   Is this bad?  I have no idea.  But I'm not sure how to move the model to a fit that is optimal.\n",
    "\n",
    "Based on the feature importance, the shell weight is the most important feature at 73% and shucked weight is next at 11%.   Compared to the hand tuned model, the most important feature was shell weight at 82% and shucked weight at 12%."
   ]
  },
  {
   "cell_type": "markdown",
   "id": "placed-delhi",
   "metadata": {},
   "source": [
    "### 3.\tCreate a random forest model tuned to the best of your abilities. Explain how you tuned it."
   ]
  },
  {
   "cell_type": "markdown",
   "id": "based-rebel",
   "metadata": {},
   "source": [
    "Because GridSearchCV worked so well above, I will used it again to tune features of the Random Forest model.\n",
    "\n",
    "I will reuse X_train, y_train, X_test, and y_test"
   ]
  },
  {
   "cell_type": "code",
   "execution_count": 149,
   "id": "dress-outreach",
   "metadata": {},
   "outputs": [],
   "source": [
    "from sklearn.ensemble import RandomForestRegressor\n",
    "\n",
    "rf = RandomForestRegressor(random_state=42)"
   ]
  },
  {
   "cell_type": "code",
   "execution_count": 150,
   "id": "precious-clark",
   "metadata": {},
   "outputs": [],
   "source": [
    "# using parameters informed by the decision tree\n",
    "params_rf = {'n_estimators': [200, 350, 500],\n",
    "            'max_depth': [4, 5, 6, 7, 8],\n",
    "            'min_samples_leaf': [5, 10, 15, 20, 25, 30, 35],\n",
    "            'max_features': [3, 4, 5, 6, 7, 8],\n",
    "            'bootstrap': [True, False]}"
   ]
  },
  {
   "cell_type": "code",
   "execution_count": 151,
   "id": "bronze-canberra",
   "metadata": {},
   "outputs": [],
   "source": [
    "#setting cv=3 because this is rather computationally intensive\n",
    "grid_rf = GridSearchCV(estimator=rf,\n",
    "                      param_grid=params_rf,\n",
    "                      cv=3, \n",
    "                      scoring='neg_mean_squared_error',\n",
    "                        verbose=3,\n",
    "                      n_jobs=-1)"
   ]
  },
  {
   "cell_type": "code",
   "execution_count": 152,
   "id": "excess-convergence",
   "metadata": {},
   "outputs": [
    {
     "name": "stdout",
     "output_type": "stream",
     "text": [
      "Fitting 3 folds for each of 1260 candidates, totalling 3780 fits\n"
     ]
    },
    {
     "data": {
      "text/plain": [
       "GridSearchCV(cv=3, estimator=RandomForestRegressor(random_state=42), n_jobs=-1,\n",
       "             param_grid={'bootstrap': [True, False],\n",
       "                         'max_depth': [4, 5, 6, 7, 8],\n",
       "                         'max_features': [3, 4, 5, 6, 7, 8],\n",
       "                         'min_samples_leaf': [5, 10, 15, 20, 25, 30, 35],\n",
       "                         'n_estimators': [200, 350, 500]},\n",
       "             scoring='neg_mean_squared_error', verbose=3)"
      ]
     },
     "execution_count": 152,
     "metadata": {},
     "output_type": "execute_result"
    }
   ],
   "source": [
    "grid_rf.fit(X_train, y_train)"
   ]
  },
  {
   "cell_type": "code",
   "execution_count": 153,
   "id": "supported-essex",
   "metadata": {},
   "outputs": [
    {
     "name": "stdout",
     "output_type": "stream",
     "text": [
      "Best Parameters for Random Forest:  {'bootstrap': True, 'max_depth': 8, 'max_features': 5, 'min_samples_leaf': 5, 'n_estimators': 500}\n"
     ]
    }
   ],
   "source": [
    "best_params = grid_rf.best_params_\n",
    "print('Best Parameters for Random Forest: ', best_params)"
   ]
  },
  {
   "cell_type": "code",
   "execution_count": 154,
   "id": "thrown-delight",
   "metadata": {},
   "outputs": [
    {
     "name": "stdout",
     "output_type": "stream",
     "text": [
      "Test set RMSE: 1.886\n"
     ]
    }
   ],
   "source": [
    "best_rf_model = grid_rf.best_estimator_\n",
    "y_pred_test = best_rf_model.predict(X_test)\n",
    "rmse_test = MSE(y_test, y_pred_test)**.5\n",
    "print('Test set RMSE: {:.3f}'.format(rmse_test))"
   ]
  },
  {
   "cell_type": "code",
   "execution_count": 155,
   "id": "warming-membership",
   "metadata": {},
   "outputs": [
    {
     "name": "stdout",
     "output_type": "stream",
     "text": [
      "Train set RMSE: 1.480\n"
     ]
    }
   ],
   "source": [
    "y_pred_train = best_rf_model.predict(X_train)\n",
    "rmse_train = MSE(y_train, y_pred_train)**.5\n",
    "print('Train set RMSE: {:.3f}'.format(rmse_train))"
   ]
  },
  {
   "cell_type": "code",
   "execution_count": 156,
   "id": "equal-gazette",
   "metadata": {},
   "outputs": [
    {
     "data": {
      "text/plain": [
       "{'length': 0.031087044776732086,\n",
       " 'diameter': 0.05098432693318846,\n",
       " 'height': 0.11836660070602556,\n",
       " 'whole_weight': 0.08724322816286906,\n",
       " 'shucked_weight': 0.1306567389489885,\n",
       " 'viscera_weight': 0.08748139017903583,\n",
       " 'shell_weight': 0.4679530590160444,\n",
       " 'sex_cat': 0.026227611277116144}"
      ]
     },
     "execution_count": 156,
     "metadata": {},
     "output_type": "execute_result"
    }
   ],
   "source": [
    "feats = {} # a dict to hold feature_name: feature_importance\n",
    "for feature, importance in zip(X.columns, best_rf_model.feature_importances_):\n",
    "    feats[feature] = importance #add the name/value pair \n",
    "    \n",
    "feats"
   ]
  },
  {
   "cell_type": "code",
   "execution_count": 187,
   "id": "mechanical-turkey",
   "metadata": {},
   "outputs": [
    {
     "name": "stdout",
     "output_type": "stream",
     "text": [
      "RMSE model score:  1.8598146045913218\n"
     ]
    }
   ],
   "source": [
    "scores = -cross_val_score(rf, X_train, y_train, scoring='neg_mean_squared_error', cv=10)\n",
    "print('RMSE model score: ', scores.mean()**.5)"
   ]
  },
  {
   "cell_type": "markdown",
   "id": "amazing-accent",
   "metadata": {},
   "source": [
    "### Random Forest Regression\n",
    "\n",
    "So based on playing with a Decision Tree Regression model above, the best way to tune was to use a GridSearchCV for the Random Forest.  However, based on RMSE metrics, the model still seems overly tuned to the training set.   Is this bad?  I have no idea.  But I'm not sure how to move the model to a fit that is optimal.\n",
    "\n",
    "The Random Forest Grid Search took a long time to run.  In retrospect, I should have not tested Bootstrap (leaving it as True), and I would have set the n_estimators to just 2 sizes.\n",
    "\n",
    "While both RSME for the train set and the test set decreased, the model still seems overfitted to the training data.\n",
    "\n",
    "*Large changes to the feature importance*\n",
    "Based on the feature importance, the shell weight is the most important feature at 47% and shucked weight is next at 13%.   Compared to the DecisionTreeRegressor, this model takes more the features into account for the target"
   ]
  },
  {
   "attachments": {},
   "cell_type": "markdown",
   "id": "massive-sustainability",
   "metadata": {},
   "source": [
    "### 4.\tCreate an xgboost model tuned to the best of your abilities. Explain how you tuned it."
   ]
  },
  {
   "cell_type": "markdown",
   "id": "fresh-imaging",
   "metadata": {},
   "source": [
    "XGBoost Regression, UNTUNED"
   ]
  },
  {
   "cell_type": "code",
   "execution_count": 158,
   "id": "fourth-replacement",
   "metadata": {},
   "outputs": [
    {
     "data": {
      "text/plain": [
       "XGBRegressor(base_score=0.5, booster='gbtree', colsample_bylevel=1,\n",
       "             colsample_bynode=1, colsample_bytree=1, gamma=0, gpu_id=-1,\n",
       "             importance_type='gain', interaction_constraints='',\n",
       "             learning_rate=0.300000012, max_delta_step=0, max_depth=6,\n",
       "             min_child_weight=1, missing=nan, monotone_constraints='()',\n",
       "             n_estimators=100, n_jobs=8, num_parallel_tree=1, random_state=42,\n",
       "             reg_alpha=0, reg_lambda=1, scale_pos_weight=1, subsample=1,\n",
       "             tree_method='exact', validate_parameters=1, verbosity=None)"
      ]
     },
     "execution_count": 158,
     "metadata": {},
     "output_type": "execute_result"
    }
   ],
   "source": [
    "from xgboost import XGBRegressor\n",
    "\n",
    "xgb = XGBRegressor(random_state=42)\n",
    "xgb.fit(X_train, y_train)"
   ]
  },
  {
   "cell_type": "code",
   "execution_count": 168,
   "id": "distinguished-software",
   "metadata": {},
   "outputs": [
    {
     "name": "stdout",
     "output_type": "stream",
     "text": [
      "RMSE model score:  1.9415969098439754\n"
     ]
    }
   ],
   "source": [
    "scores = -cross_val_score(xgb, X_train, y_train, scoring='neg_mean_squared_error', cv=10)\n",
    "print('RMSE model score: ', scores.mean()**.5)"
   ]
  },
  {
   "cell_type": "code",
   "execution_count": 159,
   "id": "senior-theory",
   "metadata": {},
   "outputs": [
    {
     "name": "stdout",
     "output_type": "stream",
     "text": [
      "Test set RMSE: 2.039\n"
     ]
    }
   ],
   "source": [
    "y_pred_test = xgb.predict(X_test)\n",
    "rmse_test = MSE(y_test, y_pred_test)**.5\n",
    "print('Test set RMSE: {:.3f}'.format(rmse_test))"
   ]
  },
  {
   "cell_type": "code",
   "execution_count": 161,
   "id": "fewer-river",
   "metadata": {},
   "outputs": [
    {
     "name": "stdout",
     "output_type": "stream",
     "text": [
      "Train set RMSE: 0.604\n"
     ]
    }
   ],
   "source": [
    "y_pred_train = xgb.predict(X_train)\n",
    "rmse_train = MSE(y_train, y_pred_train)**.5\n",
    "print('Train set RMSE: {:.3f}'.format(rmse_train))"
   ]
  },
  {
   "cell_type": "code",
   "execution_count": 162,
   "id": "sonic-muscle",
   "metadata": {},
   "outputs": [
    {
     "data": {
      "text/plain": [
       "array([0.02957726, 0.04240336, 0.05299209, 0.05823243, 0.09411063,\n",
       "       0.05634573, 0.56538737, 0.10095114], dtype=float32)"
      ]
     },
     "execution_count": 162,
     "metadata": {},
     "output_type": "execute_result"
    }
   ],
   "source": [
    "xgb.feature_importances_"
   ]
  },
  {
   "cell_type": "markdown",
   "id": "conceptual-journalist",
   "metadata": {},
   "source": [
    "XGBooost Model - Tuned with GridSearch"
   ]
  },
  {
   "cell_type": "code",
   "execution_count": 180,
   "id": "about-reset",
   "metadata": {},
   "outputs": [],
   "source": [
    "xgb = XGBRegressor(random_state=42)"
   ]
  },
  {
   "cell_type": "code",
   "execution_count": 181,
   "id": "hungarian-maple",
   "metadata": {},
   "outputs": [],
   "source": [
    "# using parameters informed by the decision tree\n",
    "params_xgb = {'nrounds': [100, 200, 300],\n",
    "              'max_depth': [4, 5, 6, 7, 8, 10],\n",
    "             'subsample': [.5],\n",
    "             'alpha': [.001, .01, .1]\n",
    "             }\n",
    "\n",
    "grid_xgb = GridSearchCV(estimator=xgb,\n",
    "                      param_grid=params_xgb,\n",
    "                      cv=3, \n",
    "                      scoring='neg_mean_squared_error',\n",
    "                        verbose=3,\n",
    "                      n_jobs=-1)"
   ]
  },
  {
   "cell_type": "code",
   "execution_count": 182,
   "id": "sixth-floating",
   "metadata": {},
   "outputs": [
    {
     "name": "stdout",
     "output_type": "stream",
     "text": [
      "Fitting 3 folds for each of 54 candidates, totalling 162 fits\n",
      "[21:18:58] WARNING: /opt/concourse/worker/volumes/live/7a2b9f41-3287-451b-6691-43e9a6c0910f/volume/xgboost-split_1619728204606/work/src/learner.cc:541: \n",
      "Parameters: { nrounds } might not be used.\n",
      "\n",
      "  This may not be accurate due to some parameters are only used in language bindings but\n",
      "  passed down to XGBoost core.  Or some parameters are not used but slip through this\n",
      "  verification. Please open an issue if you find above cases.\n",
      "\n",
      "\n"
     ]
    },
    {
     "data": {
      "text/plain": [
       "GridSearchCV(cv=3,\n",
       "             estimator=XGBRegressor(base_score=None, booster=None,\n",
       "                                    colsample_bylevel=None,\n",
       "                                    colsample_bynode=None,\n",
       "                                    colsample_bytree=None, gamma=None,\n",
       "                                    gpu_id=None, importance_type='gain',\n",
       "                                    interaction_constraints=None,\n",
       "                                    learning_rate=None, max_delta_step=None,\n",
       "                                    max_depth=None, min_child_weight=None,\n",
       "                                    missing=nan, monotone_constraints=None,\n",
       "                                    n_estimators=100, n_jobs=None,\n",
       "                                    num_parallel_tree=None, random_state=42,\n",
       "                                    reg_alpha=None, reg_lambda=None,\n",
       "                                    scale_pos_weight=None, subsample=None,\n",
       "                                    tree_method=None, validate_parameters=None,\n",
       "                                    verbosity=None),\n",
       "             n_jobs=-1,\n",
       "             param_grid={'alpha': [0.001, 0.01, 0.1],\n",
       "                         'max_depth': [4, 5, 6, 7, 8, 10],\n",
       "                         'nrounds': [100, 200, 300], 'subsample': [0.5]},\n",
       "             scoring='neg_mean_squared_error', verbose=3)"
      ]
     },
     "execution_count": 182,
     "metadata": {},
     "output_type": "execute_result"
    }
   ],
   "source": [
    "grid_xgb.fit(X_train, y_train)"
   ]
  },
  {
   "cell_type": "code",
   "execution_count": 183,
   "id": "color-administrator",
   "metadata": {},
   "outputs": [
    {
     "name": "stdout",
     "output_type": "stream",
     "text": [
      "Best Parameters for XGBoost:  {'alpha': 0.1, 'max_depth': 4, 'nrounds': 100, 'subsample': 0.5}\n"
     ]
    }
   ],
   "source": [
    "best_params = grid_xgb.best_params_\n",
    "print('Best Parameters for XGBoost: ', best_params)"
   ]
  },
  {
   "cell_type": "code",
   "execution_count": 184,
   "id": "french-liechtenstein",
   "metadata": {},
   "outputs": [
    {
     "name": "stdout",
     "output_type": "stream",
     "text": [
      "Test set RMSE: 2.079\n"
     ]
    }
   ],
   "source": [
    "best_xgb_model = grid_xgb.best_estimator_\n",
    "y_pred_test = best_xgb_model.predict(X_test)\n",
    "rmse_test = MSE(y_test, y_pred_test)**.5\n",
    "print('Test set RMSE: {:.3f}'.format(rmse_test))"
   ]
  },
  {
   "cell_type": "code",
   "execution_count": 185,
   "id": "processed-tuition",
   "metadata": {},
   "outputs": [
    {
     "name": "stdout",
     "output_type": "stream",
     "text": [
      "Train set RMSE: 1.198\n"
     ]
    }
   ],
   "source": [
    "y_pred_train = best_xgb_model.predict(X_train)\n",
    "rmse_train = MSE(y_train, y_pred_train)**.5\n",
    "print('Train set RMSE: {:.3f}'.format(rmse_train))"
   ]
  },
  {
   "cell_type": "code",
   "execution_count": 186,
   "id": "successful-surgery",
   "metadata": {},
   "outputs": [
    {
     "data": {
      "text/plain": [
       "{'length': 0.06398871,\n",
       " 'diameter': 0.06702115,\n",
       " 'height': 0.1209875,\n",
       " 'whole_weight': 0.08478504,\n",
       " 'shucked_weight': 0.116066664,\n",
       " 'viscera_weight': 0.08759456,\n",
       " 'shell_weight': 0.3561083,\n",
       " 'sex_cat': 0.103448145}"
      ]
     },
     "execution_count": 186,
     "metadata": {},
     "output_type": "execute_result"
    }
   ],
   "source": [
    "feats = {} # a dict to hold feature_name: feature_importance\n",
    "for feature, importance in zip(X.columns, best_xgb_model.feature_importances_):\n",
    "    feats[feature] = importance #add the name/value pair \n",
    "    \n",
    "feats"
   ]
  },
  {
   "cell_type": "markdown",
   "id": "addressed-symposium",
   "metadata": {},
   "source": [
    "### XGBoost Regression\n",
    "\n",
    "I first tried XGBoost without tuning and the model performed ok.  After trying GridSearch, the model performed about the same.\n",
    "\n",
    "I am most concerned about the RMSE for both the test and train data.   The train data RMSE is very low.\n",
    "\n",
    "*There were more changes to feature importance versus other models.*\n",
    "\n",
    "Based on the feature importance, the shell weight is the most important feature at 36% and height is next at 12%. Compared to the DecisionTreeRegressor, this model takes more the features into account for the target and different weights than the Random Forest."
   ]
  },
  {
   "attachments": {},
   "cell_type": "markdown",
   "id": "civil-anniversary",
   "metadata": {},
   "source": [
    "### 5.\tWhich model performed best? What is your performance metric? Why?"
   ]
  },
  {
   "cell_type": "markdown",
   "id": "premium-kazakhstan",
   "metadata": {},
   "source": [
    "My Random Forest Regression performed the best using Root Mean Squared Error as the performance metric.\n",
    "\n",
    "The Random Forest:\n",
    "* Test set RMSE: 1.886\n",
    "* Train set RMSE: 1.480\n",
    "* RMSE model score:  1.860\n",
    "\n",
    "I think this means that the rings (or age) of an abalone can be determined by other features within 1.5-2 rings.\n",
    "\n",
    "I choose RMSE as the performance metric becuase it was used in Datacamp, it penalizes large errors, and the measurement is in rings.\n",
    "\n",
    "If I spent more time on XGBoost, I might get similar performance or better than the Random Forest.   I don't realy know how to tune the parameters of XGBoost or what they are.  It looks like there are ways to prevent overfitting."
   ]
  },
  {
   "cell_type": "code",
   "execution_count": null,
   "id": "freelance-suspension",
   "metadata": {},
   "outputs": [],
   "source": []
  }
 ],
 "metadata": {
  "kernelspec": {
   "display_name": "Python 3",
   "language": "python",
   "name": "python3"
  },
  "language_info": {
   "codemirror_mode": {
    "name": "ipython",
    "version": 3
   },
   "file_extension": ".py",
   "mimetype": "text/x-python",
   "name": "python",
   "nbconvert_exporter": "python",
   "pygments_lexer": "ipython3",
   "version": "3.8.2"
  }
 },
 "nbformat": 4,
 "nbformat_minor": 5
}
